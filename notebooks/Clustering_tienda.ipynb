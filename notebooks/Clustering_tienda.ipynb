{
 "cells": [
  {
   "cell_type": "markdown",
   "metadata": {},
   "source": [
    "# 0.Librerias"
   ]
  },
  {
   "cell_type": "code",
   "execution_count": 1,
   "metadata": {},
   "outputs": [],
   "source": [
    "import pandas as pd\n",
    "import numpy as np\n",
    "import matplotlib.pyplot as plt \n",
    "import seaborn as sns\n",
    "import plotly.express as px\n",
    "\n",
    "from sklearn.preprocessing import StandardScaler \n",
    "from sklearn.cluster import KMeans\n",
    "from scipy.cluster.hierarchy import linkage, dendrogram\n",
    "\n",
    "\n",
    "from sklearn.metrics import silhouette_score, silhouette_samples\n",
    "from yellowbrick.cluster import SilhouetteVisualizer\n",
    "from yellowbrick.cluster import KElbowVisualizer"
   ]
  },
  {
   "cell_type": "markdown",
   "metadata": {},
   "source": [
    "# 1.Clustering por tienda"
   ]
  },
  {
   "cell_type": "code",
   "execution_count": 2,
   "metadata": {},
   "outputs": [
    {
     "data": {
      "text/html": [
       "<div>\n",
       "<style scoped>\n",
       "    .dataframe tbody tr th:only-of-type {\n",
       "        vertical-align: middle;\n",
       "    }\n",
       "\n",
       "    .dataframe tbody tr th {\n",
       "        vertical-align: top;\n",
       "    }\n",
       "\n",
       "    .dataframe thead th {\n",
       "        text-align: right;\n",
       "    }\n",
       "</style>\n",
       "<table border=\"1\" class=\"dataframe\">\n",
       "  <thead>\n",
       "    <tr style=\"text-align: right;\">\n",
       "      <th></th>\n",
       "      <th>item</th>\n",
       "      <th>category</th>\n",
       "      <th>department</th>\n",
       "      <th>stores</th>\n",
       "      <th>region</th>\n",
       "      <th>week</th>\n",
       "      <th>year</th>\n",
       "      <th>is_holidays</th>\n",
       "      <th>units_sold</th>\n",
       "      <th>sell_price</th>\n",
       "      <th>total_sales</th>\n",
       "    </tr>\n",
       "    <tr>\n",
       "      <th>date</th>\n",
       "      <th></th>\n",
       "      <th></th>\n",
       "      <th></th>\n",
       "      <th></th>\n",
       "      <th></th>\n",
       "      <th></th>\n",
       "      <th></th>\n",
       "      <th></th>\n",
       "      <th></th>\n",
       "      <th></th>\n",
       "      <th></th>\n",
       "    </tr>\n",
       "  </thead>\n",
       "  <tbody>\n",
       "    <tr>\n",
       "      <th>2013-07-08</th>\n",
       "      <td>ACCESORIES_1_001</td>\n",
       "      <td>ACCESORIES</td>\n",
       "      <td>ACCESORIES_1</td>\n",
       "      <td>South_End(BOS_1)</td>\n",
       "      <td>Boston</td>\n",
       "      <td>28</td>\n",
       "      <td>2013</td>\n",
       "      <td>0</td>\n",
       "      <td>0</td>\n",
       "      <td>12.7414</td>\n",
       "      <td>0.0000</td>\n",
       "    </tr>\n",
       "    <tr>\n",
       "      <th>2013-07-15</th>\n",
       "      <td>ACCESORIES_1_001</td>\n",
       "      <td>ACCESORIES</td>\n",
       "      <td>ACCESORIES_1</td>\n",
       "      <td>South_End(BOS_1)</td>\n",
       "      <td>Boston</td>\n",
       "      <td>28</td>\n",
       "      <td>2013</td>\n",
       "      <td>1</td>\n",
       "      <td>0</td>\n",
       "      <td>12.7414</td>\n",
       "      <td>0.0000</td>\n",
       "    </tr>\n",
       "    <tr>\n",
       "      <th>2013-07-22</th>\n",
       "      <td>ACCESORIES_1_001</td>\n",
       "      <td>ACCESORIES</td>\n",
       "      <td>ACCESORIES_1</td>\n",
       "      <td>South_End(BOS_1)</td>\n",
       "      <td>Boston</td>\n",
       "      <td>29</td>\n",
       "      <td>2013</td>\n",
       "      <td>0</td>\n",
       "      <td>4</td>\n",
       "      <td>10.9858</td>\n",
       "      <td>43.9432</td>\n",
       "    </tr>\n",
       "    <tr>\n",
       "      <th>2013-07-29</th>\n",
       "      <td>ACCESORIES_1_001</td>\n",
       "      <td>ACCESORIES</td>\n",
       "      <td>ACCESORIES_1</td>\n",
       "      <td>South_End(BOS_1)</td>\n",
       "      <td>Boston</td>\n",
       "      <td>30</td>\n",
       "      <td>2013</td>\n",
       "      <td>0</td>\n",
       "      <td>6</td>\n",
       "      <td>10.9858</td>\n",
       "      <td>65.9148</td>\n",
       "    </tr>\n",
       "    <tr>\n",
       "      <th>2013-08-05</th>\n",
       "      <td>ACCESORIES_1_001</td>\n",
       "      <td>ACCESORIES</td>\n",
       "      <td>ACCESORIES_1</td>\n",
       "      <td>South_End(BOS_1)</td>\n",
       "      <td>Boston</td>\n",
       "      <td>31</td>\n",
       "      <td>2013</td>\n",
       "      <td>0</td>\n",
       "      <td>0</td>\n",
       "      <td>10.9858</td>\n",
       "      <td>0.0000</td>\n",
       "    </tr>\n",
       "  </tbody>\n",
       "</table>\n",
       "</div>"
      ],
      "text/plain": [
       "                        item    category    department            stores  \\\n",
       "date                                                                       \n",
       "2013-07-08  ACCESORIES_1_001  ACCESORIES  ACCESORIES_1  South_End(BOS_1)   \n",
       "2013-07-15  ACCESORIES_1_001  ACCESORIES  ACCESORIES_1  South_End(BOS_1)   \n",
       "2013-07-22  ACCESORIES_1_001  ACCESORIES  ACCESORIES_1  South_End(BOS_1)   \n",
       "2013-07-29  ACCESORIES_1_001  ACCESORIES  ACCESORIES_1  South_End(BOS_1)   \n",
       "2013-08-05  ACCESORIES_1_001  ACCESORIES  ACCESORIES_1  South_End(BOS_1)   \n",
       "\n",
       "            region  week  year  is_holidays  units_sold  sell_price  \\\n",
       "date                                                                  \n",
       "2013-07-08  Boston    28  2013            0           0     12.7414   \n",
       "2013-07-15  Boston    28  2013            1           0     12.7414   \n",
       "2013-07-22  Boston    29  2013            0           4     10.9858   \n",
       "2013-07-29  Boston    30  2013            0           6     10.9858   \n",
       "2013-08-05  Boston    31  2013            0           0     10.9858   \n",
       "\n",
       "            total_sales  \n",
       "date                     \n",
       "2013-07-08       0.0000  \n",
       "2013-07-15       0.0000  \n",
       "2013-07-22      43.9432  \n",
       "2013-07-29      65.9148  \n",
       "2013-08-05       0.0000  "
      ]
     },
     "execution_count": 2,
     "metadata": {},
     "output_type": "execute_result"
    }
   ],
   "source": [
    "# Abrimos el dataframe arreglado que creamos.\n",
    "df= pd.read_csv(\"/Users/santi/Documents/csv/datos_arreglados.csv\",index_col=0)\n",
    "\n",
    "df[\"date\"] = pd.to_datetime(df[\"date\"])\n",
    "\n",
    "df = df.set_index(\"date\")\n",
    "\n",
    "df.head()"
   ]
  },
  {
   "cell_type": "code",
   "execution_count": 3,
   "metadata": {},
   "outputs": [
    {
     "data": {
      "text/html": [
       "<div>\n",
       "<style scoped>\n",
       "    .dataframe tbody tr th:only-of-type {\n",
       "        vertical-align: middle;\n",
       "    }\n",
       "\n",
       "    .dataframe tbody tr th {\n",
       "        vertical-align: top;\n",
       "    }\n",
       "\n",
       "    .dataframe thead th {\n",
       "        text-align: right;\n",
       "    }\n",
       "</style>\n",
       "<table border=\"1\" class=\"dataframe\">\n",
       "  <thead>\n",
       "    <tr style=\"text-align: right;\">\n",
       "      <th></th>\n",
       "      <th>stores</th>\n",
       "      <th>item</th>\n",
       "      <th>department</th>\n",
       "    </tr>\n",
       "  </thead>\n",
       "  <tbody>\n",
       "    <tr>\n",
       "      <th>0</th>\n",
       "      <td>Back_Bay(BOS_3)</td>\n",
       "      <td>3049</td>\n",
       "      <td>7</td>\n",
       "    </tr>\n",
       "    <tr>\n",
       "      <th>1</th>\n",
       "      <td>Brooklyn(NYC_4)</td>\n",
       "      <td>3049</td>\n",
       "      <td>7</td>\n",
       "    </tr>\n",
       "    <tr>\n",
       "      <th>2</th>\n",
       "      <td>Greenwich_Village(NYC_1)</td>\n",
       "      <td>3049</td>\n",
       "      <td>7</td>\n",
       "    </tr>\n",
       "    <tr>\n",
       "      <th>3</th>\n",
       "      <td>Harlem(NYC_2)</td>\n",
       "      <td>3049</td>\n",
       "      <td>7</td>\n",
       "    </tr>\n",
       "    <tr>\n",
       "      <th>4</th>\n",
       "      <td>Midtown_Village(PHI_1)</td>\n",
       "      <td>3049</td>\n",
       "      <td>7</td>\n",
       "    </tr>\n",
       "    <tr>\n",
       "      <th>5</th>\n",
       "      <td>Queen_Village(PHI_3)</td>\n",
       "      <td>3049</td>\n",
       "      <td>7</td>\n",
       "    </tr>\n",
       "    <tr>\n",
       "      <th>6</th>\n",
       "      <td>Roxbury(BOS_2)</td>\n",
       "      <td>3049</td>\n",
       "      <td>7</td>\n",
       "    </tr>\n",
       "    <tr>\n",
       "      <th>7</th>\n",
       "      <td>South_End(BOS_1)</td>\n",
       "      <td>3049</td>\n",
       "      <td>7</td>\n",
       "    </tr>\n",
       "    <tr>\n",
       "      <th>8</th>\n",
       "      <td>Tribeca(NYC_3)</td>\n",
       "      <td>3049</td>\n",
       "      <td>7</td>\n",
       "    </tr>\n",
       "    <tr>\n",
       "      <th>9</th>\n",
       "      <td>Yorktown(PHI_2)</td>\n",
       "      <td>3049</td>\n",
       "      <td>7</td>\n",
       "    </tr>\n",
       "  </tbody>\n",
       "</table>\n",
       "</div>"
      ],
      "text/plain": [
       "                     stores  item  department\n",
       "0           Back_Bay(BOS_3)  3049           7\n",
       "1           Brooklyn(NYC_4)  3049           7\n",
       "2  Greenwich_Village(NYC_1)  3049           7\n",
       "3             Harlem(NYC_2)  3049           7\n",
       "4    Midtown_Village(PHI_1)  3049           7\n",
       "5      Queen_Village(PHI_3)  3049           7\n",
       "6            Roxbury(BOS_2)  3049           7\n",
       "7          South_End(BOS_1)  3049           7\n",
       "8            Tribeca(NYC_3)  3049           7\n",
       "9           Yorktown(PHI_2)  3049           7"
      ]
     },
     "execution_count": 3,
     "metadata": {},
     "output_type": "execute_result"
    }
   ],
   "source": [
    "# Comprobamos que los productos y los departamentos son iguales en todas las tiendas\n",
    "df.groupby([\"stores\"]).agg({\"item\":\"nunique\",\n",
    "                            \"department\":\"nunique\"}).reset_index()"
   ]
  },
  {
   "cell_type": "markdown",
   "metadata": {},
   "source": [
    "Ya que los departamentos y los ítems son iguales en todas las tiendas, procederemos a derecharlos para su clasificación. Realizaremos la agregación para quedarnos únicamente con la región, las unidades vendidas, el precio de venta y las ventas totales."
   ]
  },
  {
   "cell_type": "code",
   "execution_count": 4,
   "metadata": {},
   "outputs": [
    {
     "data": {
      "text/html": [
       "<div>\n",
       "<style scoped>\n",
       "    .dataframe tbody tr th:only-of-type {\n",
       "        vertical-align: middle;\n",
       "    }\n",
       "\n",
       "    .dataframe tbody tr th {\n",
       "        vertical-align: top;\n",
       "    }\n",
       "\n",
       "    .dataframe thead th {\n",
       "        text-align: right;\n",
       "    }\n",
       "</style>\n",
       "<table border=\"1\" class=\"dataframe\">\n",
       "  <thead>\n",
       "    <tr style=\"text-align: right;\">\n",
       "      <th></th>\n",
       "      <th>stores</th>\n",
       "      <th>region</th>\n",
       "      <th>units_sold</th>\n",
       "      <th>sell_price</th>\n",
       "      <th>total_sales</th>\n",
       "    </tr>\n",
       "  </thead>\n",
       "  <tbody>\n",
       "    <tr>\n",
       "      <th>0</th>\n",
       "      <td>Back_Bay(BOS_3)</td>\n",
       "      <td>Boston</td>\n",
       "      <td>6057234</td>\n",
       "      <td>5.484508</td>\n",
       "      <td>2.181127e+07</td>\n",
       "    </tr>\n",
       "    <tr>\n",
       "      <th>1</th>\n",
       "      <td>Brooklyn(NYC_4)</td>\n",
       "      <td>New York</td>\n",
       "      <td>4082201</td>\n",
       "      <td>5.522663</td>\n",
       "      <td>1.495885e+07</td>\n",
       "    </tr>\n",
       "    <tr>\n",
       "      <th>2</th>\n",
       "      <td>Greenwich_Village(NYC_1)</td>\n",
       "      <td>New York</td>\n",
       "      <td>7657224</td>\n",
       "      <td>5.516056</td>\n",
       "      <td>2.757273e+07</td>\n",
       "    </tr>\n",
       "    <tr>\n",
       "      <th>3</th>\n",
       "      <td>Harlem(NYC_2)</td>\n",
       "      <td>New York</td>\n",
       "      <td>5647131</td>\n",
       "      <td>5.576188</td>\n",
       "      <td>2.135534e+07</td>\n",
       "    </tr>\n",
       "    <tr>\n",
       "      <th>4</th>\n",
       "      <td>Midtown_Village(PHI_1)</td>\n",
       "      <td>Philadelphia</td>\n",
       "      <td>5115653</td>\n",
       "      <td>5.580032</td>\n",
       "      <td>1.811085e+07</td>\n",
       "    </tr>\n",
       "    <tr>\n",
       "      <th>5</th>\n",
       "      <td>Queen_Village(PHI_3)</td>\n",
       "      <td>Philadelphia</td>\n",
       "      <td>6391946</td>\n",
       "      <td>5.520492</td>\n",
       "      <td>2.063028e+07</td>\n",
       "    </tr>\n",
       "    <tr>\n",
       "      <th>6</th>\n",
       "      <td>Roxbury(BOS_2)</td>\n",
       "      <td>Boston</td>\n",
       "      <td>7178136</td>\n",
       "      <td>5.455508</td>\n",
       "      <td>2.512650e+07</td>\n",
       "    </tr>\n",
       "    <tr>\n",
       "      <th>7</th>\n",
       "      <td>South_End(BOS_1)</td>\n",
       "      <td>Boston</td>\n",
       "      <td>5567261</td>\n",
       "      <td>5.465372</td>\n",
       "      <td>1.923361e+07</td>\n",
       "    </tr>\n",
       "    <tr>\n",
       "      <th>8</th>\n",
       "      <td>Tribeca(NYC_3)</td>\n",
       "      <td>New York</td>\n",
       "      <td>11134789</td>\n",
       "      <td>5.483638</td>\n",
       "      <td>3.928694e+07</td>\n",
       "    </tr>\n",
       "    <tr>\n",
       "      <th>9</th>\n",
       "      <td>Yorktown(PHI_2)</td>\n",
       "      <td>Philadelphia</td>\n",
       "      <td>6506176</td>\n",
       "      <td>5.555507</td>\n",
       "      <td>2.152227e+07</td>\n",
       "    </tr>\n",
       "  </tbody>\n",
       "</table>\n",
       "</div>"
      ],
      "text/plain": [
       "                     stores        region  units_sold  sell_price  \\\n",
       "0           Back_Bay(BOS_3)        Boston     6057234    5.484508   \n",
       "1           Brooklyn(NYC_4)      New York     4082201    5.522663   \n",
       "2  Greenwich_Village(NYC_1)      New York     7657224    5.516056   \n",
       "3             Harlem(NYC_2)      New York     5647131    5.576188   \n",
       "4    Midtown_Village(PHI_1)  Philadelphia     5115653    5.580032   \n",
       "5      Queen_Village(PHI_3)  Philadelphia     6391946    5.520492   \n",
       "6            Roxbury(BOS_2)        Boston     7178136    5.455508   \n",
       "7          South_End(BOS_1)        Boston     5567261    5.465372   \n",
       "8            Tribeca(NYC_3)      New York    11134789    5.483638   \n",
       "9           Yorktown(PHI_2)  Philadelphia     6506176    5.555507   \n",
       "\n",
       "    total_sales  \n",
       "0  2.181127e+07  \n",
       "1  1.495885e+07  \n",
       "2  2.757273e+07  \n",
       "3  2.135534e+07  \n",
       "4  1.811085e+07  \n",
       "5  2.063028e+07  \n",
       "6  2.512650e+07  \n",
       "7  1.923361e+07  \n",
       "8  3.928694e+07  \n",
       "9  2.152227e+07  "
      ]
     },
     "execution_count": 4,
     "metadata": {},
     "output_type": "execute_result"
    }
   ],
   "source": [
    "# Agrupamos por region, suma de unidades vendidas, precio de venta medio y el total de ventas.\n",
    "df_tiendas = df.groupby([\"stores\"]).agg({\"region\":\"first\",\n",
    "                                        \"units_sold\":\"sum\",\n",
    "                                        \"sell_price\":\"mean\",\n",
    "                                        \"total_sales\":\"sum\"}).reset_index()\n",
    "\n",
    "df_tiendas"
   ]
  },
  {
   "cell_type": "markdown",
   "metadata": {},
   "source": [
    "Para realizar la segmentación, vamos a intentar seguir tres estrategias que consideramos podrían ser viables. Estas estrategias son las siguientes:\n",
    "\n",
    "* Trabajar con el porcentaje de ventas de cada categoría: separando el porcentaje sobre el total de ventas por las tres grandes categorías.\n",
    "\n",
    "* Trabajar con los tipos de productos segmentados: separando los productos por los cinco clusters que obtuvimos anteriormente.\n",
    "\n",
    "* Trabajar con ambas segmentaciones al mismo tiempo: es decir, unir ambas clasificaciones para conseguir una segmentación más amplia. Sin embargo, es probable que esto no se pueda lograr, ya que al trabajar con tantas variables, la segmentación se vuelve más complicada debido a la dimensionalidad que se adquiere.\n",
    "\n",
    "Después de analizar los tres enfoques, procederemos a seleccionar el enfoque que nos dé mejores resultados."
   ]
  },
  {
   "cell_type": "code",
   "execution_count": 5,
   "metadata": {},
   "outputs": [
    {
     "data": {
      "text/html": [
       "<div>\n",
       "<style scoped>\n",
       "    .dataframe tbody tr th:only-of-type {\n",
       "        vertical-align: middle;\n",
       "    }\n",
       "\n",
       "    .dataframe tbody tr th {\n",
       "        vertical-align: top;\n",
       "    }\n",
       "\n",
       "    .dataframe thead th {\n",
       "        text-align: right;\n",
       "    }\n",
       "</style>\n",
       "<table border=\"1\" class=\"dataframe\">\n",
       "  <thead>\n",
       "    <tr style=\"text-align: right;\">\n",
       "      <th>category</th>\n",
       "      <th>stores</th>\n",
       "      <th>ACCESORIES</th>\n",
       "      <th>HOME_&amp;_GARDEN</th>\n",
       "      <th>SUPERMARKET</th>\n",
       "    </tr>\n",
       "  </thead>\n",
       "  <tbody>\n",
       "    <tr>\n",
       "      <th>0</th>\n",
       "      <td>Back_Bay(BOS_3)</td>\n",
       "      <td>0.154744</td>\n",
       "      <td>0.290987</td>\n",
       "      <td>0.554269</td>\n",
       "    </tr>\n",
       "    <tr>\n",
       "      <th>1</th>\n",
       "      <td>Brooklyn(NYC_4)</td>\n",
       "      <td>0.165118</td>\n",
       "      <td>0.256545</td>\n",
       "      <td>0.578337</td>\n",
       "    </tr>\n",
       "    <tr>\n",
       "      <th>2</th>\n",
       "      <td>Greenwich_Village(NYC_1)</td>\n",
       "      <td>0.151246</td>\n",
       "      <td>0.269476</td>\n",
       "      <td>0.579278</td>\n",
       "    </tr>\n",
       "    <tr>\n",
       "      <th>3</th>\n",
       "      <td>Harlem(NYC_2)</td>\n",
       "      <td>0.133760</td>\n",
       "      <td>0.389210</td>\n",
       "      <td>0.477030</td>\n",
       "    </tr>\n",
       "    <tr>\n",
       "      <th>4</th>\n",
       "      <td>Midtown_Village(PHI_1)</td>\n",
       "      <td>0.170094</td>\n",
       "      <td>0.284054</td>\n",
       "      <td>0.545852</td>\n",
       "    </tr>\n",
       "    <tr>\n",
       "      <th>5</th>\n",
       "      <td>Queen_Village(PHI_3)</td>\n",
       "      <td>0.104145</td>\n",
       "      <td>0.274484</td>\n",
       "      <td>0.621371</td>\n",
       "    </tr>\n",
       "    <tr>\n",
       "      <th>6</th>\n",
       "      <td>Roxbury(BOS_2)</td>\n",
       "      <td>0.139968</td>\n",
       "      <td>0.293489</td>\n",
       "      <td>0.566543</td>\n",
       "    </tr>\n",
       "    <tr>\n",
       "      <th>7</th>\n",
       "      <td>South_End(BOS_1)</td>\n",
       "      <td>0.113305</td>\n",
       "      <td>0.325477</td>\n",
       "      <td>0.561218</td>\n",
       "    </tr>\n",
       "    <tr>\n",
       "      <th>8</th>\n",
       "      <td>Tribeca(NYC_3)</td>\n",
       "      <td>0.113925</td>\n",
       "      <td>0.332989</td>\n",
       "      <td>0.553085</td>\n",
       "    </tr>\n",
       "    <tr>\n",
       "      <th>9</th>\n",
       "      <td>Yorktown(PHI_2)</td>\n",
       "      <td>0.086750</td>\n",
       "      <td>0.281245</td>\n",
       "      <td>0.632005</td>\n",
       "    </tr>\n",
       "  </tbody>\n",
       "</table>\n",
       "</div>"
      ],
      "text/plain": [
       "category                    stores  ACCESORIES  HOME_&_GARDEN  SUPERMARKET\n",
       "0                  Back_Bay(BOS_3)    0.154744       0.290987     0.554269\n",
       "1                  Brooklyn(NYC_4)    0.165118       0.256545     0.578337\n",
       "2         Greenwich_Village(NYC_1)    0.151246       0.269476     0.579278\n",
       "3                    Harlem(NYC_2)    0.133760       0.389210     0.477030\n",
       "4           Midtown_Village(PHI_1)    0.170094       0.284054     0.545852\n",
       "5             Queen_Village(PHI_3)    0.104145       0.274484     0.621371\n",
       "6                   Roxbury(BOS_2)    0.139968       0.293489     0.566543\n",
       "7                 South_End(BOS_1)    0.113305       0.325477     0.561218\n",
       "8                   Tribeca(NYC_3)    0.113925       0.332989     0.553085\n",
       "9                  Yorktown(PHI_2)    0.086750       0.281245     0.632005"
      ]
     },
     "execution_count": 5,
     "metadata": {},
     "output_type": "execute_result"
    }
   ],
   "source": [
    "# Construimos los porcentajes de ventas por categoria \n",
    "df_cat = pd.crosstab(df[\"stores\"],df[\"category\"],values=df[\"total_sales\"], aggfunc=\"sum\",normalize=\"index\").reset_index()\n",
    "df_cat"
   ]
  },
  {
   "cell_type": "code",
   "execution_count": 6,
   "metadata": {},
   "outputs": [
    {
     "data": {
      "text/html": [
       "<div>\n",
       "<style scoped>\n",
       "    .dataframe tbody tr th:only-of-type {\n",
       "        vertical-align: middle;\n",
       "    }\n",
       "\n",
       "    .dataframe tbody tr th {\n",
       "        vertical-align: top;\n",
       "    }\n",
       "\n",
       "    .dataframe thead th {\n",
       "        text-align: right;\n",
       "    }\n",
       "</style>\n",
       "<table border=\"1\" class=\"dataframe\">\n",
       "  <thead>\n",
       "    <tr style=\"text-align: right;\">\n",
       "      <th></th>\n",
       "      <th>stores</th>\n",
       "      <th>region</th>\n",
       "      <th>units_sold</th>\n",
       "      <th>sell_price</th>\n",
       "      <th>total_sales</th>\n",
       "      <th>ACCESORIES</th>\n",
       "      <th>HOME_&amp;_GARDEN</th>\n",
       "      <th>SUPERMARKET</th>\n",
       "    </tr>\n",
       "  </thead>\n",
       "  <tbody>\n",
       "    <tr>\n",
       "      <th>0</th>\n",
       "      <td>Back_Bay(BOS_3)</td>\n",
       "      <td>Boston</td>\n",
       "      <td>6057234</td>\n",
       "      <td>5.484508</td>\n",
       "      <td>2.181127e+07</td>\n",
       "      <td>0.154744</td>\n",
       "      <td>0.290987</td>\n",
       "      <td>0.554269</td>\n",
       "    </tr>\n",
       "    <tr>\n",
       "      <th>1</th>\n",
       "      <td>Brooklyn(NYC_4)</td>\n",
       "      <td>New York</td>\n",
       "      <td>4082201</td>\n",
       "      <td>5.522663</td>\n",
       "      <td>1.495885e+07</td>\n",
       "      <td>0.165118</td>\n",
       "      <td>0.256545</td>\n",
       "      <td>0.578337</td>\n",
       "    </tr>\n",
       "    <tr>\n",
       "      <th>2</th>\n",
       "      <td>Greenwich_Village(NYC_1)</td>\n",
       "      <td>New York</td>\n",
       "      <td>7657224</td>\n",
       "      <td>5.516056</td>\n",
       "      <td>2.757273e+07</td>\n",
       "      <td>0.151246</td>\n",
       "      <td>0.269476</td>\n",
       "      <td>0.579278</td>\n",
       "    </tr>\n",
       "    <tr>\n",
       "      <th>3</th>\n",
       "      <td>Harlem(NYC_2)</td>\n",
       "      <td>New York</td>\n",
       "      <td>5647131</td>\n",
       "      <td>5.576188</td>\n",
       "      <td>2.135534e+07</td>\n",
       "      <td>0.133760</td>\n",
       "      <td>0.389210</td>\n",
       "      <td>0.477030</td>\n",
       "    </tr>\n",
       "    <tr>\n",
       "      <th>4</th>\n",
       "      <td>Midtown_Village(PHI_1)</td>\n",
       "      <td>Philadelphia</td>\n",
       "      <td>5115653</td>\n",
       "      <td>5.580032</td>\n",
       "      <td>1.811085e+07</td>\n",
       "      <td>0.170094</td>\n",
       "      <td>0.284054</td>\n",
       "      <td>0.545852</td>\n",
       "    </tr>\n",
       "  </tbody>\n",
       "</table>\n",
       "</div>"
      ],
      "text/plain": [
       "                     stores        region  units_sold  sell_price  \\\n",
       "0           Back_Bay(BOS_3)        Boston     6057234    5.484508   \n",
       "1           Brooklyn(NYC_4)      New York     4082201    5.522663   \n",
       "2  Greenwich_Village(NYC_1)      New York     7657224    5.516056   \n",
       "3             Harlem(NYC_2)      New York     5647131    5.576188   \n",
       "4    Midtown_Village(PHI_1)  Philadelphia     5115653    5.580032   \n",
       "\n",
       "    total_sales  ACCESORIES  HOME_&_GARDEN  SUPERMARKET  \n",
       "0  2.181127e+07    0.154744       0.290987     0.554269  \n",
       "1  1.495885e+07    0.165118       0.256545     0.578337  \n",
       "2  2.757273e+07    0.151246       0.269476     0.579278  \n",
       "3  2.135534e+07    0.133760       0.389210     0.477030  \n",
       "4  1.811085e+07    0.170094       0.284054     0.545852  "
      ]
     },
     "execution_count": 6,
     "metadata": {},
     "output_type": "execute_result"
    }
   ],
   "source": [
    "# Unimos las tablas para posteriormente trabajar las correlaciones lineales\n",
    "df_cluster_cat= df_tiendas.merge(df_cat,on=\"stores\")\n",
    "df_cluster_cat.head()"
   ]
  },
  {
   "cell_type": "code",
   "execution_count": 7,
   "metadata": {},
   "outputs": [
    {
     "name": "stderr",
     "output_type": "stream",
     "text": [
      "/var/folders/h2/m__59kjn7y17pxmn41zlkfsm0000gn/T/ipykernel_69563/3507356647.py:1: FutureWarning: The default value of numeric_only in DataFrame.corr is deprecated. In a future version, it will default to False. Select only valid columns or specify the value of numeric_only to silence this warning.\n",
      "  sns.heatmap(df_cluster_cat.corr(), annot=True, cmap=\"YlGnBu\")\n"
     ]
    },
    {
     "data": {
      "text/plain": [
       "<Axes: >"
      ]
     },
     "execution_count": 7,
     "metadata": {},
     "output_type": "execute_result"
    },
    {
     "data": {
      "image/png": "[encoded data removed]",
      "text/plain": [
       "<Figure size 800x550 with 2 Axes>"
      ]
     },
     "metadata": {},
     "output_type": "display_data"
    }
   ],
   "source": [
    "# Construimos el mapa de correlaciones lineales\n",
    "sns.heatmap(df_cluster_cat.corr(), annot=True, cmap=\"YlGnBu\")"
   ]
  },
  {
   "cell_type": "code",
   "execution_count": 8,
   "metadata": {},
   "outputs": [],
   "source": [
    "# Realizamos la copia del df para eliminar variable correlacionadas y realizar las normalizaciones pertinentes.\n",
    "df_cluster_1= df_cluster_cat.copy()"
   ]
  },
  {
   "cell_type": "code",
   "execution_count": 9,
   "metadata": {},
   "outputs": [
    {
     "data": {
      "text/plain": [
       "0             Back_Bay(BOS_3)\n",
       "1             Brooklyn(NYC_4)\n",
       "2    Greenwich_Village(NYC_1)\n",
       "3               Harlem(NYC_2)\n",
       "4      Midtown_Village(PHI_1)\n",
       "5        Queen_Village(PHI_3)\n",
       "6              Roxbury(BOS_2)\n",
       "7            South_End(BOS_1)\n",
       "8              Tribeca(NYC_3)\n",
       "9             Yorktown(PHI_2)\n",
       "Name: stores, dtype: object"
      ]
     },
     "execution_count": 9,
     "metadata": {},
     "output_type": "execute_result"
    }
   ],
   "source": [
    "df_cluster_1.drop(columns=[\"total_sales\",\"HOME_&_GARDEN\",\"region\"],inplace=True)\n",
    "tiendas = df_cluster_1.pop(\"stores\")\n",
    "tiendas"
   ]
  },
  {
   "cell_type": "code",
   "execution_count": 10,
   "metadata": {},
   "outputs": [
    {
     "data": {
      "text/html": [
       "<div>\n",
       "<style scoped>\n",
       "    .dataframe tbody tr th:only-of-type {\n",
       "        vertical-align: middle;\n",
       "    }\n",
       "\n",
       "    .dataframe tbody tr th {\n",
       "        vertical-align: top;\n",
       "    }\n",
       "\n",
       "    .dataframe thead th {\n",
       "        text-align: right;\n",
       "    }\n",
       "</style>\n",
       "<table border=\"1\" class=\"dataframe\">\n",
       "  <thead>\n",
       "    <tr style=\"text-align: right;\">\n",
       "      <th></th>\n",
       "      <th>units_sold</th>\n",
       "      <th>sell_price</th>\n",
       "      <th>ACCESORIES</th>\n",
       "      <th>SUPERMARKET</th>\n",
       "    </tr>\n",
       "  </thead>\n",
       "  <tbody>\n",
       "    <tr>\n",
       "      <th>0</th>\n",
       "      <td>-0.262981</td>\n",
       "      <td>-0.750375</td>\n",
       "      <td>0.811173</td>\n",
       "      <td>-0.311947</td>\n",
       "    </tr>\n",
       "    <tr>\n",
       "      <th>1</th>\n",
       "      <td>-1.352909</td>\n",
       "      <td>0.158874</td>\n",
       "      <td>1.203697</td>\n",
       "      <td>0.282505</td>\n",
       "    </tr>\n",
       "    <tr>\n",
       "      <th>2</th>\n",
       "      <td>0.619979</td>\n",
       "      <td>0.001414</td>\n",
       "      <td>0.678823</td>\n",
       "      <td>0.305753</td>\n",
       "    </tr>\n",
       "    <tr>\n",
       "      <th>3</th>\n",
       "      <td>-0.489297</td>\n",
       "      <td>1.434361</td>\n",
       "      <td>0.017194</td>\n",
       "      <td>-2.219681</td>\n",
       "    </tr>\n",
       "    <tr>\n",
       "      <th>4</th>\n",
       "      <td>-0.782595</td>\n",
       "      <td>1.525974</td>\n",
       "      <td>1.391987</td>\n",
       "      <td>-0.519833</td>\n",
       "    </tr>\n",
       "    <tr>\n",
       "      <th>5</th>\n",
       "      <td>-0.078269</td>\n",
       "      <td>0.107134</td>\n",
       "      <td>-1.103348</td>\n",
       "      <td>1.345410</td>\n",
       "    </tr>\n",
       "    <tr>\n",
       "      <th>6</th>\n",
       "      <td>0.355593</td>\n",
       "      <td>-1.441436</td>\n",
       "      <td>0.252084</td>\n",
       "      <td>-0.008785</td>\n",
       "    </tr>\n",
       "    <tr>\n",
       "      <th>7</th>\n",
       "      <td>-0.533374</td>\n",
       "      <td>-1.206382</td>\n",
       "      <td>-0.756771</td>\n",
       "      <td>-0.140309</td>\n",
       "    </tr>\n",
       "    <tr>\n",
       "      <th>8</th>\n",
       "      <td>2.539084</td>\n",
       "      <td>-0.771115</td>\n",
       "      <td>-0.733294</td>\n",
       "      <td>-0.341183</td>\n",
       "    </tr>\n",
       "    <tr>\n",
       "      <th>9</th>\n",
       "      <td>-0.015231</td>\n",
       "      <td>0.941550</td>\n",
       "      <td>-1.761545</td>\n",
       "      <td>1.608069</td>\n",
       "    </tr>\n",
       "  </tbody>\n",
       "</table>\n",
       "</div>"
      ],
      "text/plain": [
       "   units_sold  sell_price  ACCESORIES  SUPERMARKET\n",
       "0   -0.262981   -0.750375    0.811173    -0.311947\n",
       "1   -1.352909    0.158874    1.203697     0.282505\n",
       "2    0.619979    0.001414    0.678823     0.305753\n",
       "3   -0.489297    1.434361    0.017194    -2.219681\n",
       "4   -0.782595    1.525974    1.391987    -0.519833\n",
       "5   -0.078269    0.107134   -1.103348     1.345410\n",
       "6    0.355593   -1.441436    0.252084    -0.008785\n",
       "7   -0.533374   -1.206382   -0.756771    -0.140309\n",
       "8    2.539084   -0.771115   -0.733294    -0.341183\n",
       "9   -0.015231    0.941550   -1.761545     1.608069"
      ]
     },
     "execution_count": 10,
     "metadata": {},
     "output_type": "execute_result"
    }
   ],
   "source": [
    "# Utilizamos el standard scaler ya que no contamos con outliers.\n",
    "ss = StandardScaler()\n",
    "df_cluster_ss = pd.DataFrame(\n",
    "    ss.fit_transform(df_cluster_1),\n",
    "    columns=df_cluster_1.columns)\n",
    "df_cluster_ss"
   ]
  },
  {
   "cell_type": "code",
   "execution_count": 11,
   "metadata": {},
   "outputs": [
    {
     "data": {
      "image/png": "[encoded data removed]",
      "text/plain": [
       "<Figure size 800x550 with 2 Axes>"
      ]
     },
     "metadata": {},
     "output_type": "display_data"
    }
   ],
   "source": [
    "Elbow_M = KElbowVisualizer(KMeans(random_state=42, init=\"random\", n_init=\"auto\"), k=10)\n",
    "Elbow_M.fit(df_cluster_ss)\n",
    "Elbow_M.show();"
   ]
  },
  {
   "cell_type": "code",
   "execution_count": 12,
   "metadata": {},
   "outputs": [
    {
     "data": {
      "application/vnd.plotly.v1+json": {
       "config": {
        "plotlyServerURL": "https://plot.ly"
       },
       "data": [
        {
         "hovertemplate": "k=%{x}<br>Silhouette score=%{y}<extra></extra>",
         "legendgroup": "",
         "line": {
          "color": "#636efa",
          "dash": "solid"
         },
         "marker": {
          "symbol": "circle"
         },
         "mode": "lines",
         "name": "",
         "orientation": "v",
         "showlegend": false,
         "type": "scatter",
         "x": [
          2,
          3,
          4,
          5,
          6,
          7,
          8,
          9
         ],
         "xaxis": "x",
         "y": [
          0.2527741155154891,
          0.3232158222467323,
          0.31288922385274043,
          0.2959177668836001,
          0.20063286819086032,
          0.1820022278429832,
          0.14302903503523484,
          0.1101942310519686
         ],
         "yaxis": "y"
        }
       ],
       "layout": {
        "legend": {
         "tracegroupgap": 0
        },
        "template": {
         "data": {
          "bar": [
           {
            "error_x": {
             "color": "#2a3f5f"
            },
            "error_y": {
             "color": "#2a3f5f"
            },
            "marker": {
             "line": {
              "color": "#E5ECF6",
              "width": 0.5
             },
             "pattern": {
              "fillmode": "overlay",
              "size": 10,
              "solidity": 0.2
             }
            },
            "type": "bar"
           }
          ],
          "barpolar": [
           {
            "marker": {
             "line": {
              "color": "#E5ECF6",
              "width": 0.5
             },
             "pattern": {
              "fillmode": "overlay",
              "size": 10,
              "solidity": 0.2
             }
            },
            "type": "barpolar"
           }
          ],
          "carpet": [
           {
            "aaxis": {
             "endlinecolor": "#2a3f5f",
             "gridcolor": "white",
             "linecolor": "white",
             "minorgridcolor": "white",
             "startlinecolor": "#2a3f5f"
            },
            "baxis": {
             "endlinecolor": "#2a3f5f",
             "gridcolor": "white",
             "linecolor": "white",
             "minorgridcolor": "white",
             "startlinecolor": "#2a3f5f"
            },
            "type": "carpet"
           }
          ],
          "choropleth": [
           {
            "colorbar": {
             "outlinewidth": 0,
             "ticks": ""
            },
            "type": "choropleth"
           }
          ],
          "contour": [
           {
            "colorbar": {
             "outlinewidth": 0,
             "ticks": ""
            },
            "colorscale": [
             [
              0,
              "#0d0887"
             ],
             [
              0.1111111111111111,
              "#46039f"
             ],
             [
              0.2222222222222222,
              "#7201a8"
             ],
             [
              0.3333333333333333,
              "#9c179e"
             ],
             [
              0.4444444444444444,
              "#bd3786"
             ],
             [
              0.5555555555555556,
              "#d8576b"
             ],
             [
              0.6666666666666666,
              "#ed7953"
             ],
             [
              0.7777777777777778,
              "#fb9f3a"
             ],
             [
              0.8888888888888888,
              "#fdca26"
             ],
             [
              1,
              "#f0f921"
             ]
            ],
            "type": "contour"
           }
          ],
          "contourcarpet": [
           {
            "colorbar": {
             "outlinewidth": 0,
             "ticks": ""
            },
            "type": "contourcarpet"
           }
          ],
          "heatmap": [
           {
            "colorbar": {
             "outlinewidth": 0,
             "ticks": ""
            },
            "colorscale": [
             [
              0,
              "#0d0887"
             ],
             [
              0.1111111111111111,
              "#46039f"
             ],
             [
              0.2222222222222222,
              "#7201a8"
             ],
             [
              0.3333333333333333,
              "#9c179e"
             ],
             [
              0.4444444444444444,
              "#bd3786"
             ],
             [
              0.5555555555555556,
              "#d8576b"
             ],
             [
              0.6666666666666666,
              "#ed7953"
             ],
             [
              0.7777777777777778,
              "#fb9f3a"
             ],
             [
              0.8888888888888888,
              "#fdca26"
             ],
             [
              1,
              "#f0f921"
             ]
            ],
            "type": "heatmap"
           }
          ],
          "heatmapgl": [
           {
            "colorbar": {
             "outlinewidth": 0,
             "ticks": ""
            },
            "colorscale": [
             [
              0,
              "#0d0887"
             ],
             [
              0.1111111111111111,
              "#46039f"
             ],
             [
              0.2222222222222222,
              "#7201a8"
             ],
             [
              0.3333333333333333,
              "#9c179e"
             ],
             [
              0.4444444444444444,
              "#bd3786"
             ],
             [
              0.5555555555555556,
              "#d8576b"
             ],
             [
              0.6666666666666666,
              "#ed7953"
             ],
             [
              0.7777777777777778,
              "#fb9f3a"
             ],
             [
              0.8888888888888888,
              "#fdca26"
             ],
             [
              1,
              "#f0f921"
             ]
            ],
            "type": "heatmapgl"
           }
          ],
          "histogram": [
           {
            "marker": {
             "pattern": {
              "fillmode": "overlay",
              "size": 10,
              "solidity": 0.2
             }
            },
            "type": "histogram"
           }
          ],
          "histogram2d": [
           {
            "colorbar": {
             "outlinewidth": 0,
             "ticks": ""
            },
            "colorscale": [
             [
              0,
              "#0d0887"
             ],
             [
              0.1111111111111111,
              "#46039f"
             ],
             [
              0.2222222222222222,
              "#7201a8"
             ],
             [
              0.3333333333333333,
              "#9c179e"
             ],
             [
              0.4444444444444444,
              "#bd3786"
             ],
             [
              0.5555555555555556,
              "#d8576b"
             ],
             [
              0.6666666666666666,
              "#ed7953"
             ],
             [
              0.7777777777777778,
              "#fb9f3a"
             ],
             [
              0.8888888888888888,
              "#fdca26"
             ],
             [
              1,
              "#f0f921"
             ]
            ],
            "type": "histogram2d"
           }
          ],
          "histogram2dcontour": [
           {
            "colorbar": {
             "outlinewidth": 0,
             "ticks": ""
            },
            "colorscale": [
             [
              0,
              "#0d0887"
             ],
             [
              0.1111111111111111,
              "#46039f"
             ],
             [
              0.2222222222222222,
              "#7201a8"
             ],
             [
              0.3333333333333333,
              "#9c179e"
             ],
             [
              0.4444444444444444,
              "#bd3786"
             ],
             [
              0.5555555555555556,
              "#d8576b"
             ],
             [
              0.6666666666666666,
              "#ed7953"
             ],
             [
              0.7777777777777778,
              "#fb9f3a"
             ],
             [
              0.8888888888888888,
              "#fdca26"
             ],
             [
              1,
              "#f0f921"
             ]
            ],
            "type": "histogram2dcontour"
           }
          ],
          "mesh3d": [
           {
            "colorbar": {
             "outlinewidth": 0,
             "ticks": ""
            },
            "type": "mesh3d"
           }
          ],
          "parcoords": [
           {
            "line": {
             "colorbar": {
              "outlinewidth": 0,
              "ticks": ""
             }
            },
            "type": "parcoords"
           }
          ],
          "pie": [
           {
            "automargin": true,
            "type": "pie"
           }
          ],
          "scatter": [
           {
            "fillpattern": {
             "fillmode": "overlay",
             "size": 10,
             "solidity": 0.2
            },
            "type": "scatter"
           }
          ],
          "scatter3d": [
           {
            "line": {
             "colorbar": {
              "outlinewidth": 0,
              "ticks": ""
             }
            },
            "marker": {
             "colorbar": {
              "outlinewidth": 0,
              "ticks": ""
             }
            },
            "type": "scatter3d"
           }
          ],
          "scattercarpet": [
           {
            "marker": {
             "colorbar": {
              "outlinewidth": 0,
              "ticks": ""
             }
            },
            "type": "scattercarpet"
           }
          ],
          "scattergeo": [
           {
            "marker": {
             "colorbar": {
              "outlinewidth": 0,
              "ticks": ""
             }
            },
            "type": "scattergeo"
           }
          ],
          "scattergl": [
           {
            "marker": {
             "colorbar": {
              "outlinewidth": 0,
              "ticks": ""
             }
            },
            "type": "scattergl"
           }
          ],
          "scattermapbox": [
           {
            "marker": {
             "colorbar": {
              "outlinewidth": 0,
              "ticks": ""
             }
            },
            "type": "scattermapbox"
           }
          ],
          "scatterpolar": [
           {
            "marker": {
             "colorbar": {
              "outlinewidth": 0,
              "ticks": ""
             }
            },
            "type": "scatterpolar"
           }
          ],
          "scatterpolargl": [
           {
            "marker": {
             "colorbar": {
              "outlinewidth": 0,
              "ticks": ""
             }
            },
            "type": "scatterpolargl"
           }
          ],
          "scatterternary": [
           {
            "marker": {
             "colorbar": {
              "outlinewidth": 0,
              "ticks": ""
             }
            },
            "type": "scatterternary"
           }
          ],
          "surface": [
           {
            "colorbar": {
             "outlinewidth": 0,
             "ticks": ""
            },
            "colorscale": [
             [
              0,
              "#0d0887"
             ],
             [
              0.1111111111111111,
              "#46039f"
             ],
             [
              0.2222222222222222,
              "#7201a8"
             ],
             [
              0.3333333333333333,
              "#9c179e"
             ],
             [
              0.4444444444444444,
              "#bd3786"
             ],
             [
              0.5555555555555556,
              "#d8576b"
             ],
             [
              0.6666666666666666,
              "#ed7953"
             ],
             [
              0.7777777777777778,
              "#fb9f3a"
             ],
             [
              0.8888888888888888,
              "#fdca26"
             ],
             [
              1,
              "#f0f921"
             ]
            ],
            "type": "surface"
           }
          ],
          "table": [
           {
            "cells": {
             "fill": {
              "color": "#EBF0F8"
             },
             "line": {
              "color": "white"
             }
            },
            "header": {
             "fill": {
              "color": "#C8D4E3"
             },
             "line": {
              "color": "white"
             }
            },
            "type": "table"
           }
          ]
         },
         "layout": {
          "annotationdefaults": {
           "arrowcolor": "#2a3f5f",
           "arrowhead": 0,
           "arrowwidth": 1
          },
          "autotypenumbers": "strict",
          "coloraxis": {
           "colorbar": {
            "outlinewidth": 0,
            "ticks": ""
           }
          },
          "colorscale": {
           "diverging": [
            [
             0,
             "#8e0152"
            ],
            [
             0.1,
             "#c51b7d"
            ],
            [
             0.2,
             "#de77ae"
            ],
            [
             0.3,
             "#f1b6da"
            ],
            [
             0.4,
             "#fde0ef"
            ],
            [
             0.5,
             "#f7f7f7"
            ],
            [
             0.6,
             "#e6f5d0"
            ],
            [
             0.7,
             "#b8e186"
            ],
            [
             0.8,
             "#7fbc41"
            ],
            [
             0.9,
             "#4d9221"
            ],
            [
             1,
             "#276419"
            ]
           ],
           "sequential": [
            [
             0,
             "#0d0887"
            ],
            [
             0.1111111111111111,
             "#46039f"
            ],
            [
             0.2222222222222222,
             "#7201a8"
            ],
            [
             0.3333333333333333,
             "#9c179e"
            ],
            [
             0.4444444444444444,
             "#bd3786"
            ],
            [
             0.5555555555555556,
             "#d8576b"
            ],
            [
             0.6666666666666666,
             "#ed7953"
            ],
            [
             0.7777777777777778,
             "#fb9f3a"
            ],
            [
             0.8888888888888888,
             "#fdca26"
            ],
            [
             1,
             "#f0f921"
            ]
           ],
           "sequentialminus": [
            [
             0,
             "#0d0887"
            ],
            [
             0.1111111111111111,
             "#46039f"
            ],
            [
             0.2222222222222222,
             "#7201a8"
            ],
            [
             0.3333333333333333,
             "#9c179e"
            ],
            [
             0.4444444444444444,
             "#bd3786"
            ],
            [
             0.5555555555555556,
             "#d8576b"
            ],
            [
             0.6666666666666666,
             "#ed7953"
            ],
            [
             0.7777777777777778,
             "#fb9f3a"
            ],
            [
             0.8888888888888888,
             "#fdca26"
            ],
            [
             1,
             "#f0f921"
            ]
           ]
          },
          "colorway": [
           "#636efa",
           "#EF553B",
           "#00cc96",
           "#ab63fa",
           "#FFA15A",
           "#19d3f3",
           "#FF6692",
           "#B6E880",
           "#FF97FF",
           "#FECB52"
          ],
          "font": {
           "color": "#2a3f5f"
          },
          "geo": {
           "bgcolor": "white",
           "lakecolor": "white",
           "landcolor": "#E5ECF6",
           "showlakes": true,
           "showland": true,
           "subunitcolor": "white"
          },
          "hoverlabel": {
           "align": "left"
          },
          "hovermode": "closest",
          "mapbox": {
           "style": "light"
          },
          "paper_bgcolor": "white",
          "plot_bgcolor": "#E5ECF6",
          "polar": {
           "angularaxis": {
            "gridcolor": "white",
            "linecolor": "white",
            "ticks": ""
           },
           "bgcolor": "#E5ECF6",
           "radialaxis": {
            "gridcolor": "white",
            "linecolor": "white",
            "ticks": ""
           }
          },
          "scene": {
           "xaxis": {
            "backgroundcolor": "#E5ECF6",
            "gridcolor": "white",
            "gridwidth": 2,
            "linecolor": "white",
            "showbackground": true,
            "ticks": "",
            "zerolinecolor": "white"
           },
           "yaxis": {
            "backgroundcolor": "#E5ECF6",
            "gridcolor": "white",
            "gridwidth": 2,
            "linecolor": "white",
            "showbackground": true,
            "ticks": "",
            "zerolinecolor": "white"
           },
           "zaxis": {
            "backgroundcolor": "#E5ECF6",
            "gridcolor": "white",
            "gridwidth": 2,
            "linecolor": "white",
            "showbackground": true,
            "ticks": "",
            "zerolinecolor": "white"
           }
          },
          "shapedefaults": {
           "line": {
            "color": "#2a3f5f"
           }
          },
          "ternary": {
           "aaxis": {
            "gridcolor": "white",
            "linecolor": "white",
            "ticks": ""
           },
           "baxis": {
            "gridcolor": "white",
            "linecolor": "white",
            "ticks": ""
           },
           "bgcolor": "#E5ECF6",
           "caxis": {
            "gridcolor": "white",
            "linecolor": "white",
            "ticks": ""
           }
          },
          "title": {
           "x": 0.05
          },
          "xaxis": {
           "automargin": true,
           "gridcolor": "white",
           "linecolor": "white",
           "ticks": "",
           "title": {
            "standoff": 15
           },
           "zerolinecolor": "white",
           "zerolinewidth": 2
          },
          "yaxis": {
           "automargin": true,
           "gridcolor": "white",
           "linecolor": "white",
           "ticks": "",
           "title": {
            "standoff": 15
           },
           "zerolinecolor": "white",
           "zerolinewidth": 2
          }
         }
        },
        "title": {
         "text": "Silhouette score"
        },
        "xaxis": {
         "anchor": "y",
         "domain": [
          0,
          1
         ],
         "title": {
          "text": "k"
         }
        },
        "yaxis": {
         "anchor": "x",
         "domain": [
          0,
          1
         ],
         "title": {
          "text": "Silhouette score"
         }
        }
       }
      }
     },
     "metadata": {},
     "output_type": "display_data"
    }
   ],
   "source": [
    "silhouette_scores = []\n",
    "\n",
    "for k in range(2, 10):\n",
    "    kmeans = KMeans(n_clusters=k, random_state=42, init=\"random\", n_init=\"auto\")\n",
    "    kmeans.fit(df_cluster_ss)\n",
    "    silhouette_scores.append(silhouette_score(df_cluster_ss, kmeans.labels_))\n",
    "\n",
    "fig = px.line(\n",
    "    x=range(2, 10),\n",
    "    y=silhouette_scores,\n",
    "    title=\"Silhouette score\",\n",
    "    labels={\"x\": \"k\", \"y\": \"Silhouette score\"},\n",
    ")\n",
    "fig.show()"
   ]
  },
  {
   "cell_type": "markdown",
   "metadata": {},
   "source": [
    "Al realizar las dos pruebas pertinentes para la elección del número de clústeres, comprobamos que la prueba de la silueta nos proporciona un resultado más alto en cuanto al número de clústeres, por lo que decidimos seleccionarla para aplicar el algoritmo en este caso."
   ]
  },
  {
   "cell_type": "code",
   "execution_count": 13,
   "metadata": {},
   "outputs": [
    {
     "data": {
      "text/html": [
       "<style>#sk-container-id-1 {color: black;}#sk-container-id-1 pre{padding: 0;}#sk-container-id-1 div.sk-toggleable {background-color: white;}#sk-container-id-1 label.sk-toggleable__label {cursor: pointer;display: block;width: 100%;margin-bottom: 0;padding: 0.3em;box-sizing: border-box;text-align: center;}#sk-container-id-1 label.sk-toggleable__label-arrow:before {content: \"▸\";float: left;margin-right: 0.25em;color: #696969;}#sk-container-id-1 label.sk-toggleable__label-arrow:hover:before {color: black;}#sk-container-id-1 div.sk-estimator:hover label.sk-toggleable__label-arrow:before {color: black;}#sk-container-id-1 div.sk-toggleable__content {max-height: 0;max-width: 0;overflow: hidden;text-align: left;background-color: #f0f8ff;}#sk-container-id-1 div.sk-toggleable__content pre {margin: 0.2em;color: black;border-radius: 0.25em;background-color: #f0f8ff;}#sk-container-id-1 input.sk-toggleable__control:checked~div.sk-toggleable__content {max-height: 200px;max-width: 100%;overflow: auto;}#sk-container-id-1 input.sk-toggleable__control:checked~label.sk-toggleable__label-arrow:before {content: \"▾\";}#sk-container-id-1 div.sk-estimator input.sk-toggleable__control:checked~label.sk-toggleable__label {background-color: #d4ebff;}#sk-container-id-1 div.sk-label input.sk-toggleable__control:checked~label.sk-toggleable__label {background-color: #d4ebff;}#sk-container-id-1 input.sk-hidden--visually {border: 0;clip: rect(1px 1px 1px 1px);clip: rect(1px, 1px, 1px, 1px);height: 1px;margin: -1px;overflow: hidden;padding: 0;position: absolute;width: 1px;}#sk-container-id-1 div.sk-estimator {font-family: monospace;background-color: #f0f8ff;border: 1px dotted black;border-radius: 0.25em;box-sizing: border-box;margin-bottom: 0.5em;}#sk-container-id-1 div.sk-estimator:hover {background-color: #d4ebff;}#sk-container-id-1 div.sk-parallel-item::after {content: \"\";width: 100%;border-bottom: 1px solid gray;flex-grow: 1;}#sk-container-id-1 div.sk-label:hover label.sk-toggleable__label {background-color: #d4ebff;}#sk-container-id-1 div.sk-serial::before {content: \"\";position: absolute;border-left: 1px solid gray;box-sizing: border-box;top: 0;bottom: 0;left: 50%;z-index: 0;}#sk-container-id-1 div.sk-serial {display: flex;flex-direction: column;align-items: center;background-color: white;padding-right: 0.2em;padding-left: 0.2em;position: relative;}#sk-container-id-1 div.sk-item {position: relative;z-index: 1;}#sk-container-id-1 div.sk-parallel {display: flex;align-items: stretch;justify-content: center;background-color: white;position: relative;}#sk-container-id-1 div.sk-item::before, #sk-container-id-1 div.sk-parallel-item::before {content: \"\";position: absolute;border-left: 1px solid gray;box-sizing: border-box;top: 0;bottom: 0;left: 50%;z-index: -1;}#sk-container-id-1 div.sk-parallel-item {display: flex;flex-direction: column;z-index: 1;position: relative;background-color: white;}#sk-container-id-1 div.sk-parallel-item:first-child::after {align-self: flex-end;width: 50%;}#sk-container-id-1 div.sk-parallel-item:last-child::after {align-self: flex-start;width: 50%;}#sk-container-id-1 div.sk-parallel-item:only-child::after {width: 0;}#sk-container-id-1 div.sk-dashed-wrapped {border: 1px dashed gray;margin: 0 0.4em 0.5em 0.4em;box-sizing: border-box;padding-bottom: 0.4em;background-color: white;}#sk-container-id-1 div.sk-label label {font-family: monospace;font-weight: bold;display: inline-block;line-height: 1.2em;}#sk-container-id-1 div.sk-label-container {text-align: center;}#sk-container-id-1 div.sk-container {/* jupyter's `normalize.less` sets `[hidden] { display: none; }` but bootstrap.min.css set `[hidden] { display: none !important; }` so we also need the `!important` here to be able to override the default hidden behavior on the sphinx rendered scikit-learn.org. See: https://github.com/scikit-learn/scikit-learn/issues/21755 */display: inline-block !important;position: relative;}#sk-container-id-1 div.sk-text-repr-fallback {display: none;}</style><div id=\"sk-container-id-1\" class=\"sk-top-container\"><div class=\"sk-text-repr-fallback\"><pre>KMeans(init=&#x27;random&#x27;, n_clusters=3, n_init=&#x27;auto&#x27;, random_state=42)</pre><b>In a Jupyter environment, please rerun this cell to show the HTML representation or trust the notebook. <br />On GitHub, the HTML representation is unable to render, please try loading this page with nbviewer.org.</b></div><div class=\"sk-container\" hidden><div class=\"sk-item\"><div class=\"sk-estimator sk-toggleable\"><input class=\"sk-toggleable__control sk-hidden--visually\" id=\"sk-estimator-id-1\" type=\"checkbox\" checked><label for=\"sk-estimator-id-1\" class=\"sk-toggleable__label sk-toggleable__label-arrow\">KMeans</label><div class=\"sk-toggleable__content\"><pre>KMeans(init=&#x27;random&#x27;, n_clusters=3, n_init=&#x27;auto&#x27;, random_state=42)</pre></div></div></div></div></div>"
      ],
      "text/plain": [
       "KMeans(init='random', n_clusters=3, n_init='auto', random_state=42)"
      ]
     },
     "execution_count": 13,
     "metadata": {},
     "output_type": "execute_result"
    }
   ],
   "source": [
    "kmeans= KMeans(n_clusters=3,random_state=42, init=\"random\", n_init=\"auto\")\n",
    "kmeans.fit(df_cluster_ss)"
   ]
  },
  {
   "cell_type": "code",
   "execution_count": 14,
   "metadata": {},
   "outputs": [
    {
     "name": "stderr",
     "output_type": "stream",
     "text": [
      "/Users/santi/anaconda3/envs/Nuclio/lib/python3.11/site-packages/sklearn/base.py:464: UserWarning:\n",
      "\n",
      "X does not have valid feature names, but KMeans was fitted with feature names\n",
      "\n"
     ]
    },
    {
     "data": {
      "image/png": "[encoded data removed]",
      "text/plain": [
       "<Figure size 800x550 with 1 Axes>"
      ]
     },
     "metadata": {},
     "output_type": "display_data"
    },
    {
     "data": {
      "text/plain": [
       "<Axes: title={'center': 'Silhouette Plot of KMeans Clustering for 10 Samples in 3 Centers'}, xlabel='silhouette coefficient values', ylabel='cluster label'>"
      ]
     },
     "execution_count": 14,
     "metadata": {},
     "output_type": "execute_result"
    }
   ],
   "source": [
    "visualizer = SilhouetteVisualizer(kmeans, colors='yellowbrick')\n",
    "\n",
    "visualizer.fit(df_cluster_ss)  \n",
    "visualizer.show()"
   ]
  },
  {
   "cell_type": "markdown",
   "metadata": {},
   "source": [
    "Como se puede comprobar nos sale una segmentacion bastante correcta con los grupos bastante homogeneos entre si, ahora pasaremos a comprobar las otras caracteristicas como comentamos anteriormente."
   ]
  },
  {
   "cell_type": "code",
   "execution_count": 15,
   "metadata": {},
   "outputs": [
    {
     "data": {
      "text/html": [
       "<div>\n",
       "<style scoped>\n",
       "    .dataframe tbody tr th:only-of-type {\n",
       "        vertical-align: middle;\n",
       "    }\n",
       "\n",
       "    .dataframe tbody tr th {\n",
       "        vertical-align: top;\n",
       "    }\n",
       "\n",
       "    .dataframe thead th {\n",
       "        text-align: right;\n",
       "    }\n",
       "</style>\n",
       "<table border=\"1\" class=\"dataframe\">\n",
       "  <thead>\n",
       "    <tr style=\"text-align: right;\">\n",
       "      <th></th>\n",
       "      <th>item</th>\n",
       "      <th>Q1</th>\n",
       "      <th>Q2</th>\n",
       "      <th>Q3</th>\n",
       "      <th>Q4</th>\n",
       "      <th>units_total</th>\n",
       "      <th>avg_price</th>\n",
       "      <th>cluster_hdbscan</th>\n",
       "      <th>cluster_kmeans</th>\n",
       "    </tr>\n",
       "  </thead>\n",
       "  <tbody>\n",
       "    <tr>\n",
       "      <th>0</th>\n",
       "      <td>ACCESORIES_1_001</td>\n",
       "      <td>0.281263</td>\n",
       "      <td>0.195372</td>\n",
       "      <td>0.234402</td>\n",
       "      <td>0.288963</td>\n",
       "      <td>4051</td>\n",
       "      <td>11.000712</td>\n",
       "      <td>1</td>\n",
       "      <td>2</td>\n",
       "    </tr>\n",
       "    <tr>\n",
       "      <th>1</th>\n",
       "      <td>ACCESORIES_1_002</td>\n",
       "      <td>0.199654</td>\n",
       "      <td>0.190240</td>\n",
       "      <td>0.255982</td>\n",
       "      <td>0.354124</td>\n",
       "      <td>5047</td>\n",
       "      <td>5.279317</td>\n",
       "      <td>-1</td>\n",
       "      <td>3</td>\n",
       "    </tr>\n",
       "    <tr>\n",
       "      <th>2</th>\n",
       "      <td>ACCESORIES_1_003</td>\n",
       "      <td>0.289062</td>\n",
       "      <td>0.256714</td>\n",
       "      <td>0.227942</td>\n",
       "      <td>0.226282</td>\n",
       "      <td>1405</td>\n",
       "      <td>3.938599</td>\n",
       "      <td>1</td>\n",
       "      <td>3</td>\n",
       "    </tr>\n",
       "    <tr>\n",
       "      <th>3</th>\n",
       "      <td>ACCESORIES_1_004</td>\n",
       "      <td>0.266751</td>\n",
       "      <td>0.258757</td>\n",
       "      <td>0.229655</td>\n",
       "      <td>0.244836</td>\n",
       "      <td>38996</td>\n",
       "      <td>6.006287</td>\n",
       "      <td>1</td>\n",
       "      <td>3</td>\n",
       "    </tr>\n",
       "    <tr>\n",
       "      <th>4</th>\n",
       "      <td>ACCESORIES_1_005</td>\n",
       "      <td>0.234197</td>\n",
       "      <td>0.202624</td>\n",
       "      <td>0.257898</td>\n",
       "      <td>0.305281</td>\n",
       "      <td>14529</td>\n",
       "      <td>3.807422</td>\n",
       "      <td>1</td>\n",
       "      <td>3</td>\n",
       "    </tr>\n",
       "  </tbody>\n",
       "</table>\n",
       "</div>"
      ],
      "text/plain": [
       "               item        Q1        Q2        Q3        Q4  units_total  \\\n",
       "0  ACCESORIES_1_001  0.281263  0.195372  0.234402  0.288963         4051   \n",
       "1  ACCESORIES_1_002  0.199654  0.190240  0.255982  0.354124         5047   \n",
       "2  ACCESORIES_1_003  0.289062  0.256714  0.227942  0.226282         1405   \n",
       "3  ACCESORIES_1_004  0.266751  0.258757  0.229655  0.244836        38996   \n",
       "4  ACCESORIES_1_005  0.234197  0.202624  0.257898  0.305281        14529   \n",
       "\n",
       "   avg_price  cluster_hdbscan  cluster_kmeans  \n",
       "0  11.000712                1               2  \n",
       "1   5.279317               -1               3  \n",
       "2   3.938599                1               3  \n",
       "3   6.006287                1               3  \n",
       "4   3.807422                1               3  "
      ]
     },
     "execution_count": 15,
     "metadata": {},
     "output_type": "execute_result"
    }
   ],
   "source": [
    "# Cargamos el csv con los datos de clustering por productos y seleccionaremos las etiquetas de cluster\n",
    "df_clustering= pd.read_csv(\"/Users/santi/Documents/csv/clusteringproducto.csv\",index_col=0)\n",
    "df_clustering.head()"
   ]
  },
  {
   "cell_type": "code",
   "execution_count": 16,
   "metadata": {},
   "outputs": [
    {
     "data": {
      "text/html": [
       "<div>\n",
       "<style scoped>\n",
       "    .dataframe tbody tr th:only-of-type {\n",
       "        vertical-align: middle;\n",
       "    }\n",
       "\n",
       "    .dataframe tbody tr th {\n",
       "        vertical-align: top;\n",
       "    }\n",
       "\n",
       "    .dataframe thead th {\n",
       "        text-align: right;\n",
       "    }\n",
       "</style>\n",
       "<table border=\"1\" class=\"dataframe\">\n",
       "  <thead>\n",
       "    <tr style=\"text-align: right;\">\n",
       "      <th></th>\n",
       "      <th>item</th>\n",
       "      <th>cluster_kmeans</th>\n",
       "    </tr>\n",
       "  </thead>\n",
       "  <tbody>\n",
       "    <tr>\n",
       "      <th>0</th>\n",
       "      <td>ACCESORIES_1_001</td>\n",
       "      <td>2</td>\n",
       "    </tr>\n",
       "    <tr>\n",
       "      <th>1</th>\n",
       "      <td>ACCESORIES_1_002</td>\n",
       "      <td>3</td>\n",
       "    </tr>\n",
       "    <tr>\n",
       "      <th>2</th>\n",
       "      <td>ACCESORIES_1_003</td>\n",
       "      <td>3</td>\n",
       "    </tr>\n",
       "    <tr>\n",
       "      <th>3</th>\n",
       "      <td>ACCESORIES_1_004</td>\n",
       "      <td>3</td>\n",
       "    </tr>\n",
       "    <tr>\n",
       "      <th>4</th>\n",
       "      <td>ACCESORIES_1_005</td>\n",
       "      <td>3</td>\n",
       "    </tr>\n",
       "    <tr>\n",
       "      <th>...</th>\n",
       "      <td>...</td>\n",
       "      <td>...</td>\n",
       "    </tr>\n",
       "    <tr>\n",
       "      <th>3044</th>\n",
       "      <td>SUPERMARKET_3_823</td>\n",
       "      <td>3</td>\n",
       "    </tr>\n",
       "    <tr>\n",
       "      <th>3045</th>\n",
       "      <td>SUPERMARKET_3_824</td>\n",
       "      <td>3</td>\n",
       "    </tr>\n",
       "    <tr>\n",
       "      <th>3046</th>\n",
       "      <td>SUPERMARKET_3_825</td>\n",
       "      <td>3</td>\n",
       "    </tr>\n",
       "    <tr>\n",
       "      <th>3047</th>\n",
       "      <td>SUPERMARKET_3_826</td>\n",
       "      <td>3</td>\n",
       "    </tr>\n",
       "    <tr>\n",
       "      <th>3048</th>\n",
       "      <td>SUPERMARKET_3_827</td>\n",
       "      <td>0</td>\n",
       "    </tr>\n",
       "  </tbody>\n",
       "</table>\n",
       "<p>3049 rows × 2 columns</p>\n",
       "</div>"
      ],
      "text/plain": [
       "                   item  cluster_kmeans\n",
       "0      ACCESORIES_1_001               2\n",
       "1      ACCESORIES_1_002               3\n",
       "2      ACCESORIES_1_003               3\n",
       "3      ACCESORIES_1_004               3\n",
       "4      ACCESORIES_1_005               3\n",
       "...                 ...             ...\n",
       "3044  SUPERMARKET_3_823               3\n",
       "3045  SUPERMARKET_3_824               3\n",
       "3046  SUPERMARKET_3_825               3\n",
       "3047  SUPERMARKET_3_826               3\n",
       "3048  SUPERMARKET_3_827               0\n",
       "\n",
       "[3049 rows x 2 columns]"
      ]
     },
     "execution_count": 16,
     "metadata": {},
     "output_type": "execute_result"
    }
   ],
   "source": [
    "df_clustering_producto= df_clustering[[\"item\",\"cluster_kmeans\"]]\n",
    "df_clustering_producto"
   ]
  },
  {
   "cell_type": "code",
   "execution_count": 17,
   "metadata": {},
   "outputs": [
    {
     "data": {
      "text/html": [
       "<div>\n",
       "<style scoped>\n",
       "    .dataframe tbody tr th:only-of-type {\n",
       "        vertical-align: middle;\n",
       "    }\n",
       "\n",
       "    .dataframe tbody tr th {\n",
       "        vertical-align: top;\n",
       "    }\n",
       "\n",
       "    .dataframe thead th {\n",
       "        text-align: right;\n",
       "    }\n",
       "</style>\n",
       "<table border=\"1\" class=\"dataframe\">\n",
       "  <thead>\n",
       "    <tr style=\"text-align: right;\">\n",
       "      <th></th>\n",
       "      <th>item</th>\n",
       "      <th>category</th>\n",
       "      <th>department</th>\n",
       "      <th>stores</th>\n",
       "      <th>region</th>\n",
       "      <th>week</th>\n",
       "      <th>year</th>\n",
       "      <th>is_holidays</th>\n",
       "      <th>units_sold</th>\n",
       "      <th>sell_price</th>\n",
       "      <th>total_sales</th>\n",
       "      <th>cluster_kmeans</th>\n",
       "    </tr>\n",
       "  </thead>\n",
       "  <tbody>\n",
       "    <tr>\n",
       "      <th>0</th>\n",
       "      <td>ACCESORIES_1_001</td>\n",
       "      <td>ACCESORIES</td>\n",
       "      <td>ACCESORIES_1</td>\n",
       "      <td>South_End(BOS_1)</td>\n",
       "      <td>Boston</td>\n",
       "      <td>28</td>\n",
       "      <td>2013</td>\n",
       "      <td>0</td>\n",
       "      <td>0</td>\n",
       "      <td>12.7414</td>\n",
       "      <td>0.0000</td>\n",
       "      <td>2</td>\n",
       "    </tr>\n",
       "    <tr>\n",
       "      <th>1</th>\n",
       "      <td>ACCESORIES_1_001</td>\n",
       "      <td>ACCESORIES</td>\n",
       "      <td>ACCESORIES_1</td>\n",
       "      <td>South_End(BOS_1)</td>\n",
       "      <td>Boston</td>\n",
       "      <td>28</td>\n",
       "      <td>2013</td>\n",
       "      <td>1</td>\n",
       "      <td>0</td>\n",
       "      <td>12.7414</td>\n",
       "      <td>0.0000</td>\n",
       "      <td>2</td>\n",
       "    </tr>\n",
       "    <tr>\n",
       "      <th>2</th>\n",
       "      <td>ACCESORIES_1_001</td>\n",
       "      <td>ACCESORIES</td>\n",
       "      <td>ACCESORIES_1</td>\n",
       "      <td>South_End(BOS_1)</td>\n",
       "      <td>Boston</td>\n",
       "      <td>29</td>\n",
       "      <td>2013</td>\n",
       "      <td>0</td>\n",
       "      <td>4</td>\n",
       "      <td>10.9858</td>\n",
       "      <td>43.9432</td>\n",
       "      <td>2</td>\n",
       "    </tr>\n",
       "    <tr>\n",
       "      <th>3</th>\n",
       "      <td>ACCESORIES_1_001</td>\n",
       "      <td>ACCESORIES</td>\n",
       "      <td>ACCESORIES_1</td>\n",
       "      <td>South_End(BOS_1)</td>\n",
       "      <td>Boston</td>\n",
       "      <td>30</td>\n",
       "      <td>2013</td>\n",
       "      <td>0</td>\n",
       "      <td>6</td>\n",
       "      <td>10.9858</td>\n",
       "      <td>65.9148</td>\n",
       "      <td>2</td>\n",
       "    </tr>\n",
       "    <tr>\n",
       "      <th>4</th>\n",
       "      <td>ACCESORIES_1_001</td>\n",
       "      <td>ACCESORIES</td>\n",
       "      <td>ACCESORIES_1</td>\n",
       "      <td>South_End(BOS_1)</td>\n",
       "      <td>Boston</td>\n",
       "      <td>31</td>\n",
       "      <td>2013</td>\n",
       "      <td>0</td>\n",
       "      <td>0</td>\n",
       "      <td>10.9858</td>\n",
       "      <td>0.0000</td>\n",
       "      <td>2</td>\n",
       "    </tr>\n",
       "    <tr>\n",
       "      <th>...</th>\n",
       "      <td>...</td>\n",
       "      <td>...</td>\n",
       "      <td>...</td>\n",
       "      <td>...</td>\n",
       "      <td>...</td>\n",
       "      <td>...</td>\n",
       "      <td>...</td>\n",
       "      <td>...</td>\n",
       "      <td>...</td>\n",
       "      <td>...</td>\n",
       "      <td>...</td>\n",
       "      <td>...</td>\n",
       "    </tr>\n",
       "    <tr>\n",
       "      <th>6610508</th>\n",
       "      <td>SUPERMARKET_3_827</td>\n",
       "      <td>SUPERMARKET</td>\n",
       "      <td>SUPERMARKET_3</td>\n",
       "      <td>Queen_Village(PHI_3)</td>\n",
       "      <td>Philadelphia</td>\n",
       "      <td>12</td>\n",
       "      <td>2016</td>\n",
       "      <td>1</td>\n",
       "      <td>22</td>\n",
       "      <td>1.2000</td>\n",
       "      <td>26.4000</td>\n",
       "      <td>0</td>\n",
       "    </tr>\n",
       "    <tr>\n",
       "      <th>6610509</th>\n",
       "      <td>SUPERMARKET_3_827</td>\n",
       "      <td>SUPERMARKET</td>\n",
       "      <td>SUPERMARKET_3</td>\n",
       "      <td>Queen_Village(PHI_3)</td>\n",
       "      <td>Philadelphia</td>\n",
       "      <td>13</td>\n",
       "      <td>2016</td>\n",
       "      <td>0</td>\n",
       "      <td>17</td>\n",
       "      <td>1.2000</td>\n",
       "      <td>20.4000</td>\n",
       "      <td>0</td>\n",
       "    </tr>\n",
       "    <tr>\n",
       "      <th>6610510</th>\n",
       "      <td>SUPERMARKET_3_827</td>\n",
       "      <td>SUPERMARKET</td>\n",
       "      <td>SUPERMARKET_3</td>\n",
       "      <td>Queen_Village(PHI_3)</td>\n",
       "      <td>Philadelphia</td>\n",
       "      <td>14</td>\n",
       "      <td>2016</td>\n",
       "      <td>0</td>\n",
       "      <td>6</td>\n",
       "      <td>1.2000</td>\n",
       "      <td>7.2000</td>\n",
       "      <td>0</td>\n",
       "    </tr>\n",
       "    <tr>\n",
       "      <th>6610511</th>\n",
       "      <td>SUPERMARKET_3_827</td>\n",
       "      <td>SUPERMARKET</td>\n",
       "      <td>SUPERMARKET_3</td>\n",
       "      <td>Queen_Village(PHI_3)</td>\n",
       "      <td>Philadelphia</td>\n",
       "      <td>15</td>\n",
       "      <td>2016</td>\n",
       "      <td>0</td>\n",
       "      <td>0</td>\n",
       "      <td>1.2000</td>\n",
       "      <td>0.0000</td>\n",
       "      <td>0</td>\n",
       "    </tr>\n",
       "    <tr>\n",
       "      <th>6610512</th>\n",
       "      <td>SUPERMARKET_3_827</td>\n",
       "      <td>SUPERMARKET</td>\n",
       "      <td>SUPERMARKET_3</td>\n",
       "      <td>Queen_Village(PHI_3)</td>\n",
       "      <td>Philadelphia</td>\n",
       "      <td>16</td>\n",
       "      <td>2016</td>\n",
       "      <td>0</td>\n",
       "      <td>0</td>\n",
       "      <td>1.2000</td>\n",
       "      <td>0.0000</td>\n",
       "      <td>0</td>\n",
       "    </tr>\n",
       "  </tbody>\n",
       "</table>\n",
       "<p>6610513 rows × 12 columns</p>\n",
       "</div>"
      ],
      "text/plain": [
       "                      item     category     department                stores  \\\n",
       "0         ACCESORIES_1_001   ACCESORIES   ACCESORIES_1      South_End(BOS_1)   \n",
       "1         ACCESORIES_1_001   ACCESORIES   ACCESORIES_1      South_End(BOS_1)   \n",
       "2         ACCESORIES_1_001   ACCESORIES   ACCESORIES_1      South_End(BOS_1)   \n",
       "3         ACCESORIES_1_001   ACCESORIES   ACCESORIES_1      South_End(BOS_1)   \n",
       "4         ACCESORIES_1_001   ACCESORIES   ACCESORIES_1      South_End(BOS_1)   \n",
       "...                    ...          ...            ...                   ...   \n",
       "6610508  SUPERMARKET_3_827  SUPERMARKET  SUPERMARKET_3  Queen_Village(PHI_3)   \n",
       "6610509  SUPERMARKET_3_827  SUPERMARKET  SUPERMARKET_3  Queen_Village(PHI_3)   \n",
       "6610510  SUPERMARKET_3_827  SUPERMARKET  SUPERMARKET_3  Queen_Village(PHI_3)   \n",
       "6610511  SUPERMARKET_3_827  SUPERMARKET  SUPERMARKET_3  Queen_Village(PHI_3)   \n",
       "6610512  SUPERMARKET_3_827  SUPERMARKET  SUPERMARKET_3  Queen_Village(PHI_3)   \n",
       "\n",
       "               region  week  year  is_holidays  units_sold  sell_price  \\\n",
       "0              Boston    28  2013            0           0     12.7414   \n",
       "1              Boston    28  2013            1           0     12.7414   \n",
       "2              Boston    29  2013            0           4     10.9858   \n",
       "3              Boston    30  2013            0           6     10.9858   \n",
       "4              Boston    31  2013            0           0     10.9858   \n",
       "...               ...   ...   ...          ...         ...         ...   \n",
       "6610508  Philadelphia    12  2016            1          22      1.2000   \n",
       "6610509  Philadelphia    13  2016            0          17      1.2000   \n",
       "6610510  Philadelphia    14  2016            0           6      1.2000   \n",
       "6610511  Philadelphia    15  2016            0           0      1.2000   \n",
       "6610512  Philadelphia    16  2016            0           0      1.2000   \n",
       "\n",
       "         total_sales  cluster_kmeans  \n",
       "0             0.0000               2  \n",
       "1             0.0000               2  \n",
       "2            43.9432               2  \n",
       "3            65.9148               2  \n",
       "4             0.0000               2  \n",
       "...              ...             ...  \n",
       "6610508      26.4000               0  \n",
       "6610509      20.4000               0  \n",
       "6610510       7.2000               0  \n",
       "6610511       0.0000               0  \n",
       "6610512       0.0000               0  \n",
       "\n",
       "[6610513 rows x 12 columns]"
      ]
     },
     "execution_count": 17,
     "metadata": {},
     "output_type": "execute_result"
    }
   ],
   "source": [
    "# Unimos los dataframes para obtener la informacion de ventas por cluster\n",
    "df = df.merge(df_clustering_producto,how='inner',on=\"item\")\n",
    "df"
   ]
  },
  {
   "cell_type": "code",
   "execution_count": 18,
   "metadata": {},
   "outputs": [
    {
     "data": {
      "text/html": [
       "<div>\n",
       "<style scoped>\n",
       "    .dataframe tbody tr th:only-of-type {\n",
       "        vertical-align: middle;\n",
       "    }\n",
       "\n",
       "    .dataframe tbody tr th {\n",
       "        vertical-align: top;\n",
       "    }\n",
       "\n",
       "    .dataframe thead th {\n",
       "        text-align: right;\n",
       "    }\n",
       "</style>\n",
       "<table border=\"1\" class=\"dataframe\">\n",
       "  <thead>\n",
       "    <tr style=\"text-align: right;\">\n",
       "      <th>cluster_kmeans</th>\n",
       "      <th>stores</th>\n",
       "      <th>0</th>\n",
       "      <th>1</th>\n",
       "      <th>2</th>\n",
       "      <th>3</th>\n",
       "      <th>4</th>\n",
       "    </tr>\n",
       "  </thead>\n",
       "  <tbody>\n",
       "    <tr>\n",
       "      <th>0</th>\n",
       "      <td>Back_Bay(BOS_3)</td>\n",
       "      <td>0.145008</td>\n",
       "      <td>0.042796</td>\n",
       "      <td>0.199867</td>\n",
       "      <td>0.447535</td>\n",
       "      <td>0.164793</td>\n",
       "    </tr>\n",
       "    <tr>\n",
       "      <th>1</th>\n",
       "      <td>Brooklyn(NYC_4)</td>\n",
       "      <td>0.143173</td>\n",
       "      <td>0.038198</td>\n",
       "      <td>0.196859</td>\n",
       "      <td>0.509640</td>\n",
       "      <td>0.112130</td>\n",
       "    </tr>\n",
       "    <tr>\n",
       "      <th>2</th>\n",
       "      <td>Greenwich_Village(NYC_1)</td>\n",
       "      <td>0.142830</td>\n",
       "      <td>0.042186</td>\n",
       "      <td>0.186286</td>\n",
       "      <td>0.480925</td>\n",
       "      <td>0.147773</td>\n",
       "    </tr>\n",
       "    <tr>\n",
       "      <th>3</th>\n",
       "      <td>Harlem(NYC_2)</td>\n",
       "      <td>0.145409</td>\n",
       "      <td>0.042434</td>\n",
       "      <td>0.204674</td>\n",
       "      <td>0.501893</td>\n",
       "      <td>0.105592</td>\n",
       "    </tr>\n",
       "    <tr>\n",
       "      <th>4</th>\n",
       "      <td>Midtown_Village(PHI_1)</td>\n",
       "      <td>0.173394</td>\n",
       "      <td>0.029018</td>\n",
       "      <td>0.189092</td>\n",
       "      <td>0.503709</td>\n",
       "      <td>0.104787</td>\n",
       "    </tr>\n",
       "    <tr>\n",
       "      <th>5</th>\n",
       "      <td>Queen_Village(PHI_3)</td>\n",
       "      <td>0.165262</td>\n",
       "      <td>0.033962</td>\n",
       "      <td>0.153244</td>\n",
       "      <td>0.464291</td>\n",
       "      <td>0.183241</td>\n",
       "    </tr>\n",
       "    <tr>\n",
       "      <th>6</th>\n",
       "      <td>Roxbury(BOS_2)</td>\n",
       "      <td>0.139974</td>\n",
       "      <td>0.044732</td>\n",
       "      <td>0.187042</td>\n",
       "      <td>0.461239</td>\n",
       "      <td>0.167014</td>\n",
       "    </tr>\n",
       "    <tr>\n",
       "      <th>7</th>\n",
       "      <td>South_End(BOS_1)</td>\n",
       "      <td>0.143365</td>\n",
       "      <td>0.039495</td>\n",
       "      <td>0.175791</td>\n",
       "      <td>0.481745</td>\n",
       "      <td>0.159604</td>\n",
       "    </tr>\n",
       "    <tr>\n",
       "      <th>8</th>\n",
       "      <td>Tribeca(NYC_3)</td>\n",
       "      <td>0.145207</td>\n",
       "      <td>0.038818</td>\n",
       "      <td>0.180096</td>\n",
       "      <td>0.476923</td>\n",
       "      <td>0.158956</td>\n",
       "    </tr>\n",
       "    <tr>\n",
       "      <th>9</th>\n",
       "      <td>Yorktown(PHI_2)</td>\n",
       "      <td>0.210494</td>\n",
       "      <td>0.031089</td>\n",
       "      <td>0.144778</td>\n",
       "      <td>0.474031</td>\n",
       "      <td>0.139609</td>\n",
       "    </tr>\n",
       "  </tbody>\n",
       "</table>\n",
       "</div>"
      ],
      "text/plain": [
       "cluster_kmeans                    stores         0         1         2  \\\n",
       "0                        Back_Bay(BOS_3)  0.145008  0.042796  0.199867   \n",
       "1                        Brooklyn(NYC_4)  0.143173  0.038198  0.196859   \n",
       "2               Greenwich_Village(NYC_1)  0.142830  0.042186  0.186286   \n",
       "3                          Harlem(NYC_2)  0.145409  0.042434  0.204674   \n",
       "4                 Midtown_Village(PHI_1)  0.173394  0.029018  0.189092   \n",
       "5                   Queen_Village(PHI_3)  0.165262  0.033962  0.153244   \n",
       "6                         Roxbury(BOS_2)  0.139974  0.044732  0.187042   \n",
       "7                       South_End(BOS_1)  0.143365  0.039495  0.175791   \n",
       "8                         Tribeca(NYC_3)  0.145207  0.038818  0.180096   \n",
       "9                        Yorktown(PHI_2)  0.210494  0.031089  0.144778   \n",
       "\n",
       "cluster_kmeans         3         4  \n",
       "0               0.447535  0.164793  \n",
       "1               0.509640  0.112130  \n",
       "2               0.480925  0.147773  \n",
       "3               0.501893  0.105592  \n",
       "4               0.503709  0.104787  \n",
       "5               0.464291  0.183241  \n",
       "6               0.461239  0.167014  \n",
       "7               0.481745  0.159604  \n",
       "8               0.476923  0.158956  \n",
       "9               0.474031  0.139609  "
      ]
     },
     "execution_count": 18,
     "metadata": {},
     "output_type": "execute_result"
    }
   ],
   "source": [
    "# Con el crosstab conseguimos el porcentaje de ventas sobre el total  de cada cluster de productos.\n",
    "df_cluster_prod = pd.crosstab(df[\"stores\"],df[\"cluster_kmeans\"],values=df[\"total_sales\"], aggfunc=\"sum\",normalize=\"index\").reset_index()\n",
    "df_cluster_prod"
   ]
  },
  {
   "cell_type": "code",
   "execution_count": 19,
   "metadata": {},
   "outputs": [
    {
     "data": {
      "text/html": [
       "<div>\n",
       "<style scoped>\n",
       "    .dataframe tbody tr th:only-of-type {\n",
       "        vertical-align: middle;\n",
       "    }\n",
       "\n",
       "    .dataframe tbody tr th {\n",
       "        vertical-align: top;\n",
       "    }\n",
       "\n",
       "    .dataframe thead th {\n",
       "        text-align: right;\n",
       "    }\n",
       "</style>\n",
       "<table border=\"1\" class=\"dataframe\">\n",
       "  <thead>\n",
       "    <tr style=\"text-align: right;\">\n",
       "      <th></th>\n",
       "      <th>stores</th>\n",
       "      <th>region</th>\n",
       "      <th>units_sold</th>\n",
       "      <th>sell_price</th>\n",
       "      <th>total_sales</th>\n",
       "      <th>0</th>\n",
       "      <th>1</th>\n",
       "      <th>2</th>\n",
       "      <th>3</th>\n",
       "      <th>4</th>\n",
       "    </tr>\n",
       "  </thead>\n",
       "  <tbody>\n",
       "    <tr>\n",
       "      <th>0</th>\n",
       "      <td>Back_Bay(BOS_3)</td>\n",
       "      <td>Boston</td>\n",
       "      <td>6057234</td>\n",
       "      <td>5.484508</td>\n",
       "      <td>2.181127e+07</td>\n",
       "      <td>0.145008</td>\n",
       "      <td>0.042796</td>\n",
       "      <td>0.199867</td>\n",
       "      <td>0.447535</td>\n",
       "      <td>0.164793</td>\n",
       "    </tr>\n",
       "    <tr>\n",
       "      <th>1</th>\n",
       "      <td>Brooklyn(NYC_4)</td>\n",
       "      <td>New York</td>\n",
       "      <td>4082201</td>\n",
       "      <td>5.522663</td>\n",
       "      <td>1.495885e+07</td>\n",
       "      <td>0.143173</td>\n",
       "      <td>0.038198</td>\n",
       "      <td>0.196859</td>\n",
       "      <td>0.509640</td>\n",
       "      <td>0.112130</td>\n",
       "    </tr>\n",
       "    <tr>\n",
       "      <th>2</th>\n",
       "      <td>Greenwich_Village(NYC_1)</td>\n",
       "      <td>New York</td>\n",
       "      <td>7657224</td>\n",
       "      <td>5.516056</td>\n",
       "      <td>2.757273e+07</td>\n",
       "      <td>0.142830</td>\n",
       "      <td>0.042186</td>\n",
       "      <td>0.186286</td>\n",
       "      <td>0.480925</td>\n",
       "      <td>0.147773</td>\n",
       "    </tr>\n",
       "    <tr>\n",
       "      <th>3</th>\n",
       "      <td>Harlem(NYC_2)</td>\n",
       "      <td>New York</td>\n",
       "      <td>5647131</td>\n",
       "      <td>5.576188</td>\n",
       "      <td>2.135534e+07</td>\n",
       "      <td>0.145409</td>\n",
       "      <td>0.042434</td>\n",
       "      <td>0.204674</td>\n",
       "      <td>0.501893</td>\n",
       "      <td>0.105592</td>\n",
       "    </tr>\n",
       "    <tr>\n",
       "      <th>4</th>\n",
       "      <td>Midtown_Village(PHI_1)</td>\n",
       "      <td>Philadelphia</td>\n",
       "      <td>5115653</td>\n",
       "      <td>5.580032</td>\n",
       "      <td>1.811085e+07</td>\n",
       "      <td>0.173394</td>\n",
       "      <td>0.029018</td>\n",
       "      <td>0.189092</td>\n",
       "      <td>0.503709</td>\n",
       "      <td>0.104787</td>\n",
       "    </tr>\n",
       "  </tbody>\n",
       "</table>\n",
       "</div>"
      ],
      "text/plain": [
       "                     stores        region  units_sold  sell_price  \\\n",
       "0           Back_Bay(BOS_3)        Boston     6057234    5.484508   \n",
       "1           Brooklyn(NYC_4)      New York     4082201    5.522663   \n",
       "2  Greenwich_Village(NYC_1)      New York     7657224    5.516056   \n",
       "3             Harlem(NYC_2)      New York     5647131    5.576188   \n",
       "4    Midtown_Village(PHI_1)  Philadelphia     5115653    5.580032   \n",
       "\n",
       "    total_sales         0         1         2         3         4  \n",
       "0  2.181127e+07  0.145008  0.042796  0.199867  0.447535  0.164793  \n",
       "1  1.495885e+07  0.143173  0.038198  0.196859  0.509640  0.112130  \n",
       "2  2.757273e+07  0.142830  0.042186  0.186286  0.480925  0.147773  \n",
       "3  2.135534e+07  0.145409  0.042434  0.204674  0.501893  0.105592  \n",
       "4  1.811085e+07  0.173394  0.029018  0.189092  0.503709  0.104787  "
      ]
     },
     "execution_count": 19,
     "metadata": {},
     "output_type": "execute_result"
    }
   ],
   "source": [
    "# Unimos el dataframe\n",
    "df_cluster_tiendas_prod= df_tiendas.merge(df_cluster_prod,on=\"stores\")\n",
    "df_cluster_tiendas_prod.head()"
   ]
  },
  {
   "cell_type": "code",
   "execution_count": 20,
   "metadata": {},
   "outputs": [],
   "source": [
    "# Renombramos para comprobar las correlaciones entre columnas\n",
    "df_cluster_tiendas_prod = df_cluster_tiendas_prod.rename(columns={0:'cluster0', 1:'cluster1', 2:'cluster2', 3:'cluster3', 4:'cluster4'})"
   ]
  },
  {
   "cell_type": "code",
   "execution_count": 21,
   "metadata": {},
   "outputs": [
    {
     "name": "stderr",
     "output_type": "stream",
     "text": [
      "/var/folders/h2/m__59kjn7y17pxmn41zlkfsm0000gn/T/ipykernel_69563/3753470827.py:1: FutureWarning:\n",
      "\n",
      "The default value of numeric_only in DataFrame.corr is deprecated. In a future version, it will default to False. Select only valid columns or specify the value of numeric_only to silence this warning.\n",
      "\n"
     ]
    },
    {
     "data": {
      "text/plain": [
       "<Axes: >"
      ]
     },
     "execution_count": 21,
     "metadata": {},
     "output_type": "execute_result"
    },
    {
     "data": {
      "image/png": "[encoded data removed]",
      "text/plain": [
       "<Figure size 800x550 with 2 Axes>"
      ]
     },
     "metadata": {},
     "output_type": "display_data"
    }
   ],
   "source": [
    "sns.heatmap(df_cluster_tiendas_prod.corr(), annot=True, cmap=\"YlGnBu\")"
   ]
  },
  {
   "cell_type": "code",
   "execution_count": 23,
   "metadata": {},
   "outputs": [
    {
     "data": {
      "text/plain": [
       "0             Back_Bay(BOS_3)\n",
       "1             Brooklyn(NYC_4)\n",
       "2    Greenwich_Village(NYC_1)\n",
       "3               Harlem(NYC_2)\n",
       "4      Midtown_Village(PHI_1)\n",
       "5        Queen_Village(PHI_3)\n",
       "6              Roxbury(BOS_2)\n",
       "7            South_End(BOS_1)\n",
       "8              Tribeca(NYC_3)\n",
       "9             Yorktown(PHI_2)\n",
       "Name: stores, dtype: object"
      ]
     },
     "execution_count": 23,
     "metadata": {},
     "output_type": "execute_result"
    }
   ],
   "source": [
    "# Creamos una copia del dataframe\n",
    "df_cluster_prod= df_cluster_tiendas_prod.copy()\n",
    "\n",
    "# Eliminamos columnas correlacionadas\n",
    "df_cluster_prod.drop(columns=[\"total_sales\",\"cluster0\",\"cluster3\",\"region\"],inplace=True)\n",
    "tiendas = df_cluster_prod.pop(\"stores\")\n",
    "tiendas"
   ]
  },
  {
   "cell_type": "code",
   "execution_count": 24,
   "metadata": {},
   "outputs": [
    {
     "data": {
      "text/html": [
       "<div>\n",
       "<style scoped>\n",
       "    .dataframe tbody tr th:only-of-type {\n",
       "        vertical-align: middle;\n",
       "    }\n",
       "\n",
       "    .dataframe tbody tr th {\n",
       "        vertical-align: top;\n",
       "    }\n",
       "\n",
       "    .dataframe thead th {\n",
       "        text-align: right;\n",
       "    }\n",
       "</style>\n",
       "<table border=\"1\" class=\"dataframe\">\n",
       "  <thead>\n",
       "    <tr style=\"text-align: right;\">\n",
       "      <th></th>\n",
       "      <th>units_sold</th>\n",
       "      <th>sell_price</th>\n",
       "      <th>cluster1</th>\n",
       "      <th>cluster2</th>\n",
       "      <th>cluster4</th>\n",
       "    </tr>\n",
       "  </thead>\n",
       "  <tbody>\n",
       "    <tr>\n",
       "      <th>0</th>\n",
       "      <td>-0.262981</td>\n",
       "      <td>-0.750375</td>\n",
       "      <td>0.900237</td>\n",
       "      <td>0.980980</td>\n",
       "      <td>0.771049</td>\n",
       "    </tr>\n",
       "    <tr>\n",
       "      <th>1</th>\n",
       "      <td>-1.352909</td>\n",
       "      <td>0.158874</td>\n",
       "      <td>-0.014844</td>\n",
       "      <td>0.817881</td>\n",
       "      <td>-1.215202</td>\n",
       "    </tr>\n",
       "    <tr>\n",
       "      <th>2</th>\n",
       "      <td>0.619979</td>\n",
       "      <td>0.001414</td>\n",
       "      <td>0.778832</td>\n",
       "      <td>0.244681</td>\n",
       "      <td>0.129103</td>\n",
       "    </tr>\n",
       "    <tr>\n",
       "      <th>3</th>\n",
       "      <td>-0.489297</td>\n",
       "      <td>1.434361</td>\n",
       "      <td>0.828177</td>\n",
       "      <td>1.241558</td>\n",
       "      <td>-1.461802</td>\n",
       "    </tr>\n",
       "    <tr>\n",
       "      <th>4</th>\n",
       "      <td>-0.782595</td>\n",
       "      <td>1.525974</td>\n",
       "      <td>-1.841942</td>\n",
       "      <td>0.396821</td>\n",
       "      <td>-1.492163</td>\n",
       "    </tr>\n",
       "    <tr>\n",
       "      <th>5</th>\n",
       "      <td>-0.078269</td>\n",
       "      <td>0.107134</td>\n",
       "      <td>-0.858008</td>\n",
       "      <td>-1.546690</td>\n",
       "      <td>1.466815</td>\n",
       "    </tr>\n",
       "    <tr>\n",
       "      <th>6</th>\n",
       "      <td>0.355593</td>\n",
       "      <td>-1.441436</td>\n",
       "      <td>1.285619</td>\n",
       "      <td>0.285652</td>\n",
       "      <td>0.854802</td>\n",
       "    </tr>\n",
       "    <tr>\n",
       "      <th>7</th>\n",
       "      <td>-0.533374</td>\n",
       "      <td>-1.206382</td>\n",
       "      <td>0.243237</td>\n",
       "      <td>-0.324324</td>\n",
       "      <td>0.575316</td>\n",
       "    </tr>\n",
       "    <tr>\n",
       "      <th>8</th>\n",
       "      <td>2.539084</td>\n",
       "      <td>-0.771115</td>\n",
       "      <td>0.108456</td>\n",
       "      <td>-0.090904</td>\n",
       "      <td>0.550896</td>\n",
       "    </tr>\n",
       "    <tr>\n",
       "      <th>9</th>\n",
       "      <td>-0.015231</td>\n",
       "      <td>0.941550</td>\n",
       "      <td>-1.429765</td>\n",
       "      <td>-2.005655</td>\n",
       "      <td>-0.178816</td>\n",
       "    </tr>\n",
       "  </tbody>\n",
       "</table>\n",
       "</div>"
      ],
      "text/plain": [
       "   units_sold  sell_price  cluster1  cluster2  cluster4\n",
       "0   -0.262981   -0.750375  0.900237  0.980980  0.771049\n",
       "1   -1.352909    0.158874 -0.014844  0.817881 -1.215202\n",
       "2    0.619979    0.001414  0.778832  0.244681  0.129103\n",
       "3   -0.489297    1.434361  0.828177  1.241558 -1.461802\n",
       "4   -0.782595    1.525974 -1.841942  0.396821 -1.492163\n",
       "5   -0.078269    0.107134 -0.858008 -1.546690  1.466815\n",
       "6    0.355593   -1.441436  1.285619  0.285652  0.854802\n",
       "7   -0.533374   -1.206382  0.243237 -0.324324  0.575316\n",
       "8    2.539084   -0.771115  0.108456 -0.090904  0.550896\n",
       "9   -0.015231    0.941550 -1.429765 -2.005655 -0.178816"
      ]
     },
     "execution_count": 24,
     "metadata": {},
     "output_type": "execute_result"
    }
   ],
   "source": [
    "# Normalizamos los valores\n",
    "\n",
    "ss = StandardScaler()\n",
    "df_cluster_ss_pr = pd.DataFrame(\n",
    "    ss.fit_transform(df_cluster_prod),\n",
    "    columns=df_cluster_prod.columns)\n",
    "df_cluster_ss_pr"
   ]
  },
  {
   "cell_type": "markdown",
   "metadata": {},
   "source": [
    "Después de todas las transformaciones, pasamos a comprobar a través de la prueba del codo y la silueta cuál sería el número correcto de clusters."
   ]
  },
  {
   "cell_type": "code",
   "execution_count": 25,
   "metadata": {},
   "outputs": [
    {
     "data": {
      "image/png": "[encoded data removed]",
      "text/plain": [
       "<Figure size 800x550 with 2 Axes>"
      ]
     },
     "metadata": {},
     "output_type": "display_data"
    }
   ],
   "source": [
    "Elbow_M = KElbowVisualizer(KMeans(random_state=42, init=\"random\", n_init=\"auto\"), k=10)\n",
    "Elbow_M.fit(df_cluster_ss_pr)\n",
    "Elbow_M.show();"
   ]
  },
  {
   "cell_type": "code",
   "execution_count": 26,
   "metadata": {},
   "outputs": [
    {
     "data": {
      "application/vnd.plotly.v1+json": {
       "config": {
        "plotlyServerURL": "https://plot.ly"
       },
       "data": [
        {
         "hovertemplate": "k=%{x}<br>Silhouette score=%{y}<extra></extra>",
         "legendgroup": "",
         "line": {
          "color": "#636efa",
          "dash": "solid"
         },
         "marker": {
          "symbol": "circle"
         },
         "mode": "lines",
         "name": "",
         "orientation": "v",
         "showlegend": false,
         "type": "scatter",
         "x": [
          2,
          3,
          4,
          5,
          6,
          7,
          8,
          9
         ],
         "xaxis": "x",
         "y": [
          0.17361551589418173,
          0.3232158222467323,
          0.31288922385274043,
          0.2959177668836001,
          0.04593333709788435,
          0.16503119638978075,
          0.05481707125493403,
          0.03283480398326625
         ],
         "yaxis": "y"
        }
       ],
       "layout": {
        "legend": {
         "tracegroupgap": 0
        },
        "template": {
         "data": {
          "bar": [
           {
            "error_x": {
             "color": "#2a3f5f"
            },
            "error_y": {
             "color": "#2a3f5f"
            },
            "marker": {
             "line": {
              "color": "#E5ECF6",
              "width": 0.5
             },
             "pattern": {
              "fillmode": "overlay",
              "size": 10,
              "solidity": 0.2
             }
            },
            "type": "bar"
           }
          ],
          "barpolar": [
           {
            "marker": {
             "line": {
              "color": "#E5ECF6",
              "width": 0.5
             },
             "pattern": {
              "fillmode": "overlay",
              "size": 10,
              "solidity": 0.2
             }
            },
            "type": "barpolar"
           }
          ],
          "carpet": [
           {
            "aaxis": {
             "endlinecolor": "#2a3f5f",
             "gridcolor": "white",
             "linecolor": "white",
             "minorgridcolor": "white",
             "startlinecolor": "#2a3f5f"
            },
            "baxis": {
             "endlinecolor": "#2a3f5f",
             "gridcolor": "white",
             "linecolor": "white",
             "minorgridcolor": "white",
             "startlinecolor": "#2a3f5f"
            },
            "type": "carpet"
           }
          ],
          "choropleth": [
           {
            "colorbar": {
             "outlinewidth": 0,
             "ticks": ""
            },
            "type": "choropleth"
           }
          ],
          "contour": [
           {
            "colorbar": {
             "outlinewidth": 0,
             "ticks": ""
            },
            "colorscale": [
             [
              0,
              "#0d0887"
             ],
             [
              0.1111111111111111,
              "#46039f"
             ],
             [
              0.2222222222222222,
              "#7201a8"
             ],
             [
              0.3333333333333333,
              "#9c179e"
             ],
             [
              0.4444444444444444,
              "#bd3786"
             ],
             [
              0.5555555555555556,
              "#d8576b"
             ],
             [
              0.6666666666666666,
              "#ed7953"
             ],
             [
              0.7777777777777778,
              "#fb9f3a"
             ],
             [
              0.8888888888888888,
              "#fdca26"
             ],
             [
              1,
              "#f0f921"
             ]
            ],
            "type": "contour"
           }
          ],
          "contourcarpet": [
           {
            "colorbar": {
             "outlinewidth": 0,
             "ticks": ""
            },
            "type": "contourcarpet"
           }
          ],
          "heatmap": [
           {
            "colorbar": {
             "outlinewidth": 0,
             "ticks": ""
            },
            "colorscale": [
             [
              0,
              "#0d0887"
             ],
             [
              0.1111111111111111,
              "#46039f"
             ],
             [
              0.2222222222222222,
              "#7201a8"
             ],
             [
              0.3333333333333333,
              "#9c179e"
             ],
             [
              0.4444444444444444,
              "#bd3786"
             ],
             [
              0.5555555555555556,
              "#d8576b"
             ],
             [
              0.6666666666666666,
              "#ed7953"
             ],
             [
              0.7777777777777778,
              "#fb9f3a"
             ],
             [
              0.8888888888888888,
              "#fdca26"
             ],
             [
              1,
              "#f0f921"
             ]
            ],
            "type": "heatmap"
           }
          ],
          "heatmapgl": [
           {
            "colorbar": {
             "outlinewidth": 0,
             "ticks": ""
            },
            "colorscale": [
             [
              0,
              "#0d0887"
             ],
             [
              0.1111111111111111,
              "#46039f"
             ],
             [
              0.2222222222222222,
              "#7201a8"
             ],
             [
              0.3333333333333333,
              "#9c179e"
             ],
             [
              0.4444444444444444,
              "#bd3786"
             ],
             [
              0.5555555555555556,
              "#d8576b"
             ],
             [
              0.6666666666666666,
              "#ed7953"
             ],
             [
              0.7777777777777778,
              "#fb9f3a"
             ],
             [
              0.8888888888888888,
              "#fdca26"
             ],
             [
              1,
              "#f0f921"
             ]
            ],
            "type": "heatmapgl"
           }
          ],
          "histogram": [
           {
            "marker": {
             "pattern": {
              "fillmode": "overlay",
              "size": 10,
              "solidity": 0.2
             }
            },
            "type": "histogram"
           }
          ],
          "histogram2d": [
           {
            "colorbar": {
             "outlinewidth": 0,
             "ticks": ""
            },
            "colorscale": [
             [
              0,
              "#0d0887"
             ],
             [
              0.1111111111111111,
              "#46039f"
             ],
             [
              0.2222222222222222,
              "#7201a8"
             ],
             [
              0.3333333333333333,
              "#9c179e"
             ],
             [
              0.4444444444444444,
              "#bd3786"
             ],
             [
              0.5555555555555556,
              "#d8576b"
             ],
             [
              0.6666666666666666,
              "#ed7953"
             ],
             [
              0.7777777777777778,
              "#fb9f3a"
             ],
             [
              0.8888888888888888,
              "#fdca26"
             ],
             [
              1,
              "#f0f921"
             ]
            ],
            "type": "histogram2d"
           }
          ],
          "histogram2dcontour": [
           {
            "colorbar": {
             "outlinewidth": 0,
             "ticks": ""
            },
            "colorscale": [
             [
              0,
              "#0d0887"
             ],
             [
              0.1111111111111111,
              "#46039f"
             ],
             [
              0.2222222222222222,
              "#7201a8"
             ],
             [
              0.3333333333333333,
              "#9c179e"
             ],
             [
              0.4444444444444444,
              "#bd3786"
             ],
             [
              0.5555555555555556,
              "#d8576b"
             ],
             [
              0.6666666666666666,
              "#ed7953"
             ],
             [
              0.7777777777777778,
              "#fb9f3a"
             ],
             [
              0.8888888888888888,
              "#fdca26"
             ],
             [
              1,
              "#f0f921"
             ]
            ],
            "type": "histogram2dcontour"
           }
          ],
          "mesh3d": [
           {
            "colorbar": {
             "outlinewidth": 0,
             "ticks": ""
            },
            "type": "mesh3d"
           }
          ],
          "parcoords": [
           {
            "line": {
             "colorbar": {
              "outlinewidth": 0,
              "ticks": ""
             }
            },
            "type": "parcoords"
           }
          ],
          "pie": [
           {
            "automargin": true,
            "type": "pie"
           }
          ],
          "scatter": [
           {
            "fillpattern": {
             "fillmode": "overlay",
             "size": 10,
             "solidity": 0.2
            },
            "type": "scatter"
           }
          ],
          "scatter3d": [
           {
            "line": {
             "colorbar": {
              "outlinewidth": 0,
              "ticks": ""
             }
            },
            "marker": {
             "colorbar": {
              "outlinewidth": 0,
              "ticks": ""
             }
            },
            "type": "scatter3d"
           }
          ],
          "scattercarpet": [
           {
            "marker": {
             "colorbar": {
              "outlinewidth": 0,
              "ticks": ""
             }
            },
            "type": "scattercarpet"
           }
          ],
          "scattergeo": [
           {
            "marker": {
             "colorbar": {
              "outlinewidth": 0,
              "ticks": ""
             }
            },
            "type": "scattergeo"
           }
          ],
          "scattergl": [
           {
            "marker": {
             "colorbar": {
              "outlinewidth": 0,
              "ticks": ""
             }
            },
            "type": "scattergl"
           }
          ],
          "scattermapbox": [
           {
            "marker": {
             "colorbar": {
              "outlinewidth": 0,
              "ticks": ""
             }
            },
            "type": "scattermapbox"
           }
          ],
          "scatterpolar": [
           {
            "marker": {
             "colorbar": {
              "outlinewidth": 0,
              "ticks": ""
             }
            },
            "type": "scatterpolar"
           }
          ],
          "scatterpolargl": [
           {
            "marker": {
             "colorbar": {
              "outlinewidth": 0,
              "ticks": ""
             }
            },
            "type": "scatterpolargl"
           }
          ],
          "scatterternary": [
           {
            "marker": {
             "colorbar": {
              "outlinewidth": 0,
              "ticks": ""
             }
            },
            "type": "scatterternary"
           }
          ],
          "surface": [
           {
            "colorbar": {
             "outlinewidth": 0,
             "ticks": ""
            },
            "colorscale": [
             [
              0,
              "#0d0887"
             ],
             [
              0.1111111111111111,
              "#46039f"
             ],
             [
              0.2222222222222222,
              "#7201a8"
             ],
             [
              0.3333333333333333,
              "#9c179e"
             ],
             [
              0.4444444444444444,
              "#bd3786"
             ],
             [
              0.5555555555555556,
              "#d8576b"
             ],
             [
              0.6666666666666666,
              "#ed7953"
             ],
             [
              0.7777777777777778,
              "#fb9f3a"
             ],
             [
              0.8888888888888888,
              "#fdca26"
             ],
             [
              1,
              "#f0f921"
             ]
            ],
            "type": "surface"
           }
          ],
          "table": [
           {
            "cells": {
             "fill": {
              "color": "#EBF0F8"
             },
             "line": {
              "color": "white"
             }
            },
            "header": {
             "fill": {
              "color": "#C8D4E3"
             },
             "line": {
              "color": "white"
             }
            },
            "type": "table"
           }
          ]
         },
         "layout": {
          "annotationdefaults": {
           "arrowcolor": "#2a3f5f",
           "arrowhead": 0,
           "arrowwidth": 1
          },
          "autotypenumbers": "strict",
          "coloraxis": {
           "colorbar": {
            "outlinewidth": 0,
            "ticks": ""
           }
          },
          "colorscale": {
           "diverging": [
            [
             0,
             "#8e0152"
            ],
            [
             0.1,
             "#c51b7d"
            ],
            [
             0.2,
             "#de77ae"
            ],
            [
             0.3,
             "#f1b6da"
            ],
            [
             0.4,
             "#fde0ef"
            ],
            [
             0.5,
             "#f7f7f7"
            ],
            [
             0.6,
             "#e6f5d0"
            ],
            [
             0.7,
             "#b8e186"
            ],
            [
             0.8,
             "#7fbc41"
            ],
            [
             0.9,
             "#4d9221"
            ],
            [
             1,
             "#276419"
            ]
           ],
           "sequential": [
            [
             0,
             "#0d0887"
            ],
            [
             0.1111111111111111,
             "#46039f"
            ],
            [
             0.2222222222222222,
             "#7201a8"
            ],
            [
             0.3333333333333333,
             "#9c179e"
            ],
            [
             0.4444444444444444,
             "#bd3786"
            ],
            [
             0.5555555555555556,
             "#d8576b"
            ],
            [
             0.6666666666666666,
             "#ed7953"
            ],
            [
             0.7777777777777778,
             "#fb9f3a"
            ],
            [
             0.8888888888888888,
             "#fdca26"
            ],
            [
             1,
             "#f0f921"
            ]
           ],
           "sequentialminus": [
            [
             0,
             "#0d0887"
            ],
            [
             0.1111111111111111,
             "#46039f"
            ],
            [
             0.2222222222222222,
             "#7201a8"
            ],
            [
             0.3333333333333333,
             "#9c179e"
            ],
            [
             0.4444444444444444,
             "#bd3786"
            ],
            [
             0.5555555555555556,
             "#d8576b"
            ],
            [
             0.6666666666666666,
             "#ed7953"
            ],
            [
             0.7777777777777778,
             "#fb9f3a"
            ],
            [
             0.8888888888888888,
             "#fdca26"
            ],
            [
             1,
             "#f0f921"
            ]
           ]
          },
          "colorway": [
           "#636efa",
           "#EF553B",
           "#00cc96",
           "#ab63fa",
           "#FFA15A",
           "#19d3f3",
           "#FF6692",
           "#B6E880",
           "#FF97FF",
           "#FECB52"
          ],
          "font": {
           "color": "#2a3f5f"
          },
          "geo": {
           "bgcolor": "white",
           "lakecolor": "white",
           "landcolor": "#E5ECF6",
           "showlakes": true,
           "showland": true,
           "subunitcolor": "white"
          },
          "hoverlabel": {
           "align": "left"
          },
          "hovermode": "closest",
          "mapbox": {
           "style": "light"
          },
          "paper_bgcolor": "white",
          "plot_bgcolor": "#E5ECF6",
          "polar": {
           "angularaxis": {
            "gridcolor": "white",
            "linecolor": "white",
            "ticks": ""
           },
           "bgcolor": "#E5ECF6",
           "radialaxis": {
            "gridcolor": "white",
            "linecolor": "white",
            "ticks": ""
           }
          },
          "scene": {
           "xaxis": {
            "backgroundcolor": "#E5ECF6",
            "gridcolor": "white",
            "gridwidth": 2,
            "linecolor": "white",
            "showbackground": true,
            "ticks": "",
            "zerolinecolor": "white"
           },
           "yaxis": {
            "backgroundcolor": "#E5ECF6",
            "gridcolor": "white",
            "gridwidth": 2,
            "linecolor": "white",
            "showbackground": true,
            "ticks": "",
            "zerolinecolor": "white"
           },
           "zaxis": {
            "backgroundcolor": "#E5ECF6",
            "gridcolor": "white",
            "gridwidth": 2,
            "linecolor": "white",
            "showbackground": true,
            "ticks": "",
            "zerolinecolor": "white"
           }
          },
          "shapedefaults": {
           "line": {
            "color": "#2a3f5f"
           }
          },
          "ternary": {
           "aaxis": {
            "gridcolor": "white",
            "linecolor": "white",
            "ticks": ""
           },
           "baxis": {
            "gridcolor": "white",
            "linecolor": "white",
            "ticks": ""
           },
           "bgcolor": "#E5ECF6",
           "caxis": {
            "gridcolor": "white",
            "linecolor": "white",
            "ticks": ""
           }
          },
          "title": {
           "x": 0.05
          },
          "xaxis": {
           "automargin": true,
           "gridcolor": "white",
           "linecolor": "white",
           "ticks": "",
           "title": {
            "standoff": 15
           },
           "zerolinecolor": "white",
           "zerolinewidth": 2
          },
          "yaxis": {
           "automargin": true,
           "gridcolor": "white",
           "linecolor": "white",
           "ticks": "",
           "title": {
            "standoff": 15
           },
           "zerolinecolor": "white",
           "zerolinewidth": 2
          }
         }
        },
        "title": {
         "text": "Silhouette score"
        },
        "xaxis": {
         "anchor": "y",
         "domain": [
          0,
          1
         ],
         "title": {
          "text": "k"
         }
        },
        "yaxis": {
         "anchor": "x",
         "domain": [
          0,
          1
         ],
         "title": {
          "text": "Silhouette score"
         }
        }
       }
      }
     },
     "metadata": {},
     "output_type": "display_data"
    }
   ],
   "source": [
    "silhouette_scores = []\n",
    "\n",
    "for k in range(2, 10):\n",
    "    kmeans = KMeans(n_clusters=k, random_state=42, init=\"random\", n_init=\"auto\")\n",
    "    kmeans.fit(df_cluster_ss_pr)\n",
    "    silhouette_scores.append(silhouette_score(df_cluster_ss, kmeans.labels_))\n",
    "\n",
    "fig = px.line(\n",
    "    x=range(2, 10),\n",
    "    y=silhouette_scores,\n",
    "    title=\"Silhouette score\",\n",
    "    labels={\"x\": \"k\", \"y\": \"Silhouette score\"},\n",
    ")\n",
    "fig.show()"
   ]
  },
  {
   "cell_type": "markdown",
   "metadata": {},
   "source": [
    "Como ocurría anteriormente, nos decantaremos por el número de clusters que nos indica la prueba de la silueta."
   ]
  },
  {
   "cell_type": "code",
   "execution_count": 27,
   "metadata": {},
   "outputs": [
    {
     "data": {
      "text/html": [
       "<style>#sk-container-id-2 {color: black;}#sk-container-id-2 pre{padding: 0;}#sk-container-id-2 div.sk-toggleable {background-color: white;}#sk-container-id-2 label.sk-toggleable__label {cursor: pointer;display: block;width: 100%;margin-bottom: 0;padding: 0.3em;box-sizing: border-box;text-align: center;}#sk-container-id-2 label.sk-toggleable__label-arrow:before {content: \"▸\";float: left;margin-right: 0.25em;color: #696969;}#sk-container-id-2 label.sk-toggleable__label-arrow:hover:before {color: black;}#sk-container-id-2 div.sk-estimator:hover label.sk-toggleable__label-arrow:before {color: black;}#sk-container-id-2 div.sk-toggleable__content {max-height: 0;max-width: 0;overflow: hidden;text-align: left;background-color: #f0f8ff;}#sk-container-id-2 div.sk-toggleable__content pre {margin: 0.2em;color: black;border-radius: 0.25em;background-color: #f0f8ff;}#sk-container-id-2 input.sk-toggleable__control:checked~div.sk-toggleable__content {max-height: 200px;max-width: 100%;overflow: auto;}#sk-container-id-2 input.sk-toggleable__control:checked~label.sk-toggleable__label-arrow:before {content: \"▾\";}#sk-container-id-2 div.sk-estimator input.sk-toggleable__control:checked~label.sk-toggleable__label {background-color: #d4ebff;}#sk-container-id-2 div.sk-label input.sk-toggleable__control:checked~label.sk-toggleable__label {background-color: #d4ebff;}#sk-container-id-2 input.sk-hidden--visually {border: 0;clip: rect(1px 1px 1px 1px);clip: rect(1px, 1px, 1px, 1px);height: 1px;margin: -1px;overflow: hidden;padding: 0;position: absolute;width: 1px;}#sk-container-id-2 div.sk-estimator {font-family: monospace;background-color: #f0f8ff;border: 1px dotted black;border-radius: 0.25em;box-sizing: border-box;margin-bottom: 0.5em;}#sk-container-id-2 div.sk-estimator:hover {background-color: #d4ebff;}#sk-container-id-2 div.sk-parallel-item::after {content: \"\";width: 100%;border-bottom: 1px solid gray;flex-grow: 1;}#sk-container-id-2 div.sk-label:hover label.sk-toggleable__label {background-color: #d4ebff;}#sk-container-id-2 div.sk-serial::before {content: \"\";position: absolute;border-left: 1px solid gray;box-sizing: border-box;top: 0;bottom: 0;left: 50%;z-index: 0;}#sk-container-id-2 div.sk-serial {display: flex;flex-direction: column;align-items: center;background-color: white;padding-right: 0.2em;padding-left: 0.2em;position: relative;}#sk-container-id-2 div.sk-item {position: relative;z-index: 1;}#sk-container-id-2 div.sk-parallel {display: flex;align-items: stretch;justify-content: center;background-color: white;position: relative;}#sk-container-id-2 div.sk-item::before, #sk-container-id-2 div.sk-parallel-item::before {content: \"\";position: absolute;border-left: 1px solid gray;box-sizing: border-box;top: 0;bottom: 0;left: 50%;z-index: -1;}#sk-container-id-2 div.sk-parallel-item {display: flex;flex-direction: column;z-index: 1;position: relative;background-color: white;}#sk-container-id-2 div.sk-parallel-item:first-child::after {align-self: flex-end;width: 50%;}#sk-container-id-2 div.sk-parallel-item:last-child::after {align-self: flex-start;width: 50%;}#sk-container-id-2 div.sk-parallel-item:only-child::after {width: 0;}#sk-container-id-2 div.sk-dashed-wrapped {border: 1px dashed gray;margin: 0 0.4em 0.5em 0.4em;box-sizing: border-box;padding-bottom: 0.4em;background-color: white;}#sk-container-id-2 div.sk-label label {font-family: monospace;font-weight: bold;display: inline-block;line-height: 1.2em;}#sk-container-id-2 div.sk-label-container {text-align: center;}#sk-container-id-2 div.sk-container {/* jupyter's `normalize.less` sets `[hidden] { display: none; }` but bootstrap.min.css set `[hidden] { display: none !important; }` so we also need the `!important` here to be able to override the default hidden behavior on the sphinx rendered scikit-learn.org. See: https://github.com/scikit-learn/scikit-learn/issues/21755 */display: inline-block !important;position: relative;}#sk-container-id-2 div.sk-text-repr-fallback {display: none;}</style><div id=\"sk-container-id-2\" class=\"sk-top-container\"><div class=\"sk-text-repr-fallback\"><pre>KMeans(n_clusters=3, n_init=&#x27;auto&#x27;, random_state=42)</pre><b>In a Jupyter environment, please rerun this cell to show the HTML representation or trust the notebook. <br />On GitHub, the HTML representation is unable to render, please try loading this page with nbviewer.org.</b></div><div class=\"sk-container\" hidden><div class=\"sk-item\"><div class=\"sk-estimator sk-toggleable\"><input class=\"sk-toggleable__control sk-hidden--visually\" id=\"sk-estimator-id-2\" type=\"checkbox\" checked><label for=\"sk-estimator-id-2\" class=\"sk-toggleable__label sk-toggleable__label-arrow\">KMeans</label><div class=\"sk-toggleable__content\"><pre>KMeans(n_clusters=3, n_init=&#x27;auto&#x27;, random_state=42)</pre></div></div></div></div></div>"
      ],
      "text/plain": [
       "KMeans(n_clusters=3, n_init='auto', random_state=42)"
      ]
     },
     "execution_count": 27,
     "metadata": {},
     "output_type": "execute_result"
    }
   ],
   "source": [
    "kmeans= KMeans(n_clusters=3,random_state=42, init='k-means++', n_init=\"auto\")\n",
    "kmeans.fit(df_cluster_ss_pr)"
   ]
  },
  {
   "cell_type": "code",
   "execution_count": 28,
   "metadata": {},
   "outputs": [
    {
     "name": "stderr",
     "output_type": "stream",
     "text": [
      "/Users/santi/anaconda3/envs/Nuclio/lib/python3.11/site-packages/sklearn/base.py:464: UserWarning:\n",
      "\n",
      "X does not have valid feature names, but KMeans was fitted with feature names\n",
      "\n"
     ]
    },
    {
     "data": {
      "image/png": "[encoded data removed]",
      "text/plain": [
       "<Figure size 800x550 with 1 Axes>"
      ]
     },
     "metadata": {},
     "output_type": "display_data"
    },
    {
     "data": {
      "text/plain": [
       "<Axes: title={'center': 'Silhouette Plot of KMeans Clustering for 10 Samples in 3 Centers'}, xlabel='silhouette coefficient values', ylabel='cluster label'>"
      ]
     },
     "execution_count": 28,
     "metadata": {},
     "output_type": "execute_result"
    }
   ],
   "source": [
    "visualizer = SilhouetteVisualizer(kmeans, colors='yellowbrick')\n",
    "\n",
    "visualizer.fit(df_cluster_ss_pr)  \n",
    "visualizer.show()"
   ]
  },
  {
   "cell_type": "markdown",
   "metadata": {},
   "source": [
    "Después de la evaluación con la prueba de la SilhouetteVisualizer, comprobamos cómo esta segmentación tiene una mayor homogeneidad respecto a la anterior. Aunque quedaría analizar si estos clusters tienen sentido. Primero, trataremos de combinar ambas clasificaciones."
   ]
  },
  {
   "cell_type": "code",
   "execution_count": 29,
   "metadata": {},
   "outputs": [],
   "source": [
    "df_completo = df_cluster_tiendas_prod.merge(df_cat,how=\"inner\",on=\"stores\")"
   ]
  },
  {
   "cell_type": "code",
   "execution_count": 30,
   "metadata": {},
   "outputs": [
    {
     "name": "stderr",
     "output_type": "stream",
     "text": [
      "/var/folders/h2/m__59kjn7y17pxmn41zlkfsm0000gn/T/ipykernel_69563/2410935354.py:1: FutureWarning:\n",
      "\n",
      "The default value of numeric_only in DataFrame.corr is deprecated. In a future version, it will default to False. Select only valid columns or specify the value of numeric_only to silence this warning.\n",
      "\n"
     ]
    },
    {
     "data": {
      "text/plain": [
       "<Axes: >"
      ]
     },
     "execution_count": 30,
     "metadata": {},
     "output_type": "execute_result"
    },
    {
     "data": {
      "image/png": "[encoded data removed]",
      "text/plain": [
       "<Figure size 800x550 with 2 Axes>"
      ]
     },
     "metadata": {},
     "output_type": "display_data"
    }
   ],
   "source": [
    "sns.heatmap(df_completo.corr(), annot=True, cmap=\"YlGnBu\")"
   ]
  },
  {
   "cell_type": "code",
   "execution_count": 31,
   "metadata": {},
   "outputs": [
    {
     "data": {
      "text/plain": [
       "0             Back_Bay(BOS_3)\n",
       "1             Brooklyn(NYC_4)\n",
       "2    Greenwich_Village(NYC_1)\n",
       "3               Harlem(NYC_2)\n",
       "4      Midtown_Village(PHI_1)\n",
       "5        Queen_Village(PHI_3)\n",
       "6              Roxbury(BOS_2)\n",
       "7            South_End(BOS_1)\n",
       "8              Tribeca(NYC_3)\n",
       "9             Yorktown(PHI_2)\n",
       "Name: stores, dtype: object"
      ]
     },
     "execution_count": 31,
     "metadata": {},
     "output_type": "execute_result"
    }
   ],
   "source": [
    "# Como haciamos anteriormente eliminamos las columnas correlacionadas.\n",
    "df_completo.drop(columns=[\"total_sales\",\"cluster0\",\"cluster3\",\"total_sales\",\"HOME_&_GARDEN\",\"region\"],inplace=True)\n",
    "tiendas = df_completo.pop(\"stores\")\n",
    "tiendas"
   ]
  },
  {
   "cell_type": "code",
   "execution_count": 32,
   "metadata": {},
   "outputs": [
    {
     "data": {
      "text/html": [
       "<div>\n",
       "<style scoped>\n",
       "    .dataframe tbody tr th:only-of-type {\n",
       "        vertical-align: middle;\n",
       "    }\n",
       "\n",
       "    .dataframe tbody tr th {\n",
       "        vertical-align: top;\n",
       "    }\n",
       "\n",
       "    .dataframe thead th {\n",
       "        text-align: right;\n",
       "    }\n",
       "</style>\n",
       "<table border=\"1\" class=\"dataframe\">\n",
       "  <thead>\n",
       "    <tr style=\"text-align: right;\">\n",
       "      <th></th>\n",
       "      <th>units_sold</th>\n",
       "      <th>sell_price</th>\n",
       "      <th>cluster1</th>\n",
       "      <th>cluster2</th>\n",
       "      <th>cluster4</th>\n",
       "      <th>ACCESORIES</th>\n",
       "      <th>SUPERMARKET</th>\n",
       "    </tr>\n",
       "  </thead>\n",
       "  <tbody>\n",
       "    <tr>\n",
       "      <th>0</th>\n",
       "      <td>-0.262981</td>\n",
       "      <td>-0.750375</td>\n",
       "      <td>0.900237</td>\n",
       "      <td>0.980980</td>\n",
       "      <td>0.771049</td>\n",
       "      <td>0.811173</td>\n",
       "      <td>-0.311947</td>\n",
       "    </tr>\n",
       "    <tr>\n",
       "      <th>1</th>\n",
       "      <td>-1.352909</td>\n",
       "      <td>0.158874</td>\n",
       "      <td>-0.014844</td>\n",
       "      <td>0.817881</td>\n",
       "      <td>-1.215202</td>\n",
       "      <td>1.203697</td>\n",
       "      <td>0.282505</td>\n",
       "    </tr>\n",
       "    <tr>\n",
       "      <th>2</th>\n",
       "      <td>0.619979</td>\n",
       "      <td>0.001414</td>\n",
       "      <td>0.778832</td>\n",
       "      <td>0.244681</td>\n",
       "      <td>0.129103</td>\n",
       "      <td>0.678823</td>\n",
       "      <td>0.305753</td>\n",
       "    </tr>\n",
       "    <tr>\n",
       "      <th>3</th>\n",
       "      <td>-0.489297</td>\n",
       "      <td>1.434361</td>\n",
       "      <td>0.828177</td>\n",
       "      <td>1.241558</td>\n",
       "      <td>-1.461802</td>\n",
       "      <td>0.017194</td>\n",
       "      <td>-2.219681</td>\n",
       "    </tr>\n",
       "    <tr>\n",
       "      <th>4</th>\n",
       "      <td>-0.782595</td>\n",
       "      <td>1.525974</td>\n",
       "      <td>-1.841942</td>\n",
       "      <td>0.396821</td>\n",
       "      <td>-1.492163</td>\n",
       "      <td>1.391987</td>\n",
       "      <td>-0.519833</td>\n",
       "    </tr>\n",
       "    <tr>\n",
       "      <th>5</th>\n",
       "      <td>-0.078269</td>\n",
       "      <td>0.107134</td>\n",
       "      <td>-0.858008</td>\n",
       "      <td>-1.546690</td>\n",
       "      <td>1.466815</td>\n",
       "      <td>-1.103348</td>\n",
       "      <td>1.345410</td>\n",
       "    </tr>\n",
       "    <tr>\n",
       "      <th>6</th>\n",
       "      <td>0.355593</td>\n",
       "      <td>-1.441436</td>\n",
       "      <td>1.285619</td>\n",
       "      <td>0.285652</td>\n",
       "      <td>0.854802</td>\n",
       "      <td>0.252084</td>\n",
       "      <td>-0.008785</td>\n",
       "    </tr>\n",
       "    <tr>\n",
       "      <th>7</th>\n",
       "      <td>-0.533374</td>\n",
       "      <td>-1.206382</td>\n",
       "      <td>0.243237</td>\n",
       "      <td>-0.324324</td>\n",
       "      <td>0.575316</td>\n",
       "      <td>-0.756771</td>\n",
       "      <td>-0.140309</td>\n",
       "    </tr>\n",
       "    <tr>\n",
       "      <th>8</th>\n",
       "      <td>2.539084</td>\n",
       "      <td>-0.771115</td>\n",
       "      <td>0.108456</td>\n",
       "      <td>-0.090904</td>\n",
       "      <td>0.550896</td>\n",
       "      <td>-0.733294</td>\n",
       "      <td>-0.341183</td>\n",
       "    </tr>\n",
       "    <tr>\n",
       "      <th>9</th>\n",
       "      <td>-0.015231</td>\n",
       "      <td>0.941550</td>\n",
       "      <td>-1.429765</td>\n",
       "      <td>-2.005655</td>\n",
       "      <td>-0.178816</td>\n",
       "      <td>-1.761545</td>\n",
       "      <td>1.608069</td>\n",
       "    </tr>\n",
       "  </tbody>\n",
       "</table>\n",
       "</div>"
      ],
      "text/plain": [
       "   units_sold  sell_price  cluster1  cluster2  cluster4  ACCESORIES  \\\n",
       "0   -0.262981   -0.750375  0.900237  0.980980  0.771049    0.811173   \n",
       "1   -1.352909    0.158874 -0.014844  0.817881 -1.215202    1.203697   \n",
       "2    0.619979    0.001414  0.778832  0.244681  0.129103    0.678823   \n",
       "3   -0.489297    1.434361  0.828177  1.241558 -1.461802    0.017194   \n",
       "4   -0.782595    1.525974 -1.841942  0.396821 -1.492163    1.391987   \n",
       "5   -0.078269    0.107134 -0.858008 -1.546690  1.466815   -1.103348   \n",
       "6    0.355593   -1.441436  1.285619  0.285652  0.854802    0.252084   \n",
       "7   -0.533374   -1.206382  0.243237 -0.324324  0.575316   -0.756771   \n",
       "8    2.539084   -0.771115  0.108456 -0.090904  0.550896   -0.733294   \n",
       "9   -0.015231    0.941550 -1.429765 -2.005655 -0.178816   -1.761545   \n",
       "\n",
       "   SUPERMARKET  \n",
       "0    -0.311947  \n",
       "1     0.282505  \n",
       "2     0.305753  \n",
       "3    -2.219681  \n",
       "4    -0.519833  \n",
       "5     1.345410  \n",
       "6    -0.008785  \n",
       "7    -0.140309  \n",
       "8    -0.341183  \n",
       "9     1.608069  "
      ]
     },
     "execution_count": 32,
     "metadata": {},
     "output_type": "execute_result"
    }
   ],
   "source": [
    "ss = StandardScaler()\n",
    "df_cluster_ss_pr = pd.DataFrame(\n",
    "    ss.fit_transform(df_completo),\n",
    "    columns=df_completo.columns)\n",
    "df_cluster_ss_pr"
   ]
  },
  {
   "cell_type": "code",
   "execution_count": 33,
   "metadata": {},
   "outputs": [
    {
     "data": {
      "image/png": "[encoded data removed]",
      "text/plain": [
       "<Figure size 800x550 with 2 Axes>"
      ]
     },
     "metadata": {},
     "output_type": "display_data"
    }
   ],
   "source": [
    "Elbow_M = KElbowVisualizer(KMeans(random_state=42, init=\"random\", n_init=\"auto\"), k=10)\n",
    "Elbow_M.fit(df_completo)\n",
    "Elbow_M.show();"
   ]
  },
  {
   "cell_type": "code",
   "execution_count": 34,
   "metadata": {},
   "outputs": [
    {
     "data": {
      "application/vnd.plotly.v1+json": {
       "config": {
        "plotlyServerURL": "https://plot.ly"
       },
       "data": [
        {
         "hovertemplate": "k=%{x}<br>Silhouette score=%{y}<extra></extra>",
         "legendgroup": "",
         "line": {
          "color": "#636efa",
          "dash": "solid"
         },
         "marker": {
          "symbol": "circle"
         },
         "mode": "lines",
         "name": "",
         "orientation": "v",
         "showlegend": false,
         "type": "scatter",
         "x": [
          2,
          3,
          4,
          5,
          6,
          7,
          8,
          9
         ],
         "xaxis": "x",
         "y": [
          0.20304055157432338,
          0.09287924581275517,
          0.02454309879073973,
          -0.03393902111878987,
          -0.039590224155008506,
          -0.011448566082610967,
          0.016799079041791214,
          -0.09624094026453882
         ],
         "yaxis": "y"
        }
       ],
       "layout": {
        "legend": {
         "tracegroupgap": 0
        },
        "template": {
         "data": {
          "bar": [
           {
            "error_x": {
             "color": "#2a3f5f"
            },
            "error_y": {
             "color": "#2a3f5f"
            },
            "marker": {
             "line": {
              "color": "#E5ECF6",
              "width": 0.5
             },
             "pattern": {
              "fillmode": "overlay",
              "size": 10,
              "solidity": 0.2
             }
            },
            "type": "bar"
           }
          ],
          "barpolar": [
           {
            "marker": {
             "line": {
              "color": "#E5ECF6",
              "width": 0.5
             },
             "pattern": {
              "fillmode": "overlay",
              "size": 10,
              "solidity": 0.2
             }
            },
            "type": "barpolar"
           }
          ],
          "carpet": [
           {
            "aaxis": {
             "endlinecolor": "#2a3f5f",
             "gridcolor": "white",
             "linecolor": "white",
             "minorgridcolor": "white",
             "startlinecolor": "#2a3f5f"
            },
            "baxis": {
             "endlinecolor": "#2a3f5f",
             "gridcolor": "white",
             "linecolor": "white",
             "minorgridcolor": "white",
             "startlinecolor": "#2a3f5f"
            },
            "type": "carpet"
           }
          ],
          "choropleth": [
           {
            "colorbar": {
             "outlinewidth": 0,
             "ticks": ""
            },
            "type": "choropleth"
           }
          ],
          "contour": [
           {
            "colorbar": {
             "outlinewidth": 0,
             "ticks": ""
            },
            "colorscale": [
             [
              0,
              "#0d0887"
             ],
             [
              0.1111111111111111,
              "#46039f"
             ],
             [
              0.2222222222222222,
              "#7201a8"
             ],
             [
              0.3333333333333333,
              "#9c179e"
             ],
             [
              0.4444444444444444,
              "#bd3786"
             ],
             [
              0.5555555555555556,
              "#d8576b"
             ],
             [
              0.6666666666666666,
              "#ed7953"
             ],
             [
              0.7777777777777778,
              "#fb9f3a"
             ],
             [
              0.8888888888888888,
              "#fdca26"
             ],
             [
              1,
              "#f0f921"
             ]
            ],
            "type": "contour"
           }
          ],
          "contourcarpet": [
           {
            "colorbar": {
             "outlinewidth": 0,
             "ticks": ""
            },
            "type": "contourcarpet"
           }
          ],
          "heatmap": [
           {
            "colorbar": {
             "outlinewidth": 0,
             "ticks": ""
            },
            "colorscale": [
             [
              0,
              "#0d0887"
             ],
             [
              0.1111111111111111,
              "#46039f"
             ],
             [
              0.2222222222222222,
              "#7201a8"
             ],
             [
              0.3333333333333333,
              "#9c179e"
             ],
             [
              0.4444444444444444,
              "#bd3786"
             ],
             [
              0.5555555555555556,
              "#d8576b"
             ],
             [
              0.6666666666666666,
              "#ed7953"
             ],
             [
              0.7777777777777778,
              "#fb9f3a"
             ],
             [
              0.8888888888888888,
              "#fdca26"
             ],
             [
              1,
              "#f0f921"
             ]
            ],
            "type": "heatmap"
           }
          ],
          "heatmapgl": [
           {
            "colorbar": {
             "outlinewidth": 0,
             "ticks": ""
            },
            "colorscale": [
             [
              0,
              "#0d0887"
             ],
             [
              0.1111111111111111,
              "#46039f"
             ],
             [
              0.2222222222222222,
              "#7201a8"
             ],
             [
              0.3333333333333333,
              "#9c179e"
             ],
             [
              0.4444444444444444,
              "#bd3786"
             ],
             [
              0.5555555555555556,
              "#d8576b"
             ],
             [
              0.6666666666666666,
              "#ed7953"
             ],
             [
              0.7777777777777778,
              "#fb9f3a"
             ],
             [
              0.8888888888888888,
              "#fdca26"
             ],
             [
              1,
              "#f0f921"
             ]
            ],
            "type": "heatmapgl"
           }
          ],
          "histogram": [
           {
            "marker": {
             "pattern": {
              "fillmode": "overlay",
              "size": 10,
              "solidity": 0.2
             }
            },
            "type": "histogram"
           }
          ],
          "histogram2d": [
           {
            "colorbar": {
             "outlinewidth": 0,
             "ticks": ""
            },
            "colorscale": [
             [
              0,
              "#0d0887"
             ],
             [
              0.1111111111111111,
              "#46039f"
             ],
             [
              0.2222222222222222,
              "#7201a8"
             ],
             [
              0.3333333333333333,
              "#9c179e"
             ],
             [
              0.4444444444444444,
              "#bd3786"
             ],
             [
              0.5555555555555556,
              "#d8576b"
             ],
             [
              0.6666666666666666,
              "#ed7953"
             ],
             [
              0.7777777777777778,
              "#fb9f3a"
             ],
             [
              0.8888888888888888,
              "#fdca26"
             ],
             [
              1,
              "#f0f921"
             ]
            ],
            "type": "histogram2d"
           }
          ],
          "histogram2dcontour": [
           {
            "colorbar": {
             "outlinewidth": 0,
             "ticks": ""
            },
            "colorscale": [
             [
              0,
              "#0d0887"
             ],
             [
              0.1111111111111111,
              "#46039f"
             ],
             [
              0.2222222222222222,
              "#7201a8"
             ],
             [
              0.3333333333333333,
              "#9c179e"
             ],
             [
              0.4444444444444444,
              "#bd3786"
             ],
             [
              0.5555555555555556,
              "#d8576b"
             ],
             [
              0.6666666666666666,
              "#ed7953"
             ],
             [
              0.7777777777777778,
              "#fb9f3a"
             ],
             [
              0.8888888888888888,
              "#fdca26"
             ],
             [
              1,
              "#f0f921"
             ]
            ],
            "type": "histogram2dcontour"
           }
          ],
          "mesh3d": [
           {
            "colorbar": {
             "outlinewidth": 0,
             "ticks": ""
            },
            "type": "mesh3d"
           }
          ],
          "parcoords": [
           {
            "line": {
             "colorbar": {
              "outlinewidth": 0,
              "ticks": ""
             }
            },
            "type": "parcoords"
           }
          ],
          "pie": [
           {
            "automargin": true,
            "type": "pie"
           }
          ],
          "scatter": [
           {
            "fillpattern": {
             "fillmode": "overlay",
             "size": 10,
             "solidity": 0.2
            },
            "type": "scatter"
           }
          ],
          "scatter3d": [
           {
            "line": {
             "colorbar": {
              "outlinewidth": 0,
              "ticks": ""
             }
            },
            "marker": {
             "colorbar": {
              "outlinewidth": 0,
              "ticks": ""
             }
            },
            "type": "scatter3d"
           }
          ],
          "scattercarpet": [
           {
            "marker": {
             "colorbar": {
              "outlinewidth": 0,
              "ticks": ""
             }
            },
            "type": "scattercarpet"
           }
          ],
          "scattergeo": [
           {
            "marker": {
             "colorbar": {
              "outlinewidth": 0,
              "ticks": ""
             }
            },
            "type": "scattergeo"
           }
          ],
          "scattergl": [
           {
            "marker": {
             "colorbar": {
              "outlinewidth": 0,
              "ticks": ""
             }
            },
            "type": "scattergl"
           }
          ],
          "scattermapbox": [
           {
            "marker": {
             "colorbar": {
              "outlinewidth": 0,
              "ticks": ""
             }
            },
            "type": "scattermapbox"
           }
          ],
          "scatterpolar": [
           {
            "marker": {
             "colorbar": {
              "outlinewidth": 0,
              "ticks": ""
             }
            },
            "type": "scatterpolar"
           }
          ],
          "scatterpolargl": [
           {
            "marker": {
             "colorbar": {
              "outlinewidth": 0,
              "ticks": ""
             }
            },
            "type": "scatterpolargl"
           }
          ],
          "scatterternary": [
           {
            "marker": {
             "colorbar": {
              "outlinewidth": 0,
              "ticks": ""
             }
            },
            "type": "scatterternary"
           }
          ],
          "surface": [
           {
            "colorbar": {
             "outlinewidth": 0,
             "ticks": ""
            },
            "colorscale": [
             [
              0,
              "#0d0887"
             ],
             [
              0.1111111111111111,
              "#46039f"
             ],
             [
              0.2222222222222222,
              "#7201a8"
             ],
             [
              0.3333333333333333,
              "#9c179e"
             ],
             [
              0.4444444444444444,
              "#bd3786"
             ],
             [
              0.5555555555555556,
              "#d8576b"
             ],
             [
              0.6666666666666666,
              "#ed7953"
             ],
             [
              0.7777777777777778,
              "#fb9f3a"
             ],
             [
              0.8888888888888888,
              "#fdca26"
             ],
             [
              1,
              "#f0f921"
             ]
            ],
            "type": "surface"
           }
          ],
          "table": [
           {
            "cells": {
             "fill": {
              "color": "#EBF0F8"
             },
             "line": {
              "color": "white"
             }
            },
            "header": {
             "fill": {
              "color": "#C8D4E3"
             },
             "line": {
              "color": "white"
             }
            },
            "type": "table"
           }
          ]
         },
         "layout": {
          "annotationdefaults": {
           "arrowcolor": "#2a3f5f",
           "arrowhead": 0,
           "arrowwidth": 1
          },
          "autotypenumbers": "strict",
          "coloraxis": {
           "colorbar": {
            "outlinewidth": 0,
            "ticks": ""
           }
          },
          "colorscale": {
           "diverging": [
            [
             0,
             "#8e0152"
            ],
            [
             0.1,
             "#c51b7d"
            ],
            [
             0.2,
             "#de77ae"
            ],
            [
             0.3,
             "#f1b6da"
            ],
            [
             0.4,
             "#fde0ef"
            ],
            [
             0.5,
             "#f7f7f7"
            ],
            [
             0.6,
             "#e6f5d0"
            ],
            [
             0.7,
             "#b8e186"
            ],
            [
             0.8,
             "#7fbc41"
            ],
            [
             0.9,
             "#4d9221"
            ],
            [
             1,
             "#276419"
            ]
           ],
           "sequential": [
            [
             0,
             "#0d0887"
            ],
            [
             0.1111111111111111,
             "#46039f"
            ],
            [
             0.2222222222222222,
             "#7201a8"
            ],
            [
             0.3333333333333333,
             "#9c179e"
            ],
            [
             0.4444444444444444,
             "#bd3786"
            ],
            [
             0.5555555555555556,
             "#d8576b"
            ],
            [
             0.6666666666666666,
             "#ed7953"
            ],
            [
             0.7777777777777778,
             "#fb9f3a"
            ],
            [
             0.8888888888888888,
             "#fdca26"
            ],
            [
             1,
             "#f0f921"
            ]
           ],
           "sequentialminus": [
            [
             0,
             "#0d0887"
            ],
            [
             0.1111111111111111,
             "#46039f"
            ],
            [
             0.2222222222222222,
             "#7201a8"
            ],
            [
             0.3333333333333333,
             "#9c179e"
            ],
            [
             0.4444444444444444,
             "#bd3786"
            ],
            [
             0.5555555555555556,
             "#d8576b"
            ],
            [
             0.6666666666666666,
             "#ed7953"
            ],
            [
             0.7777777777777778,
             "#fb9f3a"
            ],
            [
             0.8888888888888888,
             "#fdca26"
            ],
            [
             1,
             "#f0f921"
            ]
           ]
          },
          "colorway": [
           "#636efa",
           "#EF553B",
           "#00cc96",
           "#ab63fa",
           "#FFA15A",
           "#19d3f3",
           "#FF6692",
           "#B6E880",
           "#FF97FF",
           "#FECB52"
          ],
          "font": {
           "color": "#2a3f5f"
          },
          "geo": {
           "bgcolor": "white",
           "lakecolor": "white",
           "landcolor": "#E5ECF6",
           "showlakes": true,
           "showland": true,
           "subunitcolor": "white"
          },
          "hoverlabel": {
           "align": "left"
          },
          "hovermode": "closest",
          "mapbox": {
           "style": "light"
          },
          "paper_bgcolor": "white",
          "plot_bgcolor": "#E5ECF6",
          "polar": {
           "angularaxis": {
            "gridcolor": "white",
            "linecolor": "white",
            "ticks": ""
           },
           "bgcolor": "#E5ECF6",
           "radialaxis": {
            "gridcolor": "white",
            "linecolor": "white",
            "ticks": ""
           }
          },
          "scene": {
           "xaxis": {
            "backgroundcolor": "#E5ECF6",
            "gridcolor": "white",
            "gridwidth": 2,
            "linecolor": "white",
            "showbackground": true,
            "ticks": "",
            "zerolinecolor": "white"
           },
           "yaxis": {
            "backgroundcolor": "#E5ECF6",
            "gridcolor": "white",
            "gridwidth": 2,
            "linecolor": "white",
            "showbackground": true,
            "ticks": "",
            "zerolinecolor": "white"
           },
           "zaxis": {
            "backgroundcolor": "#E5ECF6",
            "gridcolor": "white",
            "gridwidth": 2,
            "linecolor": "white",
            "showbackground": true,
            "ticks": "",
            "zerolinecolor": "white"
           }
          },
          "shapedefaults": {
           "line": {
            "color": "#2a3f5f"
           }
          },
          "ternary": {
           "aaxis": {
            "gridcolor": "white",
            "linecolor": "white",
            "ticks": ""
           },
           "baxis": {
            "gridcolor": "white",
            "linecolor": "white",
            "ticks": ""
           },
           "bgcolor": "#E5ECF6",
           "caxis": {
            "gridcolor": "white",
            "linecolor": "white",
            "ticks": ""
           }
          },
          "title": {
           "x": 0.05
          },
          "xaxis": {
           "automargin": true,
           "gridcolor": "white",
           "linecolor": "white",
           "ticks": "",
           "title": {
            "standoff": 15
           },
           "zerolinecolor": "white",
           "zerolinewidth": 2
          },
          "yaxis": {
           "automargin": true,
           "gridcolor": "white",
           "linecolor": "white",
           "ticks": "",
           "title": {
            "standoff": 15
           },
           "zerolinecolor": "white",
           "zerolinewidth": 2
          }
         }
        },
        "title": {
         "text": "Silhouette score"
        },
        "xaxis": {
         "anchor": "y",
         "domain": [
          0,
          1
         ],
         "title": {
          "text": "k"
         }
        },
        "yaxis": {
         "anchor": "x",
         "domain": [
          0,
          1
         ],
         "title": {
          "text": "Silhouette score"
         }
        }
       }
      }
     },
     "metadata": {},
     "output_type": "display_data"
    }
   ],
   "source": [
    "silhouette_scores = []\n",
    "\n",
    "for k in range(2, 10):\n",
    "    kmeans = KMeans(n_clusters=k, random_state=42, init=\"random\", n_init=\"auto\")\n",
    "    kmeans.fit(df_completo)\n",
    "    silhouette_scores.append(silhouette_score(df_cluster_ss, kmeans.labels_))\n",
    "\n",
    "fig = px.line(\n",
    "    x=range(2, 10),\n",
    "    y=silhouette_scores,\n",
    "    title=\"Silhouette score\",\n",
    "    labels={\"x\": \"k\", \"y\": \"Silhouette score\"},\n",
    ")\n",
    "fig.show()"
   ]
  },
  {
   "cell_type": "markdown",
   "metadata": {},
   "source": [
    "Como se comprueba al aumentar la dimensionalidad la prueba de la silhoueta pierde eficiencia ya que la distancias son mayores, en este caso utilizaremos la prueba del codo y comprobaremos con los visuzliadores de shiolueta si consigue una segmentación adecuada. "
   ]
  },
  {
   "cell_type": "code",
   "execution_count": 36,
   "metadata": {},
   "outputs": [
    {
     "data": {
      "text/html": [
       "<style>#sk-container-id-3 {color: black;}#sk-container-id-3 pre{padding: 0;}#sk-container-id-3 div.sk-toggleable {background-color: white;}#sk-container-id-3 label.sk-toggleable__label {cursor: pointer;display: block;width: 100%;margin-bottom: 0;padding: 0.3em;box-sizing: border-box;text-align: center;}#sk-container-id-3 label.sk-toggleable__label-arrow:before {content: \"▸\";float: left;margin-right: 0.25em;color: #696969;}#sk-container-id-3 label.sk-toggleable__label-arrow:hover:before {color: black;}#sk-container-id-3 div.sk-estimator:hover label.sk-toggleable__label-arrow:before {color: black;}#sk-container-id-3 div.sk-toggleable__content {max-height: 0;max-width: 0;overflow: hidden;text-align: left;background-color: #f0f8ff;}#sk-container-id-3 div.sk-toggleable__content pre {margin: 0.2em;color: black;border-radius: 0.25em;background-color: #f0f8ff;}#sk-container-id-3 input.sk-toggleable__control:checked~div.sk-toggleable__content {max-height: 200px;max-width: 100%;overflow: auto;}#sk-container-id-3 input.sk-toggleable__control:checked~label.sk-toggleable__label-arrow:before {content: \"▾\";}#sk-container-id-3 div.sk-estimator input.sk-toggleable__control:checked~label.sk-toggleable__label {background-color: #d4ebff;}#sk-container-id-3 div.sk-label input.sk-toggleable__control:checked~label.sk-toggleable__label {background-color: #d4ebff;}#sk-container-id-3 input.sk-hidden--visually {border: 0;clip: rect(1px 1px 1px 1px);clip: rect(1px, 1px, 1px, 1px);height: 1px;margin: -1px;overflow: hidden;padding: 0;position: absolute;width: 1px;}#sk-container-id-3 div.sk-estimator {font-family: monospace;background-color: #f0f8ff;border: 1px dotted black;border-radius: 0.25em;box-sizing: border-box;margin-bottom: 0.5em;}#sk-container-id-3 div.sk-estimator:hover {background-color: #d4ebff;}#sk-container-id-3 div.sk-parallel-item::after {content: \"\";width: 100%;border-bottom: 1px solid gray;flex-grow: 1;}#sk-container-id-3 div.sk-label:hover label.sk-toggleable__label {background-color: #d4ebff;}#sk-container-id-3 div.sk-serial::before {content: \"\";position: absolute;border-left: 1px solid gray;box-sizing: border-box;top: 0;bottom: 0;left: 50%;z-index: 0;}#sk-container-id-3 div.sk-serial {display: flex;flex-direction: column;align-items: center;background-color: white;padding-right: 0.2em;padding-left: 0.2em;position: relative;}#sk-container-id-3 div.sk-item {position: relative;z-index: 1;}#sk-container-id-3 div.sk-parallel {display: flex;align-items: stretch;justify-content: center;background-color: white;position: relative;}#sk-container-id-3 div.sk-item::before, #sk-container-id-3 div.sk-parallel-item::before {content: \"\";position: absolute;border-left: 1px solid gray;box-sizing: border-box;top: 0;bottom: 0;left: 50%;z-index: -1;}#sk-container-id-3 div.sk-parallel-item {display: flex;flex-direction: column;z-index: 1;position: relative;background-color: white;}#sk-container-id-3 div.sk-parallel-item:first-child::after {align-self: flex-end;width: 50%;}#sk-container-id-3 div.sk-parallel-item:last-child::after {align-self: flex-start;width: 50%;}#sk-container-id-3 div.sk-parallel-item:only-child::after {width: 0;}#sk-container-id-3 div.sk-dashed-wrapped {border: 1px dashed gray;margin: 0 0.4em 0.5em 0.4em;box-sizing: border-box;padding-bottom: 0.4em;background-color: white;}#sk-container-id-3 div.sk-label label {font-family: monospace;font-weight: bold;display: inline-block;line-height: 1.2em;}#sk-container-id-3 div.sk-label-container {text-align: center;}#sk-container-id-3 div.sk-container {/* jupyter's `normalize.less` sets `[hidden] { display: none; }` but bootstrap.min.css set `[hidden] { display: none !important; }` so we also need the `!important` here to be able to override the default hidden behavior on the sphinx rendered scikit-learn.org. See: https://github.com/scikit-learn/scikit-learn/issues/21755 */display: inline-block !important;position: relative;}#sk-container-id-3 div.sk-text-repr-fallback {display: none;}</style><div id=\"sk-container-id-3\" class=\"sk-top-container\"><div class=\"sk-text-repr-fallback\"><pre>KMeans(n_clusters=4, n_init=&#x27;auto&#x27;, random_state=42)</pre><b>In a Jupyter environment, please rerun this cell to show the HTML representation or trust the notebook. <br />On GitHub, the HTML representation is unable to render, please try loading this page with nbviewer.org.</b></div><div class=\"sk-container\" hidden><div class=\"sk-item\"><div class=\"sk-estimator sk-toggleable\"><input class=\"sk-toggleable__control sk-hidden--visually\" id=\"sk-estimator-id-3\" type=\"checkbox\" checked><label for=\"sk-estimator-id-3\" class=\"sk-toggleable__label sk-toggleable__label-arrow\">KMeans</label><div class=\"sk-toggleable__content\"><pre>KMeans(n_clusters=4, n_init=&#x27;auto&#x27;, random_state=42)</pre></div></div></div></div></div>"
      ],
      "text/plain": [
       "KMeans(n_clusters=4, n_init='auto', random_state=42)"
      ]
     },
     "execution_count": 36,
     "metadata": {},
     "output_type": "execute_result"
    }
   ],
   "source": [
    "# Seleccionamos el numero de clusters.\n",
    "kmeans= KMeans(n_clusters=4,random_state=42, init='k-means++', n_init=\"auto\")\n",
    "kmeans.fit(df_completo)"
   ]
  },
  {
   "cell_type": "code",
   "execution_count": 37,
   "metadata": {},
   "outputs": [
    {
     "name": "stderr",
     "output_type": "stream",
     "text": [
      "/Users/santi/anaconda3/envs/Nuclio/lib/python3.11/site-packages/sklearn/base.py:464: UserWarning:\n",
      "\n",
      "X does not have valid feature names, but KMeans was fitted with feature names\n",
      "\n"
     ]
    },
    {
     "data": {
      "image/png": "[encoded data removed]",
      "text/plain": [
       "<Figure size 800x550 with 1 Axes>"
      ]
     },
     "metadata": {},
     "output_type": "display_data"
    },
    {
     "data": {
      "text/plain": [
       "<Axes: title={'center': 'Silhouette Plot of KMeans Clustering for 10 Samples in 4 Centers'}, xlabel='silhouette coefficient values', ylabel='cluster label'>"
      ]
     },
     "execution_count": 37,
     "metadata": {},
     "output_type": "execute_result"
    }
   ],
   "source": [
    "visualizer = SilhouetteVisualizer(kmeans, colors='yellowbrick')\n",
    "\n",
    "visualizer.fit(df_completo)  \n",
    "visualizer.show()"
   ]
  },
  {
   "cell_type": "markdown",
   "metadata": {},
   "source": [
    "Como se puede comprobar estas clasificación empeora respecto a las dos anteriores, debido al aumento de la dimensionalidad, por lo que la descartaremos ya que no funciona como se podria esperar."
   ]
  },
  {
   "cell_type": "code",
   "execution_count": 38,
   "metadata": {},
   "outputs": [
    {
     "data": {
      "text/html": [
       "<style>#sk-container-id-4 {color: black;}#sk-container-id-4 pre{padding: 0;}#sk-container-id-4 div.sk-toggleable {background-color: white;}#sk-container-id-4 label.sk-toggleable__label {cursor: pointer;display: block;width: 100%;margin-bottom: 0;padding: 0.3em;box-sizing: border-box;text-align: center;}#sk-container-id-4 label.sk-toggleable__label-arrow:before {content: \"▸\";float: left;margin-right: 0.25em;color: #696969;}#sk-container-id-4 label.sk-toggleable__label-arrow:hover:before {color: black;}#sk-container-id-4 div.sk-estimator:hover label.sk-toggleable__label-arrow:before {color: black;}#sk-container-id-4 div.sk-toggleable__content {max-height: 0;max-width: 0;overflow: hidden;text-align: left;background-color: #f0f8ff;}#sk-container-id-4 div.sk-toggleable__content pre {margin: 0.2em;color: black;border-radius: 0.25em;background-color: #f0f8ff;}#sk-container-id-4 input.sk-toggleable__control:checked~div.sk-toggleable__content {max-height: 200px;max-width: 100%;overflow: auto;}#sk-container-id-4 input.sk-toggleable__control:checked~label.sk-toggleable__label-arrow:before {content: \"▾\";}#sk-container-id-4 div.sk-estimator input.sk-toggleable__control:checked~label.sk-toggleable__label {background-color: #d4ebff;}#sk-container-id-4 div.sk-label input.sk-toggleable__control:checked~label.sk-toggleable__label {background-color: #d4ebff;}#sk-container-id-4 input.sk-hidden--visually {border: 0;clip: rect(1px 1px 1px 1px);clip: rect(1px, 1px, 1px, 1px);height: 1px;margin: -1px;overflow: hidden;padding: 0;position: absolute;width: 1px;}#sk-container-id-4 div.sk-estimator {font-family: monospace;background-color: #f0f8ff;border: 1px dotted black;border-radius: 0.25em;box-sizing: border-box;margin-bottom: 0.5em;}#sk-container-id-4 div.sk-estimator:hover {background-color: #d4ebff;}#sk-container-id-4 div.sk-parallel-item::after {content: \"\";width: 100%;border-bottom: 1px solid gray;flex-grow: 1;}#sk-container-id-4 div.sk-label:hover label.sk-toggleable__label {background-color: #d4ebff;}#sk-container-id-4 div.sk-serial::before {content: \"\";position: absolute;border-left: 1px solid gray;box-sizing: border-box;top: 0;bottom: 0;left: 50%;z-index: 0;}#sk-container-id-4 div.sk-serial {display: flex;flex-direction: column;align-items: center;background-color: white;padding-right: 0.2em;padding-left: 0.2em;position: relative;}#sk-container-id-4 div.sk-item {position: relative;z-index: 1;}#sk-container-id-4 div.sk-parallel {display: flex;align-items: stretch;justify-content: center;background-color: white;position: relative;}#sk-container-id-4 div.sk-item::before, #sk-container-id-4 div.sk-parallel-item::before {content: \"\";position: absolute;border-left: 1px solid gray;box-sizing: border-box;top: 0;bottom: 0;left: 50%;z-index: -1;}#sk-container-id-4 div.sk-parallel-item {display: flex;flex-direction: column;z-index: 1;position: relative;background-color: white;}#sk-container-id-4 div.sk-parallel-item:first-child::after {align-self: flex-end;width: 50%;}#sk-container-id-4 div.sk-parallel-item:last-child::after {align-self: flex-start;width: 50%;}#sk-container-id-4 div.sk-parallel-item:only-child::after {width: 0;}#sk-container-id-4 div.sk-dashed-wrapped {border: 1px dashed gray;margin: 0 0.4em 0.5em 0.4em;box-sizing: border-box;padding-bottom: 0.4em;background-color: white;}#sk-container-id-4 div.sk-label label {font-family: monospace;font-weight: bold;display: inline-block;line-height: 1.2em;}#sk-container-id-4 div.sk-label-container {text-align: center;}#sk-container-id-4 div.sk-container {/* jupyter's `normalize.less` sets `[hidden] { display: none; }` but bootstrap.min.css set `[hidden] { display: none !important; }` so we also need the `!important` here to be able to override the default hidden behavior on the sphinx rendered scikit-learn.org. See: https://github.com/scikit-learn/scikit-learn/issues/21755 */display: inline-block !important;position: relative;}#sk-container-id-4 div.sk-text-repr-fallback {display: none;}</style><div id=\"sk-container-id-4\" class=\"sk-top-container\"><div class=\"sk-text-repr-fallback\"><pre>KMeans(n_clusters=3, n_init=&#x27;auto&#x27;, random_state=42)</pre><b>In a Jupyter environment, please rerun this cell to show the HTML representation or trust the notebook. <br />On GitHub, the HTML representation is unable to render, please try loading this page with nbviewer.org.</b></div><div class=\"sk-container\" hidden><div class=\"sk-item\"><div class=\"sk-estimator sk-toggleable\"><input class=\"sk-toggleable__control sk-hidden--visually\" id=\"sk-estimator-id-4\" type=\"checkbox\" checked><label for=\"sk-estimator-id-4\" class=\"sk-toggleable__label sk-toggleable__label-arrow\">KMeans</label><div class=\"sk-toggleable__content\"><pre>KMeans(n_clusters=3, n_init=&#x27;auto&#x27;, random_state=42)</pre></div></div></div></div></div>"
      ],
      "text/plain": [
       "KMeans(n_clusters=3, n_init='auto', random_state=42)"
      ]
     },
     "execution_count": 38,
     "metadata": {},
     "output_type": "execute_result"
    }
   ],
   "source": [
    "# Aplicamos el algoritmo al primer dataframe con los porcentaje de ventas sobre el total de los departamentos. \n",
    "kmeans= KMeans(n_clusters=3,random_state=42, init='k-means++', n_init=\"auto\")\n",
    "kmeans.fit(df_cluster_ss)"
   ]
  },
  {
   "cell_type": "code",
   "execution_count": 39,
   "metadata": {},
   "outputs": [
    {
     "data": {
      "text/html": [
       "<div>\n",
       "<style scoped>\n",
       "    .dataframe tbody tr th:only-of-type {\n",
       "        vertical-align: middle;\n",
       "    }\n",
       "\n",
       "    .dataframe tbody tr th {\n",
       "        vertical-align: top;\n",
       "    }\n",
       "\n",
       "    .dataframe thead th {\n",
       "        text-align: right;\n",
       "    }\n",
       "</style>\n",
       "<table border=\"1\" class=\"dataframe\">\n",
       "  <thead>\n",
       "    <tr style=\"text-align: right;\">\n",
       "      <th></th>\n",
       "      <th>stores</th>\n",
       "      <th>region</th>\n",
       "      <th>units_sold</th>\n",
       "      <th>sell_price</th>\n",
       "      <th>total_sales</th>\n",
       "      <th>ACCESORIES</th>\n",
       "      <th>HOME_&amp;_GARDEN</th>\n",
       "      <th>SUPERMARKET</th>\n",
       "      <th>cluster</th>\n",
       "    </tr>\n",
       "  </thead>\n",
       "  <tbody>\n",
       "    <tr>\n",
       "      <th>0</th>\n",
       "      <td>Back_Bay(BOS_3)</td>\n",
       "      <td>Boston</td>\n",
       "      <td>6057234</td>\n",
       "      <td>5.484508</td>\n",
       "      <td>2.181127e+07</td>\n",
       "      <td>0.154744</td>\n",
       "      <td>0.290987</td>\n",
       "      <td>0.554269</td>\n",
       "      <td>2</td>\n",
       "    </tr>\n",
       "    <tr>\n",
       "      <th>1</th>\n",
       "      <td>Brooklyn(NYC_4)</td>\n",
       "      <td>New York</td>\n",
       "      <td>4082201</td>\n",
       "      <td>5.522663</td>\n",
       "      <td>1.495885e+07</td>\n",
       "      <td>0.165118</td>\n",
       "      <td>0.256545</td>\n",
       "      <td>0.578337</td>\n",
       "      <td>2</td>\n",
       "    </tr>\n",
       "    <tr>\n",
       "      <th>2</th>\n",
       "      <td>Greenwich_Village(NYC_1)</td>\n",
       "      <td>New York</td>\n",
       "      <td>7657224</td>\n",
       "      <td>5.516056</td>\n",
       "      <td>2.757273e+07</td>\n",
       "      <td>0.151246</td>\n",
       "      <td>0.269476</td>\n",
       "      <td>0.579278</td>\n",
       "      <td>2</td>\n",
       "    </tr>\n",
       "    <tr>\n",
       "      <th>3</th>\n",
       "      <td>Harlem(NYC_2)</td>\n",
       "      <td>New York</td>\n",
       "      <td>5647131</td>\n",
       "      <td>5.576188</td>\n",
       "      <td>2.135534e+07</td>\n",
       "      <td>0.133760</td>\n",
       "      <td>0.389210</td>\n",
       "      <td>0.477030</td>\n",
       "      <td>0</td>\n",
       "    </tr>\n",
       "    <tr>\n",
       "      <th>4</th>\n",
       "      <td>Midtown_Village(PHI_1)</td>\n",
       "      <td>Philadelphia</td>\n",
       "      <td>5115653</td>\n",
       "      <td>5.580032</td>\n",
       "      <td>1.811085e+07</td>\n",
       "      <td>0.170094</td>\n",
       "      <td>0.284054</td>\n",
       "      <td>0.545852</td>\n",
       "      <td>0</td>\n",
       "    </tr>\n",
       "    <tr>\n",
       "      <th>5</th>\n",
       "      <td>Queen_Village(PHI_3)</td>\n",
       "      <td>Philadelphia</td>\n",
       "      <td>6391946</td>\n",
       "      <td>5.520492</td>\n",
       "      <td>2.063028e+07</td>\n",
       "      <td>0.104145</td>\n",
       "      <td>0.274484</td>\n",
       "      <td>0.621371</td>\n",
       "      <td>1</td>\n",
       "    </tr>\n",
       "    <tr>\n",
       "      <th>6</th>\n",
       "      <td>Roxbury(BOS_2)</td>\n",
       "      <td>Boston</td>\n",
       "      <td>7178136</td>\n",
       "      <td>5.455508</td>\n",
       "      <td>2.512650e+07</td>\n",
       "      <td>0.139968</td>\n",
       "      <td>0.293489</td>\n",
       "      <td>0.566543</td>\n",
       "      <td>2</td>\n",
       "    </tr>\n",
       "    <tr>\n",
       "      <th>7</th>\n",
       "      <td>South_End(BOS_1)</td>\n",
       "      <td>Boston</td>\n",
       "      <td>5567261</td>\n",
       "      <td>5.465372</td>\n",
       "      <td>1.923361e+07</td>\n",
       "      <td>0.113305</td>\n",
       "      <td>0.325477</td>\n",
       "      <td>0.561218</td>\n",
       "      <td>1</td>\n",
       "    </tr>\n",
       "    <tr>\n",
       "      <th>8</th>\n",
       "      <td>Tribeca(NYC_3)</td>\n",
       "      <td>New York</td>\n",
       "      <td>11134789</td>\n",
       "      <td>5.483638</td>\n",
       "      <td>3.928694e+07</td>\n",
       "      <td>0.113925</td>\n",
       "      <td>0.332989</td>\n",
       "      <td>0.553085</td>\n",
       "      <td>1</td>\n",
       "    </tr>\n",
       "    <tr>\n",
       "      <th>9</th>\n",
       "      <td>Yorktown(PHI_2)</td>\n",
       "      <td>Philadelphia</td>\n",
       "      <td>6506176</td>\n",
       "      <td>5.555507</td>\n",
       "      <td>2.152227e+07</td>\n",
       "      <td>0.086750</td>\n",
       "      <td>0.281245</td>\n",
       "      <td>0.632005</td>\n",
       "      <td>1</td>\n",
       "    </tr>\n",
       "  </tbody>\n",
       "</table>\n",
       "</div>"
      ],
      "text/plain": [
       "                     stores        region  units_sold  sell_price  \\\n",
       "0           Back_Bay(BOS_3)        Boston     6057234    5.484508   \n",
       "1           Brooklyn(NYC_4)      New York     4082201    5.522663   \n",
       "2  Greenwich_Village(NYC_1)      New York     7657224    5.516056   \n",
       "3             Harlem(NYC_2)      New York     5647131    5.576188   \n",
       "4    Midtown_Village(PHI_1)  Philadelphia     5115653    5.580032   \n",
       "5      Queen_Village(PHI_3)  Philadelphia     6391946    5.520492   \n",
       "6            Roxbury(BOS_2)        Boston     7178136    5.455508   \n",
       "7          South_End(BOS_1)        Boston     5567261    5.465372   \n",
       "8            Tribeca(NYC_3)      New York    11134789    5.483638   \n",
       "9           Yorktown(PHI_2)  Philadelphia     6506176    5.555507   \n",
       "\n",
       "    total_sales  ACCESORIES  HOME_&_GARDEN  SUPERMARKET  cluster  \n",
       "0  2.181127e+07    0.154744       0.290987     0.554269        2  \n",
       "1  1.495885e+07    0.165118       0.256545     0.578337        2  \n",
       "2  2.757273e+07    0.151246       0.269476     0.579278        2  \n",
       "3  2.135534e+07    0.133760       0.389210     0.477030        0  \n",
       "4  1.811085e+07    0.170094       0.284054     0.545852        0  \n",
       "5  2.063028e+07    0.104145       0.274484     0.621371        1  \n",
       "6  2.512650e+07    0.139968       0.293489     0.566543        2  \n",
       "7  1.923361e+07    0.113305       0.325477     0.561218        1  \n",
       "8  3.928694e+07    0.113925       0.332989     0.553085        1  \n",
       "9  2.152227e+07    0.086750       0.281245     0.632005        1  "
      ]
     },
     "execution_count": 39,
     "metadata": {},
     "output_type": "execute_result"
    }
   ],
   "source": [
    "df_cluster_cat[\"cluster\"]= kmeans.labels_\n",
    "df_cluster_cat"
   ]
  },
  {
   "cell_type": "markdown",
   "metadata": {},
   "source": [
    "El clustering aplicado a la segmentación por productos presenta una separación correcta, pero la explicabilidad en comparación con la segmentación por departamentos es menor. Por ello, aunque el enfoque de estas dos segmentaciones tenga resultados similares, nos quedamos con la segmentación por departamentos.\n",
    "\n",
    "* El Clúster 0 agrupa las tiendas con el precio más alto por producto vendido, lo que explica, junto a la tienda de Brooklyn del Clúster 1, su menor volumen de ventas general. En cuanto a la distribución de ventas por categoría, se observa una combinación de productos de supermercado (que representan la mayor parte de la facturación) con artículos más costosos de la categoría Hogar y Jardín, mientras que las ventas de Accesorios son considerablemente menores.\n",
    "\n",
    "* El Clúster 1 se distingue por agrupar tiendas con un precio medio por producto vendido en comparación con los otros dos grupos, y una notable variabilidad en las unidades vendidas. En contraste con los demás clústeres, la sección de Accesorios presenta un porcentaje de ventas inferior, mientras que las ventas se concentran principalmente en Supermercado, con un ligero incremento en la categoría Hogar y Jardín.\n",
    "\n",
    "* El Clúster 2 se caracteriza por presentar un mayor equilibrio en las ventas porcentuales en comparación con los otros dos grupos, ubicándose en un punto intermedio entre ellos. El precio medio de sus productos se encuentra en el rango central, al igual que sus ventas totales, lo que refleja una distribución más homogénea.\n",
    "\n",
    "\n",
    "Aunque contamos con la limitación de tener pocos clusters y las características de nuestras tiendas centradas únicamente en parámetros numéricos, podemos observar algunos insights que podrían ser valiosos para el equipo de negocios al comparar cómo se comportan estas tiendas entre sí y cómo los productos se comportan dependiendo de estas segmentaciones creadas entre sí.\n"
   ]
  }
 ],
 "metadata": {
  "kernelspec": {
   "display_name": "Nuclio",
   "language": "python",
   "name": "python3"
  },
  "language_info": {
   "codemirror_mode": {
    "name": "ipython",
    "version": 3
   },
   "file_extension": ".py",
   "mimetype": "text/x-python",
   "name": "python",
   "nbconvert_exporter": "python",
   "pygments_lexer": "ipython3",
   "version": "3.11.5"
  }
 },
 "nbformat": 4,
 "nbformat_minor": 2
}
