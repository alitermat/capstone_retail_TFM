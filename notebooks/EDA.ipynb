{
 "cells": [
  {
   "cell_type": "code",
   "execution_count": 1,
   "metadata": {},
   "outputs": [],
   "source": [
    "import pandas as pd\n",
    "import numpy as np  \n",
    "\n",
    "import "
   ]
  },
  {
   "cell_type": "code",
   "execution_count": 2,
   "metadata": {},
   "outputs": [],
   "source": [
    "df= pd.read_csv(\"/Users/santi/Documents/csv/datos_arreglados.csv\",index_col=0, sep=',')"
   ]
  },
  {
   "cell_type": "code",
   "execution_count": 3,
   "metadata": {},
   "outputs": [
    {
     "data": {
      "text/html": [
       "<div>\n",
       "<style scoped>\n",
       "    .dataframe tbody tr th:only-of-type {\n",
       "        vertical-align: middle;\n",
       "    }\n",
       "\n",
       "    .dataframe tbody tr th {\n",
       "        vertical-align: top;\n",
       "    }\n",
       "\n",
       "    .dataframe thead th {\n",
       "        text-align: right;\n",
       "    }\n",
       "</style>\n",
       "<table border=\"1\" class=\"dataframe\">\n",
       "  <thead>\n",
       "    <tr style=\"text-align: right;\">\n",
       "      <th></th>\n",
       "      <th>date</th>\n",
       "      <th>item</th>\n",
       "      <th>category</th>\n",
       "      <th>department</th>\n",
       "      <th>stores</th>\n",
       "      <th>region</th>\n",
       "      <th>week</th>\n",
       "      <th>year</th>\n",
       "      <th>is_holidays</th>\n",
       "      <th>units_sold</th>\n",
       "      <th>sell_price</th>\n",
       "      <th>total_sales</th>\n",
       "    </tr>\n",
       "  </thead>\n",
       "  <tbody>\n",
       "    <tr>\n",
       "      <th>0</th>\n",
       "      <td>2013-07-08</td>\n",
       "      <td>ACCESORIES_1_001</td>\n",
       "      <td>ACCESORIES</td>\n",
       "      <td>ACCESORIES_1</td>\n",
       "      <td>South_End(BOS_1)</td>\n",
       "      <td>Boston</td>\n",
       "      <td>28</td>\n",
       "      <td>2013</td>\n",
       "      <td>0</td>\n",
       "      <td>0</td>\n",
       "      <td>12.7414</td>\n",
       "      <td>0.0000</td>\n",
       "    </tr>\n",
       "    <tr>\n",
       "      <th>1</th>\n",
       "      <td>2013-07-15</td>\n",
       "      <td>ACCESORIES_1_001</td>\n",
       "      <td>ACCESORIES</td>\n",
       "      <td>ACCESORIES_1</td>\n",
       "      <td>South_End(BOS_1)</td>\n",
       "      <td>Boston</td>\n",
       "      <td>28</td>\n",
       "      <td>2013</td>\n",
       "      <td>1</td>\n",
       "      <td>0</td>\n",
       "      <td>12.7414</td>\n",
       "      <td>0.0000</td>\n",
       "    </tr>\n",
       "    <tr>\n",
       "      <th>2</th>\n",
       "      <td>2013-07-22</td>\n",
       "      <td>ACCESORIES_1_001</td>\n",
       "      <td>ACCESORIES</td>\n",
       "      <td>ACCESORIES_1</td>\n",
       "      <td>South_End(BOS_1)</td>\n",
       "      <td>Boston</td>\n",
       "      <td>29</td>\n",
       "      <td>2013</td>\n",
       "      <td>0</td>\n",
       "      <td>4</td>\n",
       "      <td>10.9858</td>\n",
       "      <td>43.9432</td>\n",
       "    </tr>\n",
       "    <tr>\n",
       "      <th>3</th>\n",
       "      <td>2013-07-29</td>\n",
       "      <td>ACCESORIES_1_001</td>\n",
       "      <td>ACCESORIES</td>\n",
       "      <td>ACCESORIES_1</td>\n",
       "      <td>South_End(BOS_1)</td>\n",
       "      <td>Boston</td>\n",
       "      <td>30</td>\n",
       "      <td>2013</td>\n",
       "      <td>0</td>\n",
       "      <td>6</td>\n",
       "      <td>10.9858</td>\n",
       "      <td>65.9148</td>\n",
       "    </tr>\n",
       "    <tr>\n",
       "      <th>4</th>\n",
       "      <td>2013-08-05</td>\n",
       "      <td>ACCESORIES_1_001</td>\n",
       "      <td>ACCESORIES</td>\n",
       "      <td>ACCESORIES_1</td>\n",
       "      <td>South_End(BOS_1)</td>\n",
       "      <td>Boston</td>\n",
       "      <td>31</td>\n",
       "      <td>2013</td>\n",
       "      <td>0</td>\n",
       "      <td>0</td>\n",
       "      <td>10.9858</td>\n",
       "      <td>0.0000</td>\n",
       "    </tr>\n",
       "  </tbody>\n",
       "</table>\n",
       "</div>"
      ],
      "text/plain": [
       "         date              item    category    department            stores  \\\n",
       "0  2013-07-08  ACCESORIES_1_001  ACCESORIES  ACCESORIES_1  South_End(BOS_1)   \n",
       "1  2013-07-15  ACCESORIES_1_001  ACCESORIES  ACCESORIES_1  South_End(BOS_1)   \n",
       "2  2013-07-22  ACCESORIES_1_001  ACCESORIES  ACCESORIES_1  South_End(BOS_1)   \n",
       "3  2013-07-29  ACCESORIES_1_001  ACCESORIES  ACCESORIES_1  South_End(BOS_1)   \n",
       "4  2013-08-05  ACCESORIES_1_001  ACCESORIES  ACCESORIES_1  South_End(BOS_1)   \n",
       "\n",
       "   region  week  year  is_holidays  units_sold  sell_price  total_sales  \n",
       "0  Boston    28  2013            0           0     12.7414       0.0000  \n",
       "1  Boston    28  2013            1           0     12.7414       0.0000  \n",
       "2  Boston    29  2013            0           4     10.9858      43.9432  \n",
       "3  Boston    30  2013            0           6     10.9858      65.9148  \n",
       "4  Boston    31  2013            0           0     10.9858       0.0000  "
      ]
     },
     "execution_count": 3,
     "metadata": {},
     "output_type": "execute_result"
    }
   ],
   "source": [
    "df.head()"
   ]
  },
  {
   "cell_type": "markdown",
   "metadata": {},
   "source": [
    "# 1. EDA general"
   ]
  },
  {
   "cell_type": "code",
   "execution_count": null,
   "metadata": {},
   "outputs": [],
   "source": []
  },
  {
   "cell_type": "code",
   "execution_count": 4,
   "metadata": {},
   "outputs": [],
   "source": [
    "import plotly.express as px"
   ]
  },
  {
   "cell_type": "code",
   "execution_count": null,
   "metadata": {},
   "outputs": [],
   "source": [
    "px.box()"
   ]
  },
  {
   "cell_type": "code",
   "execution_count": 22,
   "metadata": {},
   "outputs": [],
   "source": [
    "def crear_boxplot(datos, columna_x, columna_y, titulo):\n",
    "    \"\"\"\n",
    "    Función para crear un boxplot básico utilizando Plotly Express.\n",
    "\n",
    "    Parámetros:\n",
    "    - datos: DataFrame de pandas que contiene los datos.\n",
    "    - columna_x: Nombre de la columna que se utilizará en el eje x.\n",
    "    - columna_y: Nombre de la columna que se utilizará en el eje y.\n",
    "    - titulo: Título del gráfico.\n",
    "    \"\"\"\n",
    "    fig = px.box(datos, \n",
    "                x=columna_x,\n",
    "                y=columna_y, \n",
    "                title=f\"Distribución de ventas {columna_y}\")\n",
    "    fig.show()"
   ]
  },
  {
   "cell_type": "code",
   "execution_count": 50,
   "metadata": {},
   "outputs": [],
   "source": [
    "import plotly.express as px\n",
    "\n",
    "def crear_boxplot_by_year(datos, columna_x, columna_y, titulo):\n",
    "    \"\"\"\n",
    "    Función para crear un boxplot con subgráficos por año utilizando Plotly Express.\n",
    "\n",
    "    Parámetros:\n",
    "    - datos: DataFrame de pandas que contiene los datos.\n",
    "    - columna_x: Nombre de la columna que se utilizará en el eje x.\n",
    "    - columna_y: Nombre de la columna que se utilizará en el eje y.\n",
    "    - titulo: Título del gráfico.\n",
    "    \"\"\"\n",
    "    fig = px.box(datos, x=columna_x, y=columna_y, title=titulo, facet_col='year')\n",
    "    fig.show()\n",
    "\n",
    "# Ejemplo de uso:\n",
    "# Supongamos que tienes un DataFrame llamado 'datos' con columnas 'columna1', 'columna2' y 'año':\n",
    "# crear_boxplot(datos, 'columna1', 'columna2', 'Boxplot de columna1 vs columna2 por año')\n",
    "\n"
   ]
  },
  {
   "cell_type": "code",
   "execution_count": null,
   "metadata": {},
   "outputs": [],
   "source": [
    "df[]"
   ]
  },
  {
   "cell_type": "markdown",
   "metadata": {},
   "source": [
    "# 2. ANALISIS DE VENTAS"
   ]
  },
  {
   "cell_type": "markdown",
   "metadata": {},
   "source": [
    "# 2.1. Analisis ventas Globales"
   ]
  },
  {
   "cell_type": "markdown",
   "metadata": {},
   "source": [
    "## Ventas anuales"
   ]
  },
  {
   "cell_type": "markdown",
   "metadata": {},
   "source": [
    "## Ventas trimestrales"
   ]
  },
  {
   "cell_type": "markdown",
   "metadata": {},
   "source": [
    "## Ventas mensuales"
   ]
  },
  {
   "cell_type": "markdown",
   "metadata": {},
   "source": [
    "## Media de ventas por meses"
   ]
  },
  {
   "cell_type": "markdown",
   "metadata": {},
   "source": [
    "## Ventas semanales"
   ]
  },
  {
   "cell_type": "markdown",
   "metadata": {},
   "source": [
    "# 2.2 Analisis ventas por ciudad"
   ]
  },
  {
   "cell_type": "markdown",
   "metadata": {},
   "source": [
    "### 2.2.1. Philadelpia"
   ]
  },
  {
   "cell_type": "code",
   "execution_count": 30,
   "metadata": {},
   "outputs": [],
   "source": [
    "df_ph= df.loc[df[\"region\"]== \"Philadelphia\"].copy()"
   ]
  },
  {
   "cell_type": "code",
   "execution_count": 31,
   "metadata": {},
   "outputs": [
    {
     "data": {
      "text/html": [
       "<div>\n",
       "<style scoped>\n",
       "    .dataframe tbody tr th:only-of-type {\n",
       "        vertical-align: middle;\n",
       "    }\n",
       "\n",
       "    .dataframe tbody tr th {\n",
       "        vertical-align: top;\n",
       "    }\n",
       "\n",
       "    .dataframe thead th {\n",
       "        text-align: right;\n",
       "    }\n",
       "</style>\n",
       "<table border=\"1\" class=\"dataframe\">\n",
       "  <thead>\n",
       "    <tr style=\"text-align: right;\">\n",
       "      <th></th>\n",
       "      <th>date</th>\n",
       "      <th>item</th>\n",
       "      <th>category</th>\n",
       "      <th>department</th>\n",
       "      <th>stores</th>\n",
       "      <th>region</th>\n",
       "      <th>week</th>\n",
       "      <th>year</th>\n",
       "      <th>is_holidays</th>\n",
       "      <th>units_sold</th>\n",
       "      <th>sell_price</th>\n",
       "      <th>total_sales</th>\n",
       "    </tr>\n",
       "  </thead>\n",
       "  <tbody>\n",
       "    <tr>\n",
       "      <th>1022</th>\n",
       "      <td>2013-07-08</td>\n",
       "      <td>ACCESORIES_1_001</td>\n",
       "      <td>ACCESORIES</td>\n",
       "      <td>ACCESORIES_1</td>\n",
       "      <td>Midtown_Village(PHI_1)</td>\n",
       "      <td>Philadelphia</td>\n",
       "      <td>28</td>\n",
       "      <td>2013</td>\n",
       "      <td>0</td>\n",
       "      <td>0</td>\n",
       "      <td>12.7414</td>\n",
       "      <td>0.0000</td>\n",
       "    </tr>\n",
       "    <tr>\n",
       "      <th>1023</th>\n",
       "      <td>2013-07-15</td>\n",
       "      <td>ACCESORIES_1_001</td>\n",
       "      <td>ACCESORIES</td>\n",
       "      <td>ACCESORIES_1</td>\n",
       "      <td>Midtown_Village(PHI_1)</td>\n",
       "      <td>Philadelphia</td>\n",
       "      <td>28</td>\n",
       "      <td>2013</td>\n",
       "      <td>1</td>\n",
       "      <td>0</td>\n",
       "      <td>12.7414</td>\n",
       "      <td>0.0000</td>\n",
       "    </tr>\n",
       "    <tr>\n",
       "      <th>1024</th>\n",
       "      <td>2013-07-22</td>\n",
       "      <td>ACCESORIES_1_001</td>\n",
       "      <td>ACCESORIES</td>\n",
       "      <td>ACCESORIES_1</td>\n",
       "      <td>Midtown_Village(PHI_1)</td>\n",
       "      <td>Philadelphia</td>\n",
       "      <td>29</td>\n",
       "      <td>2013</td>\n",
       "      <td>0</td>\n",
       "      <td>1</td>\n",
       "      <td>12.7414</td>\n",
       "      <td>12.7414</td>\n",
       "    </tr>\n",
       "    <tr>\n",
       "      <th>1025</th>\n",
       "      <td>2013-07-29</td>\n",
       "      <td>ACCESORIES_1_001</td>\n",
       "      <td>ACCESORIES</td>\n",
       "      <td>ACCESORIES_1</td>\n",
       "      <td>Midtown_Village(PHI_1)</td>\n",
       "      <td>Philadelphia</td>\n",
       "      <td>30</td>\n",
       "      <td>2013</td>\n",
       "      <td>0</td>\n",
       "      <td>0</td>\n",
       "      <td>12.7414</td>\n",
       "      <td>0.0000</td>\n",
       "    </tr>\n",
       "    <tr>\n",
       "      <th>1026</th>\n",
       "      <td>2013-08-05</td>\n",
       "      <td>ACCESORIES_1_001</td>\n",
       "      <td>ACCESORIES</td>\n",
       "      <td>ACCESORIES_1</td>\n",
       "      <td>Midtown_Village(PHI_1)</td>\n",
       "      <td>Philadelphia</td>\n",
       "      <td>31</td>\n",
       "      <td>2013</td>\n",
       "      <td>0</td>\n",
       "      <td>0</td>\n",
       "      <td>12.7414</td>\n",
       "      <td>0.0000</td>\n",
       "    </tr>\n",
       "  </tbody>\n",
       "</table>\n",
       "</div>"
      ],
      "text/plain": [
       "            date              item    category    department  \\\n",
       "1022  2013-07-08  ACCESORIES_1_001  ACCESORIES  ACCESORIES_1   \n",
       "1023  2013-07-15  ACCESORIES_1_001  ACCESORIES  ACCESORIES_1   \n",
       "1024  2013-07-22  ACCESORIES_1_001  ACCESORIES  ACCESORIES_1   \n",
       "1025  2013-07-29  ACCESORIES_1_001  ACCESORIES  ACCESORIES_1   \n",
       "1026  2013-08-05  ACCESORIES_1_001  ACCESORIES  ACCESORIES_1   \n",
       "\n",
       "                      stores        region  week  year  is_holidays  \\\n",
       "1022  Midtown_Village(PHI_1)  Philadelphia    28  2013            0   \n",
       "1023  Midtown_Village(PHI_1)  Philadelphia    28  2013            1   \n",
       "1024  Midtown_Village(PHI_1)  Philadelphia    29  2013            0   \n",
       "1025  Midtown_Village(PHI_1)  Philadelphia    30  2013            0   \n",
       "1026  Midtown_Village(PHI_1)  Philadelphia    31  2013            0   \n",
       "\n",
       "      units_sold  sell_price  total_sales  \n",
       "1022           0     12.7414       0.0000  \n",
       "1023           0     12.7414       0.0000  \n",
       "1024           1     12.7414      12.7414  \n",
       "1025           0     12.7414       0.0000  \n",
       "1026           0     12.7414       0.0000  "
      ]
     },
     "execution_count": 31,
     "metadata": {},
     "output_type": "execute_result"
    }
   ],
   "source": [
    "df_ph.head()"
   ]
  },
  {
   "cell_type": "code",
   "execution_count": 32,
   "metadata": {},
   "outputs": [],
   "source": [
    "df_ph[\"date\"]= pd.to_datetime(df_ph[\"date\"])"
   ]
  },
  {
   "cell_type": "code",
   "execution_count": 33,
   "metadata": {},
   "outputs": [],
   "source": [
    "df_ph[\"month\"]= df_ph[\"date\"].dt.month"
   ]
  },
  {
   "cell_type": "code",
   "execution_count": 35,
   "metadata": {},
   "outputs": [],
   "source": [
    "def agrupar_por_semana_año(data):\n",
    "    data.groupby([\"stores\",\"week\",\"year\"])[\"total_sales\"].sum().reset_index()\n",
    "\n",
    "def agrupar_por_mes_año(data):\n",
    "    data.groupby([\"stores\",\"month\",\"year\"])[\"total_sales\"].sum().reset_index()\n",
    "\n",
    "def agrupar_por_semana_avg(data):\n",
    "    data.groupby([\"stores\",\"week\"])[\"total_sales\"].mean().reset_index()\n",
    "\n",
    "def agrupar_por_mes_avg(data):\n",
    "    data.groupby([\"stores\",\"month\"])[\"total_sales\"].mean().reset_index()\n"
   ]
  },
  {
   "cell_type": "code",
   "execution_count": 36,
   "metadata": {},
   "outputs": [
    {
     "data": {
      "text/html": [
       "<div>\n",
       "<style scoped>\n",
       "    .dataframe tbody tr th:only-of-type {\n",
       "        vertical-align: middle;\n",
       "    }\n",
       "\n",
       "    .dataframe tbody tr th {\n",
       "        vertical-align: top;\n",
       "    }\n",
       "\n",
       "    .dataframe thead th {\n",
       "        text-align: right;\n",
       "    }\n",
       "</style>\n",
       "<table border=\"1\" class=\"dataframe\">\n",
       "  <thead>\n",
       "    <tr style=\"text-align: right;\">\n",
       "      <th></th>\n",
       "      <th>date</th>\n",
       "      <th>item</th>\n",
       "      <th>category</th>\n",
       "      <th>department</th>\n",
       "      <th>stores</th>\n",
       "      <th>region</th>\n",
       "      <th>week</th>\n",
       "      <th>year</th>\n",
       "      <th>is_holidays</th>\n",
       "      <th>units_sold</th>\n",
       "      <th>sell_price</th>\n",
       "      <th>total_sales</th>\n",
       "      <th>month</th>\n",
       "    </tr>\n",
       "  </thead>\n",
       "  <tbody>\n",
       "    <tr>\n",
       "      <th>1022</th>\n",
       "      <td>2013-07-08</td>\n",
       "      <td>ACCESORIES_1_001</td>\n",
       "      <td>ACCESORIES</td>\n",
       "      <td>ACCESORIES_1</td>\n",
       "      <td>Midtown_Village(PHI_1)</td>\n",
       "      <td>Philadelphia</td>\n",
       "      <td>28</td>\n",
       "      <td>2013</td>\n",
       "      <td>0</td>\n",
       "      <td>0</td>\n",
       "      <td>12.7414</td>\n",
       "      <td>0.0000</td>\n",
       "      <td>7</td>\n",
       "    </tr>\n",
       "    <tr>\n",
       "      <th>1023</th>\n",
       "      <td>2013-07-15</td>\n",
       "      <td>ACCESORIES_1_001</td>\n",
       "      <td>ACCESORIES</td>\n",
       "      <td>ACCESORIES_1</td>\n",
       "      <td>Midtown_Village(PHI_1)</td>\n",
       "      <td>Philadelphia</td>\n",
       "      <td>28</td>\n",
       "      <td>2013</td>\n",
       "      <td>1</td>\n",
       "      <td>0</td>\n",
       "      <td>12.7414</td>\n",
       "      <td>0.0000</td>\n",
       "      <td>7</td>\n",
       "    </tr>\n",
       "    <tr>\n",
       "      <th>1024</th>\n",
       "      <td>2013-07-22</td>\n",
       "      <td>ACCESORIES_1_001</td>\n",
       "      <td>ACCESORIES</td>\n",
       "      <td>ACCESORIES_1</td>\n",
       "      <td>Midtown_Village(PHI_1)</td>\n",
       "      <td>Philadelphia</td>\n",
       "      <td>29</td>\n",
       "      <td>2013</td>\n",
       "      <td>0</td>\n",
       "      <td>1</td>\n",
       "      <td>12.7414</td>\n",
       "      <td>12.7414</td>\n",
       "      <td>7</td>\n",
       "    </tr>\n",
       "    <tr>\n",
       "      <th>1025</th>\n",
       "      <td>2013-07-29</td>\n",
       "      <td>ACCESORIES_1_001</td>\n",
       "      <td>ACCESORIES</td>\n",
       "      <td>ACCESORIES_1</td>\n",
       "      <td>Midtown_Village(PHI_1)</td>\n",
       "      <td>Philadelphia</td>\n",
       "      <td>30</td>\n",
       "      <td>2013</td>\n",
       "      <td>0</td>\n",
       "      <td>0</td>\n",
       "      <td>12.7414</td>\n",
       "      <td>0.0000</td>\n",
       "      <td>7</td>\n",
       "    </tr>\n",
       "    <tr>\n",
       "      <th>1026</th>\n",
       "      <td>2013-08-05</td>\n",
       "      <td>ACCESORIES_1_001</td>\n",
       "      <td>ACCESORIES</td>\n",
       "      <td>ACCESORIES_1</td>\n",
       "      <td>Midtown_Village(PHI_1)</td>\n",
       "      <td>Philadelphia</td>\n",
       "      <td>31</td>\n",
       "      <td>2013</td>\n",
       "      <td>0</td>\n",
       "      <td>0</td>\n",
       "      <td>12.7414</td>\n",
       "      <td>0.0000</td>\n",
       "      <td>8</td>\n",
       "    </tr>\n",
       "  </tbody>\n",
       "</table>\n",
       "</div>"
      ],
      "text/plain": [
       "           date              item    category    department  \\\n",
       "1022 2013-07-08  ACCESORIES_1_001  ACCESORIES  ACCESORIES_1   \n",
       "1023 2013-07-15  ACCESORIES_1_001  ACCESORIES  ACCESORIES_1   \n",
       "1024 2013-07-22  ACCESORIES_1_001  ACCESORIES  ACCESORIES_1   \n",
       "1025 2013-07-29  ACCESORIES_1_001  ACCESORIES  ACCESORIES_1   \n",
       "1026 2013-08-05  ACCESORIES_1_001  ACCESORIES  ACCESORIES_1   \n",
       "\n",
       "                      stores        region  week  year  is_holidays  \\\n",
       "1022  Midtown_Village(PHI_1)  Philadelphia    28  2013            0   \n",
       "1023  Midtown_Village(PHI_1)  Philadelphia    28  2013            1   \n",
       "1024  Midtown_Village(PHI_1)  Philadelphia    29  2013            0   \n",
       "1025  Midtown_Village(PHI_1)  Philadelphia    30  2013            0   \n",
       "1026  Midtown_Village(PHI_1)  Philadelphia    31  2013            0   \n",
       "\n",
       "      units_sold  sell_price  total_sales  month  \n",
       "1022           0     12.7414       0.0000      7  \n",
       "1023           0     12.7414       0.0000      7  \n",
       "1024           1     12.7414      12.7414      7  \n",
       "1025           0     12.7414       0.0000      7  \n",
       "1026           0     12.7414       0.0000      8  "
      ]
     },
     "execution_count": 36,
     "metadata": {},
     "output_type": "execute_result"
    }
   ],
   "source": [
    "df_ph.head()"
   ]
  },
  {
   "cell_type": "code",
   "execution_count": 42,
   "metadata": {},
   "outputs": [
    {
     "data": {
      "text/html": [
       "<div>\n",
       "<style scoped>\n",
       "    .dataframe tbody tr th:only-of-type {\n",
       "        vertical-align: middle;\n",
       "    }\n",
       "\n",
       "    .dataframe tbody tr th {\n",
       "        vertical-align: top;\n",
       "    }\n",
       "\n",
       "    .dataframe thead th {\n",
       "        text-align: right;\n",
       "    }\n",
       "</style>\n",
       "<table border=\"1\" class=\"dataframe\">\n",
       "  <thead>\n",
       "    <tr style=\"text-align: right;\">\n",
       "      <th></th>\n",
       "      <th>stores</th>\n",
       "      <th>week</th>\n",
       "      <th>year</th>\n",
       "      <th>total_sales</th>\n",
       "    </tr>\n",
       "  </thead>\n",
       "  <tbody>\n",
       "    <tr>\n",
       "      <th>0</th>\n",
       "      <td>Midtown_Village(PHI_1)</td>\n",
       "      <td>1</td>\n",
       "      <td>2012</td>\n",
       "      <td>39835.5791</td>\n",
       "    </tr>\n",
       "    <tr>\n",
       "      <th>1</th>\n",
       "      <td>Midtown_Village(PHI_1)</td>\n",
       "      <td>1</td>\n",
       "      <td>2013</td>\n",
       "      <td>129300.1060</td>\n",
       "    </tr>\n",
       "    <tr>\n",
       "      <th>2</th>\n",
       "      <td>Midtown_Village(PHI_1)</td>\n",
       "      <td>1</td>\n",
       "      <td>2014</td>\n",
       "      <td>89589.4248</td>\n",
       "    </tr>\n",
       "    <tr>\n",
       "      <th>3</th>\n",
       "      <td>Midtown_Village(PHI_1)</td>\n",
       "      <td>1</td>\n",
       "      <td>2015</td>\n",
       "      <td>6230.9522</td>\n",
       "    </tr>\n",
       "    <tr>\n",
       "      <th>4</th>\n",
       "      <td>Midtown_Village(PHI_1)</td>\n",
       "      <td>1</td>\n",
       "      <td>2016</td>\n",
       "      <td>106073.6936</td>\n",
       "    </tr>\n",
       "  </tbody>\n",
       "</table>\n",
       "</div>"
      ],
      "text/plain": [
       "                   stores  week  year  total_sales\n",
       "0  Midtown_Village(PHI_1)     1  2012   39835.5791\n",
       "1  Midtown_Village(PHI_1)     1  2013  129300.1060\n",
       "2  Midtown_Village(PHI_1)     1  2014   89589.4248\n",
       "3  Midtown_Village(PHI_1)     1  2015    6230.9522\n",
       "4  Midtown_Village(PHI_1)     1  2016  106073.6936"
      ]
     },
     "execution_count": 42,
     "metadata": {},
     "output_type": "execute_result"
    }
   ],
   "source": [
    "ph_week_year= df_ph.groupby([\"stores\",\"week\",\"year\"])[\"total_sales\"].sum().reset_index()\n",
    "ph_week_year.head()"
   ]
  },
  {
   "cell_type": "code",
   "execution_count": 45,
   "metadata": {},
   "outputs": [],
   "source": [
    "ph_month_av= agrupar_por_mes_avg(df_ph)"
   ]
  },
  {
   "cell_type": "code",
   "execution_count": 46,
   "metadata": {},
   "outputs": [],
   "source": [
    "ph_month_avg= df_ph.groupby([\"stores\",\"month\"])[\"total_sales\"].mean().reset_index()"
   ]
  },
  {
   "cell_type": "code",
   "execution_count": 47,
   "metadata": {},
   "outputs": [
    {
     "data": {
      "application/vnd.plotly.v1+json": {
       "config": {
        "plotlyServerURL": "https://plot.ly"
       },
       "data": [
        {
         "alignmentgroup": "True",
         "hovertemplate": "month=%{x}<br>total_sales=%{y}<extra></extra>",
         "legendgroup": "",
         "marker": {
          "color": "#636efa"
         },
         "name": "",
         "notched": false,
         "offsetgroup": "",
         "orientation": "v",
         "showlegend": false,
         "type": "box",
         "x": [
          1,
          2,
          3,
          4,
          5,
          6,
          7,
          8,
          9,
          10,
          11,
          12,
          1,
          2,
          3,
          4,
          5,
          6,
          7,
          8,
          9,
          10,
          11,
          12,
          1,
          2,
          3,
          4,
          5,
          6,
          7,
          8,
          9,
          10,
          11,
          12
         ],
         "x0": " ",
         "xaxis": "x",
         "y": [
          26.403709608210722,
          30.50257439854192,
          29.24107990538739,
          28.695570678940932,
          27.540031365935917,
          28.055845656408255,
          27.902681805505757,
          27.33065998544138,
          27.34497945919127,
          26.8800994897058,
          28.71966000424522,
          28.663512735973537,
          29.049741012648933,
          34.9299105372692,
          32.85918569596898,
          31.484016286408533,
          30.220864336574845,
          29.130510155048814,
          30.563480821223386,
          29.404386736982595,
          29.59721544725769,
          31.3381496422083,
          29.649202829445738,
          28.757793939134164,
          30.57237504753657,
          37.619143646304025,
          34.48549871069894,
          32.76845984831149,
          29.929689217106507,
          31.54940165315861,
          32.02315887687411,
          32.354877917705025,
          33.86315969564172,
          34.370145496610554,
          32.83614034408025,
          30.88528507900993
         ],
         "y0": " ",
         "yaxis": "y"
        }
       ],
       "layout": {
        "boxmode": "group",
        "legend": {
         "tracegroupgap": 0
        },
        "template": {
         "data": {
          "bar": [
           {
            "error_x": {
             "color": "#2a3f5f"
            },
            "error_y": {
             "color": "#2a3f5f"
            },
            "marker": {
             "line": {
              "color": "#E5ECF6",
              "width": 0.5
             },
             "pattern": {
              "fillmode": "overlay",
              "size": 10,
              "solidity": 0.2
             }
            },
            "type": "bar"
           }
          ],
          "barpolar": [
           {
            "marker": {
             "line": {
              "color": "#E5ECF6",
              "width": 0.5
             },
             "pattern": {
              "fillmode": "overlay",
              "size": 10,
              "solidity": 0.2
             }
            },
            "type": "barpolar"
           }
          ],
          "carpet": [
           {
            "aaxis": {
             "endlinecolor": "#2a3f5f",
             "gridcolor": "white",
             "linecolor": "white",
             "minorgridcolor": "white",
             "startlinecolor": "#2a3f5f"
            },
            "baxis": {
             "endlinecolor": "#2a3f5f",
             "gridcolor": "white",
             "linecolor": "white",
             "minorgridcolor": "white",
             "startlinecolor": "#2a3f5f"
            },
            "type": "carpet"
           }
          ],
          "choropleth": [
           {
            "colorbar": {
             "outlinewidth": 0,
             "ticks": ""
            },
            "type": "choropleth"
           }
          ],
          "contour": [
           {
            "colorbar": {
             "outlinewidth": 0,
             "ticks": ""
            },
            "colorscale": [
             [
              0,
              "#0d0887"
             ],
             [
              0.1111111111111111,
              "#46039f"
             ],
             [
              0.2222222222222222,
              "#7201a8"
             ],
             [
              0.3333333333333333,
              "#9c179e"
             ],
             [
              0.4444444444444444,
              "#bd3786"
             ],
             [
              0.5555555555555556,
              "#d8576b"
             ],
             [
              0.6666666666666666,
              "#ed7953"
             ],
             [
              0.7777777777777778,
              "#fb9f3a"
             ],
             [
              0.8888888888888888,
              "#fdca26"
             ],
             [
              1,
              "#f0f921"
             ]
            ],
            "type": "contour"
           }
          ],
          "contourcarpet": [
           {
            "colorbar": {
             "outlinewidth": 0,
             "ticks": ""
            },
            "type": "contourcarpet"
           }
          ],
          "heatmap": [
           {
            "colorbar": {
             "outlinewidth": 0,
             "ticks": ""
            },
            "colorscale": [
             [
              0,
              "#0d0887"
             ],
             [
              0.1111111111111111,
              "#46039f"
             ],
             [
              0.2222222222222222,
              "#7201a8"
             ],
             [
              0.3333333333333333,
              "#9c179e"
             ],
             [
              0.4444444444444444,
              "#bd3786"
             ],
             [
              0.5555555555555556,
              "#d8576b"
             ],
             [
              0.6666666666666666,
              "#ed7953"
             ],
             [
              0.7777777777777778,
              "#fb9f3a"
             ],
             [
              0.8888888888888888,
              "#fdca26"
             ],
             [
              1,
              "#f0f921"
             ]
            ],
            "type": "heatmap"
           }
          ],
          "heatmapgl": [
           {
            "colorbar": {
             "outlinewidth": 0,
             "ticks": ""
            },
            "colorscale": [
             [
              0,
              "#0d0887"
             ],
             [
              0.1111111111111111,
              "#46039f"
             ],
             [
              0.2222222222222222,
              "#7201a8"
             ],
             [
              0.3333333333333333,
              "#9c179e"
             ],
             [
              0.4444444444444444,
              "#bd3786"
             ],
             [
              0.5555555555555556,
              "#d8576b"
             ],
             [
              0.6666666666666666,
              "#ed7953"
             ],
             [
              0.7777777777777778,
              "#fb9f3a"
             ],
             [
              0.8888888888888888,
              "#fdca26"
             ],
             [
              1,
              "#f0f921"
             ]
            ],
            "type": "heatmapgl"
           }
          ],
          "histogram": [
           {
            "marker": {
             "pattern": {
              "fillmode": "overlay",
              "size": 10,
              "solidity": 0.2
             }
            },
            "type": "histogram"
           }
          ],
          "histogram2d": [
           {
            "colorbar": {
             "outlinewidth": 0,
             "ticks": ""
            },
            "colorscale": [
             [
              0,
              "#0d0887"
             ],
             [
              0.1111111111111111,
              "#46039f"
             ],
             [
              0.2222222222222222,
              "#7201a8"
             ],
             [
              0.3333333333333333,
              "#9c179e"
             ],
             [
              0.4444444444444444,
              "#bd3786"
             ],
             [
              0.5555555555555556,
              "#d8576b"
             ],
             [
              0.6666666666666666,
              "#ed7953"
             ],
             [
              0.7777777777777778,
              "#fb9f3a"
             ],
             [
              0.8888888888888888,
              "#fdca26"
             ],
             [
              1,
              "#f0f921"
             ]
            ],
            "type": "histogram2d"
           }
          ],
          "histogram2dcontour": [
           {
            "colorbar": {
             "outlinewidth": 0,
             "ticks": ""
            },
            "colorscale": [
             [
              0,
              "#0d0887"
             ],
             [
              0.1111111111111111,
              "#46039f"
             ],
             [
              0.2222222222222222,
              "#7201a8"
             ],
             [
              0.3333333333333333,
              "#9c179e"
             ],
             [
              0.4444444444444444,
              "#bd3786"
             ],
             [
              0.5555555555555556,
              "#d8576b"
             ],
             [
              0.6666666666666666,
              "#ed7953"
             ],
             [
              0.7777777777777778,
              "#fb9f3a"
             ],
             [
              0.8888888888888888,
              "#fdca26"
             ],
             [
              1,
              "#f0f921"
             ]
            ],
            "type": "histogram2dcontour"
           }
          ],
          "mesh3d": [
           {
            "colorbar": {
             "outlinewidth": 0,
             "ticks": ""
            },
            "type": "mesh3d"
           }
          ],
          "parcoords": [
           {
            "line": {
             "colorbar": {
              "outlinewidth": 0,
              "ticks": ""
             }
            },
            "type": "parcoords"
           }
          ],
          "pie": [
           {
            "automargin": true,
            "type": "pie"
           }
          ],
          "scatter": [
           {
            "fillpattern": {
             "fillmode": "overlay",
             "size": 10,
             "solidity": 0.2
            },
            "type": "scatter"
           }
          ],
          "scatter3d": [
           {
            "line": {
             "colorbar": {
              "outlinewidth": 0,
              "ticks": ""
             }
            },
            "marker": {
             "colorbar": {
              "outlinewidth": 0,
              "ticks": ""
             }
            },
            "type": "scatter3d"
           }
          ],
          "scattercarpet": [
           {
            "marker": {
             "colorbar": {
              "outlinewidth": 0,
              "ticks": ""
             }
            },
            "type": "scattercarpet"
           }
          ],
          "scattergeo": [
           {
            "marker": {
             "colorbar": {
              "outlinewidth": 0,
              "ticks": ""
             }
            },
            "type": "scattergeo"
           }
          ],
          "scattergl": [
           {
            "marker": {
             "colorbar": {
              "outlinewidth": 0,
              "ticks": ""
             }
            },
            "type": "scattergl"
           }
          ],
          "scattermapbox": [
           {
            "marker": {
             "colorbar": {
              "outlinewidth": 0,
              "ticks": ""
             }
            },
            "type": "scattermapbox"
           }
          ],
          "scatterpolar": [
           {
            "marker": {
             "colorbar": {
              "outlinewidth": 0,
              "ticks": ""
             }
            },
            "type": "scatterpolar"
           }
          ],
          "scatterpolargl": [
           {
            "marker": {
             "colorbar": {
              "outlinewidth": 0,
              "ticks": ""
             }
            },
            "type": "scatterpolargl"
           }
          ],
          "scatterternary": [
           {
            "marker": {
             "colorbar": {
              "outlinewidth": 0,
              "ticks": ""
             }
            },
            "type": "scatterternary"
           }
          ],
          "surface": [
           {
            "colorbar": {
             "outlinewidth": 0,
             "ticks": ""
            },
            "colorscale": [
             [
              0,
              "#0d0887"
             ],
             [
              0.1111111111111111,
              "#46039f"
             ],
             [
              0.2222222222222222,
              "#7201a8"
             ],
             [
              0.3333333333333333,
              "#9c179e"
             ],
             [
              0.4444444444444444,
              "#bd3786"
             ],
             [
              0.5555555555555556,
              "#d8576b"
             ],
             [
              0.6666666666666666,
              "#ed7953"
             ],
             [
              0.7777777777777778,
              "#fb9f3a"
             ],
             [
              0.8888888888888888,
              "#fdca26"
             ],
             [
              1,
              "#f0f921"
             ]
            ],
            "type": "surface"
           }
          ],
          "table": [
           {
            "cells": {
             "fill": {
              "color": "#EBF0F8"
             },
             "line": {
              "color": "white"
             }
            },
            "header": {
             "fill": {
              "color": "#C8D4E3"
             },
             "line": {
              "color": "white"
             }
            },
            "type": "table"
           }
          ]
         },
         "layout": {
          "annotationdefaults": {
           "arrowcolor": "#2a3f5f",
           "arrowhead": 0,
           "arrowwidth": 1
          },
          "autotypenumbers": "strict",
          "coloraxis": {
           "colorbar": {
            "outlinewidth": 0,
            "ticks": ""
           }
          },
          "colorscale": {
           "diverging": [
            [
             0,
             "#8e0152"
            ],
            [
             0.1,
             "#c51b7d"
            ],
            [
             0.2,
             "#de77ae"
            ],
            [
             0.3,
             "#f1b6da"
            ],
            [
             0.4,
             "#fde0ef"
            ],
            [
             0.5,
             "#f7f7f7"
            ],
            [
             0.6,
             "#e6f5d0"
            ],
            [
             0.7,
             "#b8e186"
            ],
            [
             0.8,
             "#7fbc41"
            ],
            [
             0.9,
             "#4d9221"
            ],
            [
             1,
             "#276419"
            ]
           ],
           "sequential": [
            [
             0,
             "#0d0887"
            ],
            [
             0.1111111111111111,
             "#46039f"
            ],
            [
             0.2222222222222222,
             "#7201a8"
            ],
            [
             0.3333333333333333,
             "#9c179e"
            ],
            [
             0.4444444444444444,
             "#bd3786"
            ],
            [
             0.5555555555555556,
             "#d8576b"
            ],
            [
             0.6666666666666666,
             "#ed7953"
            ],
            [
             0.7777777777777778,
             "#fb9f3a"
            ],
            [
             0.8888888888888888,
             "#fdca26"
            ],
            [
             1,
             "#f0f921"
            ]
           ],
           "sequentialminus": [
            [
             0,
             "#0d0887"
            ],
            [
             0.1111111111111111,
             "#46039f"
            ],
            [
             0.2222222222222222,
             "#7201a8"
            ],
            [
             0.3333333333333333,
             "#9c179e"
            ],
            [
             0.4444444444444444,
             "#bd3786"
            ],
            [
             0.5555555555555556,
             "#d8576b"
            ],
            [
             0.6666666666666666,
             "#ed7953"
            ],
            [
             0.7777777777777778,
             "#fb9f3a"
            ],
            [
             0.8888888888888888,
             "#fdca26"
            ],
            [
             1,
             "#f0f921"
            ]
           ]
          },
          "colorway": [
           "#636efa",
           "#EF553B",
           "#00cc96",
           "#ab63fa",
           "#FFA15A",
           "#19d3f3",
           "#FF6692",
           "#B6E880",
           "#FF97FF",
           "#FECB52"
          ],
          "font": {
           "color": "#2a3f5f"
          },
          "geo": {
           "bgcolor": "white",
           "lakecolor": "white",
           "landcolor": "#E5ECF6",
           "showlakes": true,
           "showland": true,
           "subunitcolor": "white"
          },
          "hoverlabel": {
           "align": "left"
          },
          "hovermode": "closest",
          "mapbox": {
           "style": "light"
          },
          "paper_bgcolor": "white",
          "plot_bgcolor": "#E5ECF6",
          "polar": {
           "angularaxis": {
            "gridcolor": "white",
            "linecolor": "white",
            "ticks": ""
           },
           "bgcolor": "#E5ECF6",
           "radialaxis": {
            "gridcolor": "white",
            "linecolor": "white",
            "ticks": ""
           }
          },
          "scene": {
           "xaxis": {
            "backgroundcolor": "#E5ECF6",
            "gridcolor": "white",
            "gridwidth": 2,
            "linecolor": "white",
            "showbackground": true,
            "ticks": "",
            "zerolinecolor": "white"
           },
           "yaxis": {
            "backgroundcolor": "#E5ECF6",
            "gridcolor": "white",
            "gridwidth": 2,
            "linecolor": "white",
            "showbackground": true,
            "ticks": "",
            "zerolinecolor": "white"
           },
           "zaxis": {
            "backgroundcolor": "#E5ECF6",
            "gridcolor": "white",
            "gridwidth": 2,
            "linecolor": "white",
            "showbackground": true,
            "ticks": "",
            "zerolinecolor": "white"
           }
          },
          "shapedefaults": {
           "line": {
            "color": "#2a3f5f"
           }
          },
          "ternary": {
           "aaxis": {
            "gridcolor": "white",
            "linecolor": "white",
            "ticks": ""
           },
           "baxis": {
            "gridcolor": "white",
            "linecolor": "white",
            "ticks": ""
           },
           "bgcolor": "#E5ECF6",
           "caxis": {
            "gridcolor": "white",
            "linecolor": "white",
            "ticks": ""
           }
          },
          "title": {
           "x": 0.05
          },
          "xaxis": {
           "automargin": true,
           "gridcolor": "white",
           "linecolor": "white",
           "ticks": "",
           "title": {
            "standoff": 15
           },
           "zerolinecolor": "white",
           "zerolinewidth": 2
          },
          "yaxis": {
           "automargin": true,
           "gridcolor": "white",
           "linecolor": "white",
           "ticks": "",
           "title": {
            "standoff": 15
           },
           "zerolinecolor": "white",
           "zerolinewidth": 2
          }
         }
        },
        "title": {
         "text": "Distribución de ventas total_sales"
        },
        "xaxis": {
         "anchor": "y",
         "domain": [
          0,
          1
         ],
         "title": {
          "text": "month"
         }
        },
        "yaxis": {
         "anchor": "x",
         "domain": [
          0,
          1
         ],
         "title": {
          "text": "total_sales"
         }
        }
       }
      }
     },
     "metadata": {},
     "output_type": "display_data"
    }
   ],
   "source": [
    "crear_boxplot(ph_month_avg,columna_x=\"month\",columna_y=\"total_sales\",titulo=\"sales\")"
   ]
  },
  {
   "cell_type": "code",
   "execution_count": 17,
   "metadata": {},
   "outputs": [
    {
     "data": {
      "text/html": [
       "<div>\n",
       "<style scoped>\n",
       "    .dataframe tbody tr th:only-of-type {\n",
       "        vertical-align: middle;\n",
       "    }\n",
       "\n",
       "    .dataframe tbody tr th {\n",
       "        vertical-align: top;\n",
       "    }\n",
       "\n",
       "    .dataframe thead th {\n",
       "        text-align: right;\n",
       "    }\n",
       "</style>\n",
       "<table border=\"1\" class=\"dataframe\">\n",
       "  <thead>\n",
       "    <tr style=\"text-align: right;\">\n",
       "      <th></th>\n",
       "      <th>stores</th>\n",
       "      <th>week</th>\n",
       "      <th>year</th>\n",
       "      <th>total_sales</th>\n",
       "    </tr>\n",
       "  </thead>\n",
       "  <tbody>\n",
       "    <tr>\n",
       "      <th>0</th>\n",
       "      <td>Midtown_Village(PHI_1)</td>\n",
       "      <td>1</td>\n",
       "      <td>2012</td>\n",
       "      <td>39835.5791</td>\n",
       "    </tr>\n",
       "    <tr>\n",
       "      <th>1</th>\n",
       "      <td>Midtown_Village(PHI_1)</td>\n",
       "      <td>1</td>\n",
       "      <td>2013</td>\n",
       "      <td>129300.1060</td>\n",
       "    </tr>\n",
       "    <tr>\n",
       "      <th>2</th>\n",
       "      <td>Midtown_Village(PHI_1)</td>\n",
       "      <td>1</td>\n",
       "      <td>2014</td>\n",
       "      <td>89589.4248</td>\n",
       "    </tr>\n",
       "    <tr>\n",
       "      <th>3</th>\n",
       "      <td>Midtown_Village(PHI_1)</td>\n",
       "      <td>1</td>\n",
       "      <td>2015</td>\n",
       "      <td>6230.9522</td>\n",
       "    </tr>\n",
       "    <tr>\n",
       "      <th>4</th>\n",
       "      <td>Midtown_Village(PHI_1)</td>\n",
       "      <td>1</td>\n",
       "      <td>2016</td>\n",
       "      <td>106073.6936</td>\n",
       "    </tr>\n",
       "  </tbody>\n",
       "</table>\n",
       "</div>"
      ],
      "text/plain": [
       "                   stores  week  year  total_sales\n",
       "0  Midtown_Village(PHI_1)     1  2012   39835.5791\n",
       "1  Midtown_Village(PHI_1)     1  2013  129300.1060\n",
       "2  Midtown_Village(PHI_1)     1  2014   89589.4248\n",
       "3  Midtown_Village(PHI_1)     1  2015    6230.9522\n",
       "4  Midtown_Village(PHI_1)     1  2016  106073.6936"
      ]
     },
     "execution_count": 17,
     "metadata": {},
     "output_type": "execute_result"
    }
   ],
   "source": [
    "ph_week_year.head()"
   ]
  },
  {
   "cell_type": "code",
   "execution_count": 26,
   "metadata": {},
   "outputs": [
    {
     "data": {
      "application/vnd.plotly.v1+json": {
       "config": {
        "plotlyServerURL": "https://plot.ly"
       },
       "data": [
        {
         "alignmentgroup": "True",
         "hovertemplate": "week=%{x}<br>total_sales=%{y}<extra></extra>",
         "legendgroup": "",
         "marker": {
          "color": "#636efa"
         },
         "name": "",
         "notched": false,
         "offsetgroup": "",
         "orientation": "v",
         "showlegend": false,
         "type": "box",
         "x": [
          1,
          1,
          1,
          1,
          1,
          2,
          2,
          2,
          2,
          2,
          3,
          3,
          3,
          3,
          3,
          4,
          4,
          4,
          4,
          4,
          5,
          5,
          5,
          5,
          5,
          5,
          6,
          6,
          6,
          6,
          6,
          6,
          7,
          7,
          7,
          7,
          7,
          7,
          8,
          8,
          8,
          8,
          8,
          8,
          9,
          9,
          9,
          9,
          9,
          9,
          10,
          10,
          10,
          10,
          10,
          10,
          11,
          11,
          11,
          11,
          11,
          11,
          12,
          12,
          12,
          12,
          12,
          12,
          13,
          13,
          13,
          13,
          13,
          13,
          14,
          14,
          14,
          14,
          14,
          14,
          15,
          15,
          15,
          15,
          15,
          15,
          16,
          16,
          16,
          16,
          16,
          16,
          17,
          17,
          17,
          17,
          17,
          18,
          18,
          18,
          18,
          18,
          19,
          19,
          19,
          19,
          19,
          20,
          20,
          20,
          20,
          20,
          21,
          21,
          21,
          21,
          21,
          22,
          22,
          22,
          22,
          22,
          23,
          23,
          23,
          23,
          23,
          24,
          24,
          24,
          24,
          24,
          25,
          25,
          25,
          25,
          25,
          26,
          26,
          26,
          26,
          26,
          27,
          27,
          27,
          27,
          27,
          28,
          28,
          28,
          28,
          28,
          29,
          29,
          29,
          29,
          29,
          30,
          30,
          30,
          30,
          30,
          31,
          31,
          31,
          31,
          31,
          32,
          32,
          32,
          32,
          32,
          33,
          33,
          33,
          33,
          33,
          34,
          34,
          34,
          34,
          34,
          35,
          35,
          35,
          35,
          35,
          36,
          36,
          36,
          36,
          36,
          37,
          37,
          37,
          37,
          37,
          38,
          38,
          38,
          38,
          38,
          39,
          39,
          39,
          39,
          39,
          40,
          40,
          40,
          40,
          40,
          41,
          41,
          41,
          41,
          41,
          42,
          42,
          42,
          42,
          42,
          43,
          43,
          43,
          43,
          43,
          44,
          44,
          44,
          44,
          44,
          45,
          45,
          45,
          45,
          45,
          46,
          46,
          46,
          46,
          46,
          47,
          47,
          47,
          47,
          47,
          48,
          48,
          48,
          48,
          48,
          49,
          49,
          49,
          49,
          49,
          50,
          50,
          50,
          50,
          50,
          51,
          51,
          51,
          51,
          51,
          52,
          52,
          52,
          52,
          52,
          1,
          1,
          1,
          1,
          1,
          2,
          2,
          2,
          2,
          2,
          3,
          3,
          3,
          3,
          3,
          4,
          4,
          4,
          4,
          4,
          5,
          5,
          5,
          5,
          5,
          5,
          6,
          6,
          6,
          6,
          6,
          6,
          7,
          7,
          7,
          7,
          7,
          7,
          8,
          8,
          8,
          8,
          8,
          8,
          9,
          9,
          9,
          9,
          9,
          9,
          10,
          10,
          10,
          10,
          10,
          10,
          11,
          11,
          11,
          11,
          11,
          11,
          12,
          12,
          12,
          12,
          12,
          12,
          13,
          13,
          13,
          13,
          13,
          13,
          14,
          14,
          14,
          14,
          14,
          14,
          15,
          15,
          15,
          15,
          15,
          15,
          16,
          16,
          16,
          16,
          16,
          16,
          17,
          17,
          17,
          17,
          17,
          18,
          18,
          18,
          18,
          18,
          19,
          19,
          19,
          19,
          19,
          20,
          20,
          20,
          20,
          20,
          21,
          21,
          21,
          21,
          21,
          22,
          22,
          22,
          22,
          22,
          23,
          23,
          23,
          23,
          23,
          24,
          24,
          24,
          24,
          24,
          25,
          25,
          25,
          25,
          25,
          26,
          26,
          26,
          26,
          26,
          27,
          27,
          27,
          27,
          27,
          28,
          28,
          28,
          28,
          28,
          29,
          29,
          29,
          29,
          29,
          30,
          30,
          30,
          30,
          30,
          31,
          31,
          31,
          31,
          31,
          32,
          32,
          32,
          32,
          32,
          33,
          33,
          33,
          33,
          33,
          34,
          34,
          34,
          34,
          34,
          35,
          35,
          35,
          35,
          35,
          36,
          36,
          36,
          36,
          36,
          37,
          37,
          37,
          37,
          37,
          38,
          38,
          38,
          38,
          38,
          39,
          39,
          39,
          39,
          39,
          40,
          40,
          40,
          40,
          40,
          41,
          41,
          41,
          41,
          41,
          42,
          42,
          42,
          42,
          42,
          43,
          43,
          43,
          43,
          43,
          44,
          44,
          44,
          44,
          44,
          45,
          45,
          45,
          45,
          45,
          46,
          46,
          46,
          46,
          46,
          47,
          47,
          47,
          47,
          47,
          48,
          48,
          48,
          48,
          48,
          49,
          49,
          49,
          49,
          49,
          50,
          50,
          50,
          50,
          50,
          51,
          51,
          51,
          51,
          51,
          52,
          52,
          52,
          52,
          52,
          1,
          1,
          1,
          1,
          1,
          2,
          2,
          2,
          2,
          2,
          3,
          3,
          3,
          3,
          3,
          4,
          4,
          4,
          4,
          4,
          5,
          5,
          5,
          5,
          5,
          5,
          6,
          6,
          6,
          6,
          6,
          6,
          7,
          7,
          7,
          7,
          7,
          7,
          8,
          8,
          8,
          8,
          8,
          8,
          9,
          9,
          9,
          9,
          9,
          9,
          10,
          10,
          10,
          10,
          10,
          10,
          11,
          11,
          11,
          11,
          11,
          11,
          12,
          12,
          12,
          12,
          12,
          12,
          13,
          13,
          13,
          13,
          13,
          13,
          14,
          14,
          14,
          14,
          14,
          14,
          15,
          15,
          15,
          15,
          15,
          15,
          16,
          16,
          16,
          16,
          16,
          16,
          17,
          17,
          17,
          17,
          17,
          18,
          18,
          18,
          18,
          18,
          19,
          19,
          19,
          19,
          19,
          20,
          20,
          20,
          20,
          20,
          21,
          21,
          21,
          21,
          21,
          22,
          22,
          22,
          22,
          22,
          23,
          23,
          23,
          23,
          23,
          24,
          24,
          24,
          24,
          24,
          25,
          25,
          25,
          25,
          25,
          26,
          26,
          26,
          26,
          26,
          27,
          27,
          27,
          27,
          27,
          28,
          28,
          28,
          28,
          28,
          29,
          29,
          29,
          29,
          29,
          30,
          30,
          30,
          30,
          30,
          31,
          31,
          31,
          31,
          31,
          32,
          32,
          32,
          32,
          32,
          33,
          33,
          33,
          33,
          33,
          34,
          34,
          34,
          34,
          34,
          35,
          35,
          35,
          35,
          35,
          36,
          36,
          36,
          36,
          36,
          37,
          37,
          37,
          37,
          37,
          38,
          38,
          38,
          38,
          38,
          39,
          39,
          39,
          39,
          39,
          40,
          40,
          40,
          40,
          40,
          41,
          41,
          41,
          41,
          41,
          42,
          42,
          42,
          42,
          42,
          43,
          43,
          43,
          43,
          43,
          44,
          44,
          44,
          44,
          44,
          45,
          45,
          45,
          45,
          45,
          46,
          46,
          46,
          46,
          46,
          47,
          47,
          47,
          47,
          47,
          48,
          48,
          48,
          48,
          48,
          49,
          49,
          49,
          49,
          49,
          50,
          50,
          50,
          50,
          50,
          51,
          51,
          51,
          51,
          51,
          52,
          52,
          52,
          52,
          52
         ],
         "x0": " ",
         "xaxis": "x",
         "y": [
          39835.5791,
          129300.106,
          89589.4248,
          6230.9522,
          106073.6936,
          37719.5894,
          68689.5711,
          74912.882,
          86443.9247,
          95158.8702,
          38528.8155,
          72989.659,
          71278.1247,
          93724.1324,
          92071.4001,
          40178.0021,
          61506.8392,
          64463.3439,
          82946.5524,
          97897.0581,
          39805.7599,
          43622.2116,
          63117.415,
          71098.9574,
          86361.9207,
          92645.3295,
          42421.0369,
          42300.3452,
          67685.6215,
          71794.972,
          99795.6594,
          105762.5577,
          38403.9013,
          44034.624,
          71339.2922,
          75637.8624,
          96945.5932,
          99435.1263,
          39025.212400000004,
          44661.8353,
          64495.9997,
          76935.7041,
          90091.5193,
          96497.5292,
          38336.9833,
          44988.7643,
          70337.4855,
          77405.8449,
          95095.63220000001,
          97934.2678,
          38389.902200000004,
          44692.4224,
          59735.5045,
          76665.9553,
          94612.1125,
          97285.7265,
          38933.2851,
          44579.9888,
          66021.3537,
          77513.68950000001,
          89786.9717,
          95284.13190000001,
          37449.2075,
          43378.409700000004,
          66462.4403,
          72075.1408,
          81630.65060000001,
          96097.7868,
          40502.6884,
          44218.8429,
          66552.68000000001,
          71145.0137,
          82924.4512,
          99475.7,
          36428.926400000004,
          43580.6652,
          65063.1353,
          77597.8071,
          87786.9511,
          104491.653,
          37420.7848,
          43528.5535,
          64921.5957,
          79513.1839,
          89371.836,
          98745.9846,
          34491.7825,
          41840.999,
          60504.2861,
          78612.3435,
          88150.6815,
          87267.447,
          38385.8436,
          44277.3738,
          58022.4253,
          75660.4776,
          88147.5521,
          35318.8499,
          44499.2855,
          61581.8321,
          78164.7709,
          87910.6041,
          38670.0835,
          41850.0758,
          62650.094900000004,
          75469.0959,
          90083.8405,
          35409.5259,
          45008.3223,
          64390.2069,
          79328.1665,
          89717.8576,
          34974.8255,
          45029.4458,
          63782.0753,
          75711.1275,
          85959.6861,
          39015.057,
          45922.3791,
          67504.8054,
          77322.9674,
          87604.922,
          38121.1621,
          45290.4092,
          67955.744,
          81696.9759,
          94015.105,
          38855.4964,
          48213.3428,
          64957.6667,
          78252.0285,
          91253.8368,
          37370.1681,
          46165.5072,
          66970.7239,
          81560.9764,
          84314.5878,
          36714.5568,
          46748.9783,
          65328.5483,
          75156.4546,
          82906.8792,
          40174.4998,
          46824.5959,
          66457.0624,
          84357.1215,
          93376.8347,
          38848.0474,
          44097.7503,
          72473.3446,
          84989.61260000001,
          90937.7237,
          37460.4332,
          43940.0688,
          68351.2095,
          79134.5668,
          92599.6636,
          37360.7299,
          42988.0668,
          65360.3096,
          75095.7076,
          84511.7298,
          36227.5593,
          43395.539,
          67179.5106,
          80479.3304,
          92518.0351,
          37244.0472,
          40705.3238,
          67453.5272,
          77415.2269,
          84627.9915,
          35616.8533,
          44916.5858,
          68705.4691,
          85045.9017,
          86129.9753,
          36319.0389,
          44642.334,
          65732.0288,
          82708.5873,
          85563.7372,
          40007.563500000004,
          48183.9599,
          71780.4888,
          87710.9796,
          89174.247,
          37856.8154,
          40525.1203,
          64897.647,
          80978.4813,
          88653.6033,
          38802.4173,
          45447.654800000004,
          71926.9824,
          85977.2219,
          89379.9308,
          38036.9922,
          44389.2624,
          64040.3671,
          79536.1208,
          86221.487,
          40390.952,
          40418.716,
          64461.549100000004,
          79324.1378,
          84832.921,
          37580.1641,
          38926.919,
          68063.02,
          87352.7678,
          93152.39,
          40575.8877,
          35979.1176,
          68975.3913,
          84657.65120000001,
          92960.4751,
          38115.3051,
          24018.4618,
          66224.4299,
          86467.1088,
          90245.6362,
          39417.0315,
          55241.7061,
          67432.8331,
          82462.6248,
          90588.0834,
          38861.253600000004,
          75819.5261,
          68997.635,
          85830.3632,
          90768.9353,
          37713.5147,
          73475.4835,
          67663.5578,
          87092.2958,
          90980.9806,
          36822.3898,
          69305.6795,
          66271.0063,
          85686.4435,
          92200.9875,
          34872.3752,
          61140.1135,
          68474.2749,
          84606.7782,
          91383.1896,
          40849.1853,
          67607.5798,
          63917.8509,
          77396.348,
          80683.735,
          38961.852100000004,
          73309.0305,
          71776.689,
          91896.2353,
          103456.8032,
          40203.4678,
          71566.7367,
          70370.5958,
          86166.6364,
          94335.3345,
          35846.8424,
          75363.8065,
          74738.0198,
          89980.8962,
          98341.3423,
          38083.2966,
          58377.041900000004,
          60416.2395,
          72842.0273,
          71530.7631,
          89119.0964,
          154252.4295,
          78005.385,
          5045.5289999999995,
          102650.9954,
          91165.5801,
          90107.4547,
          77880.4618,
          76457.2329,
          92777.9018,
          72328.6928,
          82860.6948,
          72851.388,
          76870.3121,
          78776.7853,
          67254.8399,
          71210.4429,
          59208.224,
          61855.6485,
          86271.0277,
          86035.3316,
          98025.3764,
          85110.3646,
          71945.5968,
          68529.32,
          96596.1781,
          81855.0223,
          97483.0053,
          98860.09790000001,
          73772.4135,
          90692.4361,
          110582.5585,
          71798.0263,
          86105.122,
          98529.9249,
          79752.9768,
          86899.5371,
          91865.5758,
          64316.7138,
          72422.9779,
          79077.1949,
          72788.9207,
          72608.8143,
          85309.2476,
          78009.9756,
          89849.8114,
          94669.0492,
          73247.12240000001,
          78529.2476,
          101510.5853,
          74983.6262,
          98463.7607,
          94692.4038,
          78029.9086,
          81110.9109,
          99330.0401,
          68137.8275,
          86812.1107,
          92471.2586,
          79686.8743,
          83961.0323,
          90647.1042,
          59498.7211,
          76775.0894,
          77357.6888,
          64957.1293,
          67915.2573,
          84261.1917,
          67835.2912,
          78616.2171,
          76257.9957,
          61528.2186,
          65066.8894,
          95438.6492,
          70128.8434,
          91007.7462,
          96073.5931,
          72303.994,
          79536.20420000001,
          105455.3368,
          68660.4685,
          92835.1915,
          79673.5409,
          70888.4912,
          83900.2441,
          97172.7179,
          58272.5446,
          72537.3213,
          61038.501000000004,
          63725.4475,
          78921.64,
          79774.8991,
          60726.355,
          72747.3829,
          55567.0449,
          57185.5171,
          69823.6771,
          65601.6019,
          99743.8307,
          69239.0507,
          65962.4378,
          77371.6236,
          70333.8671,
          95542.5598,
          69582.9839,
          66897.0105,
          80201.609,
          56980.7624,
          86117.8547,
          65302.3064,
          65755.5707,
          78653.6747,
          54417.1081,
          74416.6868,
          58223.2795,
          56255.2136,
          68121.6645,
          72808.9668,
          87492.3473,
          67158.016,
          59553.3222,
          67249.9063,
          74026.8867,
          97284.7124,
          70141.2217,
          69004.2881,
          80808.1472,
          66668.9424,
          93748.5106,
          68465.289,
          67999.6792,
          79558.3859,
          57756.8316,
          83996.2996,
          61402.6112,
          60172.2516,
          70663.1289,
          63930.8966,
          86034.5629,
          59592.6601,
          52233.2885,
          64423.3385,
          76554.5056,
          105244.1793,
          76548.7327,
          69132.729,
          83688.0702,
          74384.3662,
          97916.2899,
          76542.4898,
          70367.7346,
          83475.408,
          64679.543600000005,
          80723.7426,
          65036.0934,
          61768.598,
          78937.2241,
          62117.7448,
          73800.8649,
          58051.519,
          53317.4062,
          68120.45420000001,
          76137.8475,
          92704.0906,
          71707.1185,
          65381.1361,
          76575.1079,
          77465.3903,
          90946.9368,
          72130.917,
          64107.8463,
          78975.3192,
          64463.8954,
          86016.3989,
          70486.9292,
          65880.4861,
          78436.1801,
          58685.9985,
          74268.2063,
          63287.3075,
          60236.5871,
          67281.4104,
          71054.4856,
          88078.72,
          70213.6327,
          63539.688500000004,
          68993.8798,
          78594.1506,
          93789.4119,
          75435.3378,
          74553.2648,
          81350.8719,
          74980.1855,
          93760.0358,
          77839.135,
          72301.1493,
          82125.4691,
          64207.1568,
          79010.5457,
          62197.0374,
          59632.895300000004,
          78285.7086,
          75348.9985,
          80519.8801,
          61829.5725,
          57724.4358,
          71365.5773,
          81548.7012,
          95116.637,
          79500.6318,
          78609.8873,
          87665.38190000001,
          84654.1171,
          94368.2421,
          76851.7306,
          72524.437,
          89868.3585,
          65093.932,
          74646.386,
          66808.3191,
          70005.2389,
          85512.7571,
          63678.3333,
          70320.764,
          60761.5892,
          62097.8952,
          74952.4031,
          83642.1654,
          85377.3317,
          69990.6884,
          69368.8763,
          80055.5295,
          82807.0247,
          89983.8425,
          71571.6119,
          75337.7127,
          92395.1284,
          71136.16040000001,
          80628.489,
          67888.9056,
          72406.2671,
          87787.3364,
          59130.0522,
          67641.2452,
          59903.7516,
          62101.5061,
          78882.0568,
          77625.4538,
          79748.2752,
          62480.892,
          61557.5811,
          73223.3174,
          85509.3696,
          86711.1353,
          71600.9042,
          74335.2185,
          90916.4315,
          79283.7536,
          86555.9611,
          71471.2855,
          72258.3607,
          86218.5768,
          62954.7855,
          78593.8635,
          64815.4562,
          65052.6891,
          82229.6312,
          72405.059,
          65344.0829,
          55429.3644,
          56128.5892,
          60476.1956,
          40001.0067,
          166279.4335,
          105815.0079,
          7081.0068,
          138771.6798,
          40587.3424,
          92143.0678,
          91067.9385,
          108759.124,
          126503.2036,
          37891.7728,
          84297.6593,
          89587.156,
          98253.3888,
          101537.7495,
          38237.3338,
          66882.8775,
          70260.5293,
          77285.6936,
          115458.1459,
          47899.1703,
          50321.3405,
          85838.8408,
          87352.6814,
          95707.8018,
          141685.2884,
          42965.0523,
          48117.9835,
          103998.9995,
          97663.548,
          122446.2555,
          159499.7627,
          40828.1135,
          41192.6339,
          104352.2608,
          106661.8368,
          116621.3268,
          126560.6737,
          37065.1545,
          37958.2087,
          81735.401,
          89222.1867,
          92450.5435,
          113225.7722,
          41643.4315,
          45847.7492,
          94404.7894,
          98560.5849,
          95146.3428,
          147328.7726,
          39598.392,
          40688.6146,
          94485.9063,
          104042.6802,
          112052.4219,
          143080.5972,
          36701.5898,
          38445.3254,
          91488.0481,
          103212.5037,
          110400.7136,
          126642.9668,
          32554.0636,
          34661.507900000004,
          73023.5805,
          79026.6121,
          85685.1105,
          107142.1307,
          39147.0456,
          39915.2108,
          73660.0037,
          78889.3787,
          79775.8897,
          128753.1923,
          35591.8382,
          40576.635800000004,
          95585.6104,
          102112.9587,
          102039.7593,
          154765.6093,
          35997.8729,
          40541.1894,
          92894.9273,
          102662.5664,
          110021.2267,
          134628.3013,
          30345.4205,
          32262.4299,
          74968.8815,
          84142.3621,
          95531.9146,
          101212.7177,
          34807.2581,
          31698.2898,
          62479.932,
          76659.1613,
          86501.3153,
          33449.504,
          43658.427,
          88709.4746,
          95854.81970000001,
          99165.7929,
          34881.6555,
          44421.949,
          85693.4667,
          97419.4863,
          105880.58380000001,
          30632.4215,
          45241.683300000004,
          83480.1633,
          97531.5143,
          104657.4418,
          30067.8944,
          46977.6631,
          68419.41,
          72830.6685,
          81756.3313,
          40923.2395,
          66030.5717,
          83277.1479,
          81968.0412,
          84864.6522,
          39893.6997,
          78652.7546,
          89821.2468,
          108219.6254,
          108401.0918,
          35030.2591,
          70331.1217,
          91383.1346,
          98419.747,
          108007.771,
          32821.025200000004,
          59857.7926,
          70667.3172,
          82318.4325,
          86098.8639,
          34663.164300000004,
          68529.2553,
          72670.9734,
          74672.4511,
          74439.938,
          39589.7579,
          86994.0539,
          92406.6721,
          105055.1598,
          104411.5427,
          39629.4128,
          83508.0462,
          96422.3254,
          104061.992,
          105320.9239,
          35517.1082,
          63889.0029,
          75638.2641,
          84952.4317,
          102908.8779,
          35347.0054,
          58013.3499,
          64497.0573,
          70224.2528,
          81364.6591,
          38046.6196,
          86894.9696,
          88852.6469,
          94124.3837,
          100220.20420000001,
          36782.0862,
          83361.1734,
          93080.8722,
          96309.8221,
          106426.5456,
          34094.707800000004,
          78021.4602,
          87776.1841,
          94799.2786,
          107989.8264,
          35081.9451,
          66304.5915,
          72235.1668,
          82635.1323,
          86954.1181,
          38648.7441,
          88233.704,
          86974.8057,
          93385.1272,
          95477.5561,
          39160.8386,
          87993.4279,
          100068.3898,
          104726.7289,
          117601.7176,
          36616.3148,
          91976.9789,
          103058.1494,
          109874.6039,
          121297.3449,
          32279.1846,
          69873.1013,
          77332.2766,
          84008.7469,
          102364.3646,
          39703.378600000004,
          70252.603,
          76446.3315,
          79534.3761,
          89905.6182,
          36890.6481,
          89777.149,
          104458.8319,
          114214.0445,
          122828.6323,
          39163.3619,
          91390.9883,
          107025.8793,
          112373.2451,
          129902.1711,
          31224.2944,
          66290.12240000001,
          85027.3623,
          104977.5036,
          112698.64600000001,
          33561.256,
          63169.9982,
          74700.1979,
          82851.9792,
          92489.5443,
          40280.8357,
          83084.1003,
          88178.3091,
          101740.7059,
          101043.2625,
          36319.8981,
          89100.4866,
          97010.853,
          113440.8651,
          122880.1854,
          33923.3187,
          78910.1767,
          90617.6,
          107174.4114,
          113787.2755,
          30069.1447,
          57875.4129,
          73174.0976,
          84068.0243,
          94176.0114,
          39325.5839,
          76541.7812,
          71337.7753,
          74848.9691,
          75176.8075,
          36775.5023,
          84950.0686,
          95629.5902,
          112440.2306,
          122850.6893,
          37663.5284,
          85503.7,
          96584.958,
          108372.297,
          116120.8964,
          31970.4983,
          75288.8719,
          77005.925,
          82818.3858,
          101459.0556,
          36956.6078,
          58179.2119,
          57035.9661,
          62061.2177,
          62164.0047
         ],
         "y0": " ",
         "yaxis": "y"
        }
       ],
       "layout": {
        "boxmode": "group",
        "legend": {
         "tracegroupgap": 0
        },
        "template": {
         "data": {
          "bar": [
           {
            "error_x": {
             "color": "#2a3f5f"
            },
            "error_y": {
             "color": "#2a3f5f"
            },
            "marker": {
             "line": {
              "color": "#E5ECF6",
              "width": 0.5
             },
             "pattern": {
              "fillmode": "overlay",
              "size": 10,
              "solidity": 0.2
             }
            },
            "type": "bar"
           }
          ],
          "barpolar": [
           {
            "marker": {
             "line": {
              "color": "#E5ECF6",
              "width": 0.5
             },
             "pattern": {
              "fillmode": "overlay",
              "size": 10,
              "solidity": 0.2
             }
            },
            "type": "barpolar"
           }
          ],
          "carpet": [
           {
            "aaxis": {
             "endlinecolor": "#2a3f5f",
             "gridcolor": "white",
             "linecolor": "white",
             "minorgridcolor": "white",
             "startlinecolor": "#2a3f5f"
            },
            "baxis": {
             "endlinecolor": "#2a3f5f",
             "gridcolor": "white",
             "linecolor": "white",
             "minorgridcolor": "white",
             "startlinecolor": "#2a3f5f"
            },
            "type": "carpet"
           }
          ],
          "choropleth": [
           {
            "colorbar": {
             "outlinewidth": 0,
             "ticks": ""
            },
            "type": "choropleth"
           }
          ],
          "contour": [
           {
            "colorbar": {
             "outlinewidth": 0,
             "ticks": ""
            },
            "colorscale": [
             [
              0,
              "#0d0887"
             ],
             [
              0.1111111111111111,
              "#46039f"
             ],
             [
              0.2222222222222222,
              "#7201a8"
             ],
             [
              0.3333333333333333,
              "#9c179e"
             ],
             [
              0.4444444444444444,
              "#bd3786"
             ],
             [
              0.5555555555555556,
              "#d8576b"
             ],
             [
              0.6666666666666666,
              "#ed7953"
             ],
             [
              0.7777777777777778,
              "#fb9f3a"
             ],
             [
              0.8888888888888888,
              "#fdca26"
             ],
             [
              1,
              "#f0f921"
             ]
            ],
            "type": "contour"
           }
          ],
          "contourcarpet": [
           {
            "colorbar": {
             "outlinewidth": 0,
             "ticks": ""
            },
            "type": "contourcarpet"
           }
          ],
          "heatmap": [
           {
            "colorbar": {
             "outlinewidth": 0,
             "ticks": ""
            },
            "colorscale": [
             [
              0,
              "#0d0887"
             ],
             [
              0.1111111111111111,
              "#46039f"
             ],
             [
              0.2222222222222222,
              "#7201a8"
             ],
             [
              0.3333333333333333,
              "#9c179e"
             ],
             [
              0.4444444444444444,
              "#bd3786"
             ],
             [
              0.5555555555555556,
              "#d8576b"
             ],
             [
              0.6666666666666666,
              "#ed7953"
             ],
             [
              0.7777777777777778,
              "#fb9f3a"
             ],
             [
              0.8888888888888888,
              "#fdca26"
             ],
             [
              1,
              "#f0f921"
             ]
            ],
            "type": "heatmap"
           }
          ],
          "heatmapgl": [
           {
            "colorbar": {
             "outlinewidth": 0,
             "ticks": ""
            },
            "colorscale": [
             [
              0,
              "#0d0887"
             ],
             [
              0.1111111111111111,
              "#46039f"
             ],
             [
              0.2222222222222222,
              "#7201a8"
             ],
             [
              0.3333333333333333,
              "#9c179e"
             ],
             [
              0.4444444444444444,
              "#bd3786"
             ],
             [
              0.5555555555555556,
              "#d8576b"
             ],
             [
              0.6666666666666666,
              "#ed7953"
             ],
             [
              0.7777777777777778,
              "#fb9f3a"
             ],
             [
              0.8888888888888888,
              "#fdca26"
             ],
             [
              1,
              "#f0f921"
             ]
            ],
            "type": "heatmapgl"
           }
          ],
          "histogram": [
           {
            "marker": {
             "pattern": {
              "fillmode": "overlay",
              "size": 10,
              "solidity": 0.2
             }
            },
            "type": "histogram"
           }
          ],
          "histogram2d": [
           {
            "colorbar": {
             "outlinewidth": 0,
             "ticks": ""
            },
            "colorscale": [
             [
              0,
              "#0d0887"
             ],
             [
              0.1111111111111111,
              "#46039f"
             ],
             [
              0.2222222222222222,
              "#7201a8"
             ],
             [
              0.3333333333333333,
              "#9c179e"
             ],
             [
              0.4444444444444444,
              "#bd3786"
             ],
             [
              0.5555555555555556,
              "#d8576b"
             ],
             [
              0.6666666666666666,
              "#ed7953"
             ],
             [
              0.7777777777777778,
              "#fb9f3a"
             ],
             [
              0.8888888888888888,
              "#fdca26"
             ],
             [
              1,
              "#f0f921"
             ]
            ],
            "type": "histogram2d"
           }
          ],
          "histogram2dcontour": [
           {
            "colorbar": {
             "outlinewidth": 0,
             "ticks": ""
            },
            "colorscale": [
             [
              0,
              "#0d0887"
             ],
             [
              0.1111111111111111,
              "#46039f"
             ],
             [
              0.2222222222222222,
              "#7201a8"
             ],
             [
              0.3333333333333333,
              "#9c179e"
             ],
             [
              0.4444444444444444,
              "#bd3786"
             ],
             [
              0.5555555555555556,
              "#d8576b"
             ],
             [
              0.6666666666666666,
              "#ed7953"
             ],
             [
              0.7777777777777778,
              "#fb9f3a"
             ],
             [
              0.8888888888888888,
              "#fdca26"
             ],
             [
              1,
              "#f0f921"
             ]
            ],
            "type": "histogram2dcontour"
           }
          ],
          "mesh3d": [
           {
            "colorbar": {
             "outlinewidth": 0,
             "ticks": ""
            },
            "type": "mesh3d"
           }
          ],
          "parcoords": [
           {
            "line": {
             "colorbar": {
              "outlinewidth": 0,
              "ticks": ""
             }
            },
            "type": "parcoords"
           }
          ],
          "pie": [
           {
            "automargin": true,
            "type": "pie"
           }
          ],
          "scatter": [
           {
            "fillpattern": {
             "fillmode": "overlay",
             "size": 10,
             "solidity": 0.2
            },
            "type": "scatter"
           }
          ],
          "scatter3d": [
           {
            "line": {
             "colorbar": {
              "outlinewidth": 0,
              "ticks": ""
             }
            },
            "marker": {
             "colorbar": {
              "outlinewidth": 0,
              "ticks": ""
             }
            },
            "type": "scatter3d"
           }
          ],
          "scattercarpet": [
           {
            "marker": {
             "colorbar": {
              "outlinewidth": 0,
              "ticks": ""
             }
            },
            "type": "scattercarpet"
           }
          ],
          "scattergeo": [
           {
            "marker": {
             "colorbar": {
              "outlinewidth": 0,
              "ticks": ""
             }
            },
            "type": "scattergeo"
           }
          ],
          "scattergl": [
           {
            "marker": {
             "colorbar": {
              "outlinewidth": 0,
              "ticks": ""
             }
            },
            "type": "scattergl"
           }
          ],
          "scattermapbox": [
           {
            "marker": {
             "colorbar": {
              "outlinewidth": 0,
              "ticks": ""
             }
            },
            "type": "scattermapbox"
           }
          ],
          "scatterpolar": [
           {
            "marker": {
             "colorbar": {
              "outlinewidth": 0,
              "ticks": ""
             }
            },
            "type": "scatterpolar"
           }
          ],
          "scatterpolargl": [
           {
            "marker": {
             "colorbar": {
              "outlinewidth": 0,
              "ticks": ""
             }
            },
            "type": "scatterpolargl"
           }
          ],
          "scatterternary": [
           {
            "marker": {
             "colorbar": {
              "outlinewidth": 0,
              "ticks": ""
             }
            },
            "type": "scatterternary"
           }
          ],
          "surface": [
           {
            "colorbar": {
             "outlinewidth": 0,
             "ticks": ""
            },
            "colorscale": [
             [
              0,
              "#0d0887"
             ],
             [
              0.1111111111111111,
              "#46039f"
             ],
             [
              0.2222222222222222,
              "#7201a8"
             ],
             [
              0.3333333333333333,
              "#9c179e"
             ],
             [
              0.4444444444444444,
              "#bd3786"
             ],
             [
              0.5555555555555556,
              "#d8576b"
             ],
             [
              0.6666666666666666,
              "#ed7953"
             ],
             [
              0.7777777777777778,
              "#fb9f3a"
             ],
             [
              0.8888888888888888,
              "#fdca26"
             ],
             [
              1,
              "#f0f921"
             ]
            ],
            "type": "surface"
           }
          ],
          "table": [
           {
            "cells": {
             "fill": {
              "color": "#EBF0F8"
             },
             "line": {
              "color": "white"
             }
            },
            "header": {
             "fill": {
              "color": "#C8D4E3"
             },
             "line": {
              "color": "white"
             }
            },
            "type": "table"
           }
          ]
         },
         "layout": {
          "annotationdefaults": {
           "arrowcolor": "#2a3f5f",
           "arrowhead": 0,
           "arrowwidth": 1
          },
          "autotypenumbers": "strict",
          "coloraxis": {
           "colorbar": {
            "outlinewidth": 0,
            "ticks": ""
           }
          },
          "colorscale": {
           "diverging": [
            [
             0,
             "#8e0152"
            ],
            [
             0.1,
             "#c51b7d"
            ],
            [
             0.2,
             "#de77ae"
            ],
            [
             0.3,
             "#f1b6da"
            ],
            [
             0.4,
             "#fde0ef"
            ],
            [
             0.5,
             "#f7f7f7"
            ],
            [
             0.6,
             "#e6f5d0"
            ],
            [
             0.7,
             "#b8e186"
            ],
            [
             0.8,
             "#7fbc41"
            ],
            [
             0.9,
             "#4d9221"
            ],
            [
             1,
             "#276419"
            ]
           ],
           "sequential": [
            [
             0,
             "#0d0887"
            ],
            [
             0.1111111111111111,
             "#46039f"
            ],
            [
             0.2222222222222222,
             "#7201a8"
            ],
            [
             0.3333333333333333,
             "#9c179e"
            ],
            [
             0.4444444444444444,
             "#bd3786"
            ],
            [
             0.5555555555555556,
             "#d8576b"
            ],
            [
             0.6666666666666666,
             "#ed7953"
            ],
            [
             0.7777777777777778,
             "#fb9f3a"
            ],
            [
             0.8888888888888888,
             "#fdca26"
            ],
            [
             1,
             "#f0f921"
            ]
           ],
           "sequentialminus": [
            [
             0,
             "#0d0887"
            ],
            [
             0.1111111111111111,
             "#46039f"
            ],
            [
             0.2222222222222222,
             "#7201a8"
            ],
            [
             0.3333333333333333,
             "#9c179e"
            ],
            [
             0.4444444444444444,
             "#bd3786"
            ],
            [
             0.5555555555555556,
             "#d8576b"
            ],
            [
             0.6666666666666666,
             "#ed7953"
            ],
            [
             0.7777777777777778,
             "#fb9f3a"
            ],
            [
             0.8888888888888888,
             "#fdca26"
            ],
            [
             1,
             "#f0f921"
            ]
           ]
          },
          "colorway": [
           "#636efa",
           "#EF553B",
           "#00cc96",
           "#ab63fa",
           "#FFA15A",
           "#19d3f3",
           "#FF6692",
           "#B6E880",
           "#FF97FF",
           "#FECB52"
          ],
          "font": {
           "color": "#2a3f5f"
          },
          "geo": {
           "bgcolor": "white",
           "lakecolor": "white",
           "landcolor": "#E5ECF6",
           "showlakes": true,
           "showland": true,
           "subunitcolor": "white"
          },
          "hoverlabel": {
           "align": "left"
          },
          "hovermode": "closest",
          "mapbox": {
           "style": "light"
          },
          "paper_bgcolor": "white",
          "plot_bgcolor": "#E5ECF6",
          "polar": {
           "angularaxis": {
            "gridcolor": "white",
            "linecolor": "white",
            "ticks": ""
           },
           "bgcolor": "#E5ECF6",
           "radialaxis": {
            "gridcolor": "white",
            "linecolor": "white",
            "ticks": ""
           }
          },
          "scene": {
           "xaxis": {
            "backgroundcolor": "#E5ECF6",
            "gridcolor": "white",
            "gridwidth": 2,
            "linecolor": "white",
            "showbackground": true,
            "ticks": "",
            "zerolinecolor": "white"
           },
           "yaxis": {
            "backgroundcolor": "#E5ECF6",
            "gridcolor": "white",
            "gridwidth": 2,
            "linecolor": "white",
            "showbackground": true,
            "ticks": "",
            "zerolinecolor": "white"
           },
           "zaxis": {
            "backgroundcolor": "#E5ECF6",
            "gridcolor": "white",
            "gridwidth": 2,
            "linecolor": "white",
            "showbackground": true,
            "ticks": "",
            "zerolinecolor": "white"
           }
          },
          "shapedefaults": {
           "line": {
            "color": "#2a3f5f"
           }
          },
          "ternary": {
           "aaxis": {
            "gridcolor": "white",
            "linecolor": "white",
            "ticks": ""
           },
           "baxis": {
            "gridcolor": "white",
            "linecolor": "white",
            "ticks": ""
           },
           "bgcolor": "#E5ECF6",
           "caxis": {
            "gridcolor": "white",
            "linecolor": "white",
            "ticks": ""
           }
          },
          "title": {
           "x": 0.05
          },
          "xaxis": {
           "automargin": true,
           "gridcolor": "white",
           "linecolor": "white",
           "ticks": "",
           "title": {
            "standoff": 15
           },
           "zerolinecolor": "white",
           "zerolinewidth": 2
          },
          "yaxis": {
           "automargin": true,
           "gridcolor": "white",
           "linecolor": "white",
           "ticks": "",
           "title": {
            "standoff": 15
           },
           "zerolinecolor": "white",
           "zerolinewidth": 2
          }
         }
        },
        "title": {
         "text": "Distribución de ventas total_sales"
        },
        "xaxis": {
         "anchor": "y",
         "domain": [
          0,
          1
         ],
         "title": {
          "text": "week"
         }
        },
        "yaxis": {
         "anchor": "x",
         "domain": [
          0,
          1
         ],
         "title": {
          "text": "total_sales"
         }
        }
       }
      }
     },
     "metadata": {},
     "output_type": "display_data"
    }
   ],
   "source": [
    "crear_boxplot(ph_week_year,columna_x=\"week\",columna_y=\"total_sales\",titulo=\"sales\")"
   ]
  },
  {
   "cell_type": "code",
   "execution_count": 54,
   "metadata": {},
   "outputs": [],
   "source": [
    "ph_month_year= df_ph.groupby([\"stores\",\"month\",\"year\"])[\"total_sales\"].sum().reset_index()\n"
   ]
  },
  {
   "cell_type": "code",
   "execution_count": 64,
   "metadata": {},
   "outputs": [],
   "source": [
    "import plotly.express as px\n",
    "\n",
    "def crear_boxplot_by_year(datos, columna_x, columna_y, titulo):\n",
    "    \"\"\"\n",
    "    Función para crear un boxplot con subgráficos por año utilizando Plotly Express.\n",
    "\n",
    "    Parámetros:\n",
    "    - datos: DataFrame de pandas que contiene los datos.\n",
    "    - columna_x: Nombre de la columna que se utilizará en el eje x.\n",
    "    - columna_y: Nombre de la columna que se utilizará en el eje y.\n",
    "    - titulo: Título del gráfico.\n",
    "    \"\"\"\n",
    "    fig = px.box(datos, x=columna_x, y=columna_y, title=titulo, facet_col='year', facet_col_spacing=0.1)\n",
    "    fig.update_layout(height=400, width=1000)  # Ajusta el tamaño de la figura\n",
    "    fig.show()\n",
    "\n",
    "# Ejemplo de uso:\n",
    "# Supongamos que tienes un DataFrame llamado 'datos' con columnas 'columna1', 'columna2' y 'año':\n",
    "# crear_boxplot(datos, 'columna1', 'columna2', 'Boxplot de columna1 vs columna2 por año')\n"
   ]
  },
  {
   "cell_type": "code",
   "execution_count": 65,
   "metadata": {},
   "outputs": [
    {
     "data": {
      "application/vnd.plotly.v1+json": {
       "config": {
        "plotlyServerURL": "https://plot.ly"
       },
       "data": [
        {
         "alignmentgroup": "True",
         "hovertemplate": "year=2011<br>month=%{x}<br>total_sales=%{y}<extra></extra>",
         "legendgroup": "",
         "marker": {
          "color": "#636efa"
         },
         "name": "",
         "notched": false,
         "offsetgroup": "",
         "orientation": "v",
         "showlegend": false,
         "type": "box",
         "x": [
          1,
          2,
          3,
          4,
          5,
          6,
          7,
          8,
          9,
          10,
          11,
          12,
          1,
          2,
          3,
          4,
          5,
          6,
          7,
          8,
          9,
          10,
          11,
          12,
          1,
          2,
          3,
          4,
          5,
          6,
          7,
          8,
          9,
          10,
          11,
          12
         ],
         "x0": " ",
         "xaxis": "x",
         "y": [
          42600.842300000004,
          155154.0398,
          153114.9447,
          148903.9995,
          182681.1694,
          153358.7836,
          153197.5372,
          182777.3657,
          154694.6513,
          196079.34040000002,
          148287.93170000002,
          155842.9492,
          81643.3603,
          294803.1372,
          280607.1014,
          264897.2787,
          308070.6594,
          271237.2635,
          279545.3486,
          338870.8765,
          288859.3065,
          370311.9291,
          296706.7577,
          305374.7685,
          42628.8683,
          163162.1074,
          150433.8313,
          141087.7236,
          163849.3249,
          148658.6843,
          149388.5388,
          179343.4382,
          146705.9461,
          180553.6625,
          140598.4097,
          145718.3129
         ],
         "y0": " ",
         "yaxis": "y"
        },
        {
         "alignmentgroup": "True",
         "hovertemplate": "year=2012<br>month=%{x}<br>total_sales=%{y}<extra></extra>",
         "legendgroup": "",
         "marker": {
          "color": "#636efa"
         },
         "name": "",
         "notched": false,
         "offsetgroup": "",
         "orientation": "v",
         "showlegend": false,
         "type": "box",
         "x": [
          1,
          2,
          3,
          4,
          5,
          6,
          7,
          8,
          9,
          10,
          11,
          12,
          1,
          2,
          3,
          4,
          5,
          6,
          7,
          8,
          9,
          10,
          11,
          12,
          1,
          2,
          3,
          4,
          5,
          6,
          7,
          8,
          9,
          10,
          11,
          12
         ],
         "x0": " ",
         "xaxis": "x2",
         "y": [
          156373.1821,
          174561.1536,
          177606.6852,
          217464.4602,
          176406.0831,
          185554.6588,
          224599.4601,
          173679.1826,
          178542.38940000001,
          194906.1971,
          279410.826,
          346196.6699,
          319914.19670000003,
          353999.8941,
          351897.3482,
          407759.2117,
          355839.2813,
          362482.1919,
          443747.6476,
          343927.3496,
          354618.9884,
          414971.9092,
          323631.8394,
          396952.387,
          156758.4612,
          177589.75400000002,
          159622.5962,
          185000.6731,
          180332.549,
          274842.6576,
          360940.2497,
          314573.6922,
          338069.0121,
          380880.8609,
          308976.703,
          380437.1151
         ],
         "y0": " ",
         "yaxis": "y2"
        },
        {
         "alignmentgroup": "True",
         "hovertemplate": "year=2013<br>month=%{x}<br>total_sales=%{y}<extra></extra>",
         "legendgroup": "",
         "marker": {
          "color": "#636efa"
         },
         "name": "",
         "notched": false,
         "offsetgroup": "",
         "orientation": "v",
         "showlegend": false,
         "type": "box",
         "x": [
          1,
          2,
          3,
          4,
          5,
          6,
          7,
          8,
          9,
          10,
          11,
          12,
          1,
          2,
          3,
          4,
          5,
          6,
          7,
          8,
          9,
          10,
          11,
          12,
          1,
          2,
          3,
          4,
          5,
          6,
          7,
          8,
          9,
          10,
          11,
          12
         ],
         "x0": " ",
         "xaxis": "x3",
         "y": [
          332486.1753,
          266638.3284,
          262556.784,
          315064.1224,
          252404.2092,
          267388.94,
          337970.4744,
          269070.5357,
          337107.0344,
          270695.6743,
          271406.474,
          341219.395,
          398431.0219,
          361577.5823,
          359190.4004,
          368610.6756,
          262347.6205,
          267167.1379,
          335771.495,
          277612.2722,
          347514.7154,
          283922.2707,
          269354.9575,
          325797.9023,
          409603.0381,
          375925.5021,
          353402.3243,
          399589.3549,
          326302.5146,
          335148.8465,
          401635.29230000003,
          341944.87,
          443879.953,
          371212.2714,
          348980.85970000003,
          397594.2146
         ],
         "y0": " ",
         "yaxis": "y3"
        },
        {
         "alignmentgroup": "True",
         "hovertemplate": "year=2014<br>month=%{x}<br>total_sales=%{y}<extra></extra>",
         "legendgroup": "",
         "marker": {
          "color": "#636efa"
         },
         "name": "",
         "notched": false,
         "offsetgroup": "",
         "orientation": "v",
         "showlegend": false,
         "type": "box",
         "x": [
          1,
          2,
          3,
          4,
          5,
          6,
          7,
          8,
          9,
          10,
          11,
          12,
          1,
          2,
          3,
          4,
          5,
          6,
          7,
          8,
          9,
          10,
          11,
          12,
          1,
          2,
          3,
          4,
          5,
          6,
          7,
          8,
          9,
          10,
          11,
          12
         ],
         "x0": " ",
         "xaxis": "x4",
         "y": [
          300243.7754,
          295467.4959,
          374805.6442,
          311383.8121,
          308673.1608,
          393989.4028,
          323577.0085,
          325649.0463,
          413526.9414,
          340940.15260000003,
          343215.8807,
          418282.1432,
          287945.4588,
          298259.9078,
          357449.2532,
          264103.4498,
          254870.2326,
          308962.8296,
          254586.4678,
          255606.0556,
          327751.4337,
          283237.4584,
          279214.3622,
          329332.4386,
          356730.6317,
          380900.2529,
          463731.7596,
          365577.0485,
          363636.4888,
          445598.29720000003,
          364293.8363,
          367868.6167,
          471529.583,
          414416.7724,
          406424.0067,
          440541.1002
         ],
         "y0": " ",
         "yaxis": "y4"
        },
        {
         "alignmentgroup": "True",
         "hovertemplate": "year=2015<br>month=%{x}<br>total_sales=%{y}<extra></extra>",
         "legendgroup": "",
         "marker": {
          "color": "#636efa"
         },
         "name": "",
         "notched": false,
         "offsetgroup": "",
         "orientation": "v",
         "showlegend": false,
         "type": "box",
         "x": [
          1,
          2,
          3,
          4,
          5,
          6,
          7,
          8,
          9,
          10,
          11,
          12,
          1,
          2,
          3,
          4,
          5,
          6,
          7,
          8,
          9,
          10,
          11,
          12,
          1,
          2,
          3,
          4,
          5,
          6,
          7,
          8,
          9,
          10,
          11,
          12
         ],
         "x0": " ",
         "xaxis": "x5",
         "y": [
          269345.5617,
          373194.6926,
          444049.8182,
          353457.0207,
          353671.9883,
          440095.3308,
          361425.9518,
          438013.9861,
          349087.9421,
          366946.5847,
          446017.828,
          367664.2431,
          220228.7225,
          318730.1075,
          376583.3375,
          312181.7654,
          304348.5718,
          362702.9068,
          314221.1565,
          370261.8974,
          313127.6269,
          337998.9006,
          412343.3685,
          319840.8351,
          291379.2132,
          427225.9276,
          483060.4785,
          394094.2159,
          391460.1498,
          461812.3169,
          394006.0036,
          497068.2504,
          431169.0453,
          457918.9937,
          507063.54230000003,
          402594.646
         ],
         "y0": " ",
         "yaxis": "y5"
        },
        {
         "alignmentgroup": "True",
         "hovertemplate": "year=2016<br>month=%{x}<br>total_sales=%{y}<extra></extra>",
         "legendgroup": "",
         "marker": {
          "color": "#636efa"
         },
         "name": "",
         "notched": false,
         "offsetgroup": "",
         "orientation": "v",
         "showlegend": false,
         "type": "box",
         "x": [
          1,
          2,
          3,
          4,
          1,
          2,
          3,
          4,
          1,
          2,
          3,
          4
         ],
         "x0": " ",
         "xaxis": "x6",
         "y": [
          293303.9639,
          492237.6008,
          386601.913,
          389980.7846,
          274205.6825,
          470624.5877,
          375748.9213,
          377841.603,
          366812.6329,
          656429.6429,
          524194.4673,
          519359.8206
         ],
         "y0": " ",
         "yaxis": "y6"
        }
       ],
       "layout": {
        "annotations": [
         {
          "font": {},
          "showarrow": false,
          "text": "year=2011",
          "x": 0.041666666666666664,
          "xanchor": "center",
          "xref": "paper",
          "y": 1,
          "yanchor": "bottom",
          "yref": "paper"
         },
         {
          "font": {},
          "showarrow": false,
          "text": "year=2012",
          "x": 0.225,
          "xanchor": "center",
          "xref": "paper",
          "y": 1,
          "yanchor": "bottom",
          "yref": "paper"
         },
         {
          "font": {},
          "showarrow": false,
          "text": "year=2013",
          "x": 0.4083333333333333,
          "xanchor": "center",
          "xref": "paper",
          "y": 1,
          "yanchor": "bottom",
          "yref": "paper"
         },
         {
          "font": {},
          "showarrow": false,
          "text": "year=2014",
          "x": 0.5916666666666668,
          "xanchor": "center",
          "xref": "paper",
          "y": 1,
          "yanchor": "bottom",
          "yref": "paper"
         },
         {
          "font": {},
          "showarrow": false,
          "text": "year=2015",
          "x": 0.7750000000000001,
          "xanchor": "center",
          "xref": "paper",
          "y": 1,
          "yanchor": "bottom",
          "yref": "paper"
         },
         {
          "font": {},
          "showarrow": false,
          "text": "year=2016",
          "x": 0.9583333333333333,
          "xanchor": "center",
          "xref": "paper",
          "y": 1,
          "yanchor": "bottom",
          "yref": "paper"
         }
        ],
        "boxmode": "group",
        "height": 400,
        "legend": {
         "tracegroupgap": 0
        },
        "template": {
         "data": {
          "bar": [
           {
            "error_x": {
             "color": "#2a3f5f"
            },
            "error_y": {
             "color": "#2a3f5f"
            },
            "marker": {
             "line": {
              "color": "#E5ECF6",
              "width": 0.5
             },
             "pattern": {
              "fillmode": "overlay",
              "size": 10,
              "solidity": 0.2
             }
            },
            "type": "bar"
           }
          ],
          "barpolar": [
           {
            "marker": {
             "line": {
              "color": "#E5ECF6",
              "width": 0.5
             },
             "pattern": {
              "fillmode": "overlay",
              "size": 10,
              "solidity": 0.2
             }
            },
            "type": "barpolar"
           }
          ],
          "carpet": [
           {
            "aaxis": {
             "endlinecolor": "#2a3f5f",
             "gridcolor": "white",
             "linecolor": "white",
             "minorgridcolor": "white",
             "startlinecolor": "#2a3f5f"
            },
            "baxis": {
             "endlinecolor": "#2a3f5f",
             "gridcolor": "white",
             "linecolor": "white",
             "minorgridcolor": "white",
             "startlinecolor": "#2a3f5f"
            },
            "type": "carpet"
           }
          ],
          "choropleth": [
           {
            "colorbar": {
             "outlinewidth": 0,
             "ticks": ""
            },
            "type": "choropleth"
           }
          ],
          "contour": [
           {
            "colorbar": {
             "outlinewidth": 0,
             "ticks": ""
            },
            "colorscale": [
             [
              0,
              "#0d0887"
             ],
             [
              0.1111111111111111,
              "#46039f"
             ],
             [
              0.2222222222222222,
              "#7201a8"
             ],
             [
              0.3333333333333333,
              "#9c179e"
             ],
             [
              0.4444444444444444,
              "#bd3786"
             ],
             [
              0.5555555555555556,
              "#d8576b"
             ],
             [
              0.6666666666666666,
              "#ed7953"
             ],
             [
              0.7777777777777778,
              "#fb9f3a"
             ],
             [
              0.8888888888888888,
              "#fdca26"
             ],
             [
              1,
              "#f0f921"
             ]
            ],
            "type": "contour"
           }
          ],
          "contourcarpet": [
           {
            "colorbar": {
             "outlinewidth": 0,
             "ticks": ""
            },
            "type": "contourcarpet"
           }
          ],
          "heatmap": [
           {
            "colorbar": {
             "outlinewidth": 0,
             "ticks": ""
            },
            "colorscale": [
             [
              0,
              "#0d0887"
             ],
             [
              0.1111111111111111,
              "#46039f"
             ],
             [
              0.2222222222222222,
              "#7201a8"
             ],
             [
              0.3333333333333333,
              "#9c179e"
             ],
             [
              0.4444444444444444,
              "#bd3786"
             ],
             [
              0.5555555555555556,
              "#d8576b"
             ],
             [
              0.6666666666666666,
              "#ed7953"
             ],
             [
              0.7777777777777778,
              "#fb9f3a"
             ],
             [
              0.8888888888888888,
              "#fdca26"
             ],
             [
              1,
              "#f0f921"
             ]
            ],
            "type": "heatmap"
           }
          ],
          "heatmapgl": [
           {
            "colorbar": {
             "outlinewidth": 0,
             "ticks": ""
            },
            "colorscale": [
             [
              0,
              "#0d0887"
             ],
             [
              0.1111111111111111,
              "#46039f"
             ],
             [
              0.2222222222222222,
              "#7201a8"
             ],
             [
              0.3333333333333333,
              "#9c179e"
             ],
             [
              0.4444444444444444,
              "#bd3786"
             ],
             [
              0.5555555555555556,
              "#d8576b"
             ],
             [
              0.6666666666666666,
              "#ed7953"
             ],
             [
              0.7777777777777778,
              "#fb9f3a"
             ],
             [
              0.8888888888888888,
              "#fdca26"
             ],
             [
              1,
              "#f0f921"
             ]
            ],
            "type": "heatmapgl"
           }
          ],
          "histogram": [
           {
            "marker": {
             "pattern": {
              "fillmode": "overlay",
              "size": 10,
              "solidity": 0.2
             }
            },
            "type": "histogram"
           }
          ],
          "histogram2d": [
           {
            "colorbar": {
             "outlinewidth": 0,
             "ticks": ""
            },
            "colorscale": [
             [
              0,
              "#0d0887"
             ],
             [
              0.1111111111111111,
              "#46039f"
             ],
             [
              0.2222222222222222,
              "#7201a8"
             ],
             [
              0.3333333333333333,
              "#9c179e"
             ],
             [
              0.4444444444444444,
              "#bd3786"
             ],
             [
              0.5555555555555556,
              "#d8576b"
             ],
             [
              0.6666666666666666,
              "#ed7953"
             ],
             [
              0.7777777777777778,
              "#fb9f3a"
             ],
             [
              0.8888888888888888,
              "#fdca26"
             ],
             [
              1,
              "#f0f921"
             ]
            ],
            "type": "histogram2d"
           }
          ],
          "histogram2dcontour": [
           {
            "colorbar": {
             "outlinewidth": 0,
             "ticks": ""
            },
            "colorscale": [
             [
              0,
              "#0d0887"
             ],
             [
              0.1111111111111111,
              "#46039f"
             ],
             [
              0.2222222222222222,
              "#7201a8"
             ],
             [
              0.3333333333333333,
              "#9c179e"
             ],
             [
              0.4444444444444444,
              "#bd3786"
             ],
             [
              0.5555555555555556,
              "#d8576b"
             ],
             [
              0.6666666666666666,
              "#ed7953"
             ],
             [
              0.7777777777777778,
              "#fb9f3a"
             ],
             [
              0.8888888888888888,
              "#fdca26"
             ],
             [
              1,
              "#f0f921"
             ]
            ],
            "type": "histogram2dcontour"
           }
          ],
          "mesh3d": [
           {
            "colorbar": {
             "outlinewidth": 0,
             "ticks": ""
            },
            "type": "mesh3d"
           }
          ],
          "parcoords": [
           {
            "line": {
             "colorbar": {
              "outlinewidth": 0,
              "ticks": ""
             }
            },
            "type": "parcoords"
           }
          ],
          "pie": [
           {
            "automargin": true,
            "type": "pie"
           }
          ],
          "scatter": [
           {
            "fillpattern": {
             "fillmode": "overlay",
             "size": 10,
             "solidity": 0.2
            },
            "type": "scatter"
           }
          ],
          "scatter3d": [
           {
            "line": {
             "colorbar": {
              "outlinewidth": 0,
              "ticks": ""
             }
            },
            "marker": {
             "colorbar": {
              "outlinewidth": 0,
              "ticks": ""
             }
            },
            "type": "scatter3d"
           }
          ],
          "scattercarpet": [
           {
            "marker": {
             "colorbar": {
              "outlinewidth": 0,
              "ticks": ""
             }
            },
            "type": "scattercarpet"
           }
          ],
          "scattergeo": [
           {
            "marker": {
             "colorbar": {
              "outlinewidth": 0,
              "ticks": ""
             }
            },
            "type": "scattergeo"
           }
          ],
          "scattergl": [
           {
            "marker": {
             "colorbar": {
              "outlinewidth": 0,
              "ticks": ""
             }
            },
            "type": "scattergl"
           }
          ],
          "scattermapbox": [
           {
            "marker": {
             "colorbar": {
              "outlinewidth": 0,
              "ticks": ""
             }
            },
            "type": "scattermapbox"
           }
          ],
          "scatterpolar": [
           {
            "marker": {
             "colorbar": {
              "outlinewidth": 0,
              "ticks": ""
             }
            },
            "type": "scatterpolar"
           }
          ],
          "scatterpolargl": [
           {
            "marker": {
             "colorbar": {
              "outlinewidth": 0,
              "ticks": ""
             }
            },
            "type": "scatterpolargl"
           }
          ],
          "scatterternary": [
           {
            "marker": {
             "colorbar": {
              "outlinewidth": 0,
              "ticks": ""
             }
            },
            "type": "scatterternary"
           }
          ],
          "surface": [
           {
            "colorbar": {
             "outlinewidth": 0,
             "ticks": ""
            },
            "colorscale": [
             [
              0,
              "#0d0887"
             ],
             [
              0.1111111111111111,
              "#46039f"
             ],
             [
              0.2222222222222222,
              "#7201a8"
             ],
             [
              0.3333333333333333,
              "#9c179e"
             ],
             [
              0.4444444444444444,
              "#bd3786"
             ],
             [
              0.5555555555555556,
              "#d8576b"
             ],
             [
              0.6666666666666666,
              "#ed7953"
             ],
             [
              0.7777777777777778,
              "#fb9f3a"
             ],
             [
              0.8888888888888888,
              "#fdca26"
             ],
             [
              1,
              "#f0f921"
             ]
            ],
            "type": "surface"
           }
          ],
          "table": [
           {
            "cells": {
             "fill": {
              "color": "#EBF0F8"
             },
             "line": {
              "color": "white"
             }
            },
            "header": {
             "fill": {
              "color": "#C8D4E3"
             },
             "line": {
              "color": "white"
             }
            },
            "type": "table"
           }
          ]
         },
         "layout": {
          "annotationdefaults": {
           "arrowcolor": "#2a3f5f",
           "arrowhead": 0,
           "arrowwidth": 1
          },
          "autotypenumbers": "strict",
          "coloraxis": {
           "colorbar": {
            "outlinewidth": 0,
            "ticks": ""
           }
          },
          "colorscale": {
           "diverging": [
            [
             0,
             "#8e0152"
            ],
            [
             0.1,
             "#c51b7d"
            ],
            [
             0.2,
             "#de77ae"
            ],
            [
             0.3,
             "#f1b6da"
            ],
            [
             0.4,
             "#fde0ef"
            ],
            [
             0.5,
             "#f7f7f7"
            ],
            [
             0.6,
             "#e6f5d0"
            ],
            [
             0.7,
             "#b8e186"
            ],
            [
             0.8,
             "#7fbc41"
            ],
            [
             0.9,
             "#4d9221"
            ],
            [
             1,
             "#276419"
            ]
           ],
           "sequential": [
            [
             0,
             "#0d0887"
            ],
            [
             0.1111111111111111,
             "#46039f"
            ],
            [
             0.2222222222222222,
             "#7201a8"
            ],
            [
             0.3333333333333333,
             "#9c179e"
            ],
            [
             0.4444444444444444,
             "#bd3786"
            ],
            [
             0.5555555555555556,
             "#d8576b"
            ],
            [
             0.6666666666666666,
             "#ed7953"
            ],
            [
             0.7777777777777778,
             "#fb9f3a"
            ],
            [
             0.8888888888888888,
             "#fdca26"
            ],
            [
             1,
             "#f0f921"
            ]
           ],
           "sequentialminus": [
            [
             0,
             "#0d0887"
            ],
            [
             0.1111111111111111,
             "#46039f"
            ],
            [
             0.2222222222222222,
             "#7201a8"
            ],
            [
             0.3333333333333333,
             "#9c179e"
            ],
            [
             0.4444444444444444,
             "#bd3786"
            ],
            [
             0.5555555555555556,
             "#d8576b"
            ],
            [
             0.6666666666666666,
             "#ed7953"
            ],
            [
             0.7777777777777778,
             "#fb9f3a"
            ],
            [
             0.8888888888888888,
             "#fdca26"
            ],
            [
             1,
             "#f0f921"
            ]
           ]
          },
          "colorway": [
           "#636efa",
           "#EF553B",
           "#00cc96",
           "#ab63fa",
           "#FFA15A",
           "#19d3f3",
           "#FF6692",
           "#B6E880",
           "#FF97FF",
           "#FECB52"
          ],
          "font": {
           "color": "#2a3f5f"
          },
          "geo": {
           "bgcolor": "white",
           "lakecolor": "white",
           "landcolor": "#E5ECF6",
           "showlakes": true,
           "showland": true,
           "subunitcolor": "white"
          },
          "hoverlabel": {
           "align": "left"
          },
          "hovermode": "closest",
          "mapbox": {
           "style": "light"
          },
          "paper_bgcolor": "white",
          "plot_bgcolor": "#E5ECF6",
          "polar": {
           "angularaxis": {
            "gridcolor": "white",
            "linecolor": "white",
            "ticks": ""
           },
           "bgcolor": "#E5ECF6",
           "radialaxis": {
            "gridcolor": "white",
            "linecolor": "white",
            "ticks": ""
           }
          },
          "scene": {
           "xaxis": {
            "backgroundcolor": "#E5ECF6",
            "gridcolor": "white",
            "gridwidth": 2,
            "linecolor": "white",
            "showbackground": true,
            "ticks": "",
            "zerolinecolor": "white"
           },
           "yaxis": {
            "backgroundcolor": "#E5ECF6",
            "gridcolor": "white",
            "gridwidth": 2,
            "linecolor": "white",
            "showbackground": true,
            "ticks": "",
            "zerolinecolor": "white"
           },
           "zaxis": {
            "backgroundcolor": "#E5ECF6",
            "gridcolor": "white",
            "gridwidth": 2,
            "linecolor": "white",
            "showbackground": true,
            "ticks": "",
            "zerolinecolor": "white"
           }
          },
          "shapedefaults": {
           "line": {
            "color": "#2a3f5f"
           }
          },
          "ternary": {
           "aaxis": {
            "gridcolor": "white",
            "linecolor": "white",
            "ticks": ""
           },
           "baxis": {
            "gridcolor": "white",
            "linecolor": "white",
            "ticks": ""
           },
           "bgcolor": "#E5ECF6",
           "caxis": {
            "gridcolor": "white",
            "linecolor": "white",
            "ticks": ""
           }
          },
          "title": {
           "x": 0.05
          },
          "xaxis": {
           "automargin": true,
           "gridcolor": "white",
           "linecolor": "white",
           "ticks": "",
           "title": {
            "standoff": 15
           },
           "zerolinecolor": "white",
           "zerolinewidth": 2
          },
          "yaxis": {
           "automargin": true,
           "gridcolor": "white",
           "linecolor": "white",
           "ticks": "",
           "title": {
            "standoff": 15
           },
           "zerolinecolor": "white",
           "zerolinewidth": 2
          }
         }
        },
        "title": {
         "text": "sales"
        },
        "width": 1000,
        "xaxis": {
         "anchor": "y",
         "domain": [
          0,
          0.08333333333333333
         ],
         "title": {
          "text": "month"
         }
        },
        "xaxis2": {
         "anchor": "y2",
         "domain": [
          0.18333333333333335,
          0.26666666666666666
         ],
         "matches": "x",
         "title": {
          "text": "month"
         }
        },
        "xaxis3": {
         "anchor": "y3",
         "domain": [
          0.3666666666666667,
          0.45
         ],
         "matches": "x",
         "title": {
          "text": "month"
         }
        },
        "xaxis4": {
         "anchor": "y4",
         "domain": [
          0.55,
          0.6333333333333334
         ],
         "matches": "x",
         "title": {
          "text": "month"
         }
        },
        "xaxis5": {
         "anchor": "y5",
         "domain": [
          0.7333333333333334,
          0.8166666666666668
         ],
         "matches": "x",
         "title": {
          "text": "month"
         }
        },
        "xaxis6": {
         "anchor": "y6",
         "domain": [
          0.9166666666666666,
          1
         ],
         "matches": "x",
         "title": {
          "text": "month"
         }
        },
        "yaxis": {
         "anchor": "x",
         "domain": [
          0,
          1
         ],
         "title": {
          "text": "total_sales"
         }
        },
        "yaxis2": {
         "anchor": "x2",
         "domain": [
          0,
          1
         ],
         "matches": "y",
         "showticklabels": false
        },
        "yaxis3": {
         "anchor": "x3",
         "domain": [
          0,
          1
         ],
         "matches": "y",
         "showticklabels": false
        },
        "yaxis4": {
         "anchor": "x4",
         "domain": [
          0,
          1
         ],
         "matches": "y",
         "showticklabels": false
        },
        "yaxis5": {
         "anchor": "x5",
         "domain": [
          0,
          1
         ],
         "matches": "y",
         "showticklabels": false
        },
        "yaxis6": {
         "anchor": "x6",
         "domain": [
          0,
          1
         ],
         "matches": "y",
         "showticklabels": false
        }
       }
      }
     },
     "metadata": {},
     "output_type": "display_data"
    }
   ],
   "source": [
    "crear_boxplot_by_year(ph_month_year,columna_x=\"month\",columna_y=\"total_sales\",titulo=\"sales\")"
   ]
  },
  {
   "cell_type": "code",
   "execution_count": 68,
   "metadata": {},
   "outputs": [
    {
     "ename": "TypeError",
     "evalue": "crear_boxplot() got an unexpected keyword argument 'titulo'",
     "output_type": "error",
     "traceback": [
      "\u001b[0;31m---------------------------------------------------------------------------\u001b[0m",
      "\u001b[0;31mTypeError\u001b[0m                                 Traceback (most recent call last)",
      "Cell \u001b[0;32mIn[68], line 1\u001b[0m\n\u001b[0;32m----> 1\u001b[0m crear_boxplot(ph_month_year,columna_valores\u001b[38;5;241m=\u001b[39m\u001b[38;5;124m\"\u001b[39m\u001b[38;5;124mmonth\u001b[39m\u001b[38;5;124m\"\u001b[39m,titulo\u001b[38;5;241m=\u001b[39m\u001b[38;5;124m\"\u001b[39m\u001b[38;5;124msales\u001b[39m\u001b[38;5;124m\"\u001b[39m)\n",
      "\u001b[0;31mTypeError\u001b[0m: crear_boxplot() got an unexpected keyword argument 'titulo'"
     ]
    }
   ],
   "source": [
    "crear_boxplot(ph_month_year,columna_valores=\"month\",titulo=\"sales\")"
   ]
  },
  {
   "cell_type": "markdown",
   "metadata": {},
   "source": [
    "### 2.2.2. Boston"
   ]
  },
  {
   "cell_type": "code",
   "execution_count": null,
   "metadata": {},
   "outputs": [],
   "source": []
  },
  {
   "cell_type": "markdown",
   "metadata": {},
   "source": [
    "### 2.2.3. Nueva York"
   ]
  },
  {
   "cell_type": "code",
   "execution_count": null,
   "metadata": {},
   "outputs": [],
   "source": []
  },
  {
   "cell_type": "markdown",
   "metadata": {},
   "source": [
    "## Ventas generales por ciudad"
   ]
  },
  {
   "cell_type": "markdown",
   "metadata": {},
   "source": [
    "## Ventas generales por tienda"
   ]
  },
  {
   "cell_type": "markdown",
   "metadata": {},
   "source": [
    "## Ventas generales por categoría"
   ]
  }
 ],
 "metadata": {
  "kernelspec": {
   "display_name": "Nuclio",
   "language": "python",
   "name": "python3"
  },
  "language_info": {
   "codemirror_mode": {
    "name": "ipython",
    "version": 3
   },
   "file_extension": ".py",
   "mimetype": "text/x-python",
   "name": "python",
   "nbconvert_exporter": "python",
   "pygments_lexer": "ipython3",
   "version": "3.11.5"
  }
 },
 "nbformat": 4,
 "nbformat_minor": 2
}
