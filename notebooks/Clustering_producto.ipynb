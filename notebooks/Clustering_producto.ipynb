{
 "cells": [
  {
   "cell_type": "markdown",
   "metadata": {},
   "source": [
    "# 0.Librerías"
   ]
  },
  {
   "cell_type": "code",
   "execution_count": 291,
   "metadata": {},
   "outputs": [],
   "source": [
    "import pandas as pd\n",
    "import numpy as np\n",
    "import matplotlib.pyplot as plt \n",
    "import seaborn as sns\n",
    "import plotly.express as px\n",
    "\n",
    "from sklearn.preprocessing import StandardScaler \n",
    "import hdbscan\n",
    "from sklearn.mixture import GaussianMixture\n",
    "from sklearn.cluster import KMeans\n",
    "from scipy.cluster.hierarchy import linkage, dendrogram\n",
    "\n",
    "from sklearn.metrics import silhouette_score, silhouette_samples\n",
    "from yellowbrick.cluster import SilhouetteVisualizer\n",
    "from yellowbrick.cluster import KElbowVisualizer"
   ]
  },
  {
   "cell_type": "markdown",
   "metadata": {},
   "source": [
    "# 1. Clustering por producto"
   ]
  },
  {
   "cell_type": "code",
   "execution_count": 292,
   "metadata": {},
   "outputs": [
    {
     "data": {
      "text/html": [
       "<div>\n",
       "<style scoped>\n",
       "    .dataframe tbody tr th:only-of-type {\n",
       "        vertical-align: middle;\n",
       "    }\n",
       "\n",
       "    .dataframe tbody tr th {\n",
       "        vertical-align: top;\n",
       "    }\n",
       "\n",
       "    .dataframe thead th {\n",
       "        text-align: right;\n",
       "    }\n",
       "</style>\n",
       "<table border=\"1\" class=\"dataframe\">\n",
       "  <thead>\n",
       "    <tr style=\"text-align: right;\">\n",
       "      <th></th>\n",
       "      <th>item</th>\n",
       "      <th>category</th>\n",
       "      <th>department</th>\n",
       "      <th>stores</th>\n",
       "      <th>region</th>\n",
       "      <th>week</th>\n",
       "      <th>year</th>\n",
       "      <th>is_holidays</th>\n",
       "      <th>units_sold</th>\n",
       "      <th>sell_price</th>\n",
       "      <th>total_sales</th>\n",
       "    </tr>\n",
       "    <tr>\n",
       "      <th>date</th>\n",
       "      <th></th>\n",
       "      <th></th>\n",
       "      <th></th>\n",
       "      <th></th>\n",
       "      <th></th>\n",
       "      <th></th>\n",
       "      <th></th>\n",
       "      <th></th>\n",
       "      <th></th>\n",
       "      <th></th>\n",
       "      <th></th>\n",
       "    </tr>\n",
       "  </thead>\n",
       "  <tbody>\n",
       "    <tr>\n",
       "      <th>2013-07-08</th>\n",
       "      <td>ACCESORIES_1_001</td>\n",
       "      <td>ACCESORIES</td>\n",
       "      <td>ACCESORIES_1</td>\n",
       "      <td>South_End(BOS_1)</td>\n",
       "      <td>Boston</td>\n",
       "      <td>28</td>\n",
       "      <td>2013</td>\n",
       "      <td>0</td>\n",
       "      <td>0</td>\n",
       "      <td>12.7414</td>\n",
       "      <td>0.0000</td>\n",
       "    </tr>\n",
       "    <tr>\n",
       "      <th>2013-07-15</th>\n",
       "      <td>ACCESORIES_1_001</td>\n",
       "      <td>ACCESORIES</td>\n",
       "      <td>ACCESORIES_1</td>\n",
       "      <td>South_End(BOS_1)</td>\n",
       "      <td>Boston</td>\n",
       "      <td>28</td>\n",
       "      <td>2013</td>\n",
       "      <td>1</td>\n",
       "      <td>0</td>\n",
       "      <td>12.7414</td>\n",
       "      <td>0.0000</td>\n",
       "    </tr>\n",
       "    <tr>\n",
       "      <th>2013-07-22</th>\n",
       "      <td>ACCESORIES_1_001</td>\n",
       "      <td>ACCESORIES</td>\n",
       "      <td>ACCESORIES_1</td>\n",
       "      <td>South_End(BOS_1)</td>\n",
       "      <td>Boston</td>\n",
       "      <td>29</td>\n",
       "      <td>2013</td>\n",
       "      <td>0</td>\n",
       "      <td>4</td>\n",
       "      <td>10.9858</td>\n",
       "      <td>43.9432</td>\n",
       "    </tr>\n",
       "    <tr>\n",
       "      <th>2013-07-29</th>\n",
       "      <td>ACCESORIES_1_001</td>\n",
       "      <td>ACCESORIES</td>\n",
       "      <td>ACCESORIES_1</td>\n",
       "      <td>South_End(BOS_1)</td>\n",
       "      <td>Boston</td>\n",
       "      <td>30</td>\n",
       "      <td>2013</td>\n",
       "      <td>0</td>\n",
       "      <td>6</td>\n",
       "      <td>10.9858</td>\n",
       "      <td>65.9148</td>\n",
       "    </tr>\n",
       "    <tr>\n",
       "      <th>2013-08-05</th>\n",
       "      <td>ACCESORIES_1_001</td>\n",
       "      <td>ACCESORIES</td>\n",
       "      <td>ACCESORIES_1</td>\n",
       "      <td>South_End(BOS_1)</td>\n",
       "      <td>Boston</td>\n",
       "      <td>31</td>\n",
       "      <td>2013</td>\n",
       "      <td>0</td>\n",
       "      <td>0</td>\n",
       "      <td>10.9858</td>\n",
       "      <td>0.0000</td>\n",
       "    </tr>\n",
       "  </tbody>\n",
       "</table>\n",
       "</div>"
      ],
      "text/plain": [
       "                        item    category    department            stores  \\\n",
       "date                                                                       \n",
       "2013-07-08  ACCESORIES_1_001  ACCESORIES  ACCESORIES_1  South_End(BOS_1)   \n",
       "2013-07-15  ACCESORIES_1_001  ACCESORIES  ACCESORIES_1  South_End(BOS_1)   \n",
       "2013-07-22  ACCESORIES_1_001  ACCESORIES  ACCESORIES_1  South_End(BOS_1)   \n",
       "2013-07-29  ACCESORIES_1_001  ACCESORIES  ACCESORIES_1  South_End(BOS_1)   \n",
       "2013-08-05  ACCESORIES_1_001  ACCESORIES  ACCESORIES_1  South_End(BOS_1)   \n",
       "\n",
       "            region  week  year  is_holidays  units_sold  sell_price  \\\n",
       "date                                                                  \n",
       "2013-07-08  Boston    28  2013            0           0     12.7414   \n",
       "2013-07-15  Boston    28  2013            1           0     12.7414   \n",
       "2013-07-22  Boston    29  2013            0           4     10.9858   \n",
       "2013-07-29  Boston    30  2013            0           6     10.9858   \n",
       "2013-08-05  Boston    31  2013            0           0     10.9858   \n",
       "\n",
       "            total_sales  \n",
       "date                     \n",
       "2013-07-08       0.0000  \n",
       "2013-07-15       0.0000  \n",
       "2013-07-22      43.9432  \n",
       "2013-07-29      65.9148  \n",
       "2013-08-05       0.0000  "
      ]
     },
     "execution_count": 292,
     "metadata": {},
     "output_type": "execute_result"
    }
   ],
   "source": [
    "df = pd.read_csv(r\"C:\\Users\\alici\\Documents\\master_data_science\\proyecto_nuclio\\TFM\\datos_arreglados.csv\", index_col=0)\n",
    "df[\"date\"] = pd.to_datetime(df[\"date\"])\n",
    "df = df.set_index(\"date\")\n",
    "\n",
    "df.head()"
   ]
  },
  {
   "cell_type": "markdown",
   "metadata": {},
   "source": [
    "Con las variables que tenemos vamos a obtener el porcentaje de ventas por *quarter* y *region* de cada producto, el precio medio total por producto y la cantidad de unidades vendidas de cada uno."
   ]
  },
  {
   "cell_type": "code",
   "execution_count": 294,
   "metadata": {},
   "outputs": [
    {
     "data": {
      "text/html": [
       "<div>\n",
       "<style scoped>\n",
       "    .dataframe tbody tr th:only-of-type {\n",
       "        vertical-align: middle;\n",
       "    }\n",
       "\n",
       "    .dataframe tbody tr th {\n",
       "        vertical-align: top;\n",
       "    }\n",
       "\n",
       "    .dataframe thead th {\n",
       "        text-align: right;\n",
       "    }\n",
       "</style>\n",
       "<table border=\"1\" class=\"dataframe\">\n",
       "  <thead>\n",
       "    <tr style=\"text-align: right;\">\n",
       "      <th></th>\n",
       "      <th>item</th>\n",
       "      <th>Boston_1</th>\n",
       "      <th>Boston_2</th>\n",
       "      <th>Boston_3</th>\n",
       "      <th>Boston_4</th>\n",
       "    </tr>\n",
       "  </thead>\n",
       "  <tbody>\n",
       "    <tr>\n",
       "      <th>0</th>\n",
       "      <td>ACCESORIES_1_001</td>\n",
       "      <td>0.258490</td>\n",
       "      <td>0.215622</td>\n",
       "      <td>0.231207</td>\n",
       "      <td>0.294681</td>\n",
       "    </tr>\n",
       "    <tr>\n",
       "      <th>1</th>\n",
       "      <td>ACCESORIES_1_002</td>\n",
       "      <td>0.202792</td>\n",
       "      <td>0.238109</td>\n",
       "      <td>0.254912</td>\n",
       "      <td>0.304187</td>\n",
       "    </tr>\n",
       "    <tr>\n",
       "      <th>2</th>\n",
       "      <td>ACCESORIES_1_003</td>\n",
       "      <td>0.254469</td>\n",
       "      <td>0.249112</td>\n",
       "      <td>0.300880</td>\n",
       "      <td>0.195539</td>\n",
       "    </tr>\n",
       "    <tr>\n",
       "      <th>3</th>\n",
       "      <td>ACCESORIES_1_004</td>\n",
       "      <td>0.256721</td>\n",
       "      <td>0.259417</td>\n",
       "      <td>0.235593</td>\n",
       "      <td>0.248269</td>\n",
       "    </tr>\n",
       "    <tr>\n",
       "      <th>4</th>\n",
       "      <td>ACCESORIES_1_005</td>\n",
       "      <td>0.209317</td>\n",
       "      <td>0.214718</td>\n",
       "      <td>0.267872</td>\n",
       "      <td>0.308094</td>\n",
       "    </tr>\n",
       "    <tr>\n",
       "      <th>...</th>\n",
       "      <td>...</td>\n",
       "      <td>...</td>\n",
       "      <td>...</td>\n",
       "      <td>...</td>\n",
       "      <td>...</td>\n",
       "    </tr>\n",
       "    <tr>\n",
       "      <th>3044</th>\n",
       "      <td>SUPERMARKET_3_823</td>\n",
       "      <td>0.289806</td>\n",
       "      <td>0.177665</td>\n",
       "      <td>0.216503</td>\n",
       "      <td>0.316026</td>\n",
       "    </tr>\n",
       "    <tr>\n",
       "      <th>3045</th>\n",
       "      <td>SUPERMARKET_3_824</td>\n",
       "      <td>0.222281</td>\n",
       "      <td>0.277452</td>\n",
       "      <td>0.319342</td>\n",
       "      <td>0.180925</td>\n",
       "    </tr>\n",
       "    <tr>\n",
       "      <th>3046</th>\n",
       "      <td>SUPERMARKET_3_825</td>\n",
       "      <td>0.326950</td>\n",
       "      <td>0.258387</td>\n",
       "      <td>0.230210</td>\n",
       "      <td>0.184453</td>\n",
       "    </tr>\n",
       "    <tr>\n",
       "      <th>3047</th>\n",
       "      <td>SUPERMARKET_3_826</td>\n",
       "      <td>0.267774</td>\n",
       "      <td>0.289019</td>\n",
       "      <td>0.237289</td>\n",
       "      <td>0.205918</td>\n",
       "    </tr>\n",
       "    <tr>\n",
       "      <th>3048</th>\n",
       "      <td>SUPERMARKET_3_827</td>\n",
       "      <td>0.286872</td>\n",
       "      <td>0.302269</td>\n",
       "      <td>0.166937</td>\n",
       "      <td>0.243922</td>\n",
       "    </tr>\n",
       "  </tbody>\n",
       "</table>\n",
       "<p>3049 rows × 5 columns</p>\n",
       "</div>"
      ],
      "text/plain": [
       "                   item  Boston_1  Boston_2  Boston_3  Boston_4\n",
       "0      ACCESORIES_1_001  0.258490  0.215622  0.231207  0.294681\n",
       "1      ACCESORIES_1_002  0.202792  0.238109  0.254912  0.304187\n",
       "2      ACCESORIES_1_003  0.254469  0.249112  0.300880  0.195539\n",
       "3      ACCESORIES_1_004  0.256721  0.259417  0.235593  0.248269\n",
       "4      ACCESORIES_1_005  0.209317  0.214718  0.267872  0.308094\n",
       "...                 ...       ...       ...       ...       ...\n",
       "3044  SUPERMARKET_3_823  0.289806  0.177665  0.216503  0.316026\n",
       "3045  SUPERMARKET_3_824  0.222281  0.277452  0.319342  0.180925\n",
       "3046  SUPERMARKET_3_825  0.326950  0.258387  0.230210  0.184453\n",
       "3047  SUPERMARKET_3_826  0.267774  0.289019  0.237289  0.205918\n",
       "3048  SUPERMARKET_3_827  0.286872  0.302269  0.166937  0.243922\n",
       "\n",
       "[3049 rows x 5 columns]"
      ]
     },
     "execution_count": 294,
     "metadata": {},
     "output_type": "execute_result"
    }
   ],
   "source": [
    "# Filtramos el DataFrame para obtener solo los datos de la ciudad de Boston\n",
    "df_boston = df[df['region'] == 'Boston'].copy()\n",
    "\n",
    "# Creamos una columna 'quarter' a partir del índice 'date'\n",
    "df_boston['quarter'] = df_boston.index.quarter \n",
    "\n",
    "# Calculamos los porcentajes de ventas por ítem para cada cuatrimestre\n",
    "df_boston = pd.crosstab(df_boston['item'], df_boston['quarter'], values=df_boston['total_sales'], aggfunc='sum', normalize='index')\n",
    "\n",
    "# Renombramos las columnas de los cuatrimestres\n",
    "df_boston.columns = ['Boston_' + str(col) for col in df_boston.columns]\n",
    "\n",
    "# El resultado df_boston es un DataFrame con los porcentajes normalizados por ítem y cuatrimestre\n",
    "df_boston.reset_index(inplace=True)\n",
    "\n",
    "# Mostramos el DataFrame resultante\n",
    "df_boston"
   ]
  },
  {
   "cell_type": "code",
   "execution_count": 295,
   "metadata": {},
   "outputs": [
    {
     "data": {
      "text/html": [
       "<div>\n",
       "<style scoped>\n",
       "    .dataframe tbody tr th:only-of-type {\n",
       "        vertical-align: middle;\n",
       "    }\n",
       "\n",
       "    .dataframe tbody tr th {\n",
       "        vertical-align: top;\n",
       "    }\n",
       "\n",
       "    .dataframe thead th {\n",
       "        text-align: right;\n",
       "    }\n",
       "</style>\n",
       "<table border=\"1\" class=\"dataframe\">\n",
       "  <thead>\n",
       "    <tr style=\"text-align: right;\">\n",
       "      <th></th>\n",
       "      <th>item</th>\n",
       "      <th>New_York_1</th>\n",
       "      <th>New_York_2</th>\n",
       "      <th>New_York_3</th>\n",
       "      <th>New_York_4</th>\n",
       "    </tr>\n",
       "  </thead>\n",
       "  <tbody>\n",
       "    <tr>\n",
       "      <th>0</th>\n",
       "      <td>ACCESORIES_1_001</td>\n",
       "      <td>0.290651</td>\n",
       "      <td>0.185303</td>\n",
       "      <td>0.232997</td>\n",
       "      <td>0.291048</td>\n",
       "    </tr>\n",
       "    <tr>\n",
       "      <th>1</th>\n",
       "      <td>ACCESORIES_1_002</td>\n",
       "      <td>0.169339</td>\n",
       "      <td>0.190386</td>\n",
       "      <td>0.265158</td>\n",
       "      <td>0.375117</td>\n",
       "    </tr>\n",
       "    <tr>\n",
       "      <th>2</th>\n",
       "      <td>ACCESORIES_1_003</td>\n",
       "      <td>0.290550</td>\n",
       "      <td>0.256700</td>\n",
       "      <td>0.191819</td>\n",
       "      <td>0.260931</td>\n",
       "    </tr>\n",
       "    <tr>\n",
       "      <th>3</th>\n",
       "      <td>ACCESORIES_1_004</td>\n",
       "      <td>0.265228</td>\n",
       "      <td>0.256632</td>\n",
       "      <td>0.229645</td>\n",
       "      <td>0.248495</td>\n",
       "    </tr>\n",
       "    <tr>\n",
       "      <th>4</th>\n",
       "      <td>ACCESORIES_1_005</td>\n",
       "      <td>0.236569</td>\n",
       "      <td>0.200389</td>\n",
       "      <td>0.269576</td>\n",
       "      <td>0.293466</td>\n",
       "    </tr>\n",
       "    <tr>\n",
       "      <th>...</th>\n",
       "      <td>...</td>\n",
       "      <td>...</td>\n",
       "      <td>...</td>\n",
       "      <td>...</td>\n",
       "      <td>...</td>\n",
       "    </tr>\n",
       "    <tr>\n",
       "      <th>3044</th>\n",
       "      <td>SUPERMARKET_3_823</td>\n",
       "      <td>0.279585</td>\n",
       "      <td>0.208005</td>\n",
       "      <td>0.270410</td>\n",
       "      <td>0.242001</td>\n",
       "    </tr>\n",
       "    <tr>\n",
       "      <th>3045</th>\n",
       "      <td>SUPERMARKET_3_824</td>\n",
       "      <td>0.219106</td>\n",
       "      <td>0.344857</td>\n",
       "      <td>0.232286</td>\n",
       "      <td>0.203751</td>\n",
       "    </tr>\n",
       "    <tr>\n",
       "      <th>3046</th>\n",
       "      <td>SUPERMARKET_3_825</td>\n",
       "      <td>0.275628</td>\n",
       "      <td>0.230843</td>\n",
       "      <td>0.293817</td>\n",
       "      <td>0.199712</td>\n",
       "    </tr>\n",
       "    <tr>\n",
       "      <th>3047</th>\n",
       "      <td>SUPERMARKET_3_826</td>\n",
       "      <td>0.247476</td>\n",
       "      <td>0.296081</td>\n",
       "      <td>0.255348</td>\n",
       "      <td>0.201095</td>\n",
       "    </tr>\n",
       "    <tr>\n",
       "      <th>3048</th>\n",
       "      <td>SUPERMARKET_3_827</td>\n",
       "      <td>0.351685</td>\n",
       "      <td>0.205917</td>\n",
       "      <td>0.207484</td>\n",
       "      <td>0.234914</td>\n",
       "    </tr>\n",
       "  </tbody>\n",
       "</table>\n",
       "<p>3049 rows × 5 columns</p>\n",
       "</div>"
      ],
      "text/plain": [
       "                   item  New_York_1  New_York_2  New_York_3  New_York_4\n",
       "0      ACCESORIES_1_001    0.290651    0.185303    0.232997    0.291048\n",
       "1      ACCESORIES_1_002    0.169339    0.190386    0.265158    0.375117\n",
       "2      ACCESORIES_1_003    0.290550    0.256700    0.191819    0.260931\n",
       "3      ACCESORIES_1_004    0.265228    0.256632    0.229645    0.248495\n",
       "4      ACCESORIES_1_005    0.236569    0.200389    0.269576    0.293466\n",
       "...                 ...         ...         ...         ...         ...\n",
       "3044  SUPERMARKET_3_823    0.279585    0.208005    0.270410    0.242001\n",
       "3045  SUPERMARKET_3_824    0.219106    0.344857    0.232286    0.203751\n",
       "3046  SUPERMARKET_3_825    0.275628    0.230843    0.293817    0.199712\n",
       "3047  SUPERMARKET_3_826    0.247476    0.296081    0.255348    0.201095\n",
       "3048  SUPERMARKET_3_827    0.351685    0.205917    0.207484    0.234914\n",
       "\n",
       "[3049 rows x 5 columns]"
      ]
     },
     "execution_count": 295,
     "metadata": {},
     "output_type": "execute_result"
    }
   ],
   "source": [
    "# Filtramos el DataFrame para obtener solo los datos de la ciudad de New York\n",
    "df_ny = df[df['region'] == 'New York'].copy()\n",
    "\n",
    "# Creamos una columna 'quarter' a partir del índice 'date'\n",
    "df_ny['quarter'] = df_ny.index.quarter \n",
    "\n",
    "# Calculamos los porcentajes de ventas por ítem para cada cuatrimestre\n",
    "df_ny = pd.crosstab(df_ny['item'], df_ny['quarter'], values=df_ny['total_sales'], aggfunc='sum', normalize='index')\n",
    "\n",
    "# Renombramos las columnas de los cuatrimestres\n",
    "df_ny.columns = ['New_York_' + str(col) for col in df_ny.columns]\n",
    "\n",
    "# El resultado df_ny es un DataFrame con los porcentajes normalizados por ítem y cuatrimestre\n",
    "df_ny.reset_index(inplace=True)\n",
    "\n",
    "# Mostramos el DataFrame resultante\n",
    "df_ny"
   ]
  },
  {
   "cell_type": "code",
   "execution_count": 296,
   "metadata": {},
   "outputs": [
    {
     "data": {
      "text/html": [
       "<div>\n",
       "<style scoped>\n",
       "    .dataframe tbody tr th:only-of-type {\n",
       "        vertical-align: middle;\n",
       "    }\n",
       "\n",
       "    .dataframe tbody tr th {\n",
       "        vertical-align: top;\n",
       "    }\n",
       "\n",
       "    .dataframe thead th {\n",
       "        text-align: right;\n",
       "    }\n",
       "</style>\n",
       "<table border=\"1\" class=\"dataframe\">\n",
       "  <thead>\n",
       "    <tr style=\"text-align: right;\">\n",
       "      <th></th>\n",
       "      <th>item</th>\n",
       "      <th>Philadelphia_1</th>\n",
       "      <th>Philadelphia_2</th>\n",
       "      <th>Philadelphia_3</th>\n",
       "      <th>Philadelphia_4</th>\n",
       "    </tr>\n",
       "  </thead>\n",
       "  <tbody>\n",
       "    <tr>\n",
       "      <th>0</th>\n",
       "      <td>ACCESORIES_1_001</td>\n",
       "      <td>0.280930</td>\n",
       "      <td>0.204212</td>\n",
       "      <td>0.247872</td>\n",
       "      <td>0.266986</td>\n",
       "    </tr>\n",
       "    <tr>\n",
       "      <th>1</th>\n",
       "      <td>ACCESORIES_1_002</td>\n",
       "      <td>0.217307</td>\n",
       "      <td>0.173846</td>\n",
       "      <td>0.250679</td>\n",
       "      <td>0.358168</td>\n",
       "    </tr>\n",
       "    <tr>\n",
       "      <th>2</th>\n",
       "      <td>ACCESORIES_1_003</td>\n",
       "      <td>0.326288</td>\n",
       "      <td>0.265655</td>\n",
       "      <td>0.222862</td>\n",
       "      <td>0.185195</td>\n",
       "    </tr>\n",
       "    <tr>\n",
       "      <th>3</th>\n",
       "      <td>ACCESORIES_1_004</td>\n",
       "      <td>0.286508</td>\n",
       "      <td>0.265151</td>\n",
       "      <td>0.221110</td>\n",
       "      <td>0.227232</td>\n",
       "    </tr>\n",
       "    <tr>\n",
       "      <th>4</th>\n",
       "      <td>ACCESORIES_1_005</td>\n",
       "      <td>0.260617</td>\n",
       "      <td>0.192501</td>\n",
       "      <td>0.215559</td>\n",
       "      <td>0.331322</td>\n",
       "    </tr>\n",
       "    <tr>\n",
       "      <th>...</th>\n",
       "      <td>...</td>\n",
       "      <td>...</td>\n",
       "      <td>...</td>\n",
       "      <td>...</td>\n",
       "      <td>...</td>\n",
       "    </tr>\n",
       "    <tr>\n",
       "      <th>3044</th>\n",
       "      <td>SUPERMARKET_3_823</td>\n",
       "      <td>0.307594</td>\n",
       "      <td>0.198021</td>\n",
       "      <td>0.215576</td>\n",
       "      <td>0.278808</td>\n",
       "    </tr>\n",
       "    <tr>\n",
       "      <th>3045</th>\n",
       "      <td>SUPERMARKET_3_824</td>\n",
       "      <td>0.222398</td>\n",
       "      <td>0.321861</td>\n",
       "      <td>0.289589</td>\n",
       "      <td>0.166152</td>\n",
       "    </tr>\n",
       "    <tr>\n",
       "      <th>3046</th>\n",
       "      <td>SUPERMARKET_3_825</td>\n",
       "      <td>0.320260</td>\n",
       "      <td>0.251718</td>\n",
       "      <td>0.228474</td>\n",
       "      <td>0.199548</td>\n",
       "    </tr>\n",
       "    <tr>\n",
       "      <th>3047</th>\n",
       "      <td>SUPERMARKET_3_826</td>\n",
       "      <td>0.211521</td>\n",
       "      <td>0.293508</td>\n",
       "      <td>0.251753</td>\n",
       "      <td>0.243219</td>\n",
       "    </tr>\n",
       "    <tr>\n",
       "      <th>3048</th>\n",
       "      <td>SUPERMARKET_3_827</td>\n",
       "      <td>0.314602</td>\n",
       "      <td>0.290197</td>\n",
       "      <td>0.195447</td>\n",
       "      <td>0.199754</td>\n",
       "    </tr>\n",
       "  </tbody>\n",
       "</table>\n",
       "<p>3049 rows × 5 columns</p>\n",
       "</div>"
      ],
      "text/plain": [
       "                   item  Philadelphia_1  Philadelphia_2  Philadelphia_3  \\\n",
       "0      ACCESORIES_1_001        0.280930        0.204212        0.247872   \n",
       "1      ACCESORIES_1_002        0.217307        0.173846        0.250679   \n",
       "2      ACCESORIES_1_003        0.326288        0.265655        0.222862   \n",
       "3      ACCESORIES_1_004        0.286508        0.265151        0.221110   \n",
       "4      ACCESORIES_1_005        0.260617        0.192501        0.215559   \n",
       "...                 ...             ...             ...             ...   \n",
       "3044  SUPERMARKET_3_823        0.307594        0.198021        0.215576   \n",
       "3045  SUPERMARKET_3_824        0.222398        0.321861        0.289589   \n",
       "3046  SUPERMARKET_3_825        0.320260        0.251718        0.228474   \n",
       "3047  SUPERMARKET_3_826        0.211521        0.293508        0.251753   \n",
       "3048  SUPERMARKET_3_827        0.314602        0.290197        0.195447   \n",
       "\n",
       "      Philadelphia_4  \n",
       "0           0.266986  \n",
       "1           0.358168  \n",
       "2           0.185195  \n",
       "3           0.227232  \n",
       "4           0.331322  \n",
       "...              ...  \n",
       "3044        0.278808  \n",
       "3045        0.166152  \n",
       "3046        0.199548  \n",
       "3047        0.243219  \n",
       "3048        0.199754  \n",
       "\n",
       "[3049 rows x 5 columns]"
      ]
     },
     "execution_count": 296,
     "metadata": {},
     "output_type": "execute_result"
    }
   ],
   "source": [
    "# Filtramos el DataFrame para obtener solo los datos de la ciudad de Philadelphia\n",
    "df_philadelphia = df[df['region'] == 'Philadelphia'].copy()\n",
    "\n",
    "# Creamos una columna 'quarter' a partir del índice 'date'\n",
    "df_philadelphia['quarter'] = df_philadelphia.index.quarter \n",
    "\n",
    "# Calculamos los porcentajes de ventas por ítem para cada cuatrimestre\n",
    "df_philadelphia = pd.crosstab(df_philadelphia['item'], df_philadelphia['quarter'], values=df_philadelphia['total_sales'], aggfunc='sum', normalize='index')\n",
    "\n",
    "# Renombramos las columnas de los cuatrimestres\n",
    "df_philadelphia.columns = ['Philadelphia_' + str(col) for col in df_philadelphia.columns]\n",
    "\n",
    "# El resultado df_philadelphia es un DataFrame con los porcentajes normalizados por ítem y cuatrimestre\n",
    "df_philadelphia.reset_index(inplace=True)\n",
    "\n",
    "# Mostramos el DataFrame resultante\n",
    "df_philadelphia"
   ]
  },
  {
   "cell_type": "code",
   "execution_count": 298,
   "metadata": {},
   "outputs": [
    {
     "data": {
      "text/html": [
       "<div>\n",
       "<style scoped>\n",
       "    .dataframe tbody tr th:only-of-type {\n",
       "        vertical-align: middle;\n",
       "    }\n",
       "\n",
       "    .dataframe tbody tr th {\n",
       "        vertical-align: top;\n",
       "    }\n",
       "\n",
       "    .dataframe thead th {\n",
       "        text-align: right;\n",
       "    }\n",
       "</style>\n",
       "<table border=\"1\" class=\"dataframe\">\n",
       "  <thead>\n",
       "    <tr style=\"text-align: right;\">\n",
       "      <th></th>\n",
       "      <th>item</th>\n",
       "      <th>Boston_1</th>\n",
       "      <th>Boston_2</th>\n",
       "      <th>Boston_3</th>\n",
       "      <th>Boston_4</th>\n",
       "      <th>New_York_1</th>\n",
       "      <th>New_York_2</th>\n",
       "      <th>New_York_3</th>\n",
       "      <th>New_York_4</th>\n",
       "      <th>Philadelphia_1</th>\n",
       "      <th>Philadelphia_2</th>\n",
       "      <th>Philadelphia_3</th>\n",
       "      <th>Philadelphia_4</th>\n",
       "    </tr>\n",
       "  </thead>\n",
       "  <tbody>\n",
       "    <tr>\n",
       "      <th>0</th>\n",
       "      <td>ACCESORIES_1_001</td>\n",
       "      <td>0.258490</td>\n",
       "      <td>0.215622</td>\n",
       "      <td>0.231207</td>\n",
       "      <td>0.294681</td>\n",
       "      <td>0.290651</td>\n",
       "      <td>0.185303</td>\n",
       "      <td>0.232997</td>\n",
       "      <td>0.291048</td>\n",
       "      <td>0.280930</td>\n",
       "      <td>0.204212</td>\n",
       "      <td>0.247872</td>\n",
       "      <td>0.266986</td>\n",
       "    </tr>\n",
       "    <tr>\n",
       "      <th>1</th>\n",
       "      <td>ACCESORIES_1_002</td>\n",
       "      <td>0.202792</td>\n",
       "      <td>0.238109</td>\n",
       "      <td>0.254912</td>\n",
       "      <td>0.304187</td>\n",
       "      <td>0.169339</td>\n",
       "      <td>0.190386</td>\n",
       "      <td>0.265158</td>\n",
       "      <td>0.375117</td>\n",
       "      <td>0.217307</td>\n",
       "      <td>0.173846</td>\n",
       "      <td>0.250679</td>\n",
       "      <td>0.358168</td>\n",
       "    </tr>\n",
       "    <tr>\n",
       "      <th>2</th>\n",
       "      <td>ACCESORIES_1_003</td>\n",
       "      <td>0.254469</td>\n",
       "      <td>0.249112</td>\n",
       "      <td>0.300880</td>\n",
       "      <td>0.195539</td>\n",
       "      <td>0.290550</td>\n",
       "      <td>0.256700</td>\n",
       "      <td>0.191819</td>\n",
       "      <td>0.260931</td>\n",
       "      <td>0.326288</td>\n",
       "      <td>0.265655</td>\n",
       "      <td>0.222862</td>\n",
       "      <td>0.185195</td>\n",
       "    </tr>\n",
       "    <tr>\n",
       "      <th>3</th>\n",
       "      <td>ACCESORIES_1_004</td>\n",
       "      <td>0.256721</td>\n",
       "      <td>0.259417</td>\n",
       "      <td>0.235593</td>\n",
       "      <td>0.248269</td>\n",
       "      <td>0.265228</td>\n",
       "      <td>0.256632</td>\n",
       "      <td>0.229645</td>\n",
       "      <td>0.248495</td>\n",
       "      <td>0.286508</td>\n",
       "      <td>0.265151</td>\n",
       "      <td>0.221110</td>\n",
       "      <td>0.227232</td>\n",
       "    </tr>\n",
       "    <tr>\n",
       "      <th>4</th>\n",
       "      <td>ACCESORIES_1_005</td>\n",
       "      <td>0.209317</td>\n",
       "      <td>0.214718</td>\n",
       "      <td>0.267872</td>\n",
       "      <td>0.308094</td>\n",
       "      <td>0.236569</td>\n",
       "      <td>0.200389</td>\n",
       "      <td>0.269576</td>\n",
       "      <td>0.293466</td>\n",
       "      <td>0.260617</td>\n",
       "      <td>0.192501</td>\n",
       "      <td>0.215559</td>\n",
       "      <td>0.331322</td>\n",
       "    </tr>\n",
       "  </tbody>\n",
       "</table>\n",
       "</div>"
      ],
      "text/plain": [
       "               item  Boston_1  Boston_2  Boston_3  Boston_4  New_York_1  \\\n",
       "0  ACCESORIES_1_001  0.258490  0.215622  0.231207  0.294681    0.290651   \n",
       "1  ACCESORIES_1_002  0.202792  0.238109  0.254912  0.304187    0.169339   \n",
       "2  ACCESORIES_1_003  0.254469  0.249112  0.300880  0.195539    0.290550   \n",
       "3  ACCESORIES_1_004  0.256721  0.259417  0.235593  0.248269    0.265228   \n",
       "4  ACCESORIES_1_005  0.209317  0.214718  0.267872  0.308094    0.236569   \n",
       "\n",
       "   New_York_2  New_York_3  New_York_4  Philadelphia_1  Philadelphia_2  \\\n",
       "0    0.185303    0.232997    0.291048        0.280930        0.204212   \n",
       "1    0.190386    0.265158    0.375117        0.217307        0.173846   \n",
       "2    0.256700    0.191819    0.260931        0.326288        0.265655   \n",
       "3    0.256632    0.229645    0.248495        0.286508        0.265151   \n",
       "4    0.200389    0.269576    0.293466        0.260617        0.192501   \n",
       "\n",
       "   Philadelphia_3  Philadelphia_4  \n",
       "0        0.247872        0.266986  \n",
       "1        0.250679        0.358168  \n",
       "2        0.222862        0.185195  \n",
       "3        0.221110        0.227232  \n",
       "4        0.215559        0.331322  "
      ]
     },
     "execution_count": 298,
     "metadata": {},
     "output_type": "execute_result"
    }
   ],
   "source": [
    "# Hacemos un merge entre df_boston y df_ny\n",
    "df_merge = pd.merge(df_boston, df_ny, on='item', how='outer')\n",
    "\n",
    "# Luego, hacemos un merge del resultado anterior con df_philadelphia\n",
    "df_merge = pd.merge(df_merge, df_philadelphia, on='item', how='outer')\n",
    "\n",
    "# Mostramos el DataFrame resultante\n",
    "df_merge.head()"
   ]
  },
  {
   "cell_type": "code",
   "execution_count": 301,
   "metadata": {},
   "outputs": [
    {
     "data": {
      "text/html": [
       "<div>\n",
       "<style scoped>\n",
       "    .dataframe tbody tr th:only-of-type {\n",
       "        vertical-align: middle;\n",
       "    }\n",
       "\n",
       "    .dataframe tbody tr th {\n",
       "        vertical-align: top;\n",
       "    }\n",
       "\n",
       "    .dataframe thead th {\n",
       "        text-align: right;\n",
       "    }\n",
       "</style>\n",
       "<table border=\"1\" class=\"dataframe\">\n",
       "  <thead>\n",
       "    <tr style=\"text-align: right;\">\n",
       "      <th></th>\n",
       "      <th>item</th>\n",
       "      <th>Boston_1</th>\n",
       "      <th>Boston_2</th>\n",
       "      <th>Boston_3</th>\n",
       "      <th>Boston_4</th>\n",
       "      <th>New_York_1</th>\n",
       "      <th>New_York_2</th>\n",
       "      <th>New_York_3</th>\n",
       "      <th>New_York_4</th>\n",
       "      <th>Philadelphia_1</th>\n",
       "      <th>Philadelphia_2</th>\n",
       "      <th>Philadelphia_3</th>\n",
       "      <th>Philadelphia_4</th>\n",
       "      <th>total_units_sold_x</th>\n",
       "      <th>total_units_sold_y</th>\n",
       "      <th>avg_sell_price</th>\n",
       "    </tr>\n",
       "  </thead>\n",
       "  <tbody>\n",
       "    <tr>\n",
       "      <th>0</th>\n",
       "      <td>ACCESORIES_1_001</td>\n",
       "      <td>0.258490</td>\n",
       "      <td>0.215622</td>\n",
       "      <td>0.231207</td>\n",
       "      <td>0.294681</td>\n",
       "      <td>0.290651</td>\n",
       "      <td>0.185303</td>\n",
       "      <td>0.232997</td>\n",
       "      <td>0.291048</td>\n",
       "      <td>0.280930</td>\n",
       "      <td>0.204212</td>\n",
       "      <td>0.247872</td>\n",
       "      <td>0.266986</td>\n",
       "      <td>4051</td>\n",
       "      <td>4051</td>\n",
       "      <td>11.039091</td>\n",
       "    </tr>\n",
       "    <tr>\n",
       "      <th>1</th>\n",
       "      <td>ACCESORIES_1_002</td>\n",
       "      <td>0.202792</td>\n",
       "      <td>0.238109</td>\n",
       "      <td>0.254912</td>\n",
       "      <td>0.304187</td>\n",
       "      <td>0.169339</td>\n",
       "      <td>0.190386</td>\n",
       "      <td>0.265158</td>\n",
       "      <td>0.375117</td>\n",
       "      <td>0.217307</td>\n",
       "      <td>0.173846</td>\n",
       "      <td>0.250679</td>\n",
       "      <td>0.358168</td>\n",
       "      <td>5047</td>\n",
       "      <td>5047</td>\n",
       "      <td>5.276618</td>\n",
       "    </tr>\n",
       "    <tr>\n",
       "      <th>2</th>\n",
       "      <td>ACCESORIES_1_003</td>\n",
       "      <td>0.254469</td>\n",
       "      <td>0.249112</td>\n",
       "      <td>0.300880</td>\n",
       "      <td>0.195539</td>\n",
       "      <td>0.290550</td>\n",
       "      <td>0.256700</td>\n",
       "      <td>0.191819</td>\n",
       "      <td>0.260931</td>\n",
       "      <td>0.326288</td>\n",
       "      <td>0.265655</td>\n",
       "      <td>0.222862</td>\n",
       "      <td>0.185195</td>\n",
       "      <td>1405</td>\n",
       "      <td>1405</td>\n",
       "      <td>3.944072</td>\n",
       "    </tr>\n",
       "    <tr>\n",
       "      <th>3</th>\n",
       "      <td>ACCESORIES_1_004</td>\n",
       "      <td>0.256721</td>\n",
       "      <td>0.259417</td>\n",
       "      <td>0.235593</td>\n",
       "      <td>0.248269</td>\n",
       "      <td>0.265228</td>\n",
       "      <td>0.256632</td>\n",
       "      <td>0.229645</td>\n",
       "      <td>0.248495</td>\n",
       "      <td>0.286508</td>\n",
       "      <td>0.265151</td>\n",
       "      <td>0.221110</td>\n",
       "      <td>0.227232</td>\n",
       "      <td>38996</td>\n",
       "      <td>38996</td>\n",
       "      <td>5.981629</td>\n",
       "    </tr>\n",
       "    <tr>\n",
       "      <th>4</th>\n",
       "      <td>ACCESORIES_1_005</td>\n",
       "      <td>0.209317</td>\n",
       "      <td>0.214718</td>\n",
       "      <td>0.267872</td>\n",
       "      <td>0.308094</td>\n",
       "      <td>0.236569</td>\n",
       "      <td>0.200389</td>\n",
       "      <td>0.269576</td>\n",
       "      <td>0.293466</td>\n",
       "      <td>0.260617</td>\n",
       "      <td>0.192501</td>\n",
       "      <td>0.215559</td>\n",
       "      <td>0.331322</td>\n",
       "      <td>14529</td>\n",
       "      <td>14529</td>\n",
       "      <td>3.833931</td>\n",
       "    </tr>\n",
       "  </tbody>\n",
       "</table>\n",
       "</div>"
      ],
      "text/plain": [
       "               item  Boston_1  Boston_2  Boston_3  Boston_4  New_York_1  \\\n",
       "0  ACCESORIES_1_001  0.258490  0.215622  0.231207  0.294681    0.290651   \n",
       "1  ACCESORIES_1_002  0.202792  0.238109  0.254912  0.304187    0.169339   \n",
       "2  ACCESORIES_1_003  0.254469  0.249112  0.300880  0.195539    0.290550   \n",
       "3  ACCESORIES_1_004  0.256721  0.259417  0.235593  0.248269    0.265228   \n",
       "4  ACCESORIES_1_005  0.209317  0.214718  0.267872  0.308094    0.236569   \n",
       "\n",
       "   New_York_2  New_York_3  New_York_4  Philadelphia_1  Philadelphia_2  \\\n",
       "0    0.185303    0.232997    0.291048        0.280930        0.204212   \n",
       "1    0.190386    0.265158    0.375117        0.217307        0.173846   \n",
       "2    0.256700    0.191819    0.260931        0.326288        0.265655   \n",
       "3    0.256632    0.229645    0.248495        0.286508        0.265151   \n",
       "4    0.200389    0.269576    0.293466        0.260617        0.192501   \n",
       "\n",
       "   Philadelphia_3  Philadelphia_4  total_units_sold_x  total_units_sold_y  \\\n",
       "0        0.247872        0.266986                4051                4051   \n",
       "1        0.250679        0.358168                5047                5047   \n",
       "2        0.222862        0.185195                1405                1405   \n",
       "3        0.221110        0.227232               38996               38996   \n",
       "4        0.215559        0.331322               14529               14529   \n",
       "\n",
       "   avg_sell_price  \n",
       "0       11.039091  \n",
       "1        5.276618  \n",
       "2        3.944072  \n",
       "3        5.981629  \n",
       "4        3.833931  "
      ]
     },
     "execution_count": 301,
     "metadata": {},
     "output_type": "execute_result"
    }
   ],
   "source": [
    "# Calculamos el total de unidades vendidas por 'item'\n",
    "total_sales_by_item = df.groupby('item')['units_sold'].sum().reset_index(name='total_units_sold')\n",
    "# Calculamos el precio medio total por 'item'\n",
    "average_price_by_item = df.groupby('item')['sell_price'].mean().reset_index(name='avg_sell_price')\n",
    "# Realizamos un merge para agregar las ventas totales por 'item'\n",
    "df_merge = pd.merge(df_merge, total_sales_by_item, on='item', how='left')\n",
    "# Realizamos otro merge para agregar el precio medio total por 'item'\n",
    "df_final_item_region = pd.merge(df_merge, average_price_by_item, on='item', how='left')\n",
    "\n",
    "df_final_item_region.head()"
   ]
  },
  {
   "cell_type": "code",
   "execution_count": 303,
   "metadata": {},
   "outputs": [
    {
     "data": {
      "image/png": "[encoded data removed]",
      "text/plain": [
       "<Figure size 864x576 with 2 Axes>"
      ]
     },
     "metadata": {},
     "output_type": "display_data"
    }
   ],
   "source": [
    "# Obtenemos la correlación de las diferentes variables\n",
    "plt.figure(figsize=(12, 8))\n",
    "sns.heatmap(df_final_item_region.corr(), annot=True, cmap=\"YlGnBu\");"
   ]
  },
  {
   "cell_type": "markdown",
   "metadata": {},
   "source": [
    "Con los datos obtenidos, decidimos quedarnos mejor con el porcentaje de ventas por *quarter* de cada producto en total, el precio medio total por producto y la cantidad de unidades vendidas de cada uno."
   ]
  },
  {
   "cell_type": "code",
   "execution_count": 272,
   "metadata": {},
   "outputs": [
    {
     "data": {
      "text/html": [
       "<div>\n",
       "<style scoped>\n",
       "    .dataframe tbody tr th:only-of-type {\n",
       "        vertical-align: middle;\n",
       "    }\n",
       "\n",
       "    .dataframe tbody tr th {\n",
       "        vertical-align: top;\n",
       "    }\n",
       "\n",
       "    .dataframe thead th {\n",
       "        text-align: right;\n",
       "    }\n",
       "</style>\n",
       "<table border=\"1\" class=\"dataframe\">\n",
       "  <thead>\n",
       "    <tr style=\"text-align: right;\">\n",
       "      <th></th>\n",
       "      <th>item</th>\n",
       "      <th>1</th>\n",
       "      <th>2</th>\n",
       "      <th>3</th>\n",
       "      <th>4</th>\n",
       "      <th>units_total</th>\n",
       "      <th>avg_price</th>\n",
       "    </tr>\n",
       "  </thead>\n",
       "  <tbody>\n",
       "    <tr>\n",
       "      <th>0</th>\n",
       "      <td>ACCESORIES_1_001</td>\n",
       "      <td>0.281263</td>\n",
       "      <td>0.269487</td>\n",
       "      <td>0.351586</td>\n",
       "      <td>0.097664</td>\n",
       "      <td>4051</td>\n",
       "      <td>11.000712</td>\n",
       "    </tr>\n",
       "    <tr>\n",
       "      <th>1</th>\n",
       "      <td>ACCESORIES_1_002</td>\n",
       "      <td>0.199654</td>\n",
       "      <td>0.276641</td>\n",
       "      <td>0.344166</td>\n",
       "      <td>0.179539</td>\n",
       "      <td>5047</td>\n",
       "      <td>5.279317</td>\n",
       "    </tr>\n",
       "    <tr>\n",
       "      <th>2</th>\n",
       "      <td>ACCESORIES_1_003</td>\n",
       "      <td>0.289062</td>\n",
       "      <td>0.323099</td>\n",
       "      <td>0.258637</td>\n",
       "      <td>0.129202</td>\n",
       "      <td>1405</td>\n",
       "      <td>3.938599</td>\n",
       "    </tr>\n",
       "    <tr>\n",
       "      <th>3</th>\n",
       "      <td>ACCESORIES_1_004</td>\n",
       "      <td>0.266751</td>\n",
       "      <td>0.332820</td>\n",
       "      <td>0.313277</td>\n",
       "      <td>0.087152</td>\n",
       "      <td>38996</td>\n",
       "      <td>6.006287</td>\n",
       "    </tr>\n",
       "    <tr>\n",
       "      <th>4</th>\n",
       "      <td>ACCESORIES_1_005</td>\n",
       "      <td>0.234197</td>\n",
       "      <td>0.285362</td>\n",
       "      <td>0.376911</td>\n",
       "      <td>0.103530</td>\n",
       "      <td>14529</td>\n",
       "      <td>3.807422</td>\n",
       "    </tr>\n",
       "  </tbody>\n",
       "</table>\n",
       "</div>"
      ],
      "text/plain": [
       "               item         1         2         3         4  units_total  \\\n",
       "0  ACCESORIES_1_001  0.281263  0.269487  0.351586  0.097664         4051   \n",
       "1  ACCESORIES_1_002  0.199654  0.276641  0.344166  0.179539         5047   \n",
       "2  ACCESORIES_1_003  0.289062  0.323099  0.258637  0.129202         1405   \n",
       "3  ACCESORIES_1_004  0.266751  0.332820  0.313277  0.087152        38996   \n",
       "4  ACCESORIES_1_005  0.234197  0.285362  0.376911  0.103530        14529   \n",
       "\n",
       "   avg_price  \n",
       "0  11.000712  \n",
       "1   5.279317  \n",
       "2   3.938599  \n",
       "3   6.006287  \n",
       "4   3.807422  "
      ]
     },
     "execution_count": 272,
     "metadata": {},
     "output_type": "execute_result"
    }
   ],
   "source": [
    "# Creamos una columna 'quarter' a partir del índice 'date'\n",
    "df['quarter'] = df.index.month // 4 + 1\n",
    "\n",
    "# Calculamos los porcentajes de ventas por ítem y cuatrimestre\n",
    "df_perc_quarter_item = pd.crosstab(df['item'], df['quarter'], values=df['total_sales'], aggfunc='sum', normalize='index')\n",
    "\n",
    "# Calculamos las unidades totales vendidas por ítem\n",
    "units_total = df.groupby('item')['units_sold'].sum()\n",
    "\n",
    "# Calculamos el precio medio por ítem\n",
    "avg_price = df.groupby('item').apply(lambda x: (x['total_sales'].sum() / x['units_sold'].sum()))\n",
    "\n",
    "# Convertimos las Series en DataFrames para unirlos más fácilmente después\n",
    "units_total_by_item_df = units_total.reset_index(name='units_total')\n",
    "average_price_by_item_df = avg_price.reset_index(name='avg_price')\n",
    "\n",
    "# Unimos los DataFrames para tener todos los datos juntos\n",
    "df_final = df_perc_quarter_item.reset_index()  \n",
    "df_final = df_final.merge(units_total_by_item_df, on='item')\n",
    "df_final = df_final.merge(average_price_by_item_df, on='item')\n",
    "\n",
    "df_final.head()"
   ]
  },
  {
   "cell_type": "code",
   "execution_count": 273,
   "metadata": {},
   "outputs": [
    {
     "data": {
      "image/png": "[encoded data removed]",
      "text/plain": [
       "<Figure size 576x396 with 2 Axes>"
      ]
     },
     "metadata": {},
     "output_type": "display_data"
    }
   ],
   "source": [
    "# Obtenemos la correlación de las diferentes variables\n",
    "sns.heatmap(df_final.corr(), annot=True, cmap=\"YlGnBu\");"
   ]
  },
  {
   "cell_type": "markdown",
   "metadata": {},
   "source": [
    "Ya que ninguna tiene una alta correlación, no vamos a proceder a eliminar variables."
   ]
  },
  {
   "cell_type": "code",
   "execution_count": 274,
   "metadata": {},
   "outputs": [],
   "source": [
    "df_cluster_product= df_final.copy()"
   ]
  },
  {
   "cell_type": "code",
   "execution_count": 275,
   "metadata": {},
   "outputs": [
    {
     "data": {
      "text/plain": [
       "0        ACCESORIES_1_001\n",
       "1        ACCESORIES_1_002\n",
       "2        ACCESORIES_1_003\n",
       "3        ACCESORIES_1_004\n",
       "4        ACCESORIES_1_005\n",
       "              ...        \n",
       "3044    SUPERMARKET_3_823\n",
       "3045    SUPERMARKET_3_824\n",
       "3046    SUPERMARKET_3_825\n",
       "3047    SUPERMARKET_3_826\n",
       "3048    SUPERMARKET_3_827\n",
       "Name: item, Length: 3049, dtype: object"
      ]
     },
     "execution_count": 275,
     "metadata": {},
     "output_type": "execute_result"
    }
   ],
   "source": [
    "# Guardamos la variable 'ítem'\n",
    "productos = df_cluster_product.pop('item')\n",
    "productos"
   ]
  },
  {
   "cell_type": "code",
   "execution_count": 276,
   "metadata": {},
   "outputs": [
    {
     "data": {
      "text/html": [
       "<div>\n",
       "<style scoped>\n",
       "    .dataframe tbody tr th:only-of-type {\n",
       "        vertical-align: middle;\n",
       "    }\n",
       "\n",
       "    .dataframe tbody tr th {\n",
       "        vertical-align: top;\n",
       "    }\n",
       "\n",
       "    .dataframe thead th {\n",
       "        text-align: right;\n",
       "    }\n",
       "</style>\n",
       "<table border=\"1\" class=\"dataframe\">\n",
       "  <thead>\n",
       "    <tr style=\"text-align: right;\">\n",
       "      <th></th>\n",
       "      <th>1</th>\n",
       "      <th>2</th>\n",
       "      <th>3</th>\n",
       "      <th>4</th>\n",
       "      <th>units_total</th>\n",
       "      <th>avg_price</th>\n",
       "    </tr>\n",
       "  </thead>\n",
       "  <tbody>\n",
       "    <tr>\n",
       "      <th>0</th>\n",
       "      <td>0.294480</td>\n",
       "      <td>-0.998906</td>\n",
       "      <td>0.649205</td>\n",
       "      <td>0.670123</td>\n",
       "      <td>-0.394344</td>\n",
       "      <td>1.203613</td>\n",
       "    </tr>\n",
       "    <tr>\n",
       "      <th>1</th>\n",
       "      <td>-1.474984</td>\n",
       "      <td>-0.875332</td>\n",
       "      <td>0.475104</td>\n",
       "      <td>3.978920</td>\n",
       "      <td>-0.371743</td>\n",
       "      <td>-0.060003</td>\n",
       "    </tr>\n",
       "    <tr>\n",
       "      <th>2</th>\n",
       "      <td>0.463571</td>\n",
       "      <td>-0.072881</td>\n",
       "      <td>-1.531710</td>\n",
       "      <td>1.944648</td>\n",
       "      <td>-0.454387</td>\n",
       "      <td>-0.356112</td>\n",
       "    </tr>\n",
       "    <tr>\n",
       "      <th>3</th>\n",
       "      <td>-0.020167</td>\n",
       "      <td>0.095021</td>\n",
       "      <td>-0.249666</td>\n",
       "      <td>0.245283</td>\n",
       "      <td>0.398622</td>\n",
       "      <td>0.100554</td>\n",
       "    </tr>\n",
       "    <tr>\n",
       "      <th>4</th>\n",
       "      <td>-0.726012</td>\n",
       "      <td>-0.724695</td>\n",
       "      <td>1.243415</td>\n",
       "      <td>0.907168</td>\n",
       "      <td>-0.156579</td>\n",
       "      <td>-0.385083</td>\n",
       "    </tr>\n",
       "    <tr>\n",
       "      <th>...</th>\n",
       "      <td>...</td>\n",
       "      <td>...</td>\n",
       "      <td>...</td>\n",
       "      <td>...</td>\n",
       "      <td>...</td>\n",
       "      <td>...</td>\n",
       "    </tr>\n",
       "    <tr>\n",
       "      <th>3044</th>\n",
       "      <td>0.402209</td>\n",
       "      <td>-1.089143</td>\n",
       "      <td>0.807590</td>\n",
       "      <td>0.407662</td>\n",
       "      <td>-0.139311</td>\n",
       "      <td>-0.495808</td>\n",
       "    </tr>\n",
       "    <tr>\n",
       "      <th>3045</th>\n",
       "      <td>-1.021481</td>\n",
       "      <td>1.647326</td>\n",
       "      <td>-0.463141</td>\n",
       "      <td>-1.152677</td>\n",
       "      <td>-0.297586</td>\n",
       "      <td>-0.551936</td>\n",
       "    </tr>\n",
       "    <tr>\n",
       "      <th>3046</th>\n",
       "      <td>0.737654</td>\n",
       "      <td>0.149883</td>\n",
       "      <td>-0.784165</td>\n",
       "      <td>-0.374962</td>\n",
       "      <td>-0.180723</td>\n",
       "      <td>-0.151334</td>\n",
       "    </tr>\n",
       "    <tr>\n",
       "      <th>3047</th>\n",
       "      <td>-0.540336</td>\n",
       "      <td>0.997243</td>\n",
       "      <td>-0.526538</td>\n",
       "      <td>-0.419265</td>\n",
       "      <td>-0.211221</td>\n",
       "      <td>-0.886764</td>\n",
       "    </tr>\n",
       "    <tr>\n",
       "      <th>3048</th>\n",
       "      <td>1.317126</td>\n",
       "      <td>-0.436747</td>\n",
       "      <td>-0.626465</td>\n",
       "      <td>-0.354089</td>\n",
       "      <td>-0.231780</td>\n",
       "      <td>-0.960977</td>\n",
       "    </tr>\n",
       "  </tbody>\n",
       "</table>\n",
       "<p>3049 rows × 6 columns</p>\n",
       "</div>"
      ],
      "text/plain": [
       "             1         2         3         4  units_total  avg_price\n",
       "0     0.294480 -0.998906  0.649205  0.670123    -0.394344   1.203613\n",
       "1    -1.474984 -0.875332  0.475104  3.978920    -0.371743  -0.060003\n",
       "2     0.463571 -0.072881 -1.531710  1.944648    -0.454387  -0.356112\n",
       "3    -0.020167  0.095021 -0.249666  0.245283     0.398622   0.100554\n",
       "4    -0.726012 -0.724695  1.243415  0.907168    -0.156579  -0.385083\n",
       "...        ...       ...       ...       ...          ...        ...\n",
       "3044  0.402209 -1.089143  0.807590  0.407662    -0.139311  -0.495808\n",
       "3045 -1.021481  1.647326 -0.463141 -1.152677    -0.297586  -0.551936\n",
       "3046  0.737654  0.149883 -0.784165 -0.374962    -0.180723  -0.151334\n",
       "3047 -0.540336  0.997243 -0.526538 -0.419265    -0.211221  -0.886764\n",
       "3048  1.317126 -0.436747 -0.626465 -0.354089    -0.231780  -0.960977\n",
       "\n",
       "[3049 rows x 6 columns]"
      ]
     },
     "execution_count": 276,
     "metadata": {},
     "output_type": "execute_result"
    }
   ],
   "source": [
    "# Cambiamos todos los nombres de las columnas a strings\n",
    "df_cluster_product.columns = df_cluster_product.columns.astype(str)\n",
    "# Estandarizamos las características\n",
    "ss = StandardScaler()\n",
    "df_cluster_product_ss = pd.DataFrame(\n",
    "    ss.fit_transform(df_cluster_product),\n",
    "    columns= df_cluster_product.columns)\n",
    "df_cluster_product_ss"
   ]
  },
  {
   "cell_type": "markdown",
   "metadata": {},
   "source": [
    "Probamos con HDBSCAN..."
   ]
  },
  {
   "cell_type": "code",
   "execution_count": 277,
   "metadata": {},
   "outputs": [
    {
     "data": {
      "text/html": [
       "<div>\n",
       "<style scoped>\n",
       "    .dataframe tbody tr th:only-of-type {\n",
       "        vertical-align: middle;\n",
       "    }\n",
       "\n",
       "    .dataframe tbody tr th {\n",
       "        vertical-align: top;\n",
       "    }\n",
       "\n",
       "    .dataframe thead th {\n",
       "        text-align: right;\n",
       "    }\n",
       "</style>\n",
       "<table border=\"1\" class=\"dataframe\">\n",
       "  <thead>\n",
       "    <tr style=\"text-align: right;\">\n",
       "      <th></th>\n",
       "      <th>item</th>\n",
       "      <th>1</th>\n",
       "      <th>2</th>\n",
       "      <th>3</th>\n",
       "      <th>4</th>\n",
       "      <th>units_total</th>\n",
       "      <th>avg_price</th>\n",
       "      <th>cluster_hdbscan</th>\n",
       "    </tr>\n",
       "  </thead>\n",
       "  <tbody>\n",
       "    <tr>\n",
       "      <th>0</th>\n",
       "      <td>ACCESORIES_1_001</td>\n",
       "      <td>0.281263</td>\n",
       "      <td>0.269487</td>\n",
       "      <td>0.351586</td>\n",
       "      <td>0.097664</td>\n",
       "      <td>4051</td>\n",
       "      <td>11.000712</td>\n",
       "      <td>1</td>\n",
       "    </tr>\n",
       "    <tr>\n",
       "      <th>1</th>\n",
       "      <td>ACCESORIES_1_002</td>\n",
       "      <td>0.199654</td>\n",
       "      <td>0.276641</td>\n",
       "      <td>0.344166</td>\n",
       "      <td>0.179539</td>\n",
       "      <td>5047</td>\n",
       "      <td>5.279317</td>\n",
       "      <td>1</td>\n",
       "    </tr>\n",
       "    <tr>\n",
       "      <th>2</th>\n",
       "      <td>ACCESORIES_1_003</td>\n",
       "      <td>0.289062</td>\n",
       "      <td>0.323099</td>\n",
       "      <td>0.258637</td>\n",
       "      <td>0.129202</td>\n",
       "      <td>1405</td>\n",
       "      <td>3.938599</td>\n",
       "      <td>1</td>\n",
       "    </tr>\n",
       "    <tr>\n",
       "      <th>3</th>\n",
       "      <td>ACCESORIES_1_004</td>\n",
       "      <td>0.266751</td>\n",
       "      <td>0.332820</td>\n",
       "      <td>0.313277</td>\n",
       "      <td>0.087152</td>\n",
       "      <td>38996</td>\n",
       "      <td>6.006287</td>\n",
       "      <td>1</td>\n",
       "    </tr>\n",
       "    <tr>\n",
       "      <th>4</th>\n",
       "      <td>ACCESORIES_1_005</td>\n",
       "      <td>0.234197</td>\n",
       "      <td>0.285362</td>\n",
       "      <td>0.376911</td>\n",
       "      <td>0.103530</td>\n",
       "      <td>14529</td>\n",
       "      <td>3.807422</td>\n",
       "      <td>1</td>\n",
       "    </tr>\n",
       "    <tr>\n",
       "      <th>...</th>\n",
       "      <td>...</td>\n",
       "      <td>...</td>\n",
       "      <td>...</td>\n",
       "      <td>...</td>\n",
       "      <td>...</td>\n",
       "      <td>...</td>\n",
       "      <td>...</td>\n",
       "      <td>...</td>\n",
       "    </tr>\n",
       "    <tr>\n",
       "      <th>3044</th>\n",
       "      <td>SUPERMARKET_3_823</td>\n",
       "      <td>0.286232</td>\n",
       "      <td>0.264262</td>\n",
       "      <td>0.358336</td>\n",
       "      <td>0.091170</td>\n",
       "      <td>15290</td>\n",
       "      <td>3.306083</td>\n",
       "      <td>1</td>\n",
       "    </tr>\n",
       "    <tr>\n",
       "      <th>3045</th>\n",
       "      <td>SUPERMARKET_3_824</td>\n",
       "      <td>0.220570</td>\n",
       "      <td>0.422692</td>\n",
       "      <td>0.304179</td>\n",
       "      <td>0.052560</td>\n",
       "      <td>8315</td>\n",
       "      <td>3.051947</td>\n",
       "      <td>1</td>\n",
       "    </tr>\n",
       "    <tr>\n",
       "      <th>3046</th>\n",
       "      <td>SUPERMARKET_3_825</td>\n",
       "      <td>0.301703</td>\n",
       "      <td>0.335997</td>\n",
       "      <td>0.290497</td>\n",
       "      <td>0.071804</td>\n",
       "      <td>13465</td>\n",
       "      <td>4.865789</td>\n",
       "      <td>1</td>\n",
       "    </tr>\n",
       "    <tr>\n",
       "      <th>3047</th>\n",
       "      <td>SUPERMARKET_3_826</td>\n",
       "      <td>0.242761</td>\n",
       "      <td>0.385055</td>\n",
       "      <td>0.301477</td>\n",
       "      <td>0.070708</td>\n",
       "      <td>12121</td>\n",
       "      <td>1.535917</td>\n",
       "      <td>1</td>\n",
       "    </tr>\n",
       "    <tr>\n",
       "      <th>3048</th>\n",
       "      <td>SUPERMARKET_3_827</td>\n",
       "      <td>0.328429</td>\n",
       "      <td>0.302033</td>\n",
       "      <td>0.297218</td>\n",
       "      <td>0.072320</td>\n",
       "      <td>11215</td>\n",
       "      <td>1.199893</td>\n",
       "      <td>1</td>\n",
       "    </tr>\n",
       "  </tbody>\n",
       "</table>\n",
       "<p>3049 rows × 8 columns</p>\n",
       "</div>"
      ],
      "text/plain": [
       "                   item         1         2         3         4  units_total  \\\n",
       "0      ACCESORIES_1_001  0.281263  0.269487  0.351586  0.097664         4051   \n",
       "1      ACCESORIES_1_002  0.199654  0.276641  0.344166  0.179539         5047   \n",
       "2      ACCESORIES_1_003  0.289062  0.323099  0.258637  0.129202         1405   \n",
       "3      ACCESORIES_1_004  0.266751  0.332820  0.313277  0.087152        38996   \n",
       "4      ACCESORIES_1_005  0.234197  0.285362  0.376911  0.103530        14529   \n",
       "...                 ...       ...       ...       ...       ...          ...   \n",
       "3044  SUPERMARKET_3_823  0.286232  0.264262  0.358336  0.091170        15290   \n",
       "3045  SUPERMARKET_3_824  0.220570  0.422692  0.304179  0.052560         8315   \n",
       "3046  SUPERMARKET_3_825  0.301703  0.335997  0.290497  0.071804        13465   \n",
       "3047  SUPERMARKET_3_826  0.242761  0.385055  0.301477  0.070708        12121   \n",
       "3048  SUPERMARKET_3_827  0.328429  0.302033  0.297218  0.072320        11215   \n",
       "\n",
       "      avg_price  cluster_hdbscan  \n",
       "0     11.000712                1  \n",
       "1      5.279317                1  \n",
       "2      3.938599                1  \n",
       "3      6.006287                1  \n",
       "4      3.807422                1  \n",
       "...         ...              ...  \n",
       "3044   3.306083                1  \n",
       "3045   3.051947                1  \n",
       "3046   4.865789                1  \n",
       "3047   1.535917                1  \n",
       "3048   1.199893                1  \n",
       "\n",
       "[3049 rows x 8 columns]"
      ]
     },
     "execution_count": 277,
     "metadata": {},
     "output_type": "execute_result"
    }
   ],
   "source": [
    "# Inicializamos el algoritmo HDBSCAN \n",
    "clusterer = hdbscan.HDBSCAN(min_samples=10, min_cluster_size=5)\n",
    "\n",
    "# Ajustamos el modelo y predecimos las etiquetas de clúster\n",
    "cluster_labels = clusterer.fit_predict(df_cluster_product_ss)\n",
    "\n",
    "# Agregamos las etiquetas del clúster al DataFrame original\n",
    "df_final['cluster_hdbscan'] = cluster_labels\n",
    "\n",
    "df_final"
   ]
  },
  {
   "cell_type": "code",
   "execution_count": 279,
   "metadata": {},
   "outputs": [
    {
     "data": {
      "text/plain": [
       " 1    2899\n",
       "-1     143\n",
       " 0       7\n",
       "Name: cluster_hdbscan, dtype: int64"
      ]
     },
     "execution_count": 279,
     "metadata": {},
     "output_type": "execute_result"
    }
   ],
   "source": [
    "df_final.cluster_hdbscan.value_counts()"
   ]
  },
  {
   "cell_type": "markdown",
   "metadata": {},
   "source": [
    "Hacemos unas segunda iteración con KMeans..."
   ]
  },
  {
   "cell_type": "code",
   "execution_count": 280,
   "metadata": {},
   "outputs": [
    {
     "data": {
      "image/png": "[encoded data removed]",
      "text/plain": [
       "<Figure size 576x396 with 2 Axes>"
      ]
     },
     "metadata": {},
     "output_type": "display_data"
    }
   ],
   "source": [
    "Elbow_M = KElbowVisualizer(KMeans(random_state=42, init=\"random\", n_init=\"auto\"), k=10)\n",
    "Elbow_M.fit(df_cluster_product_ss)\n",
    "Elbow_M.show();"
   ]
  },
  {
   "cell_type": "code",
   "execution_count": 281,
   "metadata": {},
   "outputs": [
    {
     "data": {
      "application/vnd.plotly.v1+json": {
       "config": {
        "plotlyServerURL": "https://plot.ly"
       },
       "data": [
        {
         "hovertemplate": "k=%{x}<br>Silhouette score=%{y}<extra></extra>",
         "legendgroup": "",
         "line": {
          "color": "#636efa",
          "dash": "solid"
         },
         "mode": "lines",
         "name": "",
         "orientation": "v",
         "showlegend": false,
         "type": "scatter",
         "x": [
          2,
          3,
          4,
          5,
          6,
          7,
          8,
          9
         ],
         "xaxis": "x",
         "y": [
          0.15567881421241697,
          0.15993946197473963,
          0.17056995447578363,
          0.18873243582095417,
          0.2135760866011358,
          0.19903323917568505,
          0.20361388081252027,
          0.1855151482915699
         ],
         "yaxis": "y"
        }
       ],
       "layout": {
        "legend": {
         "tracegroupgap": 0
        },
        "template": {
         "data": {
          "bar": [
           {
            "error_x": {
             "color": "#2a3f5f"
            },
            "error_y": {
             "color": "#2a3f5f"
            },
            "marker": {
             "line": {
              "color": "#E5ECF6",
              "width": 0.5
             },
             "pattern": {
              "fillmode": "overlay",
              "size": 10,
              "solidity": 0.2
             }
            },
            "type": "bar"
           }
          ],
          "barpolar": [
           {
            "marker": {
             "line": {
              "color": "#E5ECF6",
              "width": 0.5
             },
             "pattern": {
              "fillmode": "overlay",
              "size": 10,
              "solidity": 0.2
             }
            },
            "type": "barpolar"
           }
          ],
          "carpet": [
           {
            "aaxis": {
             "endlinecolor": "#2a3f5f",
             "gridcolor": "white",
             "linecolor": "white",
             "minorgridcolor": "white",
             "startlinecolor": "#2a3f5f"
            },
            "baxis": {
             "endlinecolor": "#2a3f5f",
             "gridcolor": "white",
             "linecolor": "white",
             "minorgridcolor": "white",
             "startlinecolor": "#2a3f5f"
            },
            "type": "carpet"
           }
          ],
          "choropleth": [
           {
            "colorbar": {
             "outlinewidth": 0,
             "ticks": ""
            },
            "type": "choropleth"
           }
          ],
          "contour": [
           {
            "colorbar": {
             "outlinewidth": 0,
             "ticks": ""
            },
            "colorscale": [
             [
              0,
              "#0d0887"
             ],
             [
              0.1111111111111111,
              "#46039f"
             ],
             [
              0.2222222222222222,
              "#7201a8"
             ],
             [
              0.3333333333333333,
              "#9c179e"
             ],
             [
              0.4444444444444444,
              "#bd3786"
             ],
             [
              0.5555555555555556,
              "#d8576b"
             ],
             [
              0.6666666666666666,
              "#ed7953"
             ],
             [
              0.7777777777777778,
              "#fb9f3a"
             ],
             [
              0.8888888888888888,
              "#fdca26"
             ],
             [
              1,
              "#f0f921"
             ]
            ],
            "type": "contour"
           }
          ],
          "contourcarpet": [
           {
            "colorbar": {
             "outlinewidth": 0,
             "ticks": ""
            },
            "type": "contourcarpet"
           }
          ],
          "heatmap": [
           {
            "colorbar": {
             "outlinewidth": 0,
             "ticks": ""
            },
            "colorscale": [
             [
              0,
              "#0d0887"
             ],
             [
              0.1111111111111111,
              "#46039f"
             ],
             [
              0.2222222222222222,
              "#7201a8"
             ],
             [
              0.3333333333333333,
              "#9c179e"
             ],
             [
              0.4444444444444444,
              "#bd3786"
             ],
             [
              0.5555555555555556,
              "#d8576b"
             ],
             [
              0.6666666666666666,
              "#ed7953"
             ],
             [
              0.7777777777777778,
              "#fb9f3a"
             ],
             [
              0.8888888888888888,
              "#fdca26"
             ],
             [
              1,
              "#f0f921"
             ]
            ],
            "type": "heatmap"
           }
          ],
          "heatmapgl": [
           {
            "colorbar": {
             "outlinewidth": 0,
             "ticks": ""
            },
            "colorscale": [
             [
              0,
              "#0d0887"
             ],
             [
              0.1111111111111111,
              "#46039f"
             ],
             [
              0.2222222222222222,
              "#7201a8"
             ],
             [
              0.3333333333333333,
              "#9c179e"
             ],
             [
              0.4444444444444444,
              "#bd3786"
             ],
             [
              0.5555555555555556,
              "#d8576b"
             ],
             [
              0.6666666666666666,
              "#ed7953"
             ],
             [
              0.7777777777777778,
              "#fb9f3a"
             ],
             [
              0.8888888888888888,
              "#fdca26"
             ],
             [
              1,
              "#f0f921"
             ]
            ],
            "type": "heatmapgl"
           }
          ],
          "histogram": [
           {
            "marker": {
             "pattern": {
              "fillmode": "overlay",
              "size": 10,
              "solidity": 0.2
             }
            },
            "type": "histogram"
           }
          ],
          "histogram2d": [
           {
            "colorbar": {
             "outlinewidth": 0,
             "ticks": ""
            },
            "colorscale": [
             [
              0,
              "#0d0887"
             ],
             [
              0.1111111111111111,
              "#46039f"
             ],
             [
              0.2222222222222222,
              "#7201a8"
             ],
             [
              0.3333333333333333,
              "#9c179e"
             ],
             [
              0.4444444444444444,
              "#bd3786"
             ],
             [
              0.5555555555555556,
              "#d8576b"
             ],
             [
              0.6666666666666666,
              "#ed7953"
             ],
             [
              0.7777777777777778,
              "#fb9f3a"
             ],
             [
              0.8888888888888888,
              "#fdca26"
             ],
             [
              1,
              "#f0f921"
             ]
            ],
            "type": "histogram2d"
           }
          ],
          "histogram2dcontour": [
           {
            "colorbar": {
             "outlinewidth": 0,
             "ticks": ""
            },
            "colorscale": [
             [
              0,
              "#0d0887"
             ],
             [
              0.1111111111111111,
              "#46039f"
             ],
             [
              0.2222222222222222,
              "#7201a8"
             ],
             [
              0.3333333333333333,
              "#9c179e"
             ],
             [
              0.4444444444444444,
              "#bd3786"
             ],
             [
              0.5555555555555556,
              "#d8576b"
             ],
             [
              0.6666666666666666,
              "#ed7953"
             ],
             [
              0.7777777777777778,
              "#fb9f3a"
             ],
             [
              0.8888888888888888,
              "#fdca26"
             ],
             [
              1,
              "#f0f921"
             ]
            ],
            "type": "histogram2dcontour"
           }
          ],
          "mesh3d": [
           {
            "colorbar": {
             "outlinewidth": 0,
             "ticks": ""
            },
            "type": "mesh3d"
           }
          ],
          "parcoords": [
           {
            "line": {
             "colorbar": {
              "outlinewidth": 0,
              "ticks": ""
             }
            },
            "type": "parcoords"
           }
          ],
          "pie": [
           {
            "automargin": true,
            "type": "pie"
           }
          ],
          "scatter": [
           {
            "marker": {
             "colorbar": {
              "outlinewidth": 0,
              "ticks": ""
             }
            },
            "type": "scatter"
           }
          ],
          "scatter3d": [
           {
            "line": {
             "colorbar": {
              "outlinewidth": 0,
              "ticks": ""
             }
            },
            "marker": {
             "colorbar": {
              "outlinewidth": 0,
              "ticks": ""
             }
            },
            "type": "scatter3d"
           }
          ],
          "scattercarpet": [
           {
            "marker": {
             "colorbar": {
              "outlinewidth": 0,
              "ticks": ""
             }
            },
            "type": "scattercarpet"
           }
          ],
          "scattergeo": [
           {
            "marker": {
             "colorbar": {
              "outlinewidth": 0,
              "ticks": ""
             }
            },
            "type": "scattergeo"
           }
          ],
          "scattergl": [
           {
            "marker": {
             "colorbar": {
              "outlinewidth": 0,
              "ticks": ""
             }
            },
            "type": "scattergl"
           }
          ],
          "scattermapbox": [
           {
            "marker": {
             "colorbar": {
              "outlinewidth": 0,
              "ticks": ""
             }
            },
            "type": "scattermapbox"
           }
          ],
          "scatterpolar": [
           {
            "marker": {
             "colorbar": {
              "outlinewidth": 0,
              "ticks": ""
             }
            },
            "type": "scatterpolar"
           }
          ],
          "scatterpolargl": [
           {
            "marker": {
             "colorbar": {
              "outlinewidth": 0,
              "ticks": ""
             }
            },
            "type": "scatterpolargl"
           }
          ],
          "scatterternary": [
           {
            "marker": {
             "colorbar": {
              "outlinewidth": 0,
              "ticks": ""
             }
            },
            "type": "scatterternary"
           }
          ],
          "surface": [
           {
            "colorbar": {
             "outlinewidth": 0,
             "ticks": ""
            },
            "colorscale": [
             [
              0,
              "#0d0887"
             ],
             [
              0.1111111111111111,
              "#46039f"
             ],
             [
              0.2222222222222222,
              "#7201a8"
             ],
             [
              0.3333333333333333,
              "#9c179e"
             ],
             [
              0.4444444444444444,
              "#bd3786"
             ],
             [
              0.5555555555555556,
              "#d8576b"
             ],
             [
              0.6666666666666666,
              "#ed7953"
             ],
             [
              0.7777777777777778,
              "#fb9f3a"
             ],
             [
              0.8888888888888888,
              "#fdca26"
             ],
             [
              1,
              "#f0f921"
             ]
            ],
            "type": "surface"
           }
          ],
          "table": [
           {
            "cells": {
             "fill": {
              "color": "#EBF0F8"
             },
             "line": {
              "color": "white"
             }
            },
            "header": {
             "fill": {
              "color": "#C8D4E3"
             },
             "line": {
              "color": "white"
             }
            },
            "type": "table"
           }
          ]
         },
         "layout": {
          "annotationdefaults": {
           "arrowcolor": "#2a3f5f",
           "arrowhead": 0,
           "arrowwidth": 1
          },
          "autotypenumbers": "strict",
          "coloraxis": {
           "colorbar": {
            "outlinewidth": 0,
            "ticks": ""
           }
          },
          "colorscale": {
           "diverging": [
            [
             0,
             "#8e0152"
            ],
            [
             0.1,
             "#c51b7d"
            ],
            [
             0.2,
             "#de77ae"
            ],
            [
             0.3,
             "#f1b6da"
            ],
            [
             0.4,
             "#fde0ef"
            ],
            [
             0.5,
             "#f7f7f7"
            ],
            [
             0.6,
             "#e6f5d0"
            ],
            [
             0.7,
             "#b8e186"
            ],
            [
             0.8,
             "#7fbc41"
            ],
            [
             0.9,
             "#4d9221"
            ],
            [
             1,
             "#276419"
            ]
           ],
           "sequential": [
            [
             0,
             "#0d0887"
            ],
            [
             0.1111111111111111,
             "#46039f"
            ],
            [
             0.2222222222222222,
             "#7201a8"
            ],
            [
             0.3333333333333333,
             "#9c179e"
            ],
            [
             0.4444444444444444,
             "#bd3786"
            ],
            [
             0.5555555555555556,
             "#d8576b"
            ],
            [
             0.6666666666666666,
             "#ed7953"
            ],
            [
             0.7777777777777778,
             "#fb9f3a"
            ],
            [
             0.8888888888888888,
             "#fdca26"
            ],
            [
             1,
             "#f0f921"
            ]
           ],
           "sequentialminus": [
            [
             0,
             "#0d0887"
            ],
            [
             0.1111111111111111,
             "#46039f"
            ],
            [
             0.2222222222222222,
             "#7201a8"
            ],
            [
             0.3333333333333333,
             "#9c179e"
            ],
            [
             0.4444444444444444,
             "#bd3786"
            ],
            [
             0.5555555555555556,
             "#d8576b"
            ],
            [
             0.6666666666666666,
             "#ed7953"
            ],
            [
             0.7777777777777778,
             "#fb9f3a"
            ],
            [
             0.8888888888888888,
             "#fdca26"
            ],
            [
             1,
             "#f0f921"
            ]
           ]
          },
          "colorway": [
           "#636efa",
           "#EF553B",
           "#00cc96",
           "#ab63fa",
           "#FFA15A",
           "#19d3f3",
           "#FF6692",
           "#B6E880",
           "#FF97FF",
           "#FECB52"
          ],
          "font": {
           "color": "#2a3f5f"
          },
          "geo": {
           "bgcolor": "white",
           "lakecolor": "white",
           "landcolor": "#E5ECF6",
           "showlakes": true,
           "showland": true,
           "subunitcolor": "white"
          },
          "hoverlabel": {
           "align": "left"
          },
          "hovermode": "closest",
          "mapbox": {
           "style": "light"
          },
          "paper_bgcolor": "white",
          "plot_bgcolor": "#E5ECF6",
          "polar": {
           "angularaxis": {
            "gridcolor": "white",
            "linecolor": "white",
            "ticks": ""
           },
           "bgcolor": "#E5ECF6",
           "radialaxis": {
            "gridcolor": "white",
            "linecolor": "white",
            "ticks": ""
           }
          },
          "scene": {
           "xaxis": {
            "backgroundcolor": "#E5ECF6",
            "gridcolor": "white",
            "gridwidth": 2,
            "linecolor": "white",
            "showbackground": true,
            "ticks": "",
            "zerolinecolor": "white"
           },
           "yaxis": {
            "backgroundcolor": "#E5ECF6",
            "gridcolor": "white",
            "gridwidth": 2,
            "linecolor": "white",
            "showbackground": true,
            "ticks": "",
            "zerolinecolor": "white"
           },
           "zaxis": {
            "backgroundcolor": "#E5ECF6",
            "gridcolor": "white",
            "gridwidth": 2,
            "linecolor": "white",
            "showbackground": true,
            "ticks": "",
            "zerolinecolor": "white"
           }
          },
          "shapedefaults": {
           "line": {
            "color": "#2a3f5f"
           }
          },
          "ternary": {
           "aaxis": {
            "gridcolor": "white",
            "linecolor": "white",
            "ticks": ""
           },
           "baxis": {
            "gridcolor": "white",
            "linecolor": "white",
            "ticks": ""
           },
           "bgcolor": "#E5ECF6",
           "caxis": {
            "gridcolor": "white",
            "linecolor": "white",
            "ticks": ""
           }
          },
          "title": {
           "x": 0.05
          },
          "xaxis": {
           "automargin": true,
           "gridcolor": "white",
           "linecolor": "white",
           "ticks": "",
           "title": {
            "standoff": 15
           },
           "zerolinecolor": "white",
           "zerolinewidth": 2
          },
          "yaxis": {
           "automargin": true,
           "gridcolor": "white",
           "linecolor": "white",
           "ticks": "",
           "title": {
            "standoff": 15
           },
           "zerolinecolor": "white",
           "zerolinewidth": 2
          }
         }
        },
        "title": {
         "text": "Silhouette score"
        },
        "xaxis": {
         "anchor": "y",
         "domain": [
          0,
          1
         ],
         "title": {
          "text": "k"
         }
        },
        "yaxis": {
         "anchor": "x",
         "domain": [
          0,
          1
         ],
         "title": {
          "text": "Silhouette score"
         }
        }
       }
      }
     },
     "metadata": {},
     "output_type": "display_data"
    }
   ],
   "source": [
    "silhouette_scores = []\n",
    "\n",
    "for k in range(2, 10):\n",
    "    kmeans = KMeans(n_clusters=k, random_state=42, init=\"random\", n_init=\"auto\")\n",
    "    kmeans.fit(df_cluster_product_ss)\n",
    "    silhouette_scores.append(silhouette_score(df_cluster_product_ss, kmeans.labels_))\n",
    "\n",
    "fig = px.line(\n",
    "    x=range(2, 10),\n",
    "    y=silhouette_scores,\n",
    "    title=\"Silhouette score\",\n",
    "    labels={\"x\": \"k\", \"y\": \"Silhouette score\"},\n",
    ")\n",
    "fig.show()"
   ]
  },
  {
   "cell_type": "code",
   "execution_count": 282,
   "metadata": {},
   "outputs": [],
   "source": [
    "kmeans= KMeans(n_clusters=6,random_state=42, init=\"random\", n_init=\"auto\")\n",
    "kmeans.fit(df_cluster_product_ss)\n",
    "df_final[\"cluster_kmeans\"] = kmeans.labels_"
   ]
  },
  {
   "cell_type": "code",
   "execution_count": 283,
   "metadata": {},
   "outputs": [
    {
     "name": "stderr",
     "output_type": "stream",
     "text": [
      "c:\\Users\\alici\\anaconda3\\envs\\Nuclio_env\\lib\\site-packages\\sklearn\\base.py:465: UserWarning:\n",
      "\n",
      "X does not have valid feature names, but KMeans was fitted with feature names\n",
      "\n"
     ]
    },
    {
     "data": {
      "image/png": "[encoded data removed]",
      "text/plain": [
       "<Figure size 576x396 with 1 Axes>"
      ]
     },
     "metadata": {},
     "output_type": "display_data"
    },
    {
     "data": {
      "text/plain": [
       "<AxesSubplot:title={'center':'Silhouette Plot of KMeans Clustering for 3049 Samples in 6 Centers'}, xlabel='silhouette coefficient values', ylabel='cluster label'>"
      ]
     },
     "execution_count": 283,
     "metadata": {},
     "output_type": "execute_result"
    }
   ],
   "source": [
    "visualizer = SilhouetteVisualizer(kmeans, colors='yellowbrick')\n",
    "visualizer.fit(df_cluster_product_ss)  \n",
    "visualizer.show()"
   ]
  },
  {
   "cell_type": "code",
   "execution_count": 284,
   "metadata": {},
   "outputs": [
    {
     "data": {
      "text/html": [
       "<div>\n",
       "<style scoped>\n",
       "    .dataframe tbody tr th:only-of-type {\n",
       "        vertical-align: middle;\n",
       "    }\n",
       "\n",
       "    .dataframe tbody tr th {\n",
       "        vertical-align: top;\n",
       "    }\n",
       "\n",
       "    .dataframe thead th {\n",
       "        text-align: right;\n",
       "    }\n",
       "</style>\n",
       "<table border=\"1\" class=\"dataframe\">\n",
       "  <thead>\n",
       "    <tr style=\"text-align: right;\">\n",
       "      <th></th>\n",
       "      <th>item</th>\n",
       "      <th>1</th>\n",
       "      <th>2</th>\n",
       "      <th>3</th>\n",
       "      <th>4</th>\n",
       "      <th>units_total</th>\n",
       "      <th>avg_price</th>\n",
       "      <th>cluster_hdbscan</th>\n",
       "      <th>cluster_kmeans</th>\n",
       "    </tr>\n",
       "  </thead>\n",
       "  <tbody>\n",
       "    <tr>\n",
       "      <th>0</th>\n",
       "      <td>ACCESORIES_1_001</td>\n",
       "      <td>0.281263</td>\n",
       "      <td>0.269487</td>\n",
       "      <td>0.351586</td>\n",
       "      <td>0.097664</td>\n",
       "      <td>4051</td>\n",
       "      <td>11.000712</td>\n",
       "      <td>1</td>\n",
       "      <td>2</td>\n",
       "    </tr>\n",
       "    <tr>\n",
       "      <th>1</th>\n",
       "      <td>ACCESORIES_1_002</td>\n",
       "      <td>0.199654</td>\n",
       "      <td>0.276641</td>\n",
       "      <td>0.344166</td>\n",
       "      <td>0.179539</td>\n",
       "      <td>5047</td>\n",
       "      <td>5.279317</td>\n",
       "      <td>1</td>\n",
       "      <td>0</td>\n",
       "    </tr>\n",
       "    <tr>\n",
       "      <th>2</th>\n",
       "      <td>ACCESORIES_1_003</td>\n",
       "      <td>0.289062</td>\n",
       "      <td>0.323099</td>\n",
       "      <td>0.258637</td>\n",
       "      <td>0.129202</td>\n",
       "      <td>1405</td>\n",
       "      <td>3.938599</td>\n",
       "      <td>1</td>\n",
       "      <td>3</td>\n",
       "    </tr>\n",
       "    <tr>\n",
       "      <th>3</th>\n",
       "      <td>ACCESORIES_1_004</td>\n",
       "      <td>0.266751</td>\n",
       "      <td>0.332820</td>\n",
       "      <td>0.313277</td>\n",
       "      <td>0.087152</td>\n",
       "      <td>38996</td>\n",
       "      <td>6.006287</td>\n",
       "      <td>1</td>\n",
       "      <td>1</td>\n",
       "    </tr>\n",
       "    <tr>\n",
       "      <th>4</th>\n",
       "      <td>ACCESORIES_1_005</td>\n",
       "      <td>0.234197</td>\n",
       "      <td>0.285362</td>\n",
       "      <td>0.376911</td>\n",
       "      <td>0.103530</td>\n",
       "      <td>14529</td>\n",
       "      <td>3.807422</td>\n",
       "      <td>1</td>\n",
       "      <td>0</td>\n",
       "    </tr>\n",
       "  </tbody>\n",
       "</table>\n",
       "</div>"
      ],
      "text/plain": [
       "               item         1         2         3         4  units_total  \\\n",
       "0  ACCESORIES_1_001  0.281263  0.269487  0.351586  0.097664         4051   \n",
       "1  ACCESORIES_1_002  0.199654  0.276641  0.344166  0.179539         5047   \n",
       "2  ACCESORIES_1_003  0.289062  0.323099  0.258637  0.129202         1405   \n",
       "3  ACCESORIES_1_004  0.266751  0.332820  0.313277  0.087152        38996   \n",
       "4  ACCESORIES_1_005  0.234197  0.285362  0.376911  0.103530        14529   \n",
       "\n",
       "   avg_price  cluster_hdbscan  cluster_kmeans  \n",
       "0  11.000712                1               2  \n",
       "1   5.279317                1               0  \n",
       "2   3.938599                1               3  \n",
       "3   6.006287                1               1  \n",
       "4   3.807422                1               0  "
      ]
     },
     "execution_count": 284,
     "metadata": {},
     "output_type": "execute_result"
    }
   ],
   "source": [
    "df_final.head()"
   ]
  },
  {
   "cell_type": "code",
   "execution_count": 285,
   "metadata": {},
   "outputs": [
    {
     "data": {
      "image/png": "[encoded data removed]",
      "text/plain": [
       "<Figure size 720x432 with 1 Axes>"
      ]
     },
     "metadata": {},
     "output_type": "display_data"
    }
   ],
   "source": [
    "# Obtenemos las coordenadas de los centroides y las etiquetas de cluster\n",
    "centroids = kmeans.cluster_centers_\n",
    "labels = kmeans.labels_\n",
    "\n",
    "# Ahora, graficamos los puntos de datos y los centroides\n",
    "plt.figure(figsize=(10, 6))\n",
    "\n",
    "# Graficamos los puntos de datos\n",
    "# Suponiendo que las columnas que deseas graficar son las dos primeras del DataFrame\n",
    "plt.scatter(df_cluster_product_ss.iloc[:, 0], df_cluster_product_ss.iloc[:, 1], c=labels, cmap='viridis', marker='o', alpha=0.5)\n",
    "\n",
    "# Graficamos los centroides\n",
    "# Asumiendo que las dos primeras columnas corresponden con las posiciones de los centroides\n",
    "plt.scatter(centroids[:, 0], centroids[:, 1], c='red', marker='X', s=200)\n",
    "\n",
    "plt.title('Visualización de centroides de clusters')\n",
    "plt.xlabel(df_cluster_product_ss.columns[0]) \n",
    "plt.ylabel(df_cluster_product_ss.columns[1])  \n",
    "\n",
    "# Mostramos el gráfico\n",
    "plt.show()\n"
   ]
  },
  {
   "cell_type": "markdown",
   "metadata": {},
   "source": [
    "Probamos ahora con Gaussian Mixture..."
   ]
  },
  {
   "cell_type": "code",
   "execution_count": 289,
   "metadata": {},
   "outputs": [
    {
     "name": "stdout",
     "output_type": "stream",
     "text": [
      "Número óptimo de componentes según el BIC: 9\n"
     ]
    },
    {
     "data": {
      "text/html": [
       "<div>\n",
       "<style scoped>\n",
       "    .dataframe tbody tr th:only-of-type {\n",
       "        vertical-align: middle;\n",
       "    }\n",
       "\n",
       "    .dataframe tbody tr th {\n",
       "        vertical-align: top;\n",
       "    }\n",
       "\n",
       "    .dataframe thead th {\n",
       "        text-align: right;\n",
       "    }\n",
       "</style>\n",
       "<table border=\"1\" class=\"dataframe\">\n",
       "  <thead>\n",
       "    <tr style=\"text-align: right;\">\n",
       "      <th></th>\n",
       "      <th>item</th>\n",
       "      <th>1</th>\n",
       "      <th>2</th>\n",
       "      <th>3</th>\n",
       "      <th>4</th>\n",
       "      <th>units_total</th>\n",
       "      <th>avg_price</th>\n",
       "      <th>cluster_hdbscan</th>\n",
       "      <th>cluster_kmeans</th>\n",
       "      <th>cluster_gaussian</th>\n",
       "    </tr>\n",
       "  </thead>\n",
       "  <tbody>\n",
       "    <tr>\n",
       "      <th>0</th>\n",
       "      <td>ACCESORIES_1_001</td>\n",
       "      <td>0.281263</td>\n",
       "      <td>0.269487</td>\n",
       "      <td>0.351586</td>\n",
       "      <td>0.097664</td>\n",
       "      <td>4051</td>\n",
       "      <td>11.000712</td>\n",
       "      <td>1</td>\n",
       "      <td>2</td>\n",
       "      <td>6</td>\n",
       "    </tr>\n",
       "    <tr>\n",
       "      <th>1</th>\n",
       "      <td>ACCESORIES_1_002</td>\n",
       "      <td>0.199654</td>\n",
       "      <td>0.276641</td>\n",
       "      <td>0.344166</td>\n",
       "      <td>0.179539</td>\n",
       "      <td>5047</td>\n",
       "      <td>5.279317</td>\n",
       "      <td>1</td>\n",
       "      <td>0</td>\n",
       "      <td>8</td>\n",
       "    </tr>\n",
       "    <tr>\n",
       "      <th>2</th>\n",
       "      <td>ACCESORIES_1_003</td>\n",
       "      <td>0.289062</td>\n",
       "      <td>0.323099</td>\n",
       "      <td>0.258637</td>\n",
       "      <td>0.129202</td>\n",
       "      <td>1405</td>\n",
       "      <td>3.938599</td>\n",
       "      <td>1</td>\n",
       "      <td>3</td>\n",
       "      <td>4</td>\n",
       "    </tr>\n",
       "    <tr>\n",
       "      <th>3</th>\n",
       "      <td>ACCESORIES_1_004</td>\n",
       "      <td>0.266751</td>\n",
       "      <td>0.332820</td>\n",
       "      <td>0.313277</td>\n",
       "      <td>0.087152</td>\n",
       "      <td>38996</td>\n",
       "      <td>6.006287</td>\n",
       "      <td>1</td>\n",
       "      <td>1</td>\n",
       "      <td>1</td>\n",
       "    </tr>\n",
       "    <tr>\n",
       "      <th>4</th>\n",
       "      <td>ACCESORIES_1_005</td>\n",
       "      <td>0.234197</td>\n",
       "      <td>0.285362</td>\n",
       "      <td>0.376911</td>\n",
       "      <td>0.103530</td>\n",
       "      <td>14529</td>\n",
       "      <td>3.807422</td>\n",
       "      <td>1</td>\n",
       "      <td>0</td>\n",
       "      <td>7</td>\n",
       "    </tr>\n",
       "    <tr>\n",
       "      <th>...</th>\n",
       "      <td>...</td>\n",
       "      <td>...</td>\n",
       "      <td>...</td>\n",
       "      <td>...</td>\n",
       "      <td>...</td>\n",
       "      <td>...</td>\n",
       "      <td>...</td>\n",
       "      <td>...</td>\n",
       "      <td>...</td>\n",
       "      <td>...</td>\n",
       "    </tr>\n",
       "    <tr>\n",
       "      <th>3044</th>\n",
       "      <td>SUPERMARKET_3_823</td>\n",
       "      <td>0.286232</td>\n",
       "      <td>0.264262</td>\n",
       "      <td>0.358336</td>\n",
       "      <td>0.091170</td>\n",
       "      <td>15290</td>\n",
       "      <td>3.306083</td>\n",
       "      <td>1</td>\n",
       "      <td>0</td>\n",
       "      <td>7</td>\n",
       "    </tr>\n",
       "    <tr>\n",
       "      <th>3045</th>\n",
       "      <td>SUPERMARKET_3_824</td>\n",
       "      <td>0.220570</td>\n",
       "      <td>0.422692</td>\n",
       "      <td>0.304179</td>\n",
       "      <td>0.052560</td>\n",
       "      <td>8315</td>\n",
       "      <td>3.051947</td>\n",
       "      <td>1</td>\n",
       "      <td>4</td>\n",
       "      <td>7</td>\n",
       "    </tr>\n",
       "    <tr>\n",
       "      <th>3046</th>\n",
       "      <td>SUPERMARKET_3_825</td>\n",
       "      <td>0.301703</td>\n",
       "      <td>0.335997</td>\n",
       "      <td>0.290497</td>\n",
       "      <td>0.071804</td>\n",
       "      <td>13465</td>\n",
       "      <td>4.865789</td>\n",
       "      <td>1</td>\n",
       "      <td>3</td>\n",
       "      <td>1</td>\n",
       "    </tr>\n",
       "    <tr>\n",
       "      <th>3047</th>\n",
       "      <td>SUPERMARKET_3_826</td>\n",
       "      <td>0.242761</td>\n",
       "      <td>0.385055</td>\n",
       "      <td>0.301477</td>\n",
       "      <td>0.070708</td>\n",
       "      <td>12121</td>\n",
       "      <td>1.535917</td>\n",
       "      <td>1</td>\n",
       "      <td>1</td>\n",
       "      <td>7</td>\n",
       "    </tr>\n",
       "    <tr>\n",
       "      <th>3048</th>\n",
       "      <td>SUPERMARKET_3_827</td>\n",
       "      <td>0.328429</td>\n",
       "      <td>0.302033</td>\n",
       "      <td>0.297218</td>\n",
       "      <td>0.072320</td>\n",
       "      <td>11215</td>\n",
       "      <td>1.199893</td>\n",
       "      <td>1</td>\n",
       "      <td>3</td>\n",
       "      <td>7</td>\n",
       "    </tr>\n",
       "  </tbody>\n",
       "</table>\n",
       "<p>3049 rows × 10 columns</p>\n",
       "</div>"
      ],
      "text/plain": [
       "                   item         1         2         3         4  units_total  \\\n",
       "0      ACCESORIES_1_001  0.281263  0.269487  0.351586  0.097664         4051   \n",
       "1      ACCESORIES_1_002  0.199654  0.276641  0.344166  0.179539         5047   \n",
       "2      ACCESORIES_1_003  0.289062  0.323099  0.258637  0.129202         1405   \n",
       "3      ACCESORIES_1_004  0.266751  0.332820  0.313277  0.087152        38996   \n",
       "4      ACCESORIES_1_005  0.234197  0.285362  0.376911  0.103530        14529   \n",
       "...                 ...       ...       ...       ...       ...          ...   \n",
       "3044  SUPERMARKET_3_823  0.286232  0.264262  0.358336  0.091170        15290   \n",
       "3045  SUPERMARKET_3_824  0.220570  0.422692  0.304179  0.052560         8315   \n",
       "3046  SUPERMARKET_3_825  0.301703  0.335997  0.290497  0.071804        13465   \n",
       "3047  SUPERMARKET_3_826  0.242761  0.385055  0.301477  0.070708        12121   \n",
       "3048  SUPERMARKET_3_827  0.328429  0.302033  0.297218  0.072320        11215   \n",
       "\n",
       "      avg_price  cluster_hdbscan  cluster_kmeans  cluster_gaussian  \n",
       "0     11.000712                1               2                 6  \n",
       "1      5.279317                1               0                 8  \n",
       "2      3.938599                1               3                 4  \n",
       "3      6.006287                1               1                 1  \n",
       "4      3.807422                1               0                 7  \n",
       "...         ...              ...             ...               ...  \n",
       "3044   3.306083                1               0                 7  \n",
       "3045   3.051947                1               4                 7  \n",
       "3046   4.865789                1               3                 1  \n",
       "3047   1.535917                1               1                 7  \n",
       "3048   1.199893                1               3                 7  \n",
       "\n",
       "[3049 rows x 10 columns]"
      ]
     },
     "execution_count": 289,
     "metadata": {},
     "output_type": "execute_result"
    }
   ],
   "source": [
    "# Rango de valores de 'n_components' a probar\n",
    "n_components_range = range(1, 11)\n",
    "bic_scores = []\n",
    "\n",
    "# Calculamos el BIC para cada 'n_components'\n",
    "for n_components in n_components_range:\n",
    "    gmm = GaussianMixture(n_components=n_components, random_state=42)\n",
    "    gmm.fit(df_cluster_product_ss)\n",
    "    bic_scores.append(gmm.bic(df_cluster_product_ss))\n",
    "\n",
    "# Encontramos el 'n_components' con el BIC más bajo\n",
    "optimal_n_components = n_components_range[np.argmin(bic_scores)]\n",
    "\n",
    "# Imprimimos el número óptimo de componentes\n",
    "print(f'Número óptimo de componentes según el BIC: {optimal_n_components}')\n",
    "\n",
    "# Inicializamos y ajustamos el GMM con el número óptimo de componentes\n",
    "gmm_optimal = GaussianMixture(n_components=optimal_n_components, random_state=42)\n",
    "gmm_optimal.fit(df_cluster_product_ss)\n",
    "cluster_labels = gmm_optimal.predict(df_cluster_product_ss)\n",
    "\n",
    "# Agregamos las etiquetas del clúster al DataFrame original\n",
    "df_final['cluster_gaussian'] = cluster_labels\n",
    "\n",
    "df_final"
   ]
  },
  {
   "cell_type": "code",
   "execution_count": 290,
   "metadata": {},
   "outputs": [
    {
     "data": {
      "image/png": "[encoded data removed]",
      "text/plain": [
       "<Figure size 720x432 with 1 Axes>"
      ]
     },
     "metadata": {},
     "output_type": "display_data"
    }
   ],
   "source": [
    "# Medias de los componentes gaussianos\n",
    "means = gmm_optimal.means_\n",
    "\n",
    "# Creamos el gráfico de dispersión con seaborn\n",
    "plt.figure(figsize=(10, 6))\n",
    "scatter = sns.scatterplot(x='units_total', y='avg_price', hue=\"cluster_gaussian\", palette='viridis', data=df_final, alpha=0.5)\n",
    "\n",
    "# Graficamos las medias de los componentes gaussianos\n",
    "# Aquí necesitamos obtener los índices de 'units_total' y 'avg_price' en 'df_cluster_product_ss'\n",
    "idx_units_total = df_cluster_product_ss.columns.get_loc('units_total')\n",
    "idx_avg_price = df_cluster_product_ss.columns.get_loc('avg_price')\n",
    "plt.scatter(means[:, idx_units_total], means[:, idx_avg_price], c='red', marker='X', s=200, label='Medias')\n",
    "\n",
    "plt.title('Visualización de GMM con sus medias')\n",
    "plt.xlabel('Total de unidades')\n",
    "plt.ylabel('Precio promedio')\n",
    "plt.legend()\n",
    "\n",
    "plt.show()"
   ]
  },
  {
   "cell_type": "code",
   "execution_count": null,
   "metadata": {},
   "outputs": [],
   "source": []
  }
 ],
 "metadata": {
  "kernelspec": {
   "display_name": "Nuclio_env",
   "language": "python",
   "name": "python3"
  },
  "language_info": {
   "codemirror_mode": {
    "name": "ipython",
    "version": 3
   },
   "file_extension": ".py",
   "mimetype": "text/x-python",
   "name": "python",
   "nbconvert_exporter": "python",
   "pygments_lexer": "ipython3",
   "version": "3.8.10"
  }
 },
 "nbformat": 4,
 "nbformat_minor": 2
}
