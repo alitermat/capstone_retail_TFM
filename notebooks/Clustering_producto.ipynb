{
 "cells": [
  {
   "cell_type": "markdown",
   "metadata": {},
   "source": [
    "# 0.Librerías"
   ]
  },
  {
   "cell_type": "code",
   "execution_count": 1,
   "metadata": {},
   "outputs": [],
   "source": [
    "import pandas as pd\n",
    "import numpy as np\n",
    "import matplotlib.pyplot as plt \n",
    "import seaborn as sns\n",
    "import plotly.express as px\n",
    "\n",
    "from sklearn.preprocessing import StandardScaler \n",
    "import hdbscan\n",
    "from sklearn.mixture import GaussianMixture\n",
    "from sklearn.cluster import KMeans\n",
    "from scipy.cluster.hierarchy import linkage, dendrogram\n",
    "\n",
    "from sklearn.metrics import silhouette_score, silhouette_samples\n",
    "from yellowbrick.cluster import SilhouetteVisualizer\n",
    "from yellowbrick.cluster import KElbowVisualizer"
   ]
  },
  {
   "cell_type": "markdown",
   "metadata": {},
   "source": [
    "# 1. Clustering por producto"
   ]
  },
  {
   "cell_type": "code",
   "execution_count": 2,
   "metadata": {},
   "outputs": [
    {
     "data": {
      "text/html": [
       "<div>\n",
       "<style scoped>\n",
       "    .dataframe tbody tr th:only-of-type {\n",
       "        vertical-align: middle;\n",
       "    }\n",
       "\n",
       "    .dataframe tbody tr th {\n",
       "        vertical-align: top;\n",
       "    }\n",
       "\n",
       "    .dataframe thead th {\n",
       "        text-align: right;\n",
       "    }\n",
       "</style>\n",
       "<table border=\"1\" class=\"dataframe\">\n",
       "  <thead>\n",
       "    <tr style=\"text-align: right;\">\n",
       "      <th></th>\n",
       "      <th>item</th>\n",
       "      <th>category</th>\n",
       "      <th>department</th>\n",
       "      <th>stores</th>\n",
       "      <th>region</th>\n",
       "      <th>week</th>\n",
       "      <th>year</th>\n",
       "      <th>is_holidays</th>\n",
       "      <th>units_sold</th>\n",
       "      <th>sell_price</th>\n",
       "      <th>total_sales</th>\n",
       "    </tr>\n",
       "    <tr>\n",
       "      <th>date</th>\n",
       "      <th></th>\n",
       "      <th></th>\n",
       "      <th></th>\n",
       "      <th></th>\n",
       "      <th></th>\n",
       "      <th></th>\n",
       "      <th></th>\n",
       "      <th></th>\n",
       "      <th></th>\n",
       "      <th></th>\n",
       "      <th></th>\n",
       "    </tr>\n",
       "  </thead>\n",
       "  <tbody>\n",
       "    <tr>\n",
       "      <th>2013-07-08</th>\n",
       "      <td>ACCESORIES_1_001</td>\n",
       "      <td>ACCESORIES</td>\n",
       "      <td>ACCESORIES_1</td>\n",
       "      <td>South_End(BOS_1)</td>\n",
       "      <td>Boston</td>\n",
       "      <td>28</td>\n",
       "      <td>2013</td>\n",
       "      <td>0</td>\n",
       "      <td>0</td>\n",
       "      <td>12.7414</td>\n",
       "      <td>0.0000</td>\n",
       "    </tr>\n",
       "    <tr>\n",
       "      <th>2013-07-15</th>\n",
       "      <td>ACCESORIES_1_001</td>\n",
       "      <td>ACCESORIES</td>\n",
       "      <td>ACCESORIES_1</td>\n",
       "      <td>South_End(BOS_1)</td>\n",
       "      <td>Boston</td>\n",
       "      <td>28</td>\n",
       "      <td>2013</td>\n",
       "      <td>1</td>\n",
       "      <td>0</td>\n",
       "      <td>12.7414</td>\n",
       "      <td>0.0000</td>\n",
       "    </tr>\n",
       "    <tr>\n",
       "      <th>2013-07-22</th>\n",
       "      <td>ACCESORIES_1_001</td>\n",
       "      <td>ACCESORIES</td>\n",
       "      <td>ACCESORIES_1</td>\n",
       "      <td>South_End(BOS_1)</td>\n",
       "      <td>Boston</td>\n",
       "      <td>29</td>\n",
       "      <td>2013</td>\n",
       "      <td>0</td>\n",
       "      <td>4</td>\n",
       "      <td>10.9858</td>\n",
       "      <td>43.9432</td>\n",
       "    </tr>\n",
       "    <tr>\n",
       "      <th>2013-07-29</th>\n",
       "      <td>ACCESORIES_1_001</td>\n",
       "      <td>ACCESORIES</td>\n",
       "      <td>ACCESORIES_1</td>\n",
       "      <td>South_End(BOS_1)</td>\n",
       "      <td>Boston</td>\n",
       "      <td>30</td>\n",
       "      <td>2013</td>\n",
       "      <td>0</td>\n",
       "      <td>6</td>\n",
       "      <td>10.9858</td>\n",
       "      <td>65.9148</td>\n",
       "    </tr>\n",
       "    <tr>\n",
       "      <th>2013-08-05</th>\n",
       "      <td>ACCESORIES_1_001</td>\n",
       "      <td>ACCESORIES</td>\n",
       "      <td>ACCESORIES_1</td>\n",
       "      <td>South_End(BOS_1)</td>\n",
       "      <td>Boston</td>\n",
       "      <td>31</td>\n",
       "      <td>2013</td>\n",
       "      <td>0</td>\n",
       "      <td>0</td>\n",
       "      <td>10.9858</td>\n",
       "      <td>0.0000</td>\n",
       "    </tr>\n",
       "  </tbody>\n",
       "</table>\n",
       "</div>"
      ],
      "text/plain": [
       "                        item    category    department            stores  \\\n",
       "date                                                                       \n",
       "2013-07-08  ACCESORIES_1_001  ACCESORIES  ACCESORIES_1  South_End(BOS_1)   \n",
       "2013-07-15  ACCESORIES_1_001  ACCESORIES  ACCESORIES_1  South_End(BOS_1)   \n",
       "2013-07-22  ACCESORIES_1_001  ACCESORIES  ACCESORIES_1  South_End(BOS_1)   \n",
       "2013-07-29  ACCESORIES_1_001  ACCESORIES  ACCESORIES_1  South_End(BOS_1)   \n",
       "2013-08-05  ACCESORIES_1_001  ACCESORIES  ACCESORIES_1  South_End(BOS_1)   \n",
       "\n",
       "            region  week  year  is_holidays  units_sold  sell_price  \\\n",
       "date                                                                  \n",
       "2013-07-08  Boston    28  2013            0           0     12.7414   \n",
       "2013-07-15  Boston    28  2013            1           0     12.7414   \n",
       "2013-07-22  Boston    29  2013            0           4     10.9858   \n",
       "2013-07-29  Boston    30  2013            0           6     10.9858   \n",
       "2013-08-05  Boston    31  2013            0           0     10.9858   \n",
       "\n",
       "            total_sales  \n",
       "date                     \n",
       "2013-07-08       0.0000  \n",
       "2013-07-15       0.0000  \n",
       "2013-07-22      43.9432  \n",
       "2013-07-29      65.9148  \n",
       "2013-08-05       0.0000  "
      ]
     },
     "execution_count": 2,
     "metadata": {},
     "output_type": "execute_result"
    }
   ],
   "source": [
    "df = pd.read_csv(r\"C:\\Users\\alici\\Documents\\master_data_science\\proyecto_nuclio\\TFM\\datos_arreglados.csv\", index_col=0)\n",
    "df[\"date\"] = pd.to_datetime(df[\"date\"])\n",
    "df = df.set_index(\"date\")\n",
    "\n",
    "df.head()"
   ]
  },
  {
   "cell_type": "markdown",
   "metadata": {},
   "source": [
    "Con las variables que tenemos vamos a obtener el porcentaje de ventas por *quarter* y *region* de cada producto, el precio medio total por producto y la cantidad de unidades vendidas de cada uno."
   ]
  },
  {
   "cell_type": "code",
   "execution_count": 3,
   "metadata": {},
   "outputs": [
    {
     "data": {
      "text/html": [
       "<div>\n",
       "<style scoped>\n",
       "    .dataframe tbody tr th:only-of-type {\n",
       "        vertical-align: middle;\n",
       "    }\n",
       "\n",
       "    .dataframe tbody tr th {\n",
       "        vertical-align: top;\n",
       "    }\n",
       "\n",
       "    .dataframe thead th {\n",
       "        text-align: right;\n",
       "    }\n",
       "</style>\n",
       "<table border=\"1\" class=\"dataframe\">\n",
       "  <thead>\n",
       "    <tr style=\"text-align: right;\">\n",
       "      <th></th>\n",
       "      <th>item</th>\n",
       "      <th>Boston_Q1</th>\n",
       "      <th>Boston_Q2</th>\n",
       "      <th>Boston_Q3</th>\n",
       "      <th>Boston_Q4</th>\n",
       "    </tr>\n",
       "  </thead>\n",
       "  <tbody>\n",
       "    <tr>\n",
       "      <th>0</th>\n",
       "      <td>ACCESORIES_1_001</td>\n",
       "      <td>0.258490</td>\n",
       "      <td>0.215622</td>\n",
       "      <td>0.231207</td>\n",
       "      <td>0.294681</td>\n",
       "    </tr>\n",
       "    <tr>\n",
       "      <th>1</th>\n",
       "      <td>ACCESORIES_1_002</td>\n",
       "      <td>0.202792</td>\n",
       "      <td>0.238109</td>\n",
       "      <td>0.254912</td>\n",
       "      <td>0.304187</td>\n",
       "    </tr>\n",
       "    <tr>\n",
       "      <th>2</th>\n",
       "      <td>ACCESORIES_1_003</td>\n",
       "      <td>0.254469</td>\n",
       "      <td>0.249112</td>\n",
       "      <td>0.300880</td>\n",
       "      <td>0.195539</td>\n",
       "    </tr>\n",
       "    <tr>\n",
       "      <th>3</th>\n",
       "      <td>ACCESORIES_1_004</td>\n",
       "      <td>0.256721</td>\n",
       "      <td>0.259417</td>\n",
       "      <td>0.235593</td>\n",
       "      <td>0.248269</td>\n",
       "    </tr>\n",
       "    <tr>\n",
       "      <th>4</th>\n",
       "      <td>ACCESORIES_1_005</td>\n",
       "      <td>0.209317</td>\n",
       "      <td>0.214718</td>\n",
       "      <td>0.267872</td>\n",
       "      <td>0.308094</td>\n",
       "    </tr>\n",
       "    <tr>\n",
       "      <th>...</th>\n",
       "      <td>...</td>\n",
       "      <td>...</td>\n",
       "      <td>...</td>\n",
       "      <td>...</td>\n",
       "      <td>...</td>\n",
       "    </tr>\n",
       "    <tr>\n",
       "      <th>3044</th>\n",
       "      <td>SUPERMARKET_3_823</td>\n",
       "      <td>0.289806</td>\n",
       "      <td>0.177665</td>\n",
       "      <td>0.216503</td>\n",
       "      <td>0.316026</td>\n",
       "    </tr>\n",
       "    <tr>\n",
       "      <th>3045</th>\n",
       "      <td>SUPERMARKET_3_824</td>\n",
       "      <td>0.222281</td>\n",
       "      <td>0.277452</td>\n",
       "      <td>0.319342</td>\n",
       "      <td>0.180925</td>\n",
       "    </tr>\n",
       "    <tr>\n",
       "      <th>3046</th>\n",
       "      <td>SUPERMARKET_3_825</td>\n",
       "      <td>0.326950</td>\n",
       "      <td>0.258387</td>\n",
       "      <td>0.230210</td>\n",
       "      <td>0.184453</td>\n",
       "    </tr>\n",
       "    <tr>\n",
       "      <th>3047</th>\n",
       "      <td>SUPERMARKET_3_826</td>\n",
       "      <td>0.267774</td>\n",
       "      <td>0.289019</td>\n",
       "      <td>0.237289</td>\n",
       "      <td>0.205918</td>\n",
       "    </tr>\n",
       "    <tr>\n",
       "      <th>3048</th>\n",
       "      <td>SUPERMARKET_3_827</td>\n",
       "      <td>0.286872</td>\n",
       "      <td>0.302269</td>\n",
       "      <td>0.166937</td>\n",
       "      <td>0.243922</td>\n",
       "    </tr>\n",
       "  </tbody>\n",
       "</table>\n",
       "<p>3049 rows × 5 columns</p>\n",
       "</div>"
      ],
      "text/plain": [
       "                   item  Boston_Q1  Boston_Q2  Boston_Q3  Boston_Q4\n",
       "0      ACCESORIES_1_001   0.258490   0.215622   0.231207   0.294681\n",
       "1      ACCESORIES_1_002   0.202792   0.238109   0.254912   0.304187\n",
       "2      ACCESORIES_1_003   0.254469   0.249112   0.300880   0.195539\n",
       "3      ACCESORIES_1_004   0.256721   0.259417   0.235593   0.248269\n",
       "4      ACCESORIES_1_005   0.209317   0.214718   0.267872   0.308094\n",
       "...                 ...        ...        ...        ...        ...\n",
       "3044  SUPERMARKET_3_823   0.289806   0.177665   0.216503   0.316026\n",
       "3045  SUPERMARKET_3_824   0.222281   0.277452   0.319342   0.180925\n",
       "3046  SUPERMARKET_3_825   0.326950   0.258387   0.230210   0.184453\n",
       "3047  SUPERMARKET_3_826   0.267774   0.289019   0.237289   0.205918\n",
       "3048  SUPERMARKET_3_827   0.286872   0.302269   0.166937   0.243922\n",
       "\n",
       "[3049 rows x 5 columns]"
      ]
     },
     "execution_count": 3,
     "metadata": {},
     "output_type": "execute_result"
    }
   ],
   "source": [
    "# Filtramos el DataFrame para obtener solo los datos de la ciudad de Boston\n",
    "df_boston = df[df['region'] == 'Boston'].copy()\n",
    "\n",
    "# Creamos una columna 'quarter' a partir del índice 'date'\n",
    "df_boston['quarter'] = df_boston.index.quarter \n",
    "\n",
    "# Calculamos los porcentajes de ventas por ítem para cada cuatrimestre\n",
    "df_boston = pd.crosstab(df_boston['item'], df_boston['quarter'], values=df_boston['total_sales'], aggfunc='sum', normalize='index')\n",
    "\n",
    "# Renombramos las columnas de los cuatrimestres\n",
    "df_boston.columns = ['Boston_Q' + str(col) for col in df_boston.columns]\n",
    "\n",
    "# El resultado df_boston es un DataFrame con los porcentajes normalizados por ítem y cuatrimestre\n",
    "df_boston.reset_index(inplace=True)\n",
    "\n",
    "# Mostramos el DataFrame resultante\n",
    "df_boston"
   ]
  },
  {
   "cell_type": "code",
   "execution_count": 4,
   "metadata": {},
   "outputs": [
    {
     "data": {
      "text/html": [
       "<div>\n",
       "<style scoped>\n",
       "    .dataframe tbody tr th:only-of-type {\n",
       "        vertical-align: middle;\n",
       "    }\n",
       "\n",
       "    .dataframe tbody tr th {\n",
       "        vertical-align: top;\n",
       "    }\n",
       "\n",
       "    .dataframe thead th {\n",
       "        text-align: right;\n",
       "    }\n",
       "</style>\n",
       "<table border=\"1\" class=\"dataframe\">\n",
       "  <thead>\n",
       "    <tr style=\"text-align: right;\">\n",
       "      <th></th>\n",
       "      <th>item</th>\n",
       "      <th>New_York_Q1</th>\n",
       "      <th>New_York_Q2</th>\n",
       "      <th>New_York_Q3</th>\n",
       "      <th>New_York_Q4</th>\n",
       "    </tr>\n",
       "  </thead>\n",
       "  <tbody>\n",
       "    <tr>\n",
       "      <th>0</th>\n",
       "      <td>ACCESORIES_1_001</td>\n",
       "      <td>0.290651</td>\n",
       "      <td>0.185303</td>\n",
       "      <td>0.232997</td>\n",
       "      <td>0.291048</td>\n",
       "    </tr>\n",
       "    <tr>\n",
       "      <th>1</th>\n",
       "      <td>ACCESORIES_1_002</td>\n",
       "      <td>0.169339</td>\n",
       "      <td>0.190386</td>\n",
       "      <td>0.265158</td>\n",
       "      <td>0.375117</td>\n",
       "    </tr>\n",
       "    <tr>\n",
       "      <th>2</th>\n",
       "      <td>ACCESORIES_1_003</td>\n",
       "      <td>0.290550</td>\n",
       "      <td>0.256700</td>\n",
       "      <td>0.191819</td>\n",
       "      <td>0.260931</td>\n",
       "    </tr>\n",
       "    <tr>\n",
       "      <th>3</th>\n",
       "      <td>ACCESORIES_1_004</td>\n",
       "      <td>0.265228</td>\n",
       "      <td>0.256632</td>\n",
       "      <td>0.229645</td>\n",
       "      <td>0.248495</td>\n",
       "    </tr>\n",
       "    <tr>\n",
       "      <th>4</th>\n",
       "      <td>ACCESORIES_1_005</td>\n",
       "      <td>0.236569</td>\n",
       "      <td>0.200389</td>\n",
       "      <td>0.269576</td>\n",
       "      <td>0.293466</td>\n",
       "    </tr>\n",
       "    <tr>\n",
       "      <th>...</th>\n",
       "      <td>...</td>\n",
       "      <td>...</td>\n",
       "      <td>...</td>\n",
       "      <td>...</td>\n",
       "      <td>...</td>\n",
       "    </tr>\n",
       "    <tr>\n",
       "      <th>3044</th>\n",
       "      <td>SUPERMARKET_3_823</td>\n",
       "      <td>0.279585</td>\n",
       "      <td>0.208005</td>\n",
       "      <td>0.270410</td>\n",
       "      <td>0.242001</td>\n",
       "    </tr>\n",
       "    <tr>\n",
       "      <th>3045</th>\n",
       "      <td>SUPERMARKET_3_824</td>\n",
       "      <td>0.219106</td>\n",
       "      <td>0.344857</td>\n",
       "      <td>0.232286</td>\n",
       "      <td>0.203751</td>\n",
       "    </tr>\n",
       "    <tr>\n",
       "      <th>3046</th>\n",
       "      <td>SUPERMARKET_3_825</td>\n",
       "      <td>0.275628</td>\n",
       "      <td>0.230843</td>\n",
       "      <td>0.293817</td>\n",
       "      <td>0.199712</td>\n",
       "    </tr>\n",
       "    <tr>\n",
       "      <th>3047</th>\n",
       "      <td>SUPERMARKET_3_826</td>\n",
       "      <td>0.247476</td>\n",
       "      <td>0.296081</td>\n",
       "      <td>0.255348</td>\n",
       "      <td>0.201095</td>\n",
       "    </tr>\n",
       "    <tr>\n",
       "      <th>3048</th>\n",
       "      <td>SUPERMARKET_3_827</td>\n",
       "      <td>0.351685</td>\n",
       "      <td>0.205917</td>\n",
       "      <td>0.207484</td>\n",
       "      <td>0.234914</td>\n",
       "    </tr>\n",
       "  </tbody>\n",
       "</table>\n",
       "<p>3049 rows × 5 columns</p>\n",
       "</div>"
      ],
      "text/plain": [
       "                   item  New_York_Q1  New_York_Q2  New_York_Q3  New_York_Q4\n",
       "0      ACCESORIES_1_001     0.290651     0.185303     0.232997     0.291048\n",
       "1      ACCESORIES_1_002     0.169339     0.190386     0.265158     0.375117\n",
       "2      ACCESORIES_1_003     0.290550     0.256700     0.191819     0.260931\n",
       "3      ACCESORIES_1_004     0.265228     0.256632     0.229645     0.248495\n",
       "4      ACCESORIES_1_005     0.236569     0.200389     0.269576     0.293466\n",
       "...                 ...          ...          ...          ...          ...\n",
       "3044  SUPERMARKET_3_823     0.279585     0.208005     0.270410     0.242001\n",
       "3045  SUPERMARKET_3_824     0.219106     0.344857     0.232286     0.203751\n",
       "3046  SUPERMARKET_3_825     0.275628     0.230843     0.293817     0.199712\n",
       "3047  SUPERMARKET_3_826     0.247476     0.296081     0.255348     0.201095\n",
       "3048  SUPERMARKET_3_827     0.351685     0.205917     0.207484     0.234914\n",
       "\n",
       "[3049 rows x 5 columns]"
      ]
     },
     "execution_count": 4,
     "metadata": {},
     "output_type": "execute_result"
    }
   ],
   "source": [
    "# Filtramos el DataFrame para obtener solo los datos de la ciudad de New York\n",
    "df_ny = df[df['region'] == 'New York'].copy()\n",
    "\n",
    "# Creamos una columna 'quarter' a partir del índice 'date'\n",
    "df_ny['quarter'] = df_ny.index.quarter \n",
    "\n",
    "# Calculamos los porcentajes de ventas por ítem para cada cuatrimestre\n",
    "df_ny = pd.crosstab(df_ny['item'], df_ny['quarter'], values=df_ny['total_sales'], aggfunc='sum', normalize='index')\n",
    "\n",
    "# Renombramos las columnas de los cuatrimestres\n",
    "df_ny.columns = ['New_York_Q' + str(col) for col in df_ny.columns]\n",
    "\n",
    "# El resultado df_ny es un DataFrame con los porcentajes normalizados por ítem y cuatrimestre\n",
    "df_ny.reset_index(inplace=True)\n",
    "\n",
    "# Mostramos el DataFrame resultante\n",
    "df_ny"
   ]
  },
  {
   "cell_type": "code",
   "execution_count": 5,
   "metadata": {},
   "outputs": [
    {
     "data": {
      "text/html": [
       "<div>\n",
       "<style scoped>\n",
       "    .dataframe tbody tr th:only-of-type {\n",
       "        vertical-align: middle;\n",
       "    }\n",
       "\n",
       "    .dataframe tbody tr th {\n",
       "        vertical-align: top;\n",
       "    }\n",
       "\n",
       "    .dataframe thead th {\n",
       "        text-align: right;\n",
       "    }\n",
       "</style>\n",
       "<table border=\"1\" class=\"dataframe\">\n",
       "  <thead>\n",
       "    <tr style=\"text-align: right;\">\n",
       "      <th></th>\n",
       "      <th>item</th>\n",
       "      <th>Philadelphia_Q1</th>\n",
       "      <th>Philadelphia_Q2</th>\n",
       "      <th>Philadelphia_Q3</th>\n",
       "      <th>Philadelphia_Q4</th>\n",
       "    </tr>\n",
       "  </thead>\n",
       "  <tbody>\n",
       "    <tr>\n",
       "      <th>0</th>\n",
       "      <td>ACCESORIES_1_001</td>\n",
       "      <td>0.280930</td>\n",
       "      <td>0.204212</td>\n",
       "      <td>0.247872</td>\n",
       "      <td>0.266986</td>\n",
       "    </tr>\n",
       "    <tr>\n",
       "      <th>1</th>\n",
       "      <td>ACCESORIES_1_002</td>\n",
       "      <td>0.217307</td>\n",
       "      <td>0.173846</td>\n",
       "      <td>0.250679</td>\n",
       "      <td>0.358168</td>\n",
       "    </tr>\n",
       "    <tr>\n",
       "      <th>2</th>\n",
       "      <td>ACCESORIES_1_003</td>\n",
       "      <td>0.326288</td>\n",
       "      <td>0.265655</td>\n",
       "      <td>0.222862</td>\n",
       "      <td>0.185195</td>\n",
       "    </tr>\n",
       "    <tr>\n",
       "      <th>3</th>\n",
       "      <td>ACCESORIES_1_004</td>\n",
       "      <td>0.286508</td>\n",
       "      <td>0.265151</td>\n",
       "      <td>0.221110</td>\n",
       "      <td>0.227232</td>\n",
       "    </tr>\n",
       "    <tr>\n",
       "      <th>4</th>\n",
       "      <td>ACCESORIES_1_005</td>\n",
       "      <td>0.260617</td>\n",
       "      <td>0.192501</td>\n",
       "      <td>0.215559</td>\n",
       "      <td>0.331322</td>\n",
       "    </tr>\n",
       "    <tr>\n",
       "      <th>...</th>\n",
       "      <td>...</td>\n",
       "      <td>...</td>\n",
       "      <td>...</td>\n",
       "      <td>...</td>\n",
       "      <td>...</td>\n",
       "    </tr>\n",
       "    <tr>\n",
       "      <th>3044</th>\n",
       "      <td>SUPERMARKET_3_823</td>\n",
       "      <td>0.307594</td>\n",
       "      <td>0.198021</td>\n",
       "      <td>0.215576</td>\n",
       "      <td>0.278808</td>\n",
       "    </tr>\n",
       "    <tr>\n",
       "      <th>3045</th>\n",
       "      <td>SUPERMARKET_3_824</td>\n",
       "      <td>0.222398</td>\n",
       "      <td>0.321861</td>\n",
       "      <td>0.289589</td>\n",
       "      <td>0.166152</td>\n",
       "    </tr>\n",
       "    <tr>\n",
       "      <th>3046</th>\n",
       "      <td>SUPERMARKET_3_825</td>\n",
       "      <td>0.320260</td>\n",
       "      <td>0.251718</td>\n",
       "      <td>0.228474</td>\n",
       "      <td>0.199548</td>\n",
       "    </tr>\n",
       "    <tr>\n",
       "      <th>3047</th>\n",
       "      <td>SUPERMARKET_3_826</td>\n",
       "      <td>0.211521</td>\n",
       "      <td>0.293508</td>\n",
       "      <td>0.251753</td>\n",
       "      <td>0.243219</td>\n",
       "    </tr>\n",
       "    <tr>\n",
       "      <th>3048</th>\n",
       "      <td>SUPERMARKET_3_827</td>\n",
       "      <td>0.314602</td>\n",
       "      <td>0.290197</td>\n",
       "      <td>0.195447</td>\n",
       "      <td>0.199754</td>\n",
       "    </tr>\n",
       "  </tbody>\n",
       "</table>\n",
       "<p>3049 rows × 5 columns</p>\n",
       "</div>"
      ],
      "text/plain": [
       "                   item  Philadelphia_Q1  Philadelphia_Q2  Philadelphia_Q3  \\\n",
       "0      ACCESORIES_1_001         0.280930         0.204212         0.247872   \n",
       "1      ACCESORIES_1_002         0.217307         0.173846         0.250679   \n",
       "2      ACCESORIES_1_003         0.326288         0.265655         0.222862   \n",
       "3      ACCESORIES_1_004         0.286508         0.265151         0.221110   \n",
       "4      ACCESORIES_1_005         0.260617         0.192501         0.215559   \n",
       "...                 ...              ...              ...              ...   \n",
       "3044  SUPERMARKET_3_823         0.307594         0.198021         0.215576   \n",
       "3045  SUPERMARKET_3_824         0.222398         0.321861         0.289589   \n",
       "3046  SUPERMARKET_3_825         0.320260         0.251718         0.228474   \n",
       "3047  SUPERMARKET_3_826         0.211521         0.293508         0.251753   \n",
       "3048  SUPERMARKET_3_827         0.314602         0.290197         0.195447   \n",
       "\n",
       "      Philadelphia_Q4  \n",
       "0            0.266986  \n",
       "1            0.358168  \n",
       "2            0.185195  \n",
       "3            0.227232  \n",
       "4            0.331322  \n",
       "...               ...  \n",
       "3044         0.278808  \n",
       "3045         0.166152  \n",
       "3046         0.199548  \n",
       "3047         0.243219  \n",
       "3048         0.199754  \n",
       "\n",
       "[3049 rows x 5 columns]"
      ]
     },
     "execution_count": 5,
     "metadata": {},
     "output_type": "execute_result"
    }
   ],
   "source": [
    "# Filtramos el DataFrame para obtener solo los datos de la ciudad de Philadelphia\n",
    "df_philadelphia = df[df['region'] == 'Philadelphia'].copy()\n",
    "\n",
    "# Creamos una columna 'quarter' a partir del índice 'date'\n",
    "df_philadelphia['quarter'] = df_philadelphia.index.quarter \n",
    "\n",
    "# Calculamos los porcentajes de ventas por ítem para cada cuatrimestre\n",
    "df_philadelphia = pd.crosstab(df_philadelphia['item'], df_philadelphia['quarter'], values=df_philadelphia['total_sales'], aggfunc='sum', normalize='index')\n",
    "\n",
    "# Renombramos las columnas de los cuatrimestres\n",
    "df_philadelphia.columns = ['Philadelphia_Q' + str(col) for col in df_philadelphia.columns]\n",
    "\n",
    "# El resultado df_philadelphia es un DataFrame con los porcentajes normalizados por ítem y cuatrimestre\n",
    "df_philadelphia.reset_index(inplace=True)\n",
    "\n",
    "# Mostramos el DataFrame resultante\n",
    "df_philadelphia"
   ]
  },
  {
   "cell_type": "code",
   "execution_count": 6,
   "metadata": {},
   "outputs": [
    {
     "data": {
      "text/html": [
       "<div>\n",
       "<style scoped>\n",
       "    .dataframe tbody tr th:only-of-type {\n",
       "        vertical-align: middle;\n",
       "    }\n",
       "\n",
       "    .dataframe tbody tr th {\n",
       "        vertical-align: top;\n",
       "    }\n",
       "\n",
       "    .dataframe thead th {\n",
       "        text-align: right;\n",
       "    }\n",
       "</style>\n",
       "<table border=\"1\" class=\"dataframe\">\n",
       "  <thead>\n",
       "    <tr style=\"text-align: right;\">\n",
       "      <th></th>\n",
       "      <th>item</th>\n",
       "      <th>Boston_Q1</th>\n",
       "      <th>Boston_Q2</th>\n",
       "      <th>Boston_Q3</th>\n",
       "      <th>Boston_Q4</th>\n",
       "      <th>New_York_Q1</th>\n",
       "      <th>New_York_Q2</th>\n",
       "      <th>New_York_Q3</th>\n",
       "      <th>New_York_Q4</th>\n",
       "      <th>Philadelphia_Q1</th>\n",
       "      <th>Philadelphia_Q2</th>\n",
       "      <th>Philadelphia_Q3</th>\n",
       "      <th>Philadelphia_Q4</th>\n",
       "    </tr>\n",
       "  </thead>\n",
       "  <tbody>\n",
       "    <tr>\n",
       "      <th>0</th>\n",
       "      <td>ACCESORIES_1_001</td>\n",
       "      <td>0.258490</td>\n",
       "      <td>0.215622</td>\n",
       "      <td>0.231207</td>\n",
       "      <td>0.294681</td>\n",
       "      <td>0.290651</td>\n",
       "      <td>0.185303</td>\n",
       "      <td>0.232997</td>\n",
       "      <td>0.291048</td>\n",
       "      <td>0.280930</td>\n",
       "      <td>0.204212</td>\n",
       "      <td>0.247872</td>\n",
       "      <td>0.266986</td>\n",
       "    </tr>\n",
       "    <tr>\n",
       "      <th>1</th>\n",
       "      <td>ACCESORIES_1_002</td>\n",
       "      <td>0.202792</td>\n",
       "      <td>0.238109</td>\n",
       "      <td>0.254912</td>\n",
       "      <td>0.304187</td>\n",
       "      <td>0.169339</td>\n",
       "      <td>0.190386</td>\n",
       "      <td>0.265158</td>\n",
       "      <td>0.375117</td>\n",
       "      <td>0.217307</td>\n",
       "      <td>0.173846</td>\n",
       "      <td>0.250679</td>\n",
       "      <td>0.358168</td>\n",
       "    </tr>\n",
       "    <tr>\n",
       "      <th>2</th>\n",
       "      <td>ACCESORIES_1_003</td>\n",
       "      <td>0.254469</td>\n",
       "      <td>0.249112</td>\n",
       "      <td>0.300880</td>\n",
       "      <td>0.195539</td>\n",
       "      <td>0.290550</td>\n",
       "      <td>0.256700</td>\n",
       "      <td>0.191819</td>\n",
       "      <td>0.260931</td>\n",
       "      <td>0.326288</td>\n",
       "      <td>0.265655</td>\n",
       "      <td>0.222862</td>\n",
       "      <td>0.185195</td>\n",
       "    </tr>\n",
       "    <tr>\n",
       "      <th>3</th>\n",
       "      <td>ACCESORIES_1_004</td>\n",
       "      <td>0.256721</td>\n",
       "      <td>0.259417</td>\n",
       "      <td>0.235593</td>\n",
       "      <td>0.248269</td>\n",
       "      <td>0.265228</td>\n",
       "      <td>0.256632</td>\n",
       "      <td>0.229645</td>\n",
       "      <td>0.248495</td>\n",
       "      <td>0.286508</td>\n",
       "      <td>0.265151</td>\n",
       "      <td>0.221110</td>\n",
       "      <td>0.227232</td>\n",
       "    </tr>\n",
       "    <tr>\n",
       "      <th>4</th>\n",
       "      <td>ACCESORIES_1_005</td>\n",
       "      <td>0.209317</td>\n",
       "      <td>0.214718</td>\n",
       "      <td>0.267872</td>\n",
       "      <td>0.308094</td>\n",
       "      <td>0.236569</td>\n",
       "      <td>0.200389</td>\n",
       "      <td>0.269576</td>\n",
       "      <td>0.293466</td>\n",
       "      <td>0.260617</td>\n",
       "      <td>0.192501</td>\n",
       "      <td>0.215559</td>\n",
       "      <td>0.331322</td>\n",
       "    </tr>\n",
       "  </tbody>\n",
       "</table>\n",
       "</div>"
      ],
      "text/plain": [
       "               item  Boston_Q1  Boston_Q2  Boston_Q3  Boston_Q4  New_York_Q1  \\\n",
       "0  ACCESORIES_1_001   0.258490   0.215622   0.231207   0.294681     0.290651   \n",
       "1  ACCESORIES_1_002   0.202792   0.238109   0.254912   0.304187     0.169339   \n",
       "2  ACCESORIES_1_003   0.254469   0.249112   0.300880   0.195539     0.290550   \n",
       "3  ACCESORIES_1_004   0.256721   0.259417   0.235593   0.248269     0.265228   \n",
       "4  ACCESORIES_1_005   0.209317   0.214718   0.267872   0.308094     0.236569   \n",
       "\n",
       "   New_York_Q2  New_York_Q3  New_York_Q4  Philadelphia_Q1  Philadelphia_Q2  \\\n",
       "0     0.185303     0.232997     0.291048         0.280930         0.204212   \n",
       "1     0.190386     0.265158     0.375117         0.217307         0.173846   \n",
       "2     0.256700     0.191819     0.260931         0.326288         0.265655   \n",
       "3     0.256632     0.229645     0.248495         0.286508         0.265151   \n",
       "4     0.200389     0.269576     0.293466         0.260617         0.192501   \n",
       "\n",
       "   Philadelphia_Q3  Philadelphia_Q4  \n",
       "0         0.247872         0.266986  \n",
       "1         0.250679         0.358168  \n",
       "2         0.222862         0.185195  \n",
       "3         0.221110         0.227232  \n",
       "4         0.215559         0.331322  "
      ]
     },
     "execution_count": 6,
     "metadata": {},
     "output_type": "execute_result"
    }
   ],
   "source": [
    "# Hacemos un merge entre df_boston y df_ny\n",
    "df_merge = pd.merge(df_boston, df_ny, on='item', how='outer')\n",
    "\n",
    "# Luego, hacemos un merge del resultado anterior con df_philadelphia\n",
    "df_merge = pd.merge(df_merge, df_philadelphia, on='item', how='outer')\n",
    "\n",
    "# Mostramos el DataFrame resultante\n",
    "df_merge.head()"
   ]
  },
  {
   "cell_type": "code",
   "execution_count": 7,
   "metadata": {},
   "outputs": [
    {
     "data": {
      "text/html": [
       "<div>\n",
       "<style scoped>\n",
       "    .dataframe tbody tr th:only-of-type {\n",
       "        vertical-align: middle;\n",
       "    }\n",
       "\n",
       "    .dataframe tbody tr th {\n",
       "        vertical-align: top;\n",
       "    }\n",
       "\n",
       "    .dataframe thead th {\n",
       "        text-align: right;\n",
       "    }\n",
       "</style>\n",
       "<table border=\"1\" class=\"dataframe\">\n",
       "  <thead>\n",
       "    <tr style=\"text-align: right;\">\n",
       "      <th></th>\n",
       "      <th>item</th>\n",
       "      <th>Boston_Q1</th>\n",
       "      <th>Boston_Q2</th>\n",
       "      <th>Boston_Q3</th>\n",
       "      <th>Boston_Q4</th>\n",
       "      <th>New_York_Q1</th>\n",
       "      <th>New_York_Q2</th>\n",
       "      <th>New_York_Q3</th>\n",
       "      <th>New_York_Q4</th>\n",
       "      <th>Philadelphia_Q1</th>\n",
       "      <th>Philadelphia_Q2</th>\n",
       "      <th>Philadelphia_Q3</th>\n",
       "      <th>Philadelphia_Q4</th>\n",
       "      <th>total_units_sold</th>\n",
       "      <th>avg_sell_price</th>\n",
       "    </tr>\n",
       "  </thead>\n",
       "  <tbody>\n",
       "    <tr>\n",
       "      <th>0</th>\n",
       "      <td>ACCESORIES_1_001</td>\n",
       "      <td>0.258490</td>\n",
       "      <td>0.215622</td>\n",
       "      <td>0.231207</td>\n",
       "      <td>0.294681</td>\n",
       "      <td>0.290651</td>\n",
       "      <td>0.185303</td>\n",
       "      <td>0.232997</td>\n",
       "      <td>0.291048</td>\n",
       "      <td>0.280930</td>\n",
       "      <td>0.204212</td>\n",
       "      <td>0.247872</td>\n",
       "      <td>0.266986</td>\n",
       "      <td>4051</td>\n",
       "      <td>11.039091</td>\n",
       "    </tr>\n",
       "    <tr>\n",
       "      <th>1</th>\n",
       "      <td>ACCESORIES_1_002</td>\n",
       "      <td>0.202792</td>\n",
       "      <td>0.238109</td>\n",
       "      <td>0.254912</td>\n",
       "      <td>0.304187</td>\n",
       "      <td>0.169339</td>\n",
       "      <td>0.190386</td>\n",
       "      <td>0.265158</td>\n",
       "      <td>0.375117</td>\n",
       "      <td>0.217307</td>\n",
       "      <td>0.173846</td>\n",
       "      <td>0.250679</td>\n",
       "      <td>0.358168</td>\n",
       "      <td>5047</td>\n",
       "      <td>5.276618</td>\n",
       "    </tr>\n",
       "    <tr>\n",
       "      <th>2</th>\n",
       "      <td>ACCESORIES_1_003</td>\n",
       "      <td>0.254469</td>\n",
       "      <td>0.249112</td>\n",
       "      <td>0.300880</td>\n",
       "      <td>0.195539</td>\n",
       "      <td>0.290550</td>\n",
       "      <td>0.256700</td>\n",
       "      <td>0.191819</td>\n",
       "      <td>0.260931</td>\n",
       "      <td>0.326288</td>\n",
       "      <td>0.265655</td>\n",
       "      <td>0.222862</td>\n",
       "      <td>0.185195</td>\n",
       "      <td>1405</td>\n",
       "      <td>3.944072</td>\n",
       "    </tr>\n",
       "    <tr>\n",
       "      <th>3</th>\n",
       "      <td>ACCESORIES_1_004</td>\n",
       "      <td>0.256721</td>\n",
       "      <td>0.259417</td>\n",
       "      <td>0.235593</td>\n",
       "      <td>0.248269</td>\n",
       "      <td>0.265228</td>\n",
       "      <td>0.256632</td>\n",
       "      <td>0.229645</td>\n",
       "      <td>0.248495</td>\n",
       "      <td>0.286508</td>\n",
       "      <td>0.265151</td>\n",
       "      <td>0.221110</td>\n",
       "      <td>0.227232</td>\n",
       "      <td>38996</td>\n",
       "      <td>5.981629</td>\n",
       "    </tr>\n",
       "    <tr>\n",
       "      <th>4</th>\n",
       "      <td>ACCESORIES_1_005</td>\n",
       "      <td>0.209317</td>\n",
       "      <td>0.214718</td>\n",
       "      <td>0.267872</td>\n",
       "      <td>0.308094</td>\n",
       "      <td>0.236569</td>\n",
       "      <td>0.200389</td>\n",
       "      <td>0.269576</td>\n",
       "      <td>0.293466</td>\n",
       "      <td>0.260617</td>\n",
       "      <td>0.192501</td>\n",
       "      <td>0.215559</td>\n",
       "      <td>0.331322</td>\n",
       "      <td>14529</td>\n",
       "      <td>3.833931</td>\n",
       "    </tr>\n",
       "  </tbody>\n",
       "</table>\n",
       "</div>"
      ],
      "text/plain": [
       "               item  Boston_Q1  Boston_Q2  Boston_Q3  Boston_Q4  New_York_Q1  \\\n",
       "0  ACCESORIES_1_001   0.258490   0.215622   0.231207   0.294681     0.290651   \n",
       "1  ACCESORIES_1_002   0.202792   0.238109   0.254912   0.304187     0.169339   \n",
       "2  ACCESORIES_1_003   0.254469   0.249112   0.300880   0.195539     0.290550   \n",
       "3  ACCESORIES_1_004   0.256721   0.259417   0.235593   0.248269     0.265228   \n",
       "4  ACCESORIES_1_005   0.209317   0.214718   0.267872   0.308094     0.236569   \n",
       "\n",
       "   New_York_Q2  New_York_Q3  New_York_Q4  Philadelphia_Q1  Philadelphia_Q2  \\\n",
       "0     0.185303     0.232997     0.291048         0.280930         0.204212   \n",
       "1     0.190386     0.265158     0.375117         0.217307         0.173846   \n",
       "2     0.256700     0.191819     0.260931         0.326288         0.265655   \n",
       "3     0.256632     0.229645     0.248495         0.286508         0.265151   \n",
       "4     0.200389     0.269576     0.293466         0.260617         0.192501   \n",
       "\n",
       "   Philadelphia_Q3  Philadelphia_Q4  total_units_sold  avg_sell_price  \n",
       "0         0.247872         0.266986              4051       11.039091  \n",
       "1         0.250679         0.358168              5047        5.276618  \n",
       "2         0.222862         0.185195              1405        3.944072  \n",
       "3         0.221110         0.227232             38996        5.981629  \n",
       "4         0.215559         0.331322             14529        3.833931  "
      ]
     },
     "execution_count": 7,
     "metadata": {},
     "output_type": "execute_result"
    }
   ],
   "source": [
    "# Calculamos el total de unidades vendidas por 'item'\n",
    "total_sales_by_item = df.groupby('item')['units_sold'].sum().reset_index(name='total_units_sold')\n",
    "\n",
    "# Calculamos el precio medio total por 'item'\n",
    "average_price_by_item = df.groupby('item')['sell_price'].mean().reset_index(name='avg_sell_price')\n",
    "\n",
    "# Realizamos un merge para agregar las ventas totales por 'item'\n",
    "df_merge = pd.merge(df_merge, total_sales_by_item, on='item', how='left')\n",
    "\n",
    "# Realizamos otro merge para agregar el precio medio total por 'item'\n",
    "df_final_item_region = pd.merge(df_merge, average_price_by_item, on='item', how='left')\n",
    "\n",
    "df_final_item_region.head()"
   ]
  },
  {
   "cell_type": "code",
   "execution_count": 8,
   "metadata": {},
   "outputs": [
    {
     "data": {
      "image/png": "[encoded data removed]",
      "text/plain": [
       "<Figure size 864x576 with 2 Axes>"
      ]
     },
     "metadata": {},
     "output_type": "display_data"
    }
   ],
   "source": [
    "# Obtenemos la correlación de las diferentes variables\n",
    "plt.figure(figsize=(12, 8))\n",
    "sns.heatmap(df_final_item_region.corr(), annot=True, cmap=\"YlGnBu\");"
   ]
  },
  {
   "cell_type": "code",
   "execution_count": 9,
   "metadata": {},
   "outputs": [],
   "source": [
    "df_cluster_product_region= df_final_item_region.copy()"
   ]
  },
  {
   "cell_type": "code",
   "execution_count": 10,
   "metadata": {},
   "outputs": [
    {
     "data": {
      "text/plain": [
       "0        ACCESORIES_1_001\n",
       "1        ACCESORIES_1_002\n",
       "2        ACCESORIES_1_003\n",
       "3        ACCESORIES_1_004\n",
       "4        ACCESORIES_1_005\n",
       "              ...        \n",
       "3044    SUPERMARKET_3_823\n",
       "3045    SUPERMARKET_3_824\n",
       "3046    SUPERMARKET_3_825\n",
       "3047    SUPERMARKET_3_826\n",
       "3048    SUPERMARKET_3_827\n",
       "Name: item, Length: 3049, dtype: object"
      ]
     },
     "execution_count": 10,
     "metadata": {},
     "output_type": "execute_result"
    }
   ],
   "source": [
    "# Guardamos la variable 'ítem'\n",
    "productos_region = df_cluster_product_region.pop('item')\n",
    "productos_region"
   ]
  },
  {
   "cell_type": "code",
   "execution_count": 11,
   "metadata": {},
   "outputs": [
    {
     "data": {
      "text/html": [
       "<div>\n",
       "<style scoped>\n",
       "    .dataframe tbody tr th:only-of-type {\n",
       "        vertical-align: middle;\n",
       "    }\n",
       "\n",
       "    .dataframe tbody tr th {\n",
       "        vertical-align: top;\n",
       "    }\n",
       "\n",
       "    .dataframe thead th {\n",
       "        text-align: right;\n",
       "    }\n",
       "</style>\n",
       "<table border=\"1\" class=\"dataframe\">\n",
       "  <thead>\n",
       "    <tr style=\"text-align: right;\">\n",
       "      <th></th>\n",
       "      <th>Boston_Q1</th>\n",
       "      <th>Boston_Q2</th>\n",
       "      <th>Boston_Q3</th>\n",
       "      <th>Boston_Q4</th>\n",
       "      <th>New_York_Q1</th>\n",
       "      <th>New_York_Q2</th>\n",
       "      <th>New_York_Q3</th>\n",
       "      <th>New_York_Q4</th>\n",
       "      <th>Philadelphia_Q1</th>\n",
       "      <th>Philadelphia_Q2</th>\n",
       "      <th>Philadelphia_Q3</th>\n",
       "      <th>Philadelphia_Q4</th>\n",
       "      <th>total_units_sold</th>\n",
       "      <th>avg_sell_price</th>\n",
       "    </tr>\n",
       "  </thead>\n",
       "  <tbody>\n",
       "    <tr>\n",
       "      <th>0</th>\n",
       "      <td>-0.222054</td>\n",
       "      <td>-0.704803</td>\n",
       "      <td>-0.164482</td>\n",
       "      <td>0.972622</td>\n",
       "      <td>0.558720</td>\n",
       "      <td>-1.354499</td>\n",
       "      <td>-0.276860</td>\n",
       "      <td>0.896965</td>\n",
       "      <td>0.102832</td>\n",
       "      <td>-0.823106</td>\n",
       "      <td>0.200043</td>\n",
       "      <td>0.410154</td>\n",
       "      <td>-0.394344</td>\n",
       "      <td>1.206081</td>\n",
       "    </tr>\n",
       "    <tr>\n",
       "      <th>1</th>\n",
       "      <td>-1.279305</td>\n",
       "      <td>-0.268709</td>\n",
       "      <td>0.286179</td>\n",
       "      <td>1.135713</td>\n",
       "      <td>-1.852262</td>\n",
       "      <td>-1.245623</td>\n",
       "      <td>0.347982</td>\n",
       "      <td>2.424325</td>\n",
       "      <td>-1.069016</td>\n",
       "      <td>-1.429579</td>\n",
       "      <td>0.250008</td>\n",
       "      <td>1.943356</td>\n",
       "      <td>-0.371743</td>\n",
       "      <td>-0.063860</td>\n",
       "    </tr>\n",
       "    <tr>\n",
       "      <th>2</th>\n",
       "      <td>-0.298388</td>\n",
       "      <td>-0.055345</td>\n",
       "      <td>1.160120</td>\n",
       "      <td>-0.728219</td>\n",
       "      <td>0.556708</td>\n",
       "      <td>0.174859</td>\n",
       "      <td>-1.076884</td>\n",
       "      <td>0.349790</td>\n",
       "      <td>0.938264</td>\n",
       "      <td>0.404003</td>\n",
       "      <td>-0.245146</td>\n",
       "      <td>-0.965125</td>\n",
       "      <td>-0.454387</td>\n",
       "      <td>-0.357528</td>\n",
       "    </tr>\n",
       "    <tr>\n",
       "      <th>3</th>\n",
       "      <td>-0.255645</td>\n",
       "      <td>0.144504</td>\n",
       "      <td>-0.081098</td>\n",
       "      <td>0.176399</td>\n",
       "      <td>0.053451</td>\n",
       "      <td>0.173416</td>\n",
       "      <td>-0.341981</td>\n",
       "      <td>0.123847</td>\n",
       "      <td>0.205568</td>\n",
       "      <td>0.393936</td>\n",
       "      <td>-0.276342</td>\n",
       "      <td>-0.258293</td>\n",
       "      <td>0.398622</td>\n",
       "      <td>0.091511</td>\n",
       "    </tr>\n",
       "    <tr>\n",
       "      <th>4</th>\n",
       "      <td>-1.155453</td>\n",
       "      <td>-0.722332</td>\n",
       "      <td>0.532581</td>\n",
       "      <td>1.202726</td>\n",
       "      <td>-0.516113</td>\n",
       "      <td>-1.031358</td>\n",
       "      <td>0.433819</td>\n",
       "      <td>0.940884</td>\n",
       "      <td>-0.271296</td>\n",
       "      <td>-1.056991</td>\n",
       "      <td>-0.375139</td>\n",
       "      <td>1.491942</td>\n",
       "      <td>-0.156579</td>\n",
       "      <td>-0.381801</td>\n",
       "    </tr>\n",
       "    <tr>\n",
       "      <th>...</th>\n",
       "      <td>...</td>\n",
       "      <td>...</td>\n",
       "      <td>...</td>\n",
       "      <td>...</td>\n",
       "      <td>...</td>\n",
       "      <td>...</td>\n",
       "      <td>...</td>\n",
       "      <td>...</td>\n",
       "      <td>...</td>\n",
       "      <td>...</td>\n",
       "      <td>...</td>\n",
       "      <td>...</td>\n",
       "      <td>...</td>\n",
       "      <td>...</td>\n",
       "    </tr>\n",
       "    <tr>\n",
       "      <th>3044</th>\n",
       "      <td>0.372363</td>\n",
       "      <td>-1.440872</td>\n",
       "      <td>-0.444037</td>\n",
       "      <td>1.338813</td>\n",
       "      <td>0.338780</td>\n",
       "      <td>-0.868220</td>\n",
       "      <td>0.450011</td>\n",
       "      <td>0.005874</td>\n",
       "      <td>0.593960</td>\n",
       "      <td>-0.946756</td>\n",
       "      <td>-0.374840</td>\n",
       "      <td>0.608947</td>\n",
       "      <td>-0.139311</td>\n",
       "      <td>-0.489608</td>\n",
       "    </tr>\n",
       "    <tr>\n",
       "      <th>3045</th>\n",
       "      <td>-0.909357</td>\n",
       "      <td>0.494247</td>\n",
       "      <td>1.511108</td>\n",
       "      <td>-0.978943</td>\n",
       "      <td>-0.863191</td>\n",
       "      <td>2.063254</td>\n",
       "      <td>-0.290667</td>\n",
       "      <td>-0.689061</td>\n",
       "      <td>-0.975244</td>\n",
       "      <td>1.526539</td>\n",
       "      <td>0.942617</td>\n",
       "      <td>-1.285335</td>\n",
       "      <td>-0.297586</td>\n",
       "      <td>-0.559770</td>\n",
       "    </tr>\n",
       "    <tr>\n",
       "      <th>3046</th>\n",
       "      <td>1.077427</td>\n",
       "      <td>0.124528</td>\n",
       "      <td>-0.183446</td>\n",
       "      <td>-0.918409</td>\n",
       "      <td>0.260145</td>\n",
       "      <td>-0.379010</td>\n",
       "      <td>0.904785</td>\n",
       "      <td>-0.762433</td>\n",
       "      <td>0.827245</td>\n",
       "      <td>0.125655</td>\n",
       "      <td>-0.145255</td>\n",
       "      <td>-0.723783</td>\n",
       "      <td>-0.180723</td>\n",
       "      <td>-0.139359</td>\n",
       "    </tr>\n",
       "    <tr>\n",
       "      <th>3047</th>\n",
       "      <td>-0.045831</td>\n",
       "      <td>0.718560</td>\n",
       "      <td>-0.048850</td>\n",
       "      <td>-0.550171</td>\n",
       "      <td>-0.299362</td>\n",
       "      <td>1.018431</td>\n",
       "      <td>0.157392</td>\n",
       "      <td>-0.737304</td>\n",
       "      <td>-1.175588</td>\n",
       "      <td>0.960277</td>\n",
       "      <td>0.269115</td>\n",
       "      <td>0.010515</td>\n",
       "      <td>-0.211221</td>\n",
       "      <td>-0.888269</td>\n",
       "    </tr>\n",
       "    <tr>\n",
       "      <th>3048</th>\n",
       "      <td>0.316674</td>\n",
       "      <td>0.975514</td>\n",
       "      <td>-1.386364</td>\n",
       "      <td>0.101822</td>\n",
       "      <td>1.771714</td>\n",
       "      <td>-0.912940</td>\n",
       "      <td>-0.772538</td>\n",
       "      <td>-0.122889</td>\n",
       "      <td>0.723034</td>\n",
       "      <td>0.894147</td>\n",
       "      <td>-0.733148</td>\n",
       "      <td>-0.720328</td>\n",
       "      <td>-0.231780</td>\n",
       "      <td>-0.962405</td>\n",
       "    </tr>\n",
       "  </tbody>\n",
       "</table>\n",
       "<p>3049 rows × 14 columns</p>\n",
       "</div>"
      ],
      "text/plain": [
       "      Boston_Q1  Boston_Q2  Boston_Q3  Boston_Q4  New_York_Q1  New_York_Q2  \\\n",
       "0     -0.222054  -0.704803  -0.164482   0.972622     0.558720    -1.354499   \n",
       "1     -1.279305  -0.268709   0.286179   1.135713    -1.852262    -1.245623   \n",
       "2     -0.298388  -0.055345   1.160120  -0.728219     0.556708     0.174859   \n",
       "3     -0.255645   0.144504  -0.081098   0.176399     0.053451     0.173416   \n",
       "4     -1.155453  -0.722332   0.532581   1.202726    -0.516113    -1.031358   \n",
       "...         ...        ...        ...        ...          ...          ...   \n",
       "3044   0.372363  -1.440872  -0.444037   1.338813     0.338780    -0.868220   \n",
       "3045  -0.909357   0.494247   1.511108  -0.978943    -0.863191     2.063254   \n",
       "3046   1.077427   0.124528  -0.183446  -0.918409     0.260145    -0.379010   \n",
       "3047  -0.045831   0.718560  -0.048850  -0.550171    -0.299362     1.018431   \n",
       "3048   0.316674   0.975514  -1.386364   0.101822     1.771714    -0.912940   \n",
       "\n",
       "      New_York_Q3  New_York_Q4  Philadelphia_Q1  Philadelphia_Q2  \\\n",
       "0       -0.276860     0.896965         0.102832        -0.823106   \n",
       "1        0.347982     2.424325        -1.069016        -1.429579   \n",
       "2       -1.076884     0.349790         0.938264         0.404003   \n",
       "3       -0.341981     0.123847         0.205568         0.393936   \n",
       "4        0.433819     0.940884        -0.271296        -1.056991   \n",
       "...           ...          ...              ...              ...   \n",
       "3044     0.450011     0.005874         0.593960        -0.946756   \n",
       "3045    -0.290667    -0.689061        -0.975244         1.526539   \n",
       "3046     0.904785    -0.762433         0.827245         0.125655   \n",
       "3047     0.157392    -0.737304        -1.175588         0.960277   \n",
       "3048    -0.772538    -0.122889         0.723034         0.894147   \n",
       "\n",
       "      Philadelphia_Q3  Philadelphia_Q4  total_units_sold  avg_sell_price  \n",
       "0            0.200043         0.410154         -0.394344        1.206081  \n",
       "1            0.250008         1.943356         -0.371743       -0.063860  \n",
       "2           -0.245146        -0.965125         -0.454387       -0.357528  \n",
       "3           -0.276342        -0.258293          0.398622        0.091511  \n",
       "4           -0.375139         1.491942         -0.156579       -0.381801  \n",
       "...               ...              ...               ...             ...  \n",
       "3044        -0.374840         0.608947         -0.139311       -0.489608  \n",
       "3045         0.942617        -1.285335         -0.297586       -0.559770  \n",
       "3046        -0.145255        -0.723783         -0.180723       -0.139359  \n",
       "3047         0.269115         0.010515         -0.211221       -0.888269  \n",
       "3048        -0.733148        -0.720328         -0.231780       -0.962405  \n",
       "\n",
       "[3049 rows x 14 columns]"
      ]
     },
     "execution_count": 11,
     "metadata": {},
     "output_type": "execute_result"
    }
   ],
   "source": [
    "# Estandarizamos las variables\n",
    "ss = StandardScaler()\n",
    "df_cluster_product_region_ss = pd.DataFrame(\n",
    "    ss.fit_transform(df_cluster_product_region),\n",
    "    columns= df_cluster_product_region.columns)\n",
    "df_cluster_product_region_ss"
   ]
  },
  {
   "cell_type": "markdown",
   "metadata": {},
   "source": [
    "Probamos con HDBSCAN..."
   ]
  },
  {
   "cell_type": "code",
   "execution_count": 12,
   "metadata": {},
   "outputs": [
    {
     "data": {
      "text/html": [
       "<div>\n",
       "<style scoped>\n",
       "    .dataframe tbody tr th:only-of-type {\n",
       "        vertical-align: middle;\n",
       "    }\n",
       "\n",
       "    .dataframe tbody tr th {\n",
       "        vertical-align: top;\n",
       "    }\n",
       "\n",
       "    .dataframe thead th {\n",
       "        text-align: right;\n",
       "    }\n",
       "</style>\n",
       "<table border=\"1\" class=\"dataframe\">\n",
       "  <thead>\n",
       "    <tr style=\"text-align: right;\">\n",
       "      <th></th>\n",
       "      <th>item</th>\n",
       "      <th>Boston_Q1</th>\n",
       "      <th>Boston_Q2</th>\n",
       "      <th>Boston_Q3</th>\n",
       "      <th>Boston_Q4</th>\n",
       "      <th>New_York_Q1</th>\n",
       "      <th>New_York_Q2</th>\n",
       "      <th>New_York_Q3</th>\n",
       "      <th>New_York_Q4</th>\n",
       "      <th>Philadelphia_Q1</th>\n",
       "      <th>Philadelphia_Q2</th>\n",
       "      <th>Philadelphia_Q3</th>\n",
       "      <th>Philadelphia_Q4</th>\n",
       "      <th>total_units_sold</th>\n",
       "      <th>avg_sell_price</th>\n",
       "      <th>cluster_hdbscan</th>\n",
       "    </tr>\n",
       "  </thead>\n",
       "  <tbody>\n",
       "    <tr>\n",
       "      <th>0</th>\n",
       "      <td>ACCESORIES_1_001</td>\n",
       "      <td>0.258490</td>\n",
       "      <td>0.215622</td>\n",
       "      <td>0.231207</td>\n",
       "      <td>0.294681</td>\n",
       "      <td>0.290651</td>\n",
       "      <td>0.185303</td>\n",
       "      <td>0.232997</td>\n",
       "      <td>0.291048</td>\n",
       "      <td>0.280930</td>\n",
       "      <td>0.204212</td>\n",
       "      <td>0.247872</td>\n",
       "      <td>0.266986</td>\n",
       "      <td>4051</td>\n",
       "      <td>11.039091</td>\n",
       "      <td>0</td>\n",
       "    </tr>\n",
       "    <tr>\n",
       "      <th>1</th>\n",
       "      <td>ACCESORIES_1_002</td>\n",
       "      <td>0.202792</td>\n",
       "      <td>0.238109</td>\n",
       "      <td>0.254912</td>\n",
       "      <td>0.304187</td>\n",
       "      <td>0.169339</td>\n",
       "      <td>0.190386</td>\n",
       "      <td>0.265158</td>\n",
       "      <td>0.375117</td>\n",
       "      <td>0.217307</td>\n",
       "      <td>0.173846</td>\n",
       "      <td>0.250679</td>\n",
       "      <td>0.358168</td>\n",
       "      <td>5047</td>\n",
       "      <td>5.276618</td>\n",
       "      <td>-1</td>\n",
       "    </tr>\n",
       "    <tr>\n",
       "      <th>2</th>\n",
       "      <td>ACCESORIES_1_003</td>\n",
       "      <td>0.254469</td>\n",
       "      <td>0.249112</td>\n",
       "      <td>0.300880</td>\n",
       "      <td>0.195539</td>\n",
       "      <td>0.290550</td>\n",
       "      <td>0.256700</td>\n",
       "      <td>0.191819</td>\n",
       "      <td>0.260931</td>\n",
       "      <td>0.326288</td>\n",
       "      <td>0.265655</td>\n",
       "      <td>0.222862</td>\n",
       "      <td>0.185195</td>\n",
       "      <td>1405</td>\n",
       "      <td>3.944072</td>\n",
       "      <td>0</td>\n",
       "    </tr>\n",
       "    <tr>\n",
       "      <th>3</th>\n",
       "      <td>ACCESORIES_1_004</td>\n",
       "      <td>0.256721</td>\n",
       "      <td>0.259417</td>\n",
       "      <td>0.235593</td>\n",
       "      <td>0.248269</td>\n",
       "      <td>0.265228</td>\n",
       "      <td>0.256632</td>\n",
       "      <td>0.229645</td>\n",
       "      <td>0.248495</td>\n",
       "      <td>0.286508</td>\n",
       "      <td>0.265151</td>\n",
       "      <td>0.221110</td>\n",
       "      <td>0.227232</td>\n",
       "      <td>38996</td>\n",
       "      <td>5.981629</td>\n",
       "      <td>0</td>\n",
       "    </tr>\n",
       "    <tr>\n",
       "      <th>4</th>\n",
       "      <td>ACCESORIES_1_005</td>\n",
       "      <td>0.209317</td>\n",
       "      <td>0.214718</td>\n",
       "      <td>0.267872</td>\n",
       "      <td>0.308094</td>\n",
       "      <td>0.236569</td>\n",
       "      <td>0.200389</td>\n",
       "      <td>0.269576</td>\n",
       "      <td>0.293466</td>\n",
       "      <td>0.260617</td>\n",
       "      <td>0.192501</td>\n",
       "      <td>0.215559</td>\n",
       "      <td>0.331322</td>\n",
       "      <td>14529</td>\n",
       "      <td>3.833931</td>\n",
       "      <td>0</td>\n",
       "    </tr>\n",
       "    <tr>\n",
       "      <th>...</th>\n",
       "      <td>...</td>\n",
       "      <td>...</td>\n",
       "      <td>...</td>\n",
       "      <td>...</td>\n",
       "      <td>...</td>\n",
       "      <td>...</td>\n",
       "      <td>...</td>\n",
       "      <td>...</td>\n",
       "      <td>...</td>\n",
       "      <td>...</td>\n",
       "      <td>...</td>\n",
       "      <td>...</td>\n",
       "      <td>...</td>\n",
       "      <td>...</td>\n",
       "      <td>...</td>\n",
       "      <td>...</td>\n",
       "    </tr>\n",
       "    <tr>\n",
       "      <th>3044</th>\n",
       "      <td>SUPERMARKET_3_823</td>\n",
       "      <td>0.289806</td>\n",
       "      <td>0.177665</td>\n",
       "      <td>0.216503</td>\n",
       "      <td>0.316026</td>\n",
       "      <td>0.279585</td>\n",
       "      <td>0.208005</td>\n",
       "      <td>0.270410</td>\n",
       "      <td>0.242001</td>\n",
       "      <td>0.307594</td>\n",
       "      <td>0.198021</td>\n",
       "      <td>0.215576</td>\n",
       "      <td>0.278808</td>\n",
       "      <td>15290</td>\n",
       "      <td>3.344748</td>\n",
       "      <td>0</td>\n",
       "    </tr>\n",
       "    <tr>\n",
       "      <th>3045</th>\n",
       "      <td>SUPERMARKET_3_824</td>\n",
       "      <td>0.222281</td>\n",
       "      <td>0.277452</td>\n",
       "      <td>0.319342</td>\n",
       "      <td>0.180925</td>\n",
       "      <td>0.219106</td>\n",
       "      <td>0.344857</td>\n",
       "      <td>0.232286</td>\n",
       "      <td>0.203751</td>\n",
       "      <td>0.222398</td>\n",
       "      <td>0.321861</td>\n",
       "      <td>0.289589</td>\n",
       "      <td>0.166152</td>\n",
       "      <td>8315</td>\n",
       "      <td>3.026382</td>\n",
       "      <td>0</td>\n",
       "    </tr>\n",
       "    <tr>\n",
       "      <th>3046</th>\n",
       "      <td>SUPERMARKET_3_825</td>\n",
       "      <td>0.326950</td>\n",
       "      <td>0.258387</td>\n",
       "      <td>0.230210</td>\n",
       "      <td>0.184453</td>\n",
       "      <td>0.275628</td>\n",
       "      <td>0.230843</td>\n",
       "      <td>0.293817</td>\n",
       "      <td>0.199712</td>\n",
       "      <td>0.320260</td>\n",
       "      <td>0.251718</td>\n",
       "      <td>0.228474</td>\n",
       "      <td>0.199548</td>\n",
       "      <td>13465</td>\n",
       "      <td>4.934034</td>\n",
       "      <td>0</td>\n",
       "    </tr>\n",
       "    <tr>\n",
       "      <th>3047</th>\n",
       "      <td>SUPERMARKET_3_826</td>\n",
       "      <td>0.267774</td>\n",
       "      <td>0.289019</td>\n",
       "      <td>0.237289</td>\n",
       "      <td>0.205918</td>\n",
       "      <td>0.247476</td>\n",
       "      <td>0.296081</td>\n",
       "      <td>0.255348</td>\n",
       "      <td>0.201095</td>\n",
       "      <td>0.211521</td>\n",
       "      <td>0.293508</td>\n",
       "      <td>0.251753</td>\n",
       "      <td>0.243219</td>\n",
       "      <td>12121</td>\n",
       "      <td>1.535787</td>\n",
       "      <td>0</td>\n",
       "    </tr>\n",
       "    <tr>\n",
       "      <th>3048</th>\n",
       "      <td>SUPERMARKET_3_827</td>\n",
       "      <td>0.286872</td>\n",
       "      <td>0.302269</td>\n",
       "      <td>0.166937</td>\n",
       "      <td>0.243922</td>\n",
       "      <td>0.351685</td>\n",
       "      <td>0.205917</td>\n",
       "      <td>0.207484</td>\n",
       "      <td>0.234914</td>\n",
       "      <td>0.314602</td>\n",
       "      <td>0.290197</td>\n",
       "      <td>0.195447</td>\n",
       "      <td>0.199754</td>\n",
       "      <td>11215</td>\n",
       "      <td>1.199389</td>\n",
       "      <td>0</td>\n",
       "    </tr>\n",
       "  </tbody>\n",
       "</table>\n",
       "<p>3049 rows × 16 columns</p>\n",
       "</div>"
      ],
      "text/plain": [
       "                   item  Boston_Q1  Boston_Q2  Boston_Q3  Boston_Q4  \\\n",
       "0      ACCESORIES_1_001   0.258490   0.215622   0.231207   0.294681   \n",
       "1      ACCESORIES_1_002   0.202792   0.238109   0.254912   0.304187   \n",
       "2      ACCESORIES_1_003   0.254469   0.249112   0.300880   0.195539   \n",
       "3      ACCESORIES_1_004   0.256721   0.259417   0.235593   0.248269   \n",
       "4      ACCESORIES_1_005   0.209317   0.214718   0.267872   0.308094   \n",
       "...                 ...        ...        ...        ...        ...   \n",
       "3044  SUPERMARKET_3_823   0.289806   0.177665   0.216503   0.316026   \n",
       "3045  SUPERMARKET_3_824   0.222281   0.277452   0.319342   0.180925   \n",
       "3046  SUPERMARKET_3_825   0.326950   0.258387   0.230210   0.184453   \n",
       "3047  SUPERMARKET_3_826   0.267774   0.289019   0.237289   0.205918   \n",
       "3048  SUPERMARKET_3_827   0.286872   0.302269   0.166937   0.243922   \n",
       "\n",
       "      New_York_Q1  New_York_Q2  New_York_Q3  New_York_Q4  Philadelphia_Q1  \\\n",
       "0        0.290651     0.185303     0.232997     0.291048         0.280930   \n",
       "1        0.169339     0.190386     0.265158     0.375117         0.217307   \n",
       "2        0.290550     0.256700     0.191819     0.260931         0.326288   \n",
       "3        0.265228     0.256632     0.229645     0.248495         0.286508   \n",
       "4        0.236569     0.200389     0.269576     0.293466         0.260617   \n",
       "...           ...          ...          ...          ...              ...   \n",
       "3044     0.279585     0.208005     0.270410     0.242001         0.307594   \n",
       "3045     0.219106     0.344857     0.232286     0.203751         0.222398   \n",
       "3046     0.275628     0.230843     0.293817     0.199712         0.320260   \n",
       "3047     0.247476     0.296081     0.255348     0.201095         0.211521   \n",
       "3048     0.351685     0.205917     0.207484     0.234914         0.314602   \n",
       "\n",
       "      Philadelphia_Q2  Philadelphia_Q3  Philadelphia_Q4  total_units_sold  \\\n",
       "0            0.204212         0.247872         0.266986              4051   \n",
       "1            0.173846         0.250679         0.358168              5047   \n",
       "2            0.265655         0.222862         0.185195              1405   \n",
       "3            0.265151         0.221110         0.227232             38996   \n",
       "4            0.192501         0.215559         0.331322             14529   \n",
       "...               ...              ...              ...               ...   \n",
       "3044         0.198021         0.215576         0.278808             15290   \n",
       "3045         0.321861         0.289589         0.166152              8315   \n",
       "3046         0.251718         0.228474         0.199548             13465   \n",
       "3047         0.293508         0.251753         0.243219             12121   \n",
       "3048         0.290197         0.195447         0.199754             11215   \n",
       "\n",
       "      avg_sell_price  cluster_hdbscan  \n",
       "0          11.039091                0  \n",
       "1           5.276618               -1  \n",
       "2           3.944072                0  \n",
       "3           5.981629                0  \n",
       "4           3.833931                0  \n",
       "...              ...              ...  \n",
       "3044        3.344748                0  \n",
       "3045        3.026382                0  \n",
       "3046        4.934034                0  \n",
       "3047        1.535787                0  \n",
       "3048        1.199389                0  \n",
       "\n",
       "[3049 rows x 16 columns]"
      ]
     },
     "execution_count": 12,
     "metadata": {},
     "output_type": "execute_result"
    }
   ],
   "source": [
    "# Inicializamos el algoritmo HDBSCAN \n",
    "clusterer = hdbscan.HDBSCAN(min_samples=10, min_cluster_size=5)\n",
    "\n",
    "# Ajustamos el modelo y predecimos las etiquetas de clúster\n",
    "cluster_labels = clusterer.fit_predict(df_cluster_product_region_ss)\n",
    "\n",
    "# Agregamos las etiquetas del clúster al DataFrame original\n",
    "df_final_item_region['cluster_hdbscan'] = cluster_labels\n",
    "\n",
    "df_final_item_region"
   ]
  },
  {
   "cell_type": "code",
   "execution_count": 13,
   "metadata": {},
   "outputs": [
    {
     "data": {
      "text/plain": [
       " 0    2424\n",
       "-1     620\n",
       " 1       5\n",
       "Name: cluster_hdbscan, dtype: int64"
      ]
     },
     "execution_count": 13,
     "metadata": {},
     "output_type": "execute_result"
    }
   ],
   "source": [
    "df_final_item_region.cluster_hdbscan.value_counts()"
   ]
  },
  {
   "cell_type": "markdown",
   "metadata": {},
   "source": [
    "Hacemos una segunda iteración con KMeans..."
   ]
  },
  {
   "cell_type": "code",
   "execution_count": 14,
   "metadata": {},
   "outputs": [
    {
     "data": {
      "image/png": "[encoded data removed]",
      "text/plain": [
       "<Figure size 576x396 with 2 Axes>"
      ]
     },
     "metadata": {},
     "output_type": "display_data"
    }
   ],
   "source": [
    "Elbow_M = KElbowVisualizer(KMeans(random_state=42, init=\"random\", n_init=\"auto\"), k=10)\n",
    "Elbow_M.fit(df_cluster_product_region_ss)\n",
    "Elbow_M.show();"
   ]
  },
  {
   "cell_type": "code",
   "execution_count": 15,
   "metadata": {},
   "outputs": [
    {
     "data": {
      "application/vnd.plotly.v1+json": {
       "config": {
        "plotlyServerURL": "https://plot.ly"
       },
       "data": [
        {
         "hovertemplate": "k=%{x}<br>Silhouette score=%{y}<extra></extra>",
         "legendgroup": "",
         "line": {
          "color": "#636efa",
          "dash": "solid"
         },
         "mode": "lines",
         "name": "",
         "orientation": "v",
         "showlegend": false,
         "type": "scatter",
         "x": [
          2,
          3,
          4,
          5,
          6,
          7,
          8,
          9
         ],
         "xaxis": "x",
         "y": [
          0.151698512015066,
          0.22673833690461437,
          0.1528919226445245,
          0.12355769276929104,
          0.11586024559636686,
          0.11880728477051578,
          0.1255704596414139,
          0.13334220750084474
         ],
         "yaxis": "y"
        }
       ],
       "layout": {
        "legend": {
         "tracegroupgap": 0
        },
        "template": {
         "data": {
          "bar": [
           {
            "error_x": {
             "color": "#2a3f5f"
            },
            "error_y": {
             "color": "#2a3f5f"
            },
            "marker": {
             "line": {
              "color": "#E5ECF6",
              "width": 0.5
             },
             "pattern": {
              "fillmode": "overlay",
              "size": 10,
              "solidity": 0.2
             }
            },
            "type": "bar"
           }
          ],
          "barpolar": [
           {
            "marker": {
             "line": {
              "color": "#E5ECF6",
              "width": 0.5
             },
             "pattern": {
              "fillmode": "overlay",
              "size": 10,
              "solidity": 0.2
             }
            },
            "type": "barpolar"
           }
          ],
          "carpet": [
           {
            "aaxis": {
             "endlinecolor": "#2a3f5f",
             "gridcolor": "white",
             "linecolor": "white",
             "minorgridcolor": "white",
             "startlinecolor": "#2a3f5f"
            },
            "baxis": {
             "endlinecolor": "#2a3f5f",
             "gridcolor": "white",
             "linecolor": "white",
             "minorgridcolor": "white",
             "startlinecolor": "#2a3f5f"
            },
            "type": "carpet"
           }
          ],
          "choropleth": [
           {
            "colorbar": {
             "outlinewidth": 0,
             "ticks": ""
            },
            "type": "choropleth"
           }
          ],
          "contour": [
           {
            "colorbar": {
             "outlinewidth": 0,
             "ticks": ""
            },
            "colorscale": [
             [
              0,
              "#0d0887"
             ],
             [
              0.1111111111111111,
              "#46039f"
             ],
             [
              0.2222222222222222,
              "#7201a8"
             ],
             [
              0.3333333333333333,
              "#9c179e"
             ],
             [
              0.4444444444444444,
              "#bd3786"
             ],
             [
              0.5555555555555556,
              "#d8576b"
             ],
             [
              0.6666666666666666,
              "#ed7953"
             ],
             [
              0.7777777777777778,
              "#fb9f3a"
             ],
             [
              0.8888888888888888,
              "#fdca26"
             ],
             [
              1,
              "#f0f921"
             ]
            ],
            "type": "contour"
           }
          ],
          "contourcarpet": [
           {
            "colorbar": {
             "outlinewidth": 0,
             "ticks": ""
            },
            "type": "contourcarpet"
           }
          ],
          "heatmap": [
           {
            "colorbar": {
             "outlinewidth": 0,
             "ticks": ""
            },
            "colorscale": [
             [
              0,
              "#0d0887"
             ],
             [
              0.1111111111111111,
              "#46039f"
             ],
             [
              0.2222222222222222,
              "#7201a8"
             ],
             [
              0.3333333333333333,
              "#9c179e"
             ],
             [
              0.4444444444444444,
              "#bd3786"
             ],
             [
              0.5555555555555556,
              "#d8576b"
             ],
             [
              0.6666666666666666,
              "#ed7953"
             ],
             [
              0.7777777777777778,
              "#fb9f3a"
             ],
             [
              0.8888888888888888,
              "#fdca26"
             ],
             [
              1,
              "#f0f921"
             ]
            ],
            "type": "heatmap"
           }
          ],
          "heatmapgl": [
           {
            "colorbar": {
             "outlinewidth": 0,
             "ticks": ""
            },
            "colorscale": [
             [
              0,
              "#0d0887"
             ],
             [
              0.1111111111111111,
              "#46039f"
             ],
             [
              0.2222222222222222,
              "#7201a8"
             ],
             [
              0.3333333333333333,
              "#9c179e"
             ],
             [
              0.4444444444444444,
              "#bd3786"
             ],
             [
              0.5555555555555556,
              "#d8576b"
             ],
             [
              0.6666666666666666,
              "#ed7953"
             ],
             [
              0.7777777777777778,
              "#fb9f3a"
             ],
             [
              0.8888888888888888,
              "#fdca26"
             ],
             [
              1,
              "#f0f921"
             ]
            ],
            "type": "heatmapgl"
           }
          ],
          "histogram": [
           {
            "marker": {
             "pattern": {
              "fillmode": "overlay",
              "size": 10,
              "solidity": 0.2
             }
            },
            "type": "histogram"
           }
          ],
          "histogram2d": [
           {
            "colorbar": {
             "outlinewidth": 0,
             "ticks": ""
            },
            "colorscale": [
             [
              0,
              "#0d0887"
             ],
             [
              0.1111111111111111,
              "#46039f"
             ],
             [
              0.2222222222222222,
              "#7201a8"
             ],
             [
              0.3333333333333333,
              "#9c179e"
             ],
             [
              0.4444444444444444,
              "#bd3786"
             ],
             [
              0.5555555555555556,
              "#d8576b"
             ],
             [
              0.6666666666666666,
              "#ed7953"
             ],
             [
              0.7777777777777778,
              "#fb9f3a"
             ],
             [
              0.8888888888888888,
              "#fdca26"
             ],
             [
              1,
              "#f0f921"
             ]
            ],
            "type": "histogram2d"
           }
          ],
          "histogram2dcontour": [
           {
            "colorbar": {
             "outlinewidth": 0,
             "ticks": ""
            },
            "colorscale": [
             [
              0,
              "#0d0887"
             ],
             [
              0.1111111111111111,
              "#46039f"
             ],
             [
              0.2222222222222222,
              "#7201a8"
             ],
             [
              0.3333333333333333,
              "#9c179e"
             ],
             [
              0.4444444444444444,
              "#bd3786"
             ],
             [
              0.5555555555555556,
              "#d8576b"
             ],
             [
              0.6666666666666666,
              "#ed7953"
             ],
             [
              0.7777777777777778,
              "#fb9f3a"
             ],
             [
              0.8888888888888888,
              "#fdca26"
             ],
             [
              1,
              "#f0f921"
             ]
            ],
            "type": "histogram2dcontour"
           }
          ],
          "mesh3d": [
           {
            "colorbar": {
             "outlinewidth": 0,
             "ticks": ""
            },
            "type": "mesh3d"
           }
          ],
          "parcoords": [
           {
            "line": {
             "colorbar": {
              "outlinewidth": 0,
              "ticks": ""
             }
            },
            "type": "parcoords"
           }
          ],
          "pie": [
           {
            "automargin": true,
            "type": "pie"
           }
          ],
          "scatter": [
           {
            "marker": {
             "colorbar": {
              "outlinewidth": 0,
              "ticks": ""
             }
            },
            "type": "scatter"
           }
          ],
          "scatter3d": [
           {
            "line": {
             "colorbar": {
              "outlinewidth": 0,
              "ticks": ""
             }
            },
            "marker": {
             "colorbar": {
              "outlinewidth": 0,
              "ticks": ""
             }
            },
            "type": "scatter3d"
           }
          ],
          "scattercarpet": [
           {
            "marker": {
             "colorbar": {
              "outlinewidth": 0,
              "ticks": ""
             }
            },
            "type": "scattercarpet"
           }
          ],
          "scattergeo": [
           {
            "marker": {
             "colorbar": {
              "outlinewidth": 0,
              "ticks": ""
             }
            },
            "type": "scattergeo"
           }
          ],
          "scattergl": [
           {
            "marker": {
             "colorbar": {
              "outlinewidth": 0,
              "ticks": ""
             }
            },
            "type": "scattergl"
           }
          ],
          "scattermapbox": [
           {
            "marker": {
             "colorbar": {
              "outlinewidth": 0,
              "ticks": ""
             }
            },
            "type": "scattermapbox"
           }
          ],
          "scatterpolar": [
           {
            "marker": {
             "colorbar": {
              "outlinewidth": 0,
              "ticks": ""
             }
            },
            "type": "scatterpolar"
           }
          ],
          "scatterpolargl": [
           {
            "marker": {
             "colorbar": {
              "outlinewidth": 0,
              "ticks": ""
             }
            },
            "type": "scatterpolargl"
           }
          ],
          "scatterternary": [
           {
            "marker": {
             "colorbar": {
              "outlinewidth": 0,
              "ticks": ""
             }
            },
            "type": "scatterternary"
           }
          ],
          "surface": [
           {
            "colorbar": {
             "outlinewidth": 0,
             "ticks": ""
            },
            "colorscale": [
             [
              0,
              "#0d0887"
             ],
             [
              0.1111111111111111,
              "#46039f"
             ],
             [
              0.2222222222222222,
              "#7201a8"
             ],
             [
              0.3333333333333333,
              "#9c179e"
             ],
             [
              0.4444444444444444,
              "#bd3786"
             ],
             [
              0.5555555555555556,
              "#d8576b"
             ],
             [
              0.6666666666666666,
              "#ed7953"
             ],
             [
              0.7777777777777778,
              "#fb9f3a"
             ],
             [
              0.8888888888888888,
              "#fdca26"
             ],
             [
              1,
              "#f0f921"
             ]
            ],
            "type": "surface"
           }
          ],
          "table": [
           {
            "cells": {
             "fill": {
              "color": "#EBF0F8"
             },
             "line": {
              "color": "white"
             }
            },
            "header": {
             "fill": {
              "color": "#C8D4E3"
             },
             "line": {
              "color": "white"
             }
            },
            "type": "table"
           }
          ]
         },
         "layout": {
          "annotationdefaults": {
           "arrowcolor": "#2a3f5f",
           "arrowhead": 0,
           "arrowwidth": 1
          },
          "autotypenumbers": "strict",
          "coloraxis": {
           "colorbar": {
            "outlinewidth": 0,
            "ticks": ""
           }
          },
          "colorscale": {
           "diverging": [
            [
             0,
             "#8e0152"
            ],
            [
             0.1,
             "#c51b7d"
            ],
            [
             0.2,
             "#de77ae"
            ],
            [
             0.3,
             "#f1b6da"
            ],
            [
             0.4,
             "#fde0ef"
            ],
            [
             0.5,
             "#f7f7f7"
            ],
            [
             0.6,
             "#e6f5d0"
            ],
            [
             0.7,
             "#b8e186"
            ],
            [
             0.8,
             "#7fbc41"
            ],
            [
             0.9,
             "#4d9221"
            ],
            [
             1,
             "#276419"
            ]
           ],
           "sequential": [
            [
             0,
             "#0d0887"
            ],
            [
             0.1111111111111111,
             "#46039f"
            ],
            [
             0.2222222222222222,
             "#7201a8"
            ],
            [
             0.3333333333333333,
             "#9c179e"
            ],
            [
             0.4444444444444444,
             "#bd3786"
            ],
            [
             0.5555555555555556,
             "#d8576b"
            ],
            [
             0.6666666666666666,
             "#ed7953"
            ],
            [
             0.7777777777777778,
             "#fb9f3a"
            ],
            [
             0.8888888888888888,
             "#fdca26"
            ],
            [
             1,
             "#f0f921"
            ]
           ],
           "sequentialminus": [
            [
             0,
             "#0d0887"
            ],
            [
             0.1111111111111111,
             "#46039f"
            ],
            [
             0.2222222222222222,
             "#7201a8"
            ],
            [
             0.3333333333333333,
             "#9c179e"
            ],
            [
             0.4444444444444444,
             "#bd3786"
            ],
            [
             0.5555555555555556,
             "#d8576b"
            ],
            [
             0.6666666666666666,
             "#ed7953"
            ],
            [
             0.7777777777777778,
             "#fb9f3a"
            ],
            [
             0.8888888888888888,
             "#fdca26"
            ],
            [
             1,
             "#f0f921"
            ]
           ]
          },
          "colorway": [
           "#636efa",
           "#EF553B",
           "#00cc96",
           "#ab63fa",
           "#FFA15A",
           "#19d3f3",
           "#FF6692",
           "#B6E880",
           "#FF97FF",
           "#FECB52"
          ],
          "font": {
           "color": "#2a3f5f"
          },
          "geo": {
           "bgcolor": "white",
           "lakecolor": "white",
           "landcolor": "#E5ECF6",
           "showlakes": true,
           "showland": true,
           "subunitcolor": "white"
          },
          "hoverlabel": {
           "align": "left"
          },
          "hovermode": "closest",
          "mapbox": {
           "style": "light"
          },
          "paper_bgcolor": "white",
          "plot_bgcolor": "#E5ECF6",
          "polar": {
           "angularaxis": {
            "gridcolor": "white",
            "linecolor": "white",
            "ticks": ""
           },
           "bgcolor": "#E5ECF6",
           "radialaxis": {
            "gridcolor": "white",
            "linecolor": "white",
            "ticks": ""
           }
          },
          "scene": {
           "xaxis": {
            "backgroundcolor": "#E5ECF6",
            "gridcolor": "white",
            "gridwidth": 2,
            "linecolor": "white",
            "showbackground": true,
            "ticks": "",
            "zerolinecolor": "white"
           },
           "yaxis": {
            "backgroundcolor": "#E5ECF6",
            "gridcolor": "white",
            "gridwidth": 2,
            "linecolor": "white",
            "showbackground": true,
            "ticks": "",
            "zerolinecolor": "white"
           },
           "zaxis": {
            "backgroundcolor": "#E5ECF6",
            "gridcolor": "white",
            "gridwidth": 2,
            "linecolor": "white",
            "showbackground": true,
            "ticks": "",
            "zerolinecolor": "white"
           }
          },
          "shapedefaults": {
           "line": {
            "color": "#2a3f5f"
           }
          },
          "ternary": {
           "aaxis": {
            "gridcolor": "white",
            "linecolor": "white",
            "ticks": ""
           },
           "baxis": {
            "gridcolor": "white",
            "linecolor": "white",
            "ticks": ""
           },
           "bgcolor": "#E5ECF6",
           "caxis": {
            "gridcolor": "white",
            "linecolor": "white",
            "ticks": ""
           }
          },
          "title": {
           "x": 0.05
          },
          "xaxis": {
           "automargin": true,
           "gridcolor": "white",
           "linecolor": "white",
           "ticks": "",
           "title": {
            "standoff": 15
           },
           "zerolinecolor": "white",
           "zerolinewidth": 2
          },
          "yaxis": {
           "automargin": true,
           "gridcolor": "white",
           "linecolor": "white",
           "ticks": "",
           "title": {
            "standoff": 15
           },
           "zerolinecolor": "white",
           "zerolinewidth": 2
          }
         }
        },
        "title": {
         "text": "Silhouette score"
        },
        "xaxis": {
         "anchor": "y",
         "domain": [
          0,
          1
         ],
         "title": {
          "text": "k"
         }
        },
        "yaxis": {
         "anchor": "x",
         "domain": [
          0,
          1
         ],
         "title": {
          "text": "Silhouette score"
         }
        }
       }
      }
     },
     "metadata": {},
     "output_type": "display_data"
    }
   ],
   "source": [
    "silhouette_scores = []\n",
    "\n",
    "for k in range(2, 10):\n",
    "    kmeans = KMeans(n_clusters=k, random_state=42, init=\"random\", n_init=\"auto\")\n",
    "    kmeans.fit(df_cluster_product_region_ss)\n",
    "    silhouette_scores.append(silhouette_score(df_cluster_product_region_ss, kmeans.labels_))\n",
    "\n",
    "fig = px.line(\n",
    "    x=range(2, 10),\n",
    "    y=silhouette_scores,\n",
    "    title=\"Silhouette score\",\n",
    "    labels={\"x\": \"k\", \"y\": \"Silhouette score\"},\n",
    ")\n",
    "fig.show()"
   ]
  },
  {
   "cell_type": "code",
   "execution_count": 16,
   "metadata": {},
   "outputs": [],
   "source": [
    "kmeans= KMeans(n_clusters=3,random_state=42, init=\"random\", n_init=\"auto\")\n",
    "kmeans.fit(df_cluster_product_region_ss)\n",
    "df_final_item_region[\"cluster_kmeans\"] = kmeans.labels_"
   ]
  },
  {
   "cell_type": "code",
   "execution_count": 17,
   "metadata": {},
   "outputs": [
    {
     "name": "stderr",
     "output_type": "stream",
     "text": [
      "c:\\Users\\alici\\anaconda3\\envs\\Nuclio_env\\lib\\site-packages\\sklearn\\base.py:465: UserWarning:\n",
      "\n",
      "X does not have valid feature names, but KMeans was fitted with feature names\n",
      "\n"
     ]
    },
    {
     "data": {
      "image/png": "[encoded data removed]",
      "text/plain": [
       "<Figure size 576x396 with 1 Axes>"
      ]
     },
     "metadata": {},
     "output_type": "display_data"
    },
    {
     "data": {
      "text/plain": [
       "<AxesSubplot:title={'center':'Silhouette Plot of KMeans Clustering for 3049 Samples in 3 Centers'}, xlabel='silhouette coefficient values', ylabel='cluster label'>"
      ]
     },
     "execution_count": 17,
     "metadata": {},
     "output_type": "execute_result"
    }
   ],
   "source": [
    "visualizer = SilhouetteVisualizer(kmeans, colors='yellowbrick')\n",
    "visualizer.fit(df_cluster_product_region_ss)  \n",
    "visualizer.show()"
   ]
  },
  {
   "cell_type": "code",
   "execution_count": 18,
   "metadata": {},
   "outputs": [
    {
     "data": {
      "text/html": [
       "<div>\n",
       "<style scoped>\n",
       "    .dataframe tbody tr th:only-of-type {\n",
       "        vertical-align: middle;\n",
       "    }\n",
       "\n",
       "    .dataframe tbody tr th {\n",
       "        vertical-align: top;\n",
       "    }\n",
       "\n",
       "    .dataframe thead th {\n",
       "        text-align: right;\n",
       "    }\n",
       "</style>\n",
       "<table border=\"1\" class=\"dataframe\">\n",
       "  <thead>\n",
       "    <tr style=\"text-align: right;\">\n",
       "      <th></th>\n",
       "      <th>item</th>\n",
       "      <th>Boston_Q1</th>\n",
       "      <th>Boston_Q2</th>\n",
       "      <th>Boston_Q3</th>\n",
       "      <th>Boston_Q4</th>\n",
       "      <th>New_York_Q1</th>\n",
       "      <th>New_York_Q2</th>\n",
       "      <th>New_York_Q3</th>\n",
       "      <th>New_York_Q4</th>\n",
       "      <th>Philadelphia_Q1</th>\n",
       "      <th>Philadelphia_Q2</th>\n",
       "      <th>Philadelphia_Q3</th>\n",
       "      <th>Philadelphia_Q4</th>\n",
       "      <th>total_units_sold</th>\n",
       "      <th>avg_sell_price</th>\n",
       "      <th>cluster_hdbscan</th>\n",
       "      <th>cluster_kmeans</th>\n",
       "    </tr>\n",
       "  </thead>\n",
       "  <tbody>\n",
       "    <tr>\n",
       "      <th>0</th>\n",
       "      <td>ACCESORIES_1_001</td>\n",
       "      <td>0.258490</td>\n",
       "      <td>0.215622</td>\n",
       "      <td>0.231207</td>\n",
       "      <td>0.294681</td>\n",
       "      <td>0.290651</td>\n",
       "      <td>0.185303</td>\n",
       "      <td>0.232997</td>\n",
       "      <td>0.291048</td>\n",
       "      <td>0.280930</td>\n",
       "      <td>0.204212</td>\n",
       "      <td>0.247872</td>\n",
       "      <td>0.266986</td>\n",
       "      <td>4051</td>\n",
       "      <td>11.039091</td>\n",
       "      <td>0</td>\n",
       "      <td>2</td>\n",
       "    </tr>\n",
       "    <tr>\n",
       "      <th>1</th>\n",
       "      <td>ACCESORIES_1_002</td>\n",
       "      <td>0.202792</td>\n",
       "      <td>0.238109</td>\n",
       "      <td>0.254912</td>\n",
       "      <td>0.304187</td>\n",
       "      <td>0.169339</td>\n",
       "      <td>0.190386</td>\n",
       "      <td>0.265158</td>\n",
       "      <td>0.375117</td>\n",
       "      <td>0.217307</td>\n",
       "      <td>0.173846</td>\n",
       "      <td>0.250679</td>\n",
       "      <td>0.358168</td>\n",
       "      <td>5047</td>\n",
       "      <td>5.276618</td>\n",
       "      <td>-1</td>\n",
       "      <td>0</td>\n",
       "    </tr>\n",
       "    <tr>\n",
       "      <th>2</th>\n",
       "      <td>ACCESORIES_1_003</td>\n",
       "      <td>0.254469</td>\n",
       "      <td>0.249112</td>\n",
       "      <td>0.300880</td>\n",
       "      <td>0.195539</td>\n",
       "      <td>0.290550</td>\n",
       "      <td>0.256700</td>\n",
       "      <td>0.191819</td>\n",
       "      <td>0.260931</td>\n",
       "      <td>0.326288</td>\n",
       "      <td>0.265655</td>\n",
       "      <td>0.222862</td>\n",
       "      <td>0.185195</td>\n",
       "      <td>1405</td>\n",
       "      <td>3.944072</td>\n",
       "      <td>0</td>\n",
       "      <td>0</td>\n",
       "    </tr>\n",
       "    <tr>\n",
       "      <th>3</th>\n",
       "      <td>ACCESORIES_1_004</td>\n",
       "      <td>0.256721</td>\n",
       "      <td>0.259417</td>\n",
       "      <td>0.235593</td>\n",
       "      <td>0.248269</td>\n",
       "      <td>0.265228</td>\n",
       "      <td>0.256632</td>\n",
       "      <td>0.229645</td>\n",
       "      <td>0.248495</td>\n",
       "      <td>0.286508</td>\n",
       "      <td>0.265151</td>\n",
       "      <td>0.221110</td>\n",
       "      <td>0.227232</td>\n",
       "      <td>38996</td>\n",
       "      <td>5.981629</td>\n",
       "      <td>0</td>\n",
       "      <td>0</td>\n",
       "    </tr>\n",
       "    <tr>\n",
       "      <th>4</th>\n",
       "      <td>ACCESORIES_1_005</td>\n",
       "      <td>0.209317</td>\n",
       "      <td>0.214718</td>\n",
       "      <td>0.267872</td>\n",
       "      <td>0.308094</td>\n",
       "      <td>0.236569</td>\n",
       "      <td>0.200389</td>\n",
       "      <td>0.269576</td>\n",
       "      <td>0.293466</td>\n",
       "      <td>0.260617</td>\n",
       "      <td>0.192501</td>\n",
       "      <td>0.215559</td>\n",
       "      <td>0.331322</td>\n",
       "      <td>14529</td>\n",
       "      <td>3.833931</td>\n",
       "      <td>0</td>\n",
       "      <td>0</td>\n",
       "    </tr>\n",
       "  </tbody>\n",
       "</table>\n",
       "</div>"
      ],
      "text/plain": [
       "               item  Boston_Q1  Boston_Q2  Boston_Q3  Boston_Q4  New_York_Q1  \\\n",
       "0  ACCESORIES_1_001   0.258490   0.215622   0.231207   0.294681     0.290651   \n",
       "1  ACCESORIES_1_002   0.202792   0.238109   0.254912   0.304187     0.169339   \n",
       "2  ACCESORIES_1_003   0.254469   0.249112   0.300880   0.195539     0.290550   \n",
       "3  ACCESORIES_1_004   0.256721   0.259417   0.235593   0.248269     0.265228   \n",
       "4  ACCESORIES_1_005   0.209317   0.214718   0.267872   0.308094     0.236569   \n",
       "\n",
       "   New_York_Q2  New_York_Q3  New_York_Q4  Philadelphia_Q1  Philadelphia_Q2  \\\n",
       "0     0.185303     0.232997     0.291048         0.280930         0.204212   \n",
       "1     0.190386     0.265158     0.375117         0.217307         0.173846   \n",
       "2     0.256700     0.191819     0.260931         0.326288         0.265655   \n",
       "3     0.256632     0.229645     0.248495         0.286508         0.265151   \n",
       "4     0.200389     0.269576     0.293466         0.260617         0.192501   \n",
       "\n",
       "   Philadelphia_Q3  Philadelphia_Q4  total_units_sold  avg_sell_price  \\\n",
       "0         0.247872         0.266986              4051       11.039091   \n",
       "1         0.250679         0.358168              5047        5.276618   \n",
       "2         0.222862         0.185195              1405        3.944072   \n",
       "3         0.221110         0.227232             38996        5.981629   \n",
       "4         0.215559         0.331322             14529        3.833931   \n",
       "\n",
       "   cluster_hdbscan  cluster_kmeans  \n",
       "0                0               2  \n",
       "1               -1               0  \n",
       "2                0               0  \n",
       "3                0               0  \n",
       "4                0               0  "
      ]
     },
     "execution_count": 18,
     "metadata": {},
     "output_type": "execute_result"
    }
   ],
   "source": [
    "df_final_item_region.head()"
   ]
  },
  {
   "cell_type": "markdown",
   "metadata": {},
   "source": [
    "Con los datos obtenidos, decidimos quedarnos mejor con el porcentaje de ventas totales por *quarter* de cada producto, el precio medio total por producto y la cantidad de unidades vendidas de cada uno."
   ]
  },
  {
   "cell_type": "code",
   "execution_count": 19,
   "metadata": {},
   "outputs": [
    {
     "data": {
      "text/html": [
       "<div>\n",
       "<style scoped>\n",
       "    .dataframe tbody tr th:only-of-type {\n",
       "        vertical-align: middle;\n",
       "    }\n",
       "\n",
       "    .dataframe tbody tr th {\n",
       "        vertical-align: top;\n",
       "    }\n",
       "\n",
       "    .dataframe thead th {\n",
       "        text-align: right;\n",
       "    }\n",
       "</style>\n",
       "<table border=\"1\" class=\"dataframe\">\n",
       "  <thead>\n",
       "    <tr style=\"text-align: right;\">\n",
       "      <th></th>\n",
       "      <th>item</th>\n",
       "      <th>Q1</th>\n",
       "      <th>Q2</th>\n",
       "      <th>Q3</th>\n",
       "      <th>Q4</th>\n",
       "      <th>units_total</th>\n",
       "      <th>avg_price</th>\n",
       "    </tr>\n",
       "  </thead>\n",
       "  <tbody>\n",
       "    <tr>\n",
       "      <th>0</th>\n",
       "      <td>ACCESORIES_1_001</td>\n",
       "      <td>0.281263</td>\n",
       "      <td>0.195372</td>\n",
       "      <td>0.234402</td>\n",
       "      <td>0.288963</td>\n",
       "      <td>4051</td>\n",
       "      <td>11.000712</td>\n",
       "    </tr>\n",
       "    <tr>\n",
       "      <th>1</th>\n",
       "      <td>ACCESORIES_1_002</td>\n",
       "      <td>0.199654</td>\n",
       "      <td>0.190240</td>\n",
       "      <td>0.255982</td>\n",
       "      <td>0.354124</td>\n",
       "      <td>5047</td>\n",
       "      <td>5.279317</td>\n",
       "    </tr>\n",
       "    <tr>\n",
       "      <th>2</th>\n",
       "      <td>ACCESORIES_1_003</td>\n",
       "      <td>0.289062</td>\n",
       "      <td>0.256714</td>\n",
       "      <td>0.227942</td>\n",
       "      <td>0.226282</td>\n",
       "      <td>1405</td>\n",
       "      <td>3.938599</td>\n",
       "    </tr>\n",
       "    <tr>\n",
       "      <th>3</th>\n",
       "      <td>ACCESORIES_1_004</td>\n",
       "      <td>0.266751</td>\n",
       "      <td>0.258757</td>\n",
       "      <td>0.229655</td>\n",
       "      <td>0.244836</td>\n",
       "      <td>38996</td>\n",
       "      <td>6.006287</td>\n",
       "    </tr>\n",
       "    <tr>\n",
       "      <th>4</th>\n",
       "      <td>ACCESORIES_1_005</td>\n",
       "      <td>0.234197</td>\n",
       "      <td>0.202624</td>\n",
       "      <td>0.257898</td>\n",
       "      <td>0.305281</td>\n",
       "      <td>14529</td>\n",
       "      <td>3.807422</td>\n",
       "    </tr>\n",
       "  </tbody>\n",
       "</table>\n",
       "</div>"
      ],
      "text/plain": [
       "               item        Q1        Q2        Q3        Q4  units_total  \\\n",
       "0  ACCESORIES_1_001  0.281263  0.195372  0.234402  0.288963         4051   \n",
       "1  ACCESORIES_1_002  0.199654  0.190240  0.255982  0.354124         5047   \n",
       "2  ACCESORIES_1_003  0.289062  0.256714  0.227942  0.226282         1405   \n",
       "3  ACCESORIES_1_004  0.266751  0.258757  0.229655  0.244836        38996   \n",
       "4  ACCESORIES_1_005  0.234197  0.202624  0.257898  0.305281        14529   \n",
       "\n",
       "   avg_price  \n",
       "0  11.000712  \n",
       "1   5.279317  \n",
       "2   3.938599  \n",
       "3   6.006287  \n",
       "4   3.807422  "
      ]
     },
     "execution_count": 19,
     "metadata": {},
     "output_type": "execute_result"
    }
   ],
   "source": [
    "# Creamos un diccionario para mapear los nombres de las columnas\n",
    "quarter_names = {1: 'Q1', 2: 'Q2', 3: 'Q3', 4: 'Q4'}\n",
    "\n",
    "# Creamos una columna 'quarter' a partir del índice 'date' y aplicamos el mapeo\n",
    "df['quarter'] = (df.index.month - 1) // 3 + 1\n",
    "df['quarter'] = df['quarter'].map(quarter_names)\n",
    "\n",
    "# Calculamos los porcentajes de ventas por ítem y cuatrimestre\n",
    "df_perc_quarter_item = pd.crosstab(df['item'], df['quarter'], values=df['total_sales'], aggfunc='sum', normalize='index')\n",
    "\n",
    "# Calculamos las unidades totales vendidas por ítem\n",
    "units_total = df.groupby('item')['units_sold'].sum()\n",
    "\n",
    "# Calculamos el precio medio por ítem\n",
    "avg_price = df.groupby('item').apply(lambda x: (x['total_sales'].sum() / x['units_sold'].sum()))\n",
    "\n",
    "# Convertimos las Series en DataFrames para unirlos más fácilmente después\n",
    "units_total_by_item_df = units_total.reset_index(name='units_total')\n",
    "average_price_by_item_df = avg_price.reset_index(name='avg_price')\n",
    "\n",
    "# Unimos los DataFrames para tener todos los datos juntos\n",
    "df_final = df_perc_quarter_item.reset_index()  \n",
    "df_final = df_final.merge(units_total_by_item_df, on='item')\n",
    "df_final = df_final.merge(average_price_by_item_df, on='item')\n",
    "\n",
    "df_final.head()"
   ]
  },
  {
   "cell_type": "code",
   "execution_count": 20,
   "metadata": {},
   "outputs": [
    {
     "data": {
      "image/png": "[encoded data removed]",
      "text/plain": [
       "<Figure size 576x396 with 2 Axes>"
      ]
     },
     "metadata": {},
     "output_type": "display_data"
    }
   ],
   "source": [
    "# Obtenemos la correlación de las diferentes variables\n",
    "sns.heatmap(df_final.corr(), annot=True, cmap=\"YlGnBu\");"
   ]
  },
  {
   "cell_type": "markdown",
   "metadata": {},
   "source": [
    "Ya que ninguna variable tiene una alta correlación entre sí, no vamos a proceder a eliminar."
   ]
  },
  {
   "cell_type": "code",
   "execution_count": 21,
   "metadata": {},
   "outputs": [],
   "source": [
    "df_cluster_product= df_final.copy()"
   ]
  },
  {
   "cell_type": "code",
   "execution_count": 22,
   "metadata": {},
   "outputs": [
    {
     "data": {
      "text/plain": [
       "0        ACCESORIES_1_001\n",
       "1        ACCESORIES_1_002\n",
       "2        ACCESORIES_1_003\n",
       "3        ACCESORIES_1_004\n",
       "4        ACCESORIES_1_005\n",
       "              ...        \n",
       "3044    SUPERMARKET_3_823\n",
       "3045    SUPERMARKET_3_824\n",
       "3046    SUPERMARKET_3_825\n",
       "3047    SUPERMARKET_3_826\n",
       "3048    SUPERMARKET_3_827\n",
       "Name: item, Length: 3049, dtype: object"
      ]
     },
     "execution_count": 22,
     "metadata": {},
     "output_type": "execute_result"
    }
   ],
   "source": [
    "# Guardamos la variable 'ítem'\n",
    "productos = df_cluster_product.pop('item')\n",
    "productos"
   ]
  },
  {
   "cell_type": "code",
   "execution_count": 23,
   "metadata": {},
   "outputs": [
    {
     "data": {
      "text/html": [
       "<div>\n",
       "<style scoped>\n",
       "    .dataframe tbody tr th:only-of-type {\n",
       "        vertical-align: middle;\n",
       "    }\n",
       "\n",
       "    .dataframe tbody tr th {\n",
       "        vertical-align: top;\n",
       "    }\n",
       "\n",
       "    .dataframe thead th {\n",
       "        text-align: right;\n",
       "    }\n",
       "</style>\n",
       "<table border=\"1\" class=\"dataframe\">\n",
       "  <thead>\n",
       "    <tr style=\"text-align: right;\">\n",
       "      <th></th>\n",
       "      <th>Q1</th>\n",
       "      <th>Q2</th>\n",
       "      <th>Q3</th>\n",
       "      <th>Q4</th>\n",
       "      <th>units_total</th>\n",
       "      <th>avg_price</th>\n",
       "    </tr>\n",
       "  </thead>\n",
       "  <tbody>\n",
       "    <tr>\n",
       "      <th>0</th>\n",
       "      <td>0.294480</td>\n",
       "      <td>-1.202115</td>\n",
       "      <td>-0.168496</td>\n",
       "      <td>0.907702</td>\n",
       "      <td>-0.394344</td>\n",
       "      <td>1.203613</td>\n",
       "    </tr>\n",
       "    <tr>\n",
       "      <th>1</th>\n",
       "      <td>-1.474984</td>\n",
       "      <td>-1.317252</td>\n",
       "      <td>0.285475</td>\n",
       "      <td>2.139800</td>\n",
       "      <td>-0.371743</td>\n",
       "      <td>-0.060003</td>\n",
       "    </tr>\n",
       "    <tr>\n",
       "      <th>2</th>\n",
       "      <td>0.463571</td>\n",
       "      <td>0.174213</td>\n",
       "      <td>-0.304391</td>\n",
       "      <td>-0.277493</td>\n",
       "      <td>-0.454387</td>\n",
       "      <td>-0.356112</td>\n",
       "    </tr>\n",
       "    <tr>\n",
       "      <th>3</th>\n",
       "      <td>-0.020167</td>\n",
       "      <td>0.220060</td>\n",
       "      <td>-0.268369</td>\n",
       "      <td>0.073347</td>\n",
       "      <td>0.398622</td>\n",
       "      <td>0.100554</td>\n",
       "    </tr>\n",
       "    <tr>\n",
       "      <th>4</th>\n",
       "      <td>-0.726012</td>\n",
       "      <td>-1.039404</td>\n",
       "      <td>0.325791</td>\n",
       "      <td>1.216253</td>\n",
       "      <td>-0.156579</td>\n",
       "      <td>-0.385083</td>\n",
       "    </tr>\n",
       "    <tr>\n",
       "      <th>...</th>\n",
       "      <td>...</td>\n",
       "      <td>...</td>\n",
       "      <td>...</td>\n",
       "      <td>...</td>\n",
       "      <td>...</td>\n",
       "      <td>...</td>\n",
       "    </tr>\n",
       "    <tr>\n",
       "      <th>3044</th>\n",
       "      <td>0.402209</td>\n",
       "      <td>-1.059728</td>\n",
       "      <td>0.210600</td>\n",
       "      <td>0.353026</td>\n",
       "      <td>-0.139311</td>\n",
       "      <td>-0.495808</td>\n",
       "    </tr>\n",
       "    <tr>\n",
       "      <th>3045</th>\n",
       "      <td>-1.021481</td>\n",
       "      <td>1.728044</td>\n",
       "      <td>0.451166</td>\n",
       "      <td>-0.970990</td>\n",
       "      <td>-0.297586</td>\n",
       "      <td>-0.551936</td>\n",
       "    </tr>\n",
       "    <tr>\n",
       "      <th>3046</th>\n",
       "      <td>0.737654</td>\n",
       "      <td>-0.110570</td>\n",
       "      <td>0.345690</td>\n",
       "      <td>-0.860815</td>\n",
       "      <td>-0.180723</td>\n",
       "      <td>-0.151334</td>\n",
       "    </tr>\n",
       "    <tr>\n",
       "      <th>3047</th>\n",
       "      <td>-0.540336</td>\n",
       "      <td>1.002684</td>\n",
       "      <td>0.157753</td>\n",
       "      <td>-0.515575</td>\n",
       "      <td>-0.211221</td>\n",
       "      <td>-0.886764</td>\n",
       "    </tr>\n",
       "    <tr>\n",
       "      <th>3048</th>\n",
       "      <td>1.317126</td>\n",
       "      <td>0.094600</td>\n",
       "      <td>-0.938744</td>\n",
       "      <td>-0.384601</td>\n",
       "      <td>-0.231780</td>\n",
       "      <td>-0.960977</td>\n",
       "    </tr>\n",
       "  </tbody>\n",
       "</table>\n",
       "<p>3049 rows × 6 columns</p>\n",
       "</div>"
      ],
      "text/plain": [
       "            Q1        Q2        Q3        Q4  units_total  avg_price\n",
       "0     0.294480 -1.202115 -0.168496  0.907702    -0.394344   1.203613\n",
       "1    -1.474984 -1.317252  0.285475  2.139800    -0.371743  -0.060003\n",
       "2     0.463571  0.174213 -0.304391 -0.277493    -0.454387  -0.356112\n",
       "3    -0.020167  0.220060 -0.268369  0.073347     0.398622   0.100554\n",
       "4    -0.726012 -1.039404  0.325791  1.216253    -0.156579  -0.385083\n",
       "...        ...       ...       ...       ...          ...        ...\n",
       "3044  0.402209 -1.059728  0.210600  0.353026    -0.139311  -0.495808\n",
       "3045 -1.021481  1.728044  0.451166 -0.970990    -0.297586  -0.551936\n",
       "3046  0.737654 -0.110570  0.345690 -0.860815    -0.180723  -0.151334\n",
       "3047 -0.540336  1.002684  0.157753 -0.515575    -0.211221  -0.886764\n",
       "3048  1.317126  0.094600 -0.938744 -0.384601    -0.231780  -0.960977\n",
       "\n",
       "[3049 rows x 6 columns]"
      ]
     },
     "execution_count": 23,
     "metadata": {},
     "output_type": "execute_result"
    }
   ],
   "source": [
    "# Cambiamos todos los nombres de las columnas a strings\n",
    "df_cluster_product.columns = df_cluster_product.columns.astype(str)\n",
    "\n",
    "# Estandarizamos las características\n",
    "ss = StandardScaler()\n",
    "df_cluster_product_ss = pd.DataFrame(\n",
    "    ss.fit_transform(df_cluster_product),\n",
    "    columns= df_cluster_product.columns)\n",
    "df_cluster_product_ss"
   ]
  },
  {
   "cell_type": "markdown",
   "metadata": {},
   "source": [
    "Probamos con HDBSCAN..."
   ]
  },
  {
   "cell_type": "code",
   "execution_count": 24,
   "metadata": {},
   "outputs": [
    {
     "data": {
      "text/html": [
       "<div>\n",
       "<style scoped>\n",
       "    .dataframe tbody tr th:only-of-type {\n",
       "        vertical-align: middle;\n",
       "    }\n",
       "\n",
       "    .dataframe tbody tr th {\n",
       "        vertical-align: top;\n",
       "    }\n",
       "\n",
       "    .dataframe thead th {\n",
       "        text-align: right;\n",
       "    }\n",
       "</style>\n",
       "<table border=\"1\" class=\"dataframe\">\n",
       "  <thead>\n",
       "    <tr style=\"text-align: right;\">\n",
       "      <th></th>\n",
       "      <th>item</th>\n",
       "      <th>Q1</th>\n",
       "      <th>Q2</th>\n",
       "      <th>Q3</th>\n",
       "      <th>Q4</th>\n",
       "      <th>units_total</th>\n",
       "      <th>avg_price</th>\n",
       "      <th>cluster_hdbscan</th>\n",
       "    </tr>\n",
       "  </thead>\n",
       "  <tbody>\n",
       "    <tr>\n",
       "      <th>0</th>\n",
       "      <td>ACCESORIES_1_001</td>\n",
       "      <td>0.281263</td>\n",
       "      <td>0.195372</td>\n",
       "      <td>0.234402</td>\n",
       "      <td>0.288963</td>\n",
       "      <td>4051</td>\n",
       "      <td>11.000712</td>\n",
       "      <td>1</td>\n",
       "    </tr>\n",
       "    <tr>\n",
       "      <th>1</th>\n",
       "      <td>ACCESORIES_1_002</td>\n",
       "      <td>0.199654</td>\n",
       "      <td>0.190240</td>\n",
       "      <td>0.255982</td>\n",
       "      <td>0.354124</td>\n",
       "      <td>5047</td>\n",
       "      <td>5.279317</td>\n",
       "      <td>-1</td>\n",
       "    </tr>\n",
       "    <tr>\n",
       "      <th>2</th>\n",
       "      <td>ACCESORIES_1_003</td>\n",
       "      <td>0.289062</td>\n",
       "      <td>0.256714</td>\n",
       "      <td>0.227942</td>\n",
       "      <td>0.226282</td>\n",
       "      <td>1405</td>\n",
       "      <td>3.938599</td>\n",
       "      <td>1</td>\n",
       "    </tr>\n",
       "    <tr>\n",
       "      <th>3</th>\n",
       "      <td>ACCESORIES_1_004</td>\n",
       "      <td>0.266751</td>\n",
       "      <td>0.258757</td>\n",
       "      <td>0.229655</td>\n",
       "      <td>0.244836</td>\n",
       "      <td>38996</td>\n",
       "      <td>6.006287</td>\n",
       "      <td>1</td>\n",
       "    </tr>\n",
       "    <tr>\n",
       "      <th>4</th>\n",
       "      <td>ACCESORIES_1_005</td>\n",
       "      <td>0.234197</td>\n",
       "      <td>0.202624</td>\n",
       "      <td>0.257898</td>\n",
       "      <td>0.305281</td>\n",
       "      <td>14529</td>\n",
       "      <td>3.807422</td>\n",
       "      <td>1</td>\n",
       "    </tr>\n",
       "    <tr>\n",
       "      <th>...</th>\n",
       "      <td>...</td>\n",
       "      <td>...</td>\n",
       "      <td>...</td>\n",
       "      <td>...</td>\n",
       "      <td>...</td>\n",
       "      <td>...</td>\n",
       "      <td>...</td>\n",
       "      <td>...</td>\n",
       "    </tr>\n",
       "    <tr>\n",
       "      <th>3044</th>\n",
       "      <td>SUPERMARKET_3_823</td>\n",
       "      <td>0.286232</td>\n",
       "      <td>0.201718</td>\n",
       "      <td>0.252422</td>\n",
       "      <td>0.259628</td>\n",
       "      <td>15290</td>\n",
       "      <td>3.306083</td>\n",
       "      <td>1</td>\n",
       "    </tr>\n",
       "    <tr>\n",
       "      <th>3045</th>\n",
       "      <td>SUPERMARKET_3_824</td>\n",
       "      <td>0.220570</td>\n",
       "      <td>0.325967</td>\n",
       "      <td>0.263858</td>\n",
       "      <td>0.189605</td>\n",
       "      <td>8315</td>\n",
       "      <td>3.051947</td>\n",
       "      <td>1</td>\n",
       "    </tr>\n",
       "    <tr>\n",
       "      <th>3046</th>\n",
       "      <td>SUPERMARKET_3_825</td>\n",
       "      <td>0.301703</td>\n",
       "      <td>0.244021</td>\n",
       "      <td>0.258844</td>\n",
       "      <td>0.195432</td>\n",
       "      <td>13465</td>\n",
       "      <td>4.865789</td>\n",
       "      <td>1</td>\n",
       "    </tr>\n",
       "    <tr>\n",
       "      <th>3047</th>\n",
       "      <td>SUPERMARKET_3_826</td>\n",
       "      <td>0.242761</td>\n",
       "      <td>0.293639</td>\n",
       "      <td>0.249910</td>\n",
       "      <td>0.213690</td>\n",
       "      <td>12121</td>\n",
       "      <td>1.535917</td>\n",
       "      <td>1</td>\n",
       "    </tr>\n",
       "    <tr>\n",
       "      <th>3048</th>\n",
       "      <td>SUPERMARKET_3_827</td>\n",
       "      <td>0.328429</td>\n",
       "      <td>0.253166</td>\n",
       "      <td>0.197788</td>\n",
       "      <td>0.220617</td>\n",
       "      <td>11215</td>\n",
       "      <td>1.199893</td>\n",
       "      <td>1</td>\n",
       "    </tr>\n",
       "  </tbody>\n",
       "</table>\n",
       "<p>3049 rows × 8 columns</p>\n",
       "</div>"
      ],
      "text/plain": [
       "                   item        Q1        Q2        Q3        Q4  units_total  \\\n",
       "0      ACCESORIES_1_001  0.281263  0.195372  0.234402  0.288963         4051   \n",
       "1      ACCESORIES_1_002  0.199654  0.190240  0.255982  0.354124         5047   \n",
       "2      ACCESORIES_1_003  0.289062  0.256714  0.227942  0.226282         1405   \n",
       "3      ACCESORIES_1_004  0.266751  0.258757  0.229655  0.244836        38996   \n",
       "4      ACCESORIES_1_005  0.234197  0.202624  0.257898  0.305281        14529   \n",
       "...                 ...       ...       ...       ...       ...          ...   \n",
       "3044  SUPERMARKET_3_823  0.286232  0.201718  0.252422  0.259628        15290   \n",
       "3045  SUPERMARKET_3_824  0.220570  0.325967  0.263858  0.189605         8315   \n",
       "3046  SUPERMARKET_3_825  0.301703  0.244021  0.258844  0.195432        13465   \n",
       "3047  SUPERMARKET_3_826  0.242761  0.293639  0.249910  0.213690        12121   \n",
       "3048  SUPERMARKET_3_827  0.328429  0.253166  0.197788  0.220617        11215   \n",
       "\n",
       "      avg_price  cluster_hdbscan  \n",
       "0     11.000712                1  \n",
       "1      5.279317               -1  \n",
       "2      3.938599                1  \n",
       "3      6.006287                1  \n",
       "4      3.807422                1  \n",
       "...         ...              ...  \n",
       "3044   3.306083                1  \n",
       "3045   3.051947                1  \n",
       "3046   4.865789                1  \n",
       "3047   1.535917                1  \n",
       "3048   1.199893                1  \n",
       "\n",
       "[3049 rows x 8 columns]"
      ]
     },
     "execution_count": 24,
     "metadata": {},
     "output_type": "execute_result"
    }
   ],
   "source": [
    "# Inicializamos el algoritmo HDBSCAN \n",
    "clusterer = hdbscan.HDBSCAN(min_samples=10, min_cluster_size=5)\n",
    "\n",
    "# Ajustamos el modelo y predecimos las etiquetas de clúster\n",
    "cluster_labels = clusterer.fit_predict(df_cluster_product_ss)\n",
    "\n",
    "# Agregamos las etiquetas del clúster al DataFrame original\n",
    "df_final['cluster_hdbscan'] = cluster_labels\n",
    "\n",
    "df_final"
   ]
  },
  {
   "cell_type": "code",
   "execution_count": 25,
   "metadata": {},
   "outputs": [
    {
     "data": {
      "text/plain": [
       " 1    2307\n",
       "-1     737\n",
       " 0       5\n",
       "Name: cluster_hdbscan, dtype: int64"
      ]
     },
     "execution_count": 25,
     "metadata": {},
     "output_type": "execute_result"
    }
   ],
   "source": [
    "df_final.cluster_hdbscan.value_counts()"
   ]
  },
  {
   "cell_type": "markdown",
   "metadata": {},
   "source": [
    "Hacemos unas segunda iteración con KMeans..."
   ]
  },
  {
   "cell_type": "code",
   "execution_count": 26,
   "metadata": {},
   "outputs": [
    {
     "data": {
      "image/png": "[encoded data removed]",
      "text/plain": [
       "<Figure size 576x396 with 2 Axes>"
      ]
     },
     "metadata": {},
     "output_type": "display_data"
    }
   ],
   "source": [
    "Elbow_M = KElbowVisualizer(KMeans(random_state=42, init=\"random\", n_init=\"auto\"), k=10)\n",
    "Elbow_M.fit(df_cluster_product_ss)\n",
    "Elbow_M.show();"
   ]
  },
  {
   "cell_type": "code",
   "execution_count": 27,
   "metadata": {},
   "outputs": [
    {
     "data": {
      "application/vnd.plotly.v1+json": {
       "config": {
        "plotlyServerURL": "https://plot.ly"
       },
       "data": [
        {
         "hovertemplate": "k=%{x}<br>Silhouette score=%{y}<extra></extra>",
         "legendgroup": "",
         "line": {
          "color": "#636efa",
          "dash": "solid"
         },
         "mode": "lines",
         "name": "",
         "orientation": "v",
         "showlegend": false,
         "type": "scatter",
         "x": [
          2,
          3,
          4,
          5,
          6,
          7,
          8,
          9
         ],
         "xaxis": "x",
         "y": [
          0.16832622731472374,
          0.22744248055670366,
          0.23452574821978375,
          0.2527938465973787,
          0.19488193606423398,
          0.17945835997710702,
          0.1858840522897875,
          0.1846098562881838
         ],
         "yaxis": "y"
        }
       ],
       "layout": {
        "legend": {
         "tracegroupgap": 0
        },
        "template": {
         "data": {
          "bar": [
           {
            "error_x": {
             "color": "#2a3f5f"
            },
            "error_y": {
             "color": "#2a3f5f"
            },
            "marker": {
             "line": {
              "color": "#E5ECF6",
              "width": 0.5
             },
             "pattern": {
              "fillmode": "overlay",
              "size": 10,
              "solidity": 0.2
             }
            },
            "type": "bar"
           }
          ],
          "barpolar": [
           {
            "marker": {
             "line": {
              "color": "#E5ECF6",
              "width": 0.5
             },
             "pattern": {
              "fillmode": "overlay",
              "size": 10,
              "solidity": 0.2
             }
            },
            "type": "barpolar"
           }
          ],
          "carpet": [
           {
            "aaxis": {
             "endlinecolor": "#2a3f5f",
             "gridcolor": "white",
             "linecolor": "white",
             "minorgridcolor": "white",
             "startlinecolor": "#2a3f5f"
            },
            "baxis": {
             "endlinecolor": "#2a3f5f",
             "gridcolor": "white",
             "linecolor": "white",
             "minorgridcolor": "white",
             "startlinecolor": "#2a3f5f"
            },
            "type": "carpet"
           }
          ],
          "choropleth": [
           {
            "colorbar": {
             "outlinewidth": 0,
             "ticks": ""
            },
            "type": "choropleth"
           }
          ],
          "contour": [
           {
            "colorbar": {
             "outlinewidth": 0,
             "ticks": ""
            },
            "colorscale": [
             [
              0,
              "#0d0887"
             ],
             [
              0.1111111111111111,
              "#46039f"
             ],
             [
              0.2222222222222222,
              "#7201a8"
             ],
             [
              0.3333333333333333,
              "#9c179e"
             ],
             [
              0.4444444444444444,
              "#bd3786"
             ],
             [
              0.5555555555555556,
              "#d8576b"
             ],
             [
              0.6666666666666666,
              "#ed7953"
             ],
             [
              0.7777777777777778,
              "#fb9f3a"
             ],
             [
              0.8888888888888888,
              "#fdca26"
             ],
             [
              1,
              "#f0f921"
             ]
            ],
            "type": "contour"
           }
          ],
          "contourcarpet": [
           {
            "colorbar": {
             "outlinewidth": 0,
             "ticks": ""
            },
            "type": "contourcarpet"
           }
          ],
          "heatmap": [
           {
            "colorbar": {
             "outlinewidth": 0,
             "ticks": ""
            },
            "colorscale": [
             [
              0,
              "#0d0887"
             ],
             [
              0.1111111111111111,
              "#46039f"
             ],
             [
              0.2222222222222222,
              "#7201a8"
             ],
             [
              0.3333333333333333,
              "#9c179e"
             ],
             [
              0.4444444444444444,
              "#bd3786"
             ],
             [
              0.5555555555555556,
              "#d8576b"
             ],
             [
              0.6666666666666666,
              "#ed7953"
             ],
             [
              0.7777777777777778,
              "#fb9f3a"
             ],
             [
              0.8888888888888888,
              "#fdca26"
             ],
             [
              1,
              "#f0f921"
             ]
            ],
            "type": "heatmap"
           }
          ],
          "heatmapgl": [
           {
            "colorbar": {
             "outlinewidth": 0,
             "ticks": ""
            },
            "colorscale": [
             [
              0,
              "#0d0887"
             ],
             [
              0.1111111111111111,
              "#46039f"
             ],
             [
              0.2222222222222222,
              "#7201a8"
             ],
             [
              0.3333333333333333,
              "#9c179e"
             ],
             [
              0.4444444444444444,
              "#bd3786"
             ],
             [
              0.5555555555555556,
              "#d8576b"
             ],
             [
              0.6666666666666666,
              "#ed7953"
             ],
             [
              0.7777777777777778,
              "#fb9f3a"
             ],
             [
              0.8888888888888888,
              "#fdca26"
             ],
             [
              1,
              "#f0f921"
             ]
            ],
            "type": "heatmapgl"
           }
          ],
          "histogram": [
           {
            "marker": {
             "pattern": {
              "fillmode": "overlay",
              "size": 10,
              "solidity": 0.2
             }
            },
            "type": "histogram"
           }
          ],
          "histogram2d": [
           {
            "colorbar": {
             "outlinewidth": 0,
             "ticks": ""
            },
            "colorscale": [
             [
              0,
              "#0d0887"
             ],
             [
              0.1111111111111111,
              "#46039f"
             ],
             [
              0.2222222222222222,
              "#7201a8"
             ],
             [
              0.3333333333333333,
              "#9c179e"
             ],
             [
              0.4444444444444444,
              "#bd3786"
             ],
             [
              0.5555555555555556,
              "#d8576b"
             ],
             [
              0.6666666666666666,
              "#ed7953"
             ],
             [
              0.7777777777777778,
              "#fb9f3a"
             ],
             [
              0.8888888888888888,
              "#fdca26"
             ],
             [
              1,
              "#f0f921"
             ]
            ],
            "type": "histogram2d"
           }
          ],
          "histogram2dcontour": [
           {
            "colorbar": {
             "outlinewidth": 0,
             "ticks": ""
            },
            "colorscale": [
             [
              0,
              "#0d0887"
             ],
             [
              0.1111111111111111,
              "#46039f"
             ],
             [
              0.2222222222222222,
              "#7201a8"
             ],
             [
              0.3333333333333333,
              "#9c179e"
             ],
             [
              0.4444444444444444,
              "#bd3786"
             ],
             [
              0.5555555555555556,
              "#d8576b"
             ],
             [
              0.6666666666666666,
              "#ed7953"
             ],
             [
              0.7777777777777778,
              "#fb9f3a"
             ],
             [
              0.8888888888888888,
              "#fdca26"
             ],
             [
              1,
              "#f0f921"
             ]
            ],
            "type": "histogram2dcontour"
           }
          ],
          "mesh3d": [
           {
            "colorbar": {
             "outlinewidth": 0,
             "ticks": ""
            },
            "type": "mesh3d"
           }
          ],
          "parcoords": [
           {
            "line": {
             "colorbar": {
              "outlinewidth": 0,
              "ticks": ""
             }
            },
            "type": "parcoords"
           }
          ],
          "pie": [
           {
            "automargin": true,
            "type": "pie"
           }
          ],
          "scatter": [
           {
            "marker": {
             "colorbar": {
              "outlinewidth": 0,
              "ticks": ""
             }
            },
            "type": "scatter"
           }
          ],
          "scatter3d": [
           {
            "line": {
             "colorbar": {
              "outlinewidth": 0,
              "ticks": ""
             }
            },
            "marker": {
             "colorbar": {
              "outlinewidth": 0,
              "ticks": ""
             }
            },
            "type": "scatter3d"
           }
          ],
          "scattercarpet": [
           {
            "marker": {
             "colorbar": {
              "outlinewidth": 0,
              "ticks": ""
             }
            },
            "type": "scattercarpet"
           }
          ],
          "scattergeo": [
           {
            "marker": {
             "colorbar": {
              "outlinewidth": 0,
              "ticks": ""
             }
            },
            "type": "scattergeo"
           }
          ],
          "scattergl": [
           {
            "marker": {
             "colorbar": {
              "outlinewidth": 0,
              "ticks": ""
             }
            },
            "type": "scattergl"
           }
          ],
          "scattermapbox": [
           {
            "marker": {
             "colorbar": {
              "outlinewidth": 0,
              "ticks": ""
             }
            },
            "type": "scattermapbox"
           }
          ],
          "scatterpolar": [
           {
            "marker": {
             "colorbar": {
              "outlinewidth": 0,
              "ticks": ""
             }
            },
            "type": "scatterpolar"
           }
          ],
          "scatterpolargl": [
           {
            "marker": {
             "colorbar": {
              "outlinewidth": 0,
              "ticks": ""
             }
            },
            "type": "scatterpolargl"
           }
          ],
          "scatterternary": [
           {
            "marker": {
             "colorbar": {
              "outlinewidth": 0,
              "ticks": ""
             }
            },
            "type": "scatterternary"
           }
          ],
          "surface": [
           {
            "colorbar": {
             "outlinewidth": 0,
             "ticks": ""
            },
            "colorscale": [
             [
              0,
              "#0d0887"
             ],
             [
              0.1111111111111111,
              "#46039f"
             ],
             [
              0.2222222222222222,
              "#7201a8"
             ],
             [
              0.3333333333333333,
              "#9c179e"
             ],
             [
              0.4444444444444444,
              "#bd3786"
             ],
             [
              0.5555555555555556,
              "#d8576b"
             ],
             [
              0.6666666666666666,
              "#ed7953"
             ],
             [
              0.7777777777777778,
              "#fb9f3a"
             ],
             [
              0.8888888888888888,
              "#fdca26"
             ],
             [
              1,
              "#f0f921"
             ]
            ],
            "type": "surface"
           }
          ],
          "table": [
           {
            "cells": {
             "fill": {
              "color": "#EBF0F8"
             },
             "line": {
              "color": "white"
             }
            },
            "header": {
             "fill": {
              "color": "#C8D4E3"
             },
             "line": {
              "color": "white"
             }
            },
            "type": "table"
           }
          ]
         },
         "layout": {
          "annotationdefaults": {
           "arrowcolor": "#2a3f5f",
           "arrowhead": 0,
           "arrowwidth": 1
          },
          "autotypenumbers": "strict",
          "coloraxis": {
           "colorbar": {
            "outlinewidth": 0,
            "ticks": ""
           }
          },
          "colorscale": {
           "diverging": [
            [
             0,
             "#8e0152"
            ],
            [
             0.1,
             "#c51b7d"
            ],
            [
             0.2,
             "#de77ae"
            ],
            [
             0.3,
             "#f1b6da"
            ],
            [
             0.4,
             "#fde0ef"
            ],
            [
             0.5,
             "#f7f7f7"
            ],
            [
             0.6,
             "#e6f5d0"
            ],
            [
             0.7,
             "#b8e186"
            ],
            [
             0.8,
             "#7fbc41"
            ],
            [
             0.9,
             "#4d9221"
            ],
            [
             1,
             "#276419"
            ]
           ],
           "sequential": [
            [
             0,
             "#0d0887"
            ],
            [
             0.1111111111111111,
             "#46039f"
            ],
            [
             0.2222222222222222,
             "#7201a8"
            ],
            [
             0.3333333333333333,
             "#9c179e"
            ],
            [
             0.4444444444444444,
             "#bd3786"
            ],
            [
             0.5555555555555556,
             "#d8576b"
            ],
            [
             0.6666666666666666,
             "#ed7953"
            ],
            [
             0.7777777777777778,
             "#fb9f3a"
            ],
            [
             0.8888888888888888,
             "#fdca26"
            ],
            [
             1,
             "#f0f921"
            ]
           ],
           "sequentialminus": [
            [
             0,
             "#0d0887"
            ],
            [
             0.1111111111111111,
             "#46039f"
            ],
            [
             0.2222222222222222,
             "#7201a8"
            ],
            [
             0.3333333333333333,
             "#9c179e"
            ],
            [
             0.4444444444444444,
             "#bd3786"
            ],
            [
             0.5555555555555556,
             "#d8576b"
            ],
            [
             0.6666666666666666,
             "#ed7953"
            ],
            [
             0.7777777777777778,
             "#fb9f3a"
            ],
            [
             0.8888888888888888,
             "#fdca26"
            ],
            [
             1,
             "#f0f921"
            ]
           ]
          },
          "colorway": [
           "#636efa",
           "#EF553B",
           "#00cc96",
           "#ab63fa",
           "#FFA15A",
           "#19d3f3",
           "#FF6692",
           "#B6E880",
           "#FF97FF",
           "#FECB52"
          ],
          "font": {
           "color": "#2a3f5f"
          },
          "geo": {
           "bgcolor": "white",
           "lakecolor": "white",
           "landcolor": "#E5ECF6",
           "showlakes": true,
           "showland": true,
           "subunitcolor": "white"
          },
          "hoverlabel": {
           "align": "left"
          },
          "hovermode": "closest",
          "mapbox": {
           "style": "light"
          },
          "paper_bgcolor": "white",
          "plot_bgcolor": "#E5ECF6",
          "polar": {
           "angularaxis": {
            "gridcolor": "white",
            "linecolor": "white",
            "ticks": ""
           },
           "bgcolor": "#E5ECF6",
           "radialaxis": {
            "gridcolor": "white",
            "linecolor": "white",
            "ticks": ""
           }
          },
          "scene": {
           "xaxis": {
            "backgroundcolor": "#E5ECF6",
            "gridcolor": "white",
            "gridwidth": 2,
            "linecolor": "white",
            "showbackground": true,
            "ticks": "",
            "zerolinecolor": "white"
           },
           "yaxis": {
            "backgroundcolor": "#E5ECF6",
            "gridcolor": "white",
            "gridwidth": 2,
            "linecolor": "white",
            "showbackground": true,
            "ticks": "",
            "zerolinecolor": "white"
           },
           "zaxis": {
            "backgroundcolor": "#E5ECF6",
            "gridcolor": "white",
            "gridwidth": 2,
            "linecolor": "white",
            "showbackground": true,
            "ticks": "",
            "zerolinecolor": "white"
           }
          },
          "shapedefaults": {
           "line": {
            "color": "#2a3f5f"
           }
          },
          "ternary": {
           "aaxis": {
            "gridcolor": "white",
            "linecolor": "white",
            "ticks": ""
           },
           "baxis": {
            "gridcolor": "white",
            "linecolor": "white",
            "ticks": ""
           },
           "bgcolor": "#E5ECF6",
           "caxis": {
            "gridcolor": "white",
            "linecolor": "white",
            "ticks": ""
           }
          },
          "title": {
           "x": 0.05
          },
          "xaxis": {
           "automargin": true,
           "gridcolor": "white",
           "linecolor": "white",
           "ticks": "",
           "title": {
            "standoff": 15
           },
           "zerolinecolor": "white",
           "zerolinewidth": 2
          },
          "yaxis": {
           "automargin": true,
           "gridcolor": "white",
           "linecolor": "white",
           "ticks": "",
           "title": {
            "standoff": 15
           },
           "zerolinecolor": "white",
           "zerolinewidth": 2
          }
         }
        },
        "title": {
         "text": "Silhouette score"
        },
        "xaxis": {
         "anchor": "y",
         "domain": [
          0,
          1
         ],
         "title": {
          "text": "k"
         }
        },
        "yaxis": {
         "anchor": "x",
         "domain": [
          0,
          1
         ],
         "title": {
          "text": "Silhouette score"
         }
        }
       }
      }
     },
     "metadata": {},
     "output_type": "display_data"
    }
   ],
   "source": [
    "silhouette_scores = []\n",
    "\n",
    "for k in range(2, 10):\n",
    "    kmeans = KMeans(n_clusters=k, random_state=42, init=\"random\", n_init=\"auto\")\n",
    "    kmeans.fit(df_cluster_product_ss)\n",
    "    silhouette_scores.append(silhouette_score(df_cluster_product_ss, kmeans.labels_))\n",
    "\n",
    "fig = px.line(\n",
    "    x=range(2, 10),\n",
    "    y=silhouette_scores,\n",
    "    title=\"Silhouette score\",\n",
    "    labels={\"x\": \"k\", \"y\": \"Silhouette score\"},\n",
    ")\n",
    "fig.show()"
   ]
  },
  {
   "cell_type": "code",
   "execution_count": 28,
   "metadata": {},
   "outputs": [],
   "source": [
    "kmeans= KMeans(n_clusters=6,random_state=42, init=\"random\", n_init=\"auto\")\n",
    "kmeans.fit(df_cluster_product_ss)\n",
    "df_final[\"cluster_kmeans\"] = kmeans.labels_"
   ]
  },
  {
   "cell_type": "code",
   "execution_count": 29,
   "metadata": {},
   "outputs": [
    {
     "name": "stderr",
     "output_type": "stream",
     "text": [
      "c:\\Users\\alici\\anaconda3\\envs\\Nuclio_env\\lib\\site-packages\\sklearn\\base.py:465: UserWarning:\n",
      "\n",
      "X does not have valid feature names, but KMeans was fitted with feature names\n",
      "\n"
     ]
    },
    {
     "data": {
      "image/png": "[encoded data removed]",
      "text/plain": [
       "<Figure size 576x396 with 1 Axes>"
      ]
     },
     "metadata": {},
     "output_type": "display_data"
    },
    {
     "data": {
      "text/plain": [
       "<AxesSubplot:title={'center':'Silhouette Plot of KMeans Clustering for 3049 Samples in 6 Centers'}, xlabel='silhouette coefficient values', ylabel='cluster label'>"
      ]
     },
     "execution_count": 29,
     "metadata": {},
     "output_type": "execute_result"
    }
   ],
   "source": [
    "visualizer = SilhouetteVisualizer(kmeans, colors='yellowbrick')\n",
    "visualizer.fit(df_cluster_product_ss)  \n",
    "visualizer.show()"
   ]
  },
  {
   "cell_type": "code",
   "execution_count": 30,
   "metadata": {},
   "outputs": [
    {
     "data": {
      "text/html": [
       "<div>\n",
       "<style scoped>\n",
       "    .dataframe tbody tr th:only-of-type {\n",
       "        vertical-align: middle;\n",
       "    }\n",
       "\n",
       "    .dataframe tbody tr th {\n",
       "        vertical-align: top;\n",
       "    }\n",
       "\n",
       "    .dataframe thead th {\n",
       "        text-align: right;\n",
       "    }\n",
       "</style>\n",
       "<table border=\"1\" class=\"dataframe\">\n",
       "  <thead>\n",
       "    <tr style=\"text-align: right;\">\n",
       "      <th></th>\n",
       "      <th>item</th>\n",
       "      <th>Q1</th>\n",
       "      <th>Q2</th>\n",
       "      <th>Q3</th>\n",
       "      <th>Q4</th>\n",
       "      <th>units_total</th>\n",
       "      <th>avg_price</th>\n",
       "      <th>cluster_hdbscan</th>\n",
       "      <th>cluster_kmeans</th>\n",
       "    </tr>\n",
       "  </thead>\n",
       "  <tbody>\n",
       "    <tr>\n",
       "      <th>0</th>\n",
       "      <td>ACCESORIES_1_001</td>\n",
       "      <td>0.281263</td>\n",
       "      <td>0.195372</td>\n",
       "      <td>0.234402</td>\n",
       "      <td>0.288963</td>\n",
       "      <td>4051</td>\n",
       "      <td>11.000712</td>\n",
       "      <td>1</td>\n",
       "      <td>2</td>\n",
       "    </tr>\n",
       "    <tr>\n",
       "      <th>1</th>\n",
       "      <td>ACCESORIES_1_002</td>\n",
       "      <td>0.199654</td>\n",
       "      <td>0.190240</td>\n",
       "      <td>0.255982</td>\n",
       "      <td>0.354124</td>\n",
       "      <td>5047</td>\n",
       "      <td>5.279317</td>\n",
       "      <td>-1</td>\n",
       "      <td>0</td>\n",
       "    </tr>\n",
       "    <tr>\n",
       "      <th>2</th>\n",
       "      <td>ACCESORIES_1_003</td>\n",
       "      <td>0.289062</td>\n",
       "      <td>0.256714</td>\n",
       "      <td>0.227942</td>\n",
       "      <td>0.226282</td>\n",
       "      <td>1405</td>\n",
       "      <td>3.938599</td>\n",
       "      <td>1</td>\n",
       "      <td>3</td>\n",
       "    </tr>\n",
       "    <tr>\n",
       "      <th>3</th>\n",
       "      <td>ACCESORIES_1_004</td>\n",
       "      <td>0.266751</td>\n",
       "      <td>0.258757</td>\n",
       "      <td>0.229655</td>\n",
       "      <td>0.244836</td>\n",
       "      <td>38996</td>\n",
       "      <td>6.006287</td>\n",
       "      <td>1</td>\n",
       "      <td>1</td>\n",
       "    </tr>\n",
       "    <tr>\n",
       "      <th>4</th>\n",
       "      <td>ACCESORIES_1_005</td>\n",
       "      <td>0.234197</td>\n",
       "      <td>0.202624</td>\n",
       "      <td>0.257898</td>\n",
       "      <td>0.305281</td>\n",
       "      <td>14529</td>\n",
       "      <td>3.807422</td>\n",
       "      <td>1</td>\n",
       "      <td>1</td>\n",
       "    </tr>\n",
       "  </tbody>\n",
       "</table>\n",
       "</div>"
      ],
      "text/plain": [
       "               item        Q1        Q2        Q3        Q4  units_total  \\\n",
       "0  ACCESORIES_1_001  0.281263  0.195372  0.234402  0.288963         4051   \n",
       "1  ACCESORIES_1_002  0.199654  0.190240  0.255982  0.354124         5047   \n",
       "2  ACCESORIES_1_003  0.289062  0.256714  0.227942  0.226282         1405   \n",
       "3  ACCESORIES_1_004  0.266751  0.258757  0.229655  0.244836        38996   \n",
       "4  ACCESORIES_1_005  0.234197  0.202624  0.257898  0.305281        14529   \n",
       "\n",
       "   avg_price  cluster_hdbscan  cluster_kmeans  \n",
       "0  11.000712                1               2  \n",
       "1   5.279317               -1               0  \n",
       "2   3.938599                1               3  \n",
       "3   6.006287                1               1  \n",
       "4   3.807422                1               1  "
      ]
     },
     "execution_count": 30,
     "metadata": {},
     "output_type": "execute_result"
    }
   ],
   "source": [
    "df_final.head()"
   ]
  },
  {
   "cell_type": "markdown",
   "metadata": {},
   "source": [
    "Vamos a proceder a visualizar los centroides comparando todas las variables de *df_cluster_product_ss.* *Q1* y *Q2* por un lado, *Q3* y *Q4* por otro, y *units_total* con *avg_price* en una última gráfica."
   ]
  },
  {
   "cell_type": "code",
   "execution_count": 35,
   "metadata": {},
   "outputs": [
    {
     "data": {
      "image/png": "[encoded data removed]",
      "text/plain": [
       "<Figure size 720x432 with 1 Axes>"
      ]
     },
     "metadata": {},
     "output_type": "display_data"
    }
   ],
   "source": [
    "# Obtenemos las coordenadas de los centroides y las etiquetas de cluster\n",
    "centroids = kmeans.cluster_centers_\n",
    "labels = kmeans.labels_\n",
    "\n",
    "# Ahora, graficamos los puntos de datos y los centroides\n",
    "plt.figure(figsize=(10, 6))\n",
    "\n",
    "# Graficamos los puntos de datos de las variables Q1 y Q2\n",
    "# Aquí asignamos una etiqueta a cada cluster para la leyenda\n",
    "for i in range(kmeans.n_clusters):\n",
    "    plt.scatter(df_cluster_product_ss.iloc[labels == i, 0], \n",
    "                df_cluster_product_ss.iloc[labels == i, 1], \n",
    "                label=f'Cluster {i}', \n",
    "                cmap='viridis', \n",
    "                marker='o', \n",
    "                alpha=0.5)\n",
    "\n",
    "# Graficamos los centroides\n",
    "plt.scatter(centroids[:, 0], \n",
    "            centroids[:, 1], \n",
    "            c='red', marker='X', \n",
    "            s=200, \n",
    "            label='Centroides')\n",
    "\n",
    "plt.title('Visualización de centroides de los clusters')\n",
    "plt.xlabel(df_cluster_product_ss.columns[0]) \n",
    "plt.ylabel(df_cluster_product_ss.columns[1])\n",
    "\n",
    "# Agregamos la leyenda al gráfico\n",
    "plt.legend()\n",
    "\n",
    "# Mostramos el gráfico\n",
    "plt.show()"
   ]
  },
  {
   "cell_type": "code",
   "execution_count": 36,
   "metadata": {},
   "outputs": [
    {
     "data": {
      "image/png": "[encoded data removed]",
      "text/plain": [
       "<Figure size 720x432 with 1 Axes>"
      ]
     },
     "metadata": {},
     "output_type": "display_data"
    }
   ],
   "source": [
    "# Obtenemos las coordenadas de los centroides y las etiquetas de cluster\n",
    "centroids = kmeans.cluster_centers_\n",
    "labels = kmeans.labels_\n",
    "\n",
    "# Ahora, graficamos los puntos de datos y los centroides\n",
    "plt.figure(figsize=(10, 6))\n",
    "\n",
    "# Graficamos los puntos de datos de las variables Q3 y Q4\n",
    "# Aquí asignamos una etiqueta a cada cluster para la leyenda\n",
    "for i in range(kmeans.n_clusters):\n",
    "    plt.scatter(\n",
    "        df_cluster_product_ss.iloc[labels == i, 2],  \n",
    "        df_cluster_product_ss.iloc[labels == i, 3],  \n",
    "        label=f'Cluster {i}',\n",
    "        cmap='viridis',\n",
    "        marker='o',\n",
    "        alpha=0.5\n",
    "    )\n",
    "\n",
    "# Graficamos los centroides\n",
    "plt.scatter(\n",
    "    centroids[:, 2],  \n",
    "    centroids[:, 3],  \n",
    "    c='red',\n",
    "    marker='X',\n",
    "    s=200,\n",
    "    label='Centroides'\n",
    ")\n",
    "\n",
    "plt.title('Visualización de centroides de los clusters')\n",
    "plt.xlabel(df_cluster_product_ss.columns[2])  \n",
    "plt.ylabel(df_cluster_product_ss.columns[3])  \n",
    "\n",
    "# Agregamos la leyenda al gráfico\n",
    "plt.legend()\n",
    "\n",
    "# Mostramos el gráfico\n",
    "plt.show()"
   ]
  },
  {
   "cell_type": "markdown",
   "metadata": {},
   "source": [
    "Vemos claramente un grupo más diferenciado, el clúster 4. Esto sugiere algunas posibles interpretaciones en el contexto de las ventas de productos:\n",
    "\n",
    "**-Baja venta en el cuatrimestre 1, mejora en el cuatrimestre 2:** La ubicación del centroide indica que estos productos tuvieron un porcentaje de ventas más bajo en el primer cuatrimestre (valores negativos en el eje X después de la estandarización), pero experimentaron una mejora en sus ventas en el segundo cuatrimestre (valores positivos en el eje Y). Esto podría estar relacionado con factores estacionales, lanzamientos de productos, campañas de marketing exitosas o cambios en la demanda del mercado.\n",
    "\n",
    "**-Variabilidad:** La dispersión de los puntos sugiere que hay una variabilidad significativa en el desempeño de ventas dentro de este grupo. Algunos productos podrían mostrar un cambio dramático de bajo a alto rendimiento, mientras que otros podrían tener patrones menos pronunciados. Esto indica que cada producto dentro de este grupo podría tener circunstancias únicas afectando su desempeño.\n",
    "\n",
    "Con respecto al resto de grupos (más cercanos entre sí):\n",
    "\n",
    "**-Estabilidad en las ventas:** Los productos en estos grupos parecen tener un rendimiento de ventas más estable y consistente entre el primer y segundo cuatrimestre. La proximidad al 0 indica que no hubo cambios significativos en el porcentaje de ventas de estos productos entre los dos períodos de tiempo.\n",
    "\n",
    "**-Menos variabilidad:** La agrupación más estrecha de los puntos alrededor de sus centroides sugiere que los productos dentro de cada grupo son más homogéneos en términos de su rendimiento de ventas. Esto significa que los productos en cada grupo se comportan de manera similar, lo que podría facilitar la toma de decisiones de gestión para esos grupos.\n",
    "\n",
    "**-Productos maduros o de bajo riesgo:** Los productos con rendimientos de ventas consistentes y predecibles pueden ser vistos como productos maduros o de bajo riesgo en tu cartera. Estos productos pueden ser la base sólida de ingresos para la empresa y podrían requerir estrategias de marketing y gestión de inventario diferentes."
   ]
  },
  {
   "cell_type": "code",
   "execution_count": 37,
   "metadata": {},
   "outputs": [
    {
     "data": {
      "image/png": "[encoded data removed]",
      "text/plain": [
       "<Figure size 720x432 with 1 Axes>"
      ]
     },
     "metadata": {},
     "output_type": "display_data"
    }
   ],
   "source": [
    "# Obtenemos las coordenadas de los centroides y las etiquetas de cluster\n",
    "centroids = kmeans.cluster_centers_\n",
    "labels = kmeans.labels_\n",
    "\n",
    "# Ahora, graficamos los puntos de datos y los centroides\n",
    "plt.figure(figsize=(10, 6))\n",
    "\n",
    "# Graficamos los puntos de datos de las variables Q3 y Q4\n",
    "# Aquí asignamos una etiqueta a cada cluster para la leyenda\n",
    "for i in range(kmeans.n_clusters):\n",
    "    plt.scatter(\n",
    "        df_cluster_product_ss.iloc[labels == i, 4],  \n",
    "        df_cluster_product_ss.iloc[labels == i, 5],  \n",
    "        label=f'Cluster {i}',\n",
    "        cmap='viridis',\n",
    "        marker='o',\n",
    "        alpha=0.5\n",
    "    )\n",
    "\n",
    "# Graficamos los centroides\n",
    "plt.scatter(\n",
    "    centroids[:, 4],  \n",
    "    centroids[:, 5],  \n",
    "    c='red',\n",
    "    marker='X',\n",
    "    s=200,\n",
    "    label='Centroides'\n",
    ")\n",
    "\n",
    "plt.title('Visualización de centroides de los clusters')\n",
    "plt.xlabel(df_cluster_product_ss.columns[4])  \n",
    "plt.ylabel(df_cluster_product_ss.columns[5])  \n",
    "\n",
    "# Agregamos la leyenda al gráfico\n",
    "plt.legend()\n",
    "\n",
    "# Mostramos el gráfico\n",
    "plt.show()"
   ]
  },
  {
   "cell_type": "markdown",
   "metadata": {},
   "source": [
    "En esta gráfica observamos que aparecen todos los datos cerca del origen en el eje x y se extienden a lo largo del eje y, esto puede sugerir varias posibles interpretaciones:\n",
    "\n",
    "**-Bajas ventas de unidades:** La concentración de puntos cerca del origen en el eje x sugiere que para la mayoría de los productos, el volumen total de unidades vendidas es bajo. Esto podría ser un indicador de que los productos no se están vendiendo en grandes cantidades.\n",
    "\n",
    "**-Amplia gama de precios:** Los datos extendidos a lo largo del eje y, indica que hay una amplia variación en el precio medio de los productos, habiendo productos muy baratos y muy caros.\n",
    "\n",
    "**-Poca relación entre precio y volumen de ventas:** La extensión vertical sugiere que el precio medio por producto no está necesariamente correlacionado con el volumen de ventas. Es posible que productos de precios altos y bajos tengan volúmenes de venta similares, que en este caso tienden a ser bajos."
   ]
  }
 ],
 "metadata": {
  "kernelspec": {
   "display_name": "Nuclio_env",
   "language": "python",
   "name": "python3"
  },
  "language_info": {
   "codemirror_mode": {
    "name": "ipython",
    "version": 3
   },
   "file_extension": ".py",
   "mimetype": "text/x-python",
   "name": "python",
   "nbconvert_exporter": "python",
   "pygments_lexer": "ipython3",
   "version": "3.8.10"
  }
 },
 "nbformat": 4,
 "nbformat_minor": 2
}
