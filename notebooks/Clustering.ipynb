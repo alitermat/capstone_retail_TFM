{
 "cells": [
  {
   "cell_type": "code",
   "execution_count": 4,
   "metadata": {},
   "outputs": [],
   "source": [
    "import pandas as pd\n",
    "import numpy as np  "
   ]
  },
  {
   "cell_type": "code",
   "execution_count": 2,
   "metadata": {},
   "outputs": [],
   "source": [
    "df= pd.read_csv(\"/Users/santi/Documents/csv/datos_arreglados.csv\",index_col=0, sep=',')"
   ]
  },
  {
   "cell_type": "code",
   "execution_count": 3,
   "metadata": {},
   "outputs": [
    {
     "data": {
      "text/html": [
       "<div>\n",
       "<style scoped>\n",
       "    .dataframe tbody tr th:only-of-type {\n",
       "        vertical-align: middle;\n",
       "    }\n",
       "\n",
       "    .dataframe tbody tr th {\n",
       "        vertical-align: top;\n",
       "    }\n",
       "\n",
       "    .dataframe thead th {\n",
       "        text-align: right;\n",
       "    }\n",
       "</style>\n",
       "<table border=\"1\" class=\"dataframe\">\n",
       "  <thead>\n",
       "    <tr style=\"text-align: right;\">\n",
       "      <th></th>\n",
       "      <th>date</th>\n",
       "      <th>item</th>\n",
       "      <th>category</th>\n",
       "      <th>department</th>\n",
       "      <th>stores</th>\n",
       "      <th>region</th>\n",
       "      <th>week</th>\n",
       "      <th>year</th>\n",
       "      <th>is_holidays</th>\n",
       "      <th>units_sold</th>\n",
       "      <th>sell_price</th>\n",
       "      <th>total_sales</th>\n",
       "    </tr>\n",
       "  </thead>\n",
       "  <tbody>\n",
       "    <tr>\n",
       "      <th>0</th>\n",
       "      <td>2013-07-08</td>\n",
       "      <td>ACCESORIES_1_001</td>\n",
       "      <td>ACCESORIES</td>\n",
       "      <td>ACCESORIES_1</td>\n",
       "      <td>South_End(BOS_1)</td>\n",
       "      <td>Boston</td>\n",
       "      <td>28</td>\n",
       "      <td>2013</td>\n",
       "      <td>0</td>\n",
       "      <td>0</td>\n",
       "      <td>12.7414</td>\n",
       "      <td>0.0000</td>\n",
       "    </tr>\n",
       "    <tr>\n",
       "      <th>1</th>\n",
       "      <td>2013-07-15</td>\n",
       "      <td>ACCESORIES_1_001</td>\n",
       "      <td>ACCESORIES</td>\n",
       "      <td>ACCESORIES_1</td>\n",
       "      <td>South_End(BOS_1)</td>\n",
       "      <td>Boston</td>\n",
       "      <td>28</td>\n",
       "      <td>2013</td>\n",
       "      <td>1</td>\n",
       "      <td>0</td>\n",
       "      <td>12.7414</td>\n",
       "      <td>0.0000</td>\n",
       "    </tr>\n",
       "    <tr>\n",
       "      <th>2</th>\n",
       "      <td>2013-07-22</td>\n",
       "      <td>ACCESORIES_1_001</td>\n",
       "      <td>ACCESORIES</td>\n",
       "      <td>ACCESORIES_1</td>\n",
       "      <td>South_End(BOS_1)</td>\n",
       "      <td>Boston</td>\n",
       "      <td>29</td>\n",
       "      <td>2013</td>\n",
       "      <td>0</td>\n",
       "      <td>4</td>\n",
       "      <td>10.9858</td>\n",
       "      <td>43.9432</td>\n",
       "    </tr>\n",
       "    <tr>\n",
       "      <th>3</th>\n",
       "      <td>2013-07-29</td>\n",
       "      <td>ACCESORIES_1_001</td>\n",
       "      <td>ACCESORIES</td>\n",
       "      <td>ACCESORIES_1</td>\n",
       "      <td>South_End(BOS_1)</td>\n",
       "      <td>Boston</td>\n",
       "      <td>30</td>\n",
       "      <td>2013</td>\n",
       "      <td>0</td>\n",
       "      <td>6</td>\n",
       "      <td>10.9858</td>\n",
       "      <td>65.9148</td>\n",
       "    </tr>\n",
       "    <tr>\n",
       "      <th>4</th>\n",
       "      <td>2013-08-05</td>\n",
       "      <td>ACCESORIES_1_001</td>\n",
       "      <td>ACCESORIES</td>\n",
       "      <td>ACCESORIES_1</td>\n",
       "      <td>South_End(BOS_1)</td>\n",
       "      <td>Boston</td>\n",
       "      <td>31</td>\n",
       "      <td>2013</td>\n",
       "      <td>0</td>\n",
       "      <td>0</td>\n",
       "      <td>10.9858</td>\n",
       "      <td>0.0000</td>\n",
       "    </tr>\n",
       "  </tbody>\n",
       "</table>\n",
       "</div>"
      ],
      "text/plain": [
       "         date              item    category    department            stores  \\\n",
       "0  2013-07-08  ACCESORIES_1_001  ACCESORIES  ACCESORIES_1  South_End(BOS_1)   \n",
       "1  2013-07-15  ACCESORIES_1_001  ACCESORIES  ACCESORIES_1  South_End(BOS_1)   \n",
       "2  2013-07-22  ACCESORIES_1_001  ACCESORIES  ACCESORIES_1  South_End(BOS_1)   \n",
       "3  2013-07-29  ACCESORIES_1_001  ACCESORIES  ACCESORIES_1  South_End(BOS_1)   \n",
       "4  2013-08-05  ACCESORIES_1_001  ACCESORIES  ACCESORIES_1  South_End(BOS_1)   \n",
       "\n",
       "   region  week  year  is_holidays  units_sold  sell_price  total_sales  \n",
       "0  Boston    28  2013            0           0     12.7414       0.0000  \n",
       "1  Boston    28  2013            1           0     12.7414       0.0000  \n",
       "2  Boston    29  2013            0           4     10.9858      43.9432  \n",
       "3  Boston    30  2013            0           6     10.9858      65.9148  \n",
       "4  Boston    31  2013            0           0     10.9858       0.0000  "
      ]
     },
     "execution_count": 3,
     "metadata": {},
     "output_type": "execute_result"
    }
   ],
   "source": [
    "df.head()"
   ]
  },
  {
   "cell_type": "code",
   "execution_count": 10,
   "metadata": {},
   "outputs": [],
   "source": [
    "df[\"date\"]= pd.to_datetime(df[\"date\"])\n",
    "df[\"month\"]= df[\"date\"].dt.month"
   ]
  },
  {
   "cell_type": "markdown",
   "metadata": {},
   "source": [
    "# 1.Clustering por tienda"
   ]
  },
  {
   "cell_type": "code",
   "execution_count": null,
   "metadata": {},
   "outputs": [],
   "source": []
  },
  {
   "cell_type": "markdown",
   "metadata": {},
   "source": [
    "# 2. Clustering por producto"
   ]
  },
  {
   "cell_type": "markdown",
   "metadata": {},
   "source": []
  }
 ],
 "metadata": {
  "kernelspec": {
   "display_name": "Nuclio",
   "language": "python",
   "name": "python3"
  },
  "language_info": {
   "codemirror_mode": {
    "name": "ipython",
    "version": 3
   },
   "file_extension": ".py",
   "mimetype": "text/x-python",
   "name": "python",
   "nbconvert_exporter": "python",
   "pygments_lexer": "ipython3",
   "version": "3.11.5"
  }
 },
 "nbformat": 4,
 "nbformat_minor": 2
}
