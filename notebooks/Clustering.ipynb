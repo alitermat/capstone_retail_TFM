{
 "cells": [
  {
   "cell_type": "markdown",
   "metadata": {},
   "source": [
    "# 1.Clustering por tienda"
   ]
  },
  {
   "cell_type": "markdown",
   "metadata": {},
   "source": [
    "# 2. Clustering por producto"
   ]
  },
  {
   "cell_type": "code",
   "execution_count": 1,
   "metadata": {},
   "outputs": [],
   "source": [
    "import pandas as pd"
   ]
  },
  {
   "cell_type": "code",
   "execution_count": 5,
   "metadata": {},
   "outputs": [
    {
     "data": {
      "text/html": [
       "<div>\n",
       "<style scoped>\n",
       "    .dataframe tbody tr th:only-of-type {\n",
       "        vertical-align: middle;\n",
       "    }\n",
       "\n",
       "    .dataframe tbody tr th {\n",
       "        vertical-align: top;\n",
       "    }\n",
       "\n",
       "    .dataframe thead th {\n",
       "        text-align: right;\n",
       "    }\n",
       "</style>\n",
       "<table border=\"1\" class=\"dataframe\">\n",
       "  <thead>\n",
       "    <tr style=\"text-align: right;\">\n",
       "      <th></th>\n",
       "      <th>date</th>\n",
       "      <th>item</th>\n",
       "      <th>category</th>\n",
       "      <th>department</th>\n",
       "      <th>stores</th>\n",
       "      <th>region</th>\n",
       "      <th>week</th>\n",
       "      <th>year</th>\n",
       "      <th>is_holidays</th>\n",
       "      <th>units_sold</th>\n",
       "      <th>sell_price</th>\n",
       "      <th>total_sales</th>\n",
       "    </tr>\n",
       "  </thead>\n",
       "  <tbody>\n",
       "    <tr>\n",
       "      <th>0</th>\n",
       "      <td>2013-07-08</td>\n",
       "      <td>ACCESORIES_1_001</td>\n",
       "      <td>ACCESORIES</td>\n",
       "      <td>ACCESORIES_1</td>\n",
       "      <td>South_End(BOS_1)</td>\n",
       "      <td>Boston</td>\n",
       "      <td>28</td>\n",
       "      <td>2013</td>\n",
       "      <td>0</td>\n",
       "      <td>0</td>\n",
       "      <td>12.7414</td>\n",
       "      <td>0.0000</td>\n",
       "    </tr>\n",
       "    <tr>\n",
       "      <th>1</th>\n",
       "      <td>2013-07-15</td>\n",
       "      <td>ACCESORIES_1_001</td>\n",
       "      <td>ACCESORIES</td>\n",
       "      <td>ACCESORIES_1</td>\n",
       "      <td>South_End(BOS_1)</td>\n",
       "      <td>Boston</td>\n",
       "      <td>28</td>\n",
       "      <td>2013</td>\n",
       "      <td>1</td>\n",
       "      <td>0</td>\n",
       "      <td>12.7414</td>\n",
       "      <td>0.0000</td>\n",
       "    </tr>\n",
       "    <tr>\n",
       "      <th>2</th>\n",
       "      <td>2013-07-22</td>\n",
       "      <td>ACCESORIES_1_001</td>\n",
       "      <td>ACCESORIES</td>\n",
       "      <td>ACCESORIES_1</td>\n",
       "      <td>South_End(BOS_1)</td>\n",
       "      <td>Boston</td>\n",
       "      <td>29</td>\n",
       "      <td>2013</td>\n",
       "      <td>0</td>\n",
       "      <td>4</td>\n",
       "      <td>10.9858</td>\n",
       "      <td>43.9432</td>\n",
       "    </tr>\n",
       "    <tr>\n",
       "      <th>3</th>\n",
       "      <td>2013-07-29</td>\n",
       "      <td>ACCESORIES_1_001</td>\n",
       "      <td>ACCESORIES</td>\n",
       "      <td>ACCESORIES_1</td>\n",
       "      <td>South_End(BOS_1)</td>\n",
       "      <td>Boston</td>\n",
       "      <td>30</td>\n",
       "      <td>2013</td>\n",
       "      <td>0</td>\n",
       "      <td>6</td>\n",
       "      <td>10.9858</td>\n",
       "      <td>65.9148</td>\n",
       "    </tr>\n",
       "    <tr>\n",
       "      <th>4</th>\n",
       "      <td>2013-08-05</td>\n",
       "      <td>ACCESORIES_1_001</td>\n",
       "      <td>ACCESORIES</td>\n",
       "      <td>ACCESORIES_1</td>\n",
       "      <td>South_End(BOS_1)</td>\n",
       "      <td>Boston</td>\n",
       "      <td>31</td>\n",
       "      <td>2013</td>\n",
       "      <td>0</td>\n",
       "      <td>0</td>\n",
       "      <td>10.9858</td>\n",
       "      <td>0.0000</td>\n",
       "    </tr>\n",
       "  </tbody>\n",
       "</table>\n",
       "</div>"
      ],
      "text/plain": [
       "         date              item    category    department            stores  \\\n",
       "0  2013-07-08  ACCESORIES_1_001  ACCESORIES  ACCESORIES_1  South_End(BOS_1)   \n",
       "1  2013-07-15  ACCESORIES_1_001  ACCESORIES  ACCESORIES_1  South_End(BOS_1)   \n",
       "2  2013-07-22  ACCESORIES_1_001  ACCESORIES  ACCESORIES_1  South_End(BOS_1)   \n",
       "3  2013-07-29  ACCESORIES_1_001  ACCESORIES  ACCESORIES_1  South_End(BOS_1)   \n",
       "4  2013-08-05  ACCESORIES_1_001  ACCESORIES  ACCESORIES_1  South_End(BOS_1)   \n",
       "\n",
       "   region  week  year  is_holidays  units_sold  sell_price  total_sales  \n",
       "0  Boston    28  2013            0           0     12.7414       0.0000  \n",
       "1  Boston    28  2013            1           0     12.7414       0.0000  \n",
       "2  Boston    29  2013            0           4     10.9858      43.9432  \n",
       "3  Boston    30  2013            0           6     10.9858      65.9148  \n",
       "4  Boston    31  2013            0           0     10.9858       0.0000  "
      ]
     },
     "execution_count": 5,
     "metadata": {},
     "output_type": "execute_result"
    }
   ],
   "source": [
    "# Leemos el csv\n",
    "df = pd.read_csv(r'C:\\Users\\alici\\Documents\\master_data_science\\proyecto_nuclio\\TFM\\datos_arreglados.csv', index_col=0).reset_index(drop=True)\n",
    "df.head()"
   ]
  },
  {
   "cell_type": "markdown",
   "metadata": {},
   "source": [
    "Para realizar un clustering de productos similares, debemos centrarnos en las variables que describen mejor las características y el comportamiento de los productos. En este caso, las variables que podrían ser más útiles para un análisis de clustering son:\n",
    "\n",
    "*-item:* Identificador del producto, que nos permitirá diferenciar cada uno de ellos.\n",
    "\n",
    "*-category:* La categoría del producto es una característica fundamental que agrupa productos similares.\n",
    "\n",
    "*-department:* Similar a la categoría, pero puede ser una clasificación más amplia dentro de la tienda.\n",
    "\n",
    "*-units_sold:* La cantidad de unidades vendidas puede indicar la popularidad o la demanda del producto.\n",
    "\n",
    "*-sell_price:* El precio de venta nos da una idea del segmento de mercado del producto (económico, premium, etc.).\n",
    "\n",
    "*-total_sales:* Representa el ingreso total generado por el producto en una semana, que puede ser un reflejo de su éxito y su posición en el mercado.\n",
    "\n",
    "\n",
    "Las variables como *date, week, year* y *is_holidays* son temporales y contextuales, y no necesariamente reflejan las propiedades intrínsecas de los productos. Sin embargo, podríamos incluir más adelante *is_holidays* puesto que la venta de ciertos productos puede estar fuertemente influenciada por temporadas festivas, lo que podría ayudar a identificar productos de temporada."
   ]
  },
  {
   "cell_type": "markdown",
   "metadata": {},
   "source": [
    "Observamos las categorías dentro de las variables que consideramos que tienen mayor relación."
   ]
  },
  {
   "cell_type": "code",
   "execution_count": 6,
   "metadata": {},
   "outputs": [
    {
     "data": {
      "text/plain": [
       "HOME_&_GARDEN_2_142    2740\n",
       "HOME_&_GARDEN_1_331    2740\n",
       "SUPERMARKET_2_391      2740\n",
       "HOME_&_GARDEN_1_324    2740\n",
       "HOME_&_GARDEN_2_315    2740\n",
       "                       ... \n",
       "HOME_&_GARDEN_1_308     571\n",
       "HOME_&_GARDEN_1_159     553\n",
       "HOME_&_GARDEN_1_242     530\n",
       "SUPERMARKET_3_296       517\n",
       "SUPERMARKET_2_379       460\n",
       "Name: item, Length: 3049, dtype: int64"
      ]
     },
     "execution_count": 6,
     "metadata": {},
     "output_type": "execute_result"
    }
   ],
   "source": [
    "df.item.value_counts()"
   ]
  },
  {
   "cell_type": "code",
   "execution_count": 7,
   "metadata": {},
   "outputs": [
    {
     "data": {
      "text/plain": [
       "SUPERMARKET      3073307\n",
       "HOME_&_GARDEN    2295918\n",
       "ACCESORIES       1241288\n",
       "Name: category, dtype: int64"
      ]
     },
     "execution_count": 7,
     "metadata": {},
     "output_type": "execute_result"
    }
   ],
   "source": [
    "df.category.value_counts()"
   ]
  },
  {
   "cell_type": "code",
   "execution_count": 8,
   "metadata": {},
   "outputs": [
    {
     "data": {
      "text/plain": [
       "SUPERMARKET_3      1773017\n",
       "HOME_&_GARDEN_2    1175615\n",
       "HOME_&_GARDEN_1    1120303\n",
       "ACCESORIES_1        928899\n",
       "SUPERMARKET_2       793587\n",
       "SUPERMARKET_1       506703\n",
       "ACCESORIES_2        312389\n",
       "Name: department, dtype: int64"
      ]
     },
     "execution_count": 8,
     "metadata": {},
     "output_type": "execute_result"
    }
   ],
   "source": [
    "df.department.value_counts()"
   ]
  },
  {
   "cell_type": "code",
   "execution_count": 9,
   "metadata": {},
   "outputs": [
    {
     "data": {
      "text/plain": [
       "2.3760     210293\n",
       "3.5760     204952\n",
       "3.0000     179634\n",
       "1.2000     143259\n",
       "4.7760     134873\n",
       "            ...  \n",
       "1.3625          1\n",
       "14.0448         1\n",
       "20.0564         1\n",
       "14.8162         1\n",
       "16.5125         1\n",
       "Name: sell_price, Length: 1855, dtype: int64"
      ]
     },
     "execution_count": 9,
     "metadata": {},
     "output_type": "execute_result"
    }
   ],
   "source": [
    "df.sell_price.value_counts()"
   ]
  },
  {
   "cell_type": "code",
   "execution_count": 10,
   "metadata": {},
   "outputs": [
    {
     "data": {
      "text/plain": [
       "0.0000       1636984\n",
       "12.0000        17906\n",
       "9.9250         17004\n",
       "7.4250         16620\n",
       "4.9625         16021\n",
       "              ...   \n",
       "5898.7362          1\n",
       "1121.6880          1\n",
       "1570.7520          1\n",
       "417.3750           1\n",
       "555.2000           1\n",
       "Name: total_sales, Length: 36890, dtype: int64"
      ]
     },
     "execution_count": 10,
     "metadata": {},
     "output_type": "execute_result"
    }
   ],
   "source": [
    "df.total_sales.value_counts()"
   ]
  },
  {
   "cell_type": "markdown",
   "metadata": {},
   "source": []
  }
 ],
 "metadata": {
  "kernelspec": {
   "display_name": "Nuclio_env",
   "language": "python",
   "name": "python3"
  },
  "language_info": {
   "codemirror_mode": {
    "name": "ipython",
    "version": 3
   },
   "file_extension": ".py",
   "mimetype": "text/x-python",
   "name": "python",
   "nbconvert_exporter": "python",
   "pygments_lexer": "ipython3",
   "version": "3.8.10"
  }
 },
 "nbformat": 4,
 "nbformat_minor": 2
}
